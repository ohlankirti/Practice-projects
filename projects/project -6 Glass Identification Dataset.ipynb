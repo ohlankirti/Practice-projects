{
 "cells": [
  {
   "cell_type": "code",
   "execution_count": 1,
   "id": "af7de153",
   "metadata": {},
   "outputs": [],
   "source": [
    "# import necessary libraries\n",
    "import pandas as pd\n",
    "import numpy as np\n",
    "import seaborn as sns\n",
    "import matplotlib.pyplot as plt\n",
    "import warnings\n",
    "warnings.filterwarnings('ignore')"
   ]
  },
  {
   "cell_type": "code",
   "execution_count": 2,
   "id": "b04fa31c",
   "metadata": {},
   "outputs": [
    {
     "data": {
      "text/html": [
       "<div>\n",
       "<style scoped>\n",
       "    .dataframe tbody tr th:only-of-type {\n",
       "        vertical-align: middle;\n",
       "    }\n",
       "\n",
       "    .dataframe tbody tr th {\n",
       "        vertical-align: top;\n",
       "    }\n",
       "\n",
       "    .dataframe thead th {\n",
       "        text-align: right;\n",
       "    }\n",
       "</style>\n",
       "<table border=\"1\" class=\"dataframe\">\n",
       "  <thead>\n",
       "    <tr style=\"text-align: right;\">\n",
       "      <th></th>\n",
       "      <th>ID</th>\n",
       "      <th>RI</th>\n",
       "      <th>Na</th>\n",
       "      <th>Mg</th>\n",
       "      <th>Al</th>\n",
       "      <th>Si</th>\n",
       "      <th>K</th>\n",
       "      <th>Ca</th>\n",
       "      <th>Ba</th>\n",
       "      <th>Fe</th>\n",
       "      <th>Type of glass</th>\n",
       "    </tr>\n",
       "  </thead>\n",
       "  <tbody>\n",
       "    <tr>\n",
       "      <th>0</th>\n",
       "      <td>1</td>\n",
       "      <td>1.52101</td>\n",
       "      <td>13.64</td>\n",
       "      <td>4.49</td>\n",
       "      <td>1.10</td>\n",
       "      <td>71.78</td>\n",
       "      <td>0.06</td>\n",
       "      <td>8.75</td>\n",
       "      <td>0.0</td>\n",
       "      <td>0.0</td>\n",
       "      <td>1</td>\n",
       "    </tr>\n",
       "    <tr>\n",
       "      <th>1</th>\n",
       "      <td>2</td>\n",
       "      <td>1.51761</td>\n",
       "      <td>13.89</td>\n",
       "      <td>3.60</td>\n",
       "      <td>1.36</td>\n",
       "      <td>72.73</td>\n",
       "      <td>0.48</td>\n",
       "      <td>7.83</td>\n",
       "      <td>0.0</td>\n",
       "      <td>0.0</td>\n",
       "      <td>1</td>\n",
       "    </tr>\n",
       "    <tr>\n",
       "      <th>2</th>\n",
       "      <td>3</td>\n",
       "      <td>1.51618</td>\n",
       "      <td>13.53</td>\n",
       "      <td>3.55</td>\n",
       "      <td>1.54</td>\n",
       "      <td>72.99</td>\n",
       "      <td>0.39</td>\n",
       "      <td>7.78</td>\n",
       "      <td>0.0</td>\n",
       "      <td>0.0</td>\n",
       "      <td>1</td>\n",
       "    </tr>\n",
       "    <tr>\n",
       "      <th>3</th>\n",
       "      <td>4</td>\n",
       "      <td>1.51766</td>\n",
       "      <td>13.21</td>\n",
       "      <td>3.69</td>\n",
       "      <td>1.29</td>\n",
       "      <td>72.61</td>\n",
       "      <td>0.57</td>\n",
       "      <td>8.22</td>\n",
       "      <td>0.0</td>\n",
       "      <td>0.0</td>\n",
       "      <td>1</td>\n",
       "    </tr>\n",
       "    <tr>\n",
       "      <th>4</th>\n",
       "      <td>5</td>\n",
       "      <td>1.51742</td>\n",
       "      <td>13.27</td>\n",
       "      <td>3.62</td>\n",
       "      <td>1.24</td>\n",
       "      <td>73.08</td>\n",
       "      <td>0.55</td>\n",
       "      <td>8.07</td>\n",
       "      <td>0.0</td>\n",
       "      <td>0.0</td>\n",
       "      <td>1</td>\n",
       "    </tr>\n",
       "  </tbody>\n",
       "</table>\n",
       "</div>"
      ],
      "text/plain": [
       "   ID       RI     Na    Mg    Al     Si     K    Ca   Ba   Fe  Type of glass\n",
       "0   1  1.52101  13.64  4.49  1.10  71.78  0.06  8.75  0.0  0.0              1\n",
       "1   2  1.51761  13.89  3.60  1.36  72.73  0.48  7.83  0.0  0.0              1\n",
       "2   3  1.51618  13.53  3.55  1.54  72.99  0.39  7.78  0.0  0.0              1\n",
       "3   4  1.51766  13.21  3.69  1.29  72.61  0.57  8.22  0.0  0.0              1\n",
       "4   5  1.51742  13.27  3.62  1.24  73.08  0.55  8.07  0.0  0.0              1"
      ]
     },
     "execution_count": 2,
     "metadata": {},
     "output_type": "execute_result"
    }
   ],
   "source": [
    "# read csv file and convert into dataframe\n",
    "df = pd.read_csv('glass.csv')\n",
    "df.head()"
   ]
  },
  {
   "cell_type": "code",
   "execution_count": 3,
   "id": "2e023e57",
   "metadata": {},
   "outputs": [
    {
     "data": {
      "text/plain": [
       "(214, 11)"
      ]
     },
     "execution_count": 3,
     "metadata": {},
     "output_type": "execute_result"
    }
   ],
   "source": [
    "# let's check the shape of the data\n",
    "df.shape"
   ]
  },
  {
   "cell_type": "markdown",
   "id": "c6d229ac",
   "metadata": {},
   "source": [
    "### We have 214 rows and 11 columns"
   ]
  },
  {
   "cell_type": "code",
   "execution_count": 4,
   "id": "1c066f53",
   "metadata": {},
   "outputs": [
    {
     "data": {
      "text/plain": [
       "Index(['ID', 'RI', 'Na', 'Mg', 'Al', 'Si', 'K', 'Ca', 'Ba', 'Fe',\n",
       "       'Type of glass'],\n",
       "      dtype='object')"
      ]
     },
     "execution_count": 4,
     "metadata": {},
     "output_type": "execute_result"
    }
   ],
   "source": [
    "df.columns"
   ]
  },
  {
   "cell_type": "code",
   "execution_count": 5,
   "id": "3f545f16",
   "metadata": {},
   "outputs": [
    {
     "data": {
      "text/plain": [
       "ID               0\n",
       "RI               0\n",
       "Na               0\n",
       "Mg               0\n",
       "Al               0\n",
       "Si               0\n",
       "K                0\n",
       "Ca               0\n",
       "Ba               0\n",
       "Fe               0\n",
       "Type of glass    0\n",
       "dtype: int64"
      ]
     },
     "execution_count": 5,
     "metadata": {},
     "output_type": "execute_result"
    }
   ],
   "source": [
    "# let's check the null values\n",
    "df.isna().sum()"
   ]
  },
  {
   "cell_type": "markdown",
   "id": "15f4d5e2",
   "metadata": {},
   "source": [
    "### There  is no null values present in this dataset"
   ]
  },
  {
   "cell_type": "code",
   "execution_count": 6,
   "id": "cb04dcc7",
   "metadata": {},
   "outputs": [
    {
     "data": {
      "text/plain": [
       "ID               214\n",
       "RI               178\n",
       "Na               142\n",
       "Mg                94\n",
       "Al               118\n",
       "Si               133\n",
       "K                 65\n",
       "Ca               143\n",
       "Ba                34\n",
       "Fe                32\n",
       "Type of glass      6\n",
       "dtype: int64"
      ]
     },
     "execution_count": 6,
     "metadata": {},
     "output_type": "execute_result"
    }
   ],
   "source": [
    "# let's check the unique values of all columns\n",
    "df.nunique()"
   ]
  },
  {
   "cell_type": "code",
   "execution_count": 7,
   "id": "2fc13904",
   "metadata": {},
   "outputs": [],
   "source": [
    "# let's drop the id column\n",
    "df.drop('ID',axis = 1,inplace = True)"
   ]
  },
  {
   "cell_type": "markdown",
   "id": "3418a4a6",
   "metadata": {},
   "source": [
    "## Checking Duplicate values"
   ]
  },
  {
   "cell_type": "code",
   "execution_count": 8,
   "id": "7e3e3f54",
   "metadata": {},
   "outputs": [
    {
     "name": "stdout",
     "output_type": "stream",
     "text": [
      "         RI     Na    Mg    Al     Si     K    Ca   Ba   Fe  Type of glass\n",
      "39  1.52213  14.21  3.82  0.47  71.77  0.11  9.57  0.0  0.0              1\n"
     ]
    }
   ],
   "source": [
    "# let's check the duplicate rows present or not in this dataset\n",
    "duplicate_rows = df[df.duplicated()]\n",
    "print(duplicate_rows)"
   ]
  },
  {
   "cell_type": "markdown",
   "id": "2db9a45b",
   "metadata": {},
   "source": [
    "### There is one duplicate row is present"
   ]
  },
  {
   "cell_type": "code",
   "execution_count": 9,
   "id": "304f705d",
   "metadata": {},
   "outputs": [],
   "source": [
    "# let's drop the duplicate row\n",
    "df.drop_duplicates(inplace= True)"
   ]
  },
  {
   "cell_type": "code",
   "execution_count": 10,
   "id": "6eed0639",
   "metadata": {},
   "outputs": [
    {
     "data": {
      "text/plain": [
       "(213, 10)"
      ]
     },
     "execution_count": 10,
     "metadata": {},
     "output_type": "execute_result"
    }
   ],
   "source": [
    "# let's check the shape\n",
    "df.shape"
   ]
  },
  {
   "cell_type": "markdown",
   "id": "c204be63",
   "metadata": {},
   "source": [
    "#### now, we have 213 rows and 10 columns"
   ]
  },
  {
   "cell_type": "code",
   "execution_count": 11,
   "id": "be5e8be1",
   "metadata": {},
   "outputs": [
    {
     "name": "stdout",
     "output_type": "stream",
     "text": [
      "<class 'pandas.core.frame.DataFrame'>\n",
      "Int64Index: 213 entries, 0 to 213\n",
      "Data columns (total 10 columns):\n",
      " #   Column         Non-Null Count  Dtype  \n",
      "---  ------         --------------  -----  \n",
      " 0   RI             213 non-null    float64\n",
      " 1   Na             213 non-null    float64\n",
      " 2   Mg             213 non-null    float64\n",
      " 3   Al             213 non-null    float64\n",
      " 4   Si             213 non-null    float64\n",
      " 5   K              213 non-null    float64\n",
      " 6   Ca             213 non-null    float64\n",
      " 7   Ba             213 non-null    float64\n",
      " 8   Fe             213 non-null    float64\n",
      " 9   Type of glass  213 non-null    int64  \n",
      "dtypes: float64(9), int64(1)\n",
      "memory usage: 18.3 KB\n"
     ]
    }
   ],
   "source": [
    "# summery about all columns\n",
    "df.info()"
   ]
  },
  {
   "cell_type": "markdown",
   "id": "eb18528a",
   "metadata": {},
   "source": [
    "All features are float64 datatype and label is int64 datatype"
   ]
  },
  {
   "cell_type": "code",
   "execution_count": 12,
   "id": "e82d7b02",
   "metadata": {},
   "outputs": [
    {
     "data": {
      "text/html": [
       "<div>\n",
       "<style scoped>\n",
       "    .dataframe tbody tr th:only-of-type {\n",
       "        vertical-align: middle;\n",
       "    }\n",
       "\n",
       "    .dataframe tbody tr th {\n",
       "        vertical-align: top;\n",
       "    }\n",
       "\n",
       "    .dataframe thead th {\n",
       "        text-align: right;\n",
       "    }\n",
       "</style>\n",
       "<table border=\"1\" class=\"dataframe\">\n",
       "  <thead>\n",
       "    <tr style=\"text-align: right;\">\n",
       "      <th></th>\n",
       "      <th>RI</th>\n",
       "      <th>Na</th>\n",
       "      <th>Mg</th>\n",
       "      <th>Al</th>\n",
       "      <th>Si</th>\n",
       "      <th>K</th>\n",
       "      <th>Ca</th>\n",
       "      <th>Ba</th>\n",
       "      <th>Fe</th>\n",
       "      <th>Type of glass</th>\n",
       "    </tr>\n",
       "  </thead>\n",
       "  <tbody>\n",
       "    <tr>\n",
       "      <th>count</th>\n",
       "      <td>213.000000</td>\n",
       "      <td>213.000000</td>\n",
       "      <td>213.000000</td>\n",
       "      <td>213.000000</td>\n",
       "      <td>213.000000</td>\n",
       "      <td>213.000000</td>\n",
       "      <td>213.000000</td>\n",
       "      <td>213.000000</td>\n",
       "      <td>213.000000</td>\n",
       "      <td>213.000000</td>\n",
       "    </tr>\n",
       "    <tr>\n",
       "      <th>mean</th>\n",
       "      <td>1.518348</td>\n",
       "      <td>13.404085</td>\n",
       "      <td>2.679202</td>\n",
       "      <td>1.449484</td>\n",
       "      <td>72.655070</td>\n",
       "      <td>0.498873</td>\n",
       "      <td>8.954085</td>\n",
       "      <td>0.175869</td>\n",
       "      <td>0.057277</td>\n",
       "      <td>2.788732</td>\n",
       "    </tr>\n",
       "    <tr>\n",
       "      <th>std</th>\n",
       "      <td>0.003033</td>\n",
       "      <td>0.816662</td>\n",
       "      <td>1.443691</td>\n",
       "      <td>0.495925</td>\n",
       "      <td>0.773998</td>\n",
       "      <td>0.653185</td>\n",
       "      <td>1.425882</td>\n",
       "      <td>0.498245</td>\n",
       "      <td>0.097589</td>\n",
       "      <td>2.105130</td>\n",
       "    </tr>\n",
       "    <tr>\n",
       "      <th>min</th>\n",
       "      <td>1.511150</td>\n",
       "      <td>10.730000</td>\n",
       "      <td>0.000000</td>\n",
       "      <td>0.290000</td>\n",
       "      <td>69.810000</td>\n",
       "      <td>0.000000</td>\n",
       "      <td>5.430000</td>\n",
       "      <td>0.000000</td>\n",
       "      <td>0.000000</td>\n",
       "      <td>1.000000</td>\n",
       "    </tr>\n",
       "    <tr>\n",
       "      <th>25%</th>\n",
       "      <td>1.516520</td>\n",
       "      <td>12.900000</td>\n",
       "      <td>2.090000</td>\n",
       "      <td>1.190000</td>\n",
       "      <td>72.280000</td>\n",
       "      <td>0.130000</td>\n",
       "      <td>8.240000</td>\n",
       "      <td>0.000000</td>\n",
       "      <td>0.000000</td>\n",
       "      <td>1.000000</td>\n",
       "    </tr>\n",
       "    <tr>\n",
       "      <th>50%</th>\n",
       "      <td>1.517680</td>\n",
       "      <td>13.300000</td>\n",
       "      <td>3.480000</td>\n",
       "      <td>1.360000</td>\n",
       "      <td>72.790000</td>\n",
       "      <td>0.560000</td>\n",
       "      <td>8.600000</td>\n",
       "      <td>0.000000</td>\n",
       "      <td>0.000000</td>\n",
       "      <td>2.000000</td>\n",
       "    </tr>\n",
       "    <tr>\n",
       "      <th>75%</th>\n",
       "      <td>1.519150</td>\n",
       "      <td>13.810000</td>\n",
       "      <td>3.600000</td>\n",
       "      <td>1.630000</td>\n",
       "      <td>73.090000</td>\n",
       "      <td>0.610000</td>\n",
       "      <td>9.150000</td>\n",
       "      <td>0.000000</td>\n",
       "      <td>0.100000</td>\n",
       "      <td>3.000000</td>\n",
       "    </tr>\n",
       "    <tr>\n",
       "      <th>max</th>\n",
       "      <td>1.533930</td>\n",
       "      <td>17.380000</td>\n",
       "      <td>4.490000</td>\n",
       "      <td>3.500000</td>\n",
       "      <td>75.410000</td>\n",
       "      <td>6.210000</td>\n",
       "      <td>16.190000</td>\n",
       "      <td>3.150000</td>\n",
       "      <td>0.510000</td>\n",
       "      <td>7.000000</td>\n",
       "    </tr>\n",
       "  </tbody>\n",
       "</table>\n",
       "</div>"
      ],
      "text/plain": [
       "               RI          Na          Mg          Al          Si           K  \\\n",
       "count  213.000000  213.000000  213.000000  213.000000  213.000000  213.000000   \n",
       "mean     1.518348   13.404085    2.679202    1.449484   72.655070    0.498873   \n",
       "std      0.003033    0.816662    1.443691    0.495925    0.773998    0.653185   \n",
       "min      1.511150   10.730000    0.000000    0.290000   69.810000    0.000000   \n",
       "25%      1.516520   12.900000    2.090000    1.190000   72.280000    0.130000   \n",
       "50%      1.517680   13.300000    3.480000    1.360000   72.790000    0.560000   \n",
       "75%      1.519150   13.810000    3.600000    1.630000   73.090000    0.610000   \n",
       "max      1.533930   17.380000    4.490000    3.500000   75.410000    6.210000   \n",
       "\n",
       "               Ca          Ba          Fe  Type of glass  \n",
       "count  213.000000  213.000000  213.000000     213.000000  \n",
       "mean     8.954085    0.175869    0.057277       2.788732  \n",
       "std      1.425882    0.498245    0.097589       2.105130  \n",
       "min      5.430000    0.000000    0.000000       1.000000  \n",
       "25%      8.240000    0.000000    0.000000       1.000000  \n",
       "50%      8.600000    0.000000    0.000000       2.000000  \n",
       "75%      9.150000    0.000000    0.100000       3.000000  \n",
       "max     16.190000    3.150000    0.510000       7.000000  "
      ]
     },
     "execution_count": 12,
     "metadata": {},
     "output_type": "execute_result"
    }
   ],
   "source": [
    "# stats about data\n",
    "df.describe()"
   ]
  },
  {
   "cell_type": "markdown",
   "id": "362fcaeb",
   "metadata": {},
   "source": [
    "### Observations\n",
    "\n",
    "RI - data is very confusing\n",
    "\n",
    "Na - Measure of central Tendency and Dispersion is looking satisfactory. \n",
    "\n",
    "Mg - Measure of central Tendency and Dispersion is looking satisfactory.\n",
    "\n",
    "Al - max value of Al is indicates the presence of outliers.\n",
    "\n",
    "Si - data is confusing.\n",
    " \n",
    "K - max value of K is indicating the presence of outliers.\n",
    "\n",
    "Ca - max value of Ca is indicating the presence of outliers.\n",
    "\n",
    "Ba - Data is very confusing\n",
    "\n",
    "Fe - Data is very confusing\n",
    "\n",
    "Type of glass - it shows the categories  \n"
   ]
  },
  {
   "cell_type": "markdown",
   "id": "881f3714",
   "metadata": {},
   "source": [
    "# EDA"
   ]
  },
  {
   "cell_type": "code",
   "execution_count": 13,
   "id": "e55d4202",
   "metadata": {},
   "outputs": [
    {
     "data": {
      "text/plain": [
       "<AxesSubplot:title={'center':'Type of glass'}>"
      ]
     },
     "execution_count": 13,
     "metadata": {},
     "output_type": "execute_result"
    },
    {
     "data": {
      "image/png": "[encoded data removed]",
      "text/plain": [
       "<Figure size 432x288 with 1 Axes>"
      ]
     },
     "metadata": {
      "needs_background": "light"
     },
     "output_type": "display_data"
    }
   ],
   "source": [
    "# let's visualize the type of glass categories\n",
    "df['Type of glass'].value_counts().plot.bar(color=['olive','skyblue','red','orange','pink','blue'],title='Type of glass',edgecolor=\"k\", linewidth=2)"
   ]
  },
  {
   "cell_type": "code",
   "execution_count": 14,
   "id": "0ab4cfd2",
   "metadata": {},
   "outputs": [
    {
     "data": {
      "text/plain": [
       "2    76\n",
       "1    69\n",
       "7    29\n",
       "3    17\n",
       "5    13\n",
       "6     9\n",
       "Name: Type of glass, dtype: int64"
      ]
     },
     "execution_count": 14,
     "metadata": {},
     "output_type": "execute_result"
    }
   ],
   "source": [
    "df['Type of glass'].value_counts()"
   ]
  },
  {
   "cell_type": "markdown",
   "id": "c5c8c537",
   "metadata": {},
   "source": [
    "### this column has 6 type of glass most of the data belongs to type 2 glass ,type 1 - 69 , type 7 - 29 ,type 3 - 17,type 5 - 13 and least no of data belongs to type 6 glass"
   ]
  },
  {
   "cell_type": "code",
   "execution_count": 15,
   "id": "b83fec73",
   "metadata": {},
   "outputs": [
    {
     "data": {
      "text/plain": [
       "<AxesSubplot:xlabel='Type of glass', ylabel='RI'>"
      ]
     },
     "execution_count": 15,
     "metadata": {},
     "output_type": "execute_result"
    },
    {
     "data": {
      "image/png": "[encoded data removed]",
      "text/plain": [
       "<Figure size 432x288 with 1 Axes>"
      ]
     },
     "metadata": {
      "needs_background": "light"
     },
     "output_type": "display_data"
    }
   ],
   "source": [
    "# let's visualize the relationship between RI and type of glass\n",
    "sns.scatterplot(x = 'Type of glass',y = 'RI',data = df)\n"
   ]
  },
  {
   "cell_type": "markdown",
   "id": "1653eb72",
   "metadata": {},
   "source": [
    "### we can clearly see the RI is equally distributed in the range 1.515 to 1.525 and most of the RI values belongs to type 2 glass"
   ]
  },
  {
   "cell_type": "code",
   "execution_count": 16,
   "id": "9821492c",
   "metadata": {},
   "outputs": [
    {
     "data": {
      "text/plain": [
       "<AxesSubplot:xlabel='Type of glass', ylabel='Na'>"
      ]
     },
     "execution_count": 16,
     "metadata": {},
     "output_type": "execute_result"
    },
    {
     "data": {
      "image/png": "[encoded data removed]",
      "text/plain": [
       "<Figure size 432x288 with 1 Axes>"
      ]
     },
     "metadata": {
      "needs_background": "light"
     },
     "output_type": "display_data"
    }
   ],
   "source": [
    "# let's visualize the relationship between Na and type of glass\n",
    "sns.scatterplot(x = 'Type of glass',y = 'Na',data = df)"
   ]
  },
  {
   "cell_type": "markdown",
   "id": "64923582",
   "metadata": {},
   "source": [
    "### we can clearly see the sodium is equally distributed in the range 12.5 to 15 and most of the Sodium belongs to type 2 glass"
   ]
  },
  {
   "cell_type": "code",
   "execution_count": 17,
   "id": "484b7aa5",
   "metadata": {},
   "outputs": [
    {
     "data": {
      "text/plain": [
       "<AxesSubplot:xlabel='Type of glass', ylabel='Si'>"
      ]
     },
     "execution_count": 17,
     "metadata": {},
     "output_type": "execute_result"
    },
    {
     "data": {
      "image/png": "[encoded data removed]",
      "text/plain": [
       "<Figure size 432x288 with 1 Axes>"
      ]
     },
     "metadata": {
      "needs_background": "light"
     },
     "output_type": "display_data"
    }
   ],
   "source": [
    "# let's visualize the relationship between Si and type of glass\n",
    "sns.scatterplot(x = 'Type of glass',y = 'Si',data = df)"
   ]
  },
  {
   "cell_type": "markdown",
   "id": "f1b1f542",
   "metadata": {},
   "source": [
    "### we can clearly see the silicon is equally distributed in the range 71 to 74 and most of the Silicon belongs to type 2 glass"
   ]
  },
  {
   "cell_type": "code",
   "execution_count": 18,
   "id": "abeb4154",
   "metadata": {},
   "outputs": [
    {
     "data": {
      "text/plain": [
       "<AxesSubplot:xlabel='Type of glass', ylabel='Mg'>"
      ]
     },
     "execution_count": 18,
     "metadata": {},
     "output_type": "execute_result"
    },
    {
     "data": {
      "image/png": "[encoded data removed]",
      "text/plain": [
       "<Figure size 432x288 with 1 Axes>"
      ]
     },
     "metadata": {
      "needs_background": "light"
     },
     "output_type": "display_data"
    }
   ],
   "source": [
    "# let's visualize the relationship between Mg and type of glass\n",
    "sns.scatterplot(x = 'Type of glass',y = 'Mg',data = df)"
   ]
  },
  {
   "cell_type": "markdown",
   "id": "62118d61",
   "metadata": {},
   "source": [
    "### we can clearly see the magnesium is equally distributed in the range 1.5 to 4 and most of the Magnesium belongs to type 2 glass"
   ]
  },
  {
   "cell_type": "code",
   "execution_count": 19,
   "id": "cd50eebc",
   "metadata": {},
   "outputs": [
    {
     "data": {
      "text/plain": [
       "<AxesSubplot:xlabel='Type of glass', ylabel='Al'>"
      ]
     },
     "execution_count": 19,
     "metadata": {},
     "output_type": "execute_result"
    },
    {
     "data": {
      "image/png": "[encoded data removed]",
      "text/plain": [
       "<Figure size 432x288 with 1 Axes>"
      ]
     },
     "metadata": {
      "needs_background": "light"
     },
     "output_type": "display_data"
    }
   ],
   "source": [
    "# let's visualize the relationship between Al and type of glass\n",
    "sns.scatterplot(x = 'Type of glass',y = 'Al',data = df)"
   ]
  },
  {
   "cell_type": "markdown",
   "id": "b33f9ca6",
   "metadata": {},
   "source": [
    "### we can clearly see the Aluminium is equally distributed in the range 0.5 to 3.0 "
   ]
  },
  {
   "cell_type": "code",
   "execution_count": 20,
   "id": "61ea6885",
   "metadata": {},
   "outputs": [
    {
     "data": {
      "text/plain": [
       "<AxesSubplot:xlabel='Type of glass', ylabel='K'>"
      ]
     },
     "execution_count": 20,
     "metadata": {},
     "output_type": "execute_result"
    },
    {
     "data": {
      "image/png": "[encoded data removed]",
      "text/plain": [
       "<Figure size 432x288 with 1 Axes>"
      ]
     },
     "metadata": {
      "needs_background": "light"
     },
     "output_type": "display_data"
    }
   ],
   "source": [
    "# let's visualize the relationship between K and type of glass\n",
    "sns.scatterplot(x = 'Type of glass',y = 'K',data = df)"
   ]
  },
  {
   "cell_type": "markdown",
   "id": "3ed8c1cc",
   "metadata": {},
   "source": [
    "### we can clearly see the potassium is equally distributed in the range 0 to 1.5 "
   ]
  },
  {
   "cell_type": "code",
   "execution_count": 21,
   "id": "3d551741",
   "metadata": {},
   "outputs": [
    {
     "data": {
      "text/plain": [
       "<AxesSubplot:xlabel='Type of glass', ylabel='Ca'>"
      ]
     },
     "execution_count": 21,
     "metadata": {},
     "output_type": "execute_result"
    },
    {
     "data": {
      "image/png": "[encoded data removed]",
      "text/plain": [
       "<Figure size 432x288 with 1 Axes>"
      ]
     },
     "metadata": {
      "needs_background": "light"
     },
     "output_type": "display_data"
    }
   ],
   "source": [
    "# let's visualize the relationship between Ca and type of glass\n",
    "sns.scatterplot(x = 'Type of glass',y = 'Ca',data = df)"
   ]
  },
  {
   "cell_type": "markdown",
   "id": "4a7bf539",
   "metadata": {},
   "source": [
    "### we can clearly see the calcium is equally distributed in the range 6 to 14 and most of the calcium belongs to type 2 glass"
   ]
  },
  {
   "cell_type": "code",
   "execution_count": 22,
   "id": "4e7837f1",
   "metadata": {},
   "outputs": [
    {
     "data": {
      "text/plain": [
       "<AxesSubplot:xlabel='Type of glass', ylabel='Ba'>"
      ]
     },
     "execution_count": 22,
     "metadata": {},
     "output_type": "execute_result"
    },
    {
     "data": {
      "image/png": "[encoded data removed]",
      "text/plain": [
       "<Figure size 432x288 with 1 Axes>"
      ]
     },
     "metadata": {
      "needs_background": "light"
     },
     "output_type": "display_data"
    }
   ],
   "source": [
    "# let's visualize the relationship between Ba and type of glass\n",
    "sns.scatterplot(x ='Type of glass',y ='Ba',data = df)"
   ]
  },
  {
   "cell_type": "markdown",
   "id": "40a08a97",
   "metadata": {},
   "source": [
    "### we can clearly see the barium is equally distributed in the range 0.0 to 0.5 and most of the barium belongs to type 7 glass"
   ]
  },
  {
   "cell_type": "code",
   "execution_count": 23,
   "id": "6b0d5886",
   "metadata": {},
   "outputs": [
    {
     "data": {
      "text/plain": [
       "<AxesSubplot:xlabel='Type of glass', ylabel='Fe'>"
      ]
     },
     "execution_count": 23,
     "metadata": {},
     "output_type": "execute_result"
    },
    {
     "data": {
      "image/png": "[encoded data removed]",
      "text/plain": [
       "<Figure size 432x288 with 1 Axes>"
      ]
     },
     "metadata": {
      "needs_background": "light"
     },
     "output_type": "display_data"
    }
   ],
   "source": [
    "# let's visualize the relationship between Fe and type of glass\n",
    "sns.scatterplot(x ='Type of glass',y ='Fe',data = df)"
   ]
  },
  {
   "cell_type": "markdown",
   "id": "a293d6f9",
   "metadata": {},
   "source": [
    "### we can clearly see the Iron is equally distributed in the range 0.0 to 0.3 and most of the Iron belongs to type 2 and type 1 glass"
   ]
  },
  {
   "cell_type": "markdown",
   "id": "ef219ad7",
   "metadata": {},
   "source": [
    "# Correlation"
   ]
  },
  {
   "cell_type": "code",
   "execution_count": 24,
   "id": "c8c1b8e1",
   "metadata": {},
   "outputs": [
    {
     "data": {
      "text/html": [
       "<div>\n",
       "<style scoped>\n",
       "    .dataframe tbody tr th:only-of-type {\n",
       "        vertical-align: middle;\n",
       "    }\n",
       "\n",
       "    .dataframe tbody tr th {\n",
       "        vertical-align: top;\n",
       "    }\n",
       "\n",
       "    .dataframe thead th {\n",
       "        text-align: right;\n",
       "    }\n",
       "</style>\n",
       "<table border=\"1\" class=\"dataframe\">\n",
       "  <thead>\n",
       "    <tr style=\"text-align: right;\">\n",
       "      <th></th>\n",
       "      <th>RI</th>\n",
       "      <th>Na</th>\n",
       "      <th>Mg</th>\n",
       "      <th>Al</th>\n",
       "      <th>Si</th>\n",
       "      <th>K</th>\n",
       "      <th>Ca</th>\n",
       "      <th>Ba</th>\n",
       "      <th>Fe</th>\n",
       "      <th>Type of glass</th>\n",
       "    </tr>\n",
       "  </thead>\n",
       "  <tbody>\n",
       "    <tr>\n",
       "      <th>RI</th>\n",
       "      <td>1.000000</td>\n",
       "      <td>-0.198802</td>\n",
       "      <td>-0.127526</td>\n",
       "      <td>-0.400973</td>\n",
       "      <td>-0.539000</td>\n",
       "      <td>-0.287645</td>\n",
       "      <td>0.811183</td>\n",
       "      <td>0.001679</td>\n",
       "      <td>0.147083</td>\n",
       "      <td>-0.160140</td>\n",
       "    </tr>\n",
       "    <tr>\n",
       "      <th>Na</th>\n",
       "      <td>-0.198802</td>\n",
       "      <td>1.000000</td>\n",
       "      <td>-0.278420</td>\n",
       "      <td>0.167735</td>\n",
       "      <td>-0.064885</td>\n",
       "      <td>-0.264158</td>\n",
       "      <td>-0.278194</td>\n",
       "      <td>0.329080</td>\n",
       "      <td>-0.239374</td>\n",
       "      <td>0.508837</td>\n",
       "    </tr>\n",
       "    <tr>\n",
       "      <th>Mg</th>\n",
       "      <td>-0.127526</td>\n",
       "      <td>-0.278420</td>\n",
       "      <td>1.000000</td>\n",
       "      <td>-0.479575</td>\n",
       "      <td>-0.162437</td>\n",
       "      <td>0.007617</td>\n",
       "      <td>-0.446197</td>\n",
       "      <td>-0.491818</td>\n",
       "      <td>0.085426</td>\n",
       "      <td>-0.744195</td>\n",
       "    </tr>\n",
       "    <tr>\n",
       "      <th>Al</th>\n",
       "      <td>-0.400973</td>\n",
       "      <td>0.167735</td>\n",
       "      <td>-0.479575</td>\n",
       "      <td>1.000000</td>\n",
       "      <td>-0.016195</td>\n",
       "      <td>0.323683</td>\n",
       "      <td>-0.258068</td>\n",
       "      <td>0.480642</td>\n",
       "      <td>-0.080583</td>\n",
       "      <td>0.597432</td>\n",
       "    </tr>\n",
       "    <tr>\n",
       "      <th>Si</th>\n",
       "      <td>-0.539000</td>\n",
       "      <td>-0.064885</td>\n",
       "      <td>-0.162437</td>\n",
       "      <td>-0.016195</td>\n",
       "      <td>1.000000</td>\n",
       "      <td>-0.197281</td>\n",
       "      <td>-0.207145</td>\n",
       "      <td>-0.104389</td>\n",
       "      <td>-0.097717</td>\n",
       "      <td>0.147725</td>\n",
       "    </tr>\n",
       "    <tr>\n",
       "      <th>K</th>\n",
       "      <td>-0.287645</td>\n",
       "      <td>-0.264158</td>\n",
       "      <td>0.007617</td>\n",
       "      <td>0.323683</td>\n",
       "      <td>-0.197281</td>\n",
       "      <td>1.000000</td>\n",
       "      <td>-0.317032</td>\n",
       "      <td>-0.043653</td>\n",
       "      <td>-0.009372</td>\n",
       "      <td>-0.012455</td>\n",
       "    </tr>\n",
       "    <tr>\n",
       "      <th>Ca</th>\n",
       "      <td>0.811183</td>\n",
       "      <td>-0.278194</td>\n",
       "      <td>-0.446197</td>\n",
       "      <td>-0.258068</td>\n",
       "      <td>-0.207145</td>\n",
       "      <td>-0.317032</td>\n",
       "      <td>1.000000</td>\n",
       "      <td>-0.112208</td>\n",
       "      <td>0.126314</td>\n",
       "      <td>0.002677</td>\n",
       "    </tr>\n",
       "    <tr>\n",
       "      <th>Ba</th>\n",
       "      <td>0.001679</td>\n",
       "      <td>0.329080</td>\n",
       "      <td>-0.491818</td>\n",
       "      <td>0.480642</td>\n",
       "      <td>-0.104389</td>\n",
       "      <td>-0.043653</td>\n",
       "      <td>-0.112208</td>\n",
       "      <td>1.000000</td>\n",
       "      <td>-0.059729</td>\n",
       "      <td>0.574896</td>\n",
       "    </tr>\n",
       "    <tr>\n",
       "      <th>Fe</th>\n",
       "      <td>0.147083</td>\n",
       "      <td>-0.239374</td>\n",
       "      <td>0.085426</td>\n",
       "      <td>-0.080583</td>\n",
       "      <td>-0.097717</td>\n",
       "      <td>-0.009372</td>\n",
       "      <td>0.126314</td>\n",
       "      <td>-0.059729</td>\n",
       "      <td>1.000000</td>\n",
       "      <td>-0.191090</td>\n",
       "    </tr>\n",
       "    <tr>\n",
       "      <th>Type of glass</th>\n",
       "      <td>-0.160140</td>\n",
       "      <td>0.508837</td>\n",
       "      <td>-0.744195</td>\n",
       "      <td>0.597432</td>\n",
       "      <td>0.147725</td>\n",
       "      <td>-0.012455</td>\n",
       "      <td>0.002677</td>\n",
       "      <td>0.574896</td>\n",
       "      <td>-0.191090</td>\n",
       "      <td>1.000000</td>\n",
       "    </tr>\n",
       "  </tbody>\n",
       "</table>\n",
       "</div>"
      ],
      "text/plain": [
       "                     RI        Na        Mg        Al        Si         K  \\\n",
       "RI             1.000000 -0.198802 -0.127526 -0.400973 -0.539000 -0.287645   \n",
       "Na            -0.198802  1.000000 -0.278420  0.167735 -0.064885 -0.264158   \n",
       "Mg            -0.127526 -0.278420  1.000000 -0.479575 -0.162437  0.007617   \n",
       "Al            -0.400973  0.167735 -0.479575  1.000000 -0.016195  0.323683   \n",
       "Si            -0.539000 -0.064885 -0.162437 -0.016195  1.000000 -0.197281   \n",
       "K             -0.287645 -0.264158  0.007617  0.323683 -0.197281  1.000000   \n",
       "Ca             0.811183 -0.278194 -0.446197 -0.258068 -0.207145 -0.317032   \n",
       "Ba             0.001679  0.329080 -0.491818  0.480642 -0.104389 -0.043653   \n",
       "Fe             0.147083 -0.239374  0.085426 -0.080583 -0.097717 -0.009372   \n",
       "Type of glass -0.160140  0.508837 -0.744195  0.597432  0.147725 -0.012455   \n",
       "\n",
       "                     Ca        Ba        Fe  Type of glass  \n",
       "RI             0.811183  0.001679  0.147083      -0.160140  \n",
       "Na            -0.278194  0.329080 -0.239374       0.508837  \n",
       "Mg            -0.446197 -0.491818  0.085426      -0.744195  \n",
       "Al            -0.258068  0.480642 -0.080583       0.597432  \n",
       "Si            -0.207145 -0.104389 -0.097717       0.147725  \n",
       "K             -0.317032 -0.043653 -0.009372      -0.012455  \n",
       "Ca             1.000000 -0.112208  0.126314       0.002677  \n",
       "Ba            -0.112208  1.000000 -0.059729       0.574896  \n",
       "Fe             0.126314 -0.059729  1.000000      -0.191090  \n",
       "Type of glass  0.002677  0.574896 -0.191090       1.000000  "
      ]
     },
     "execution_count": 24,
     "metadata": {},
     "output_type": "execute_result"
    }
   ],
   "source": [
    "# let's check the correlation \n",
    "df.corr()"
   ]
  },
  {
   "cell_type": "code",
   "execution_count": 25,
   "id": "1f35052a",
   "metadata": {},
   "outputs": [
    {
     "data": {
      "text/plain": [
       "<bound method Series.sort_values of RI              -0.160140\n",
       "Na               0.508837\n",
       "Mg              -0.744195\n",
       "Al               0.597432\n",
       "Si               0.147725\n",
       "K               -0.012455\n",
       "Ca               0.002677\n",
       "Ba               0.574896\n",
       "Fe              -0.191090\n",
       "Type of glass    1.000000\n",
       "Name: Type of glass, dtype: float64>"
      ]
     },
     "execution_count": 25,
     "metadata": {},
     "output_type": "execute_result"
    }
   ],
   "source": [
    "# let's check the correation with type of glass\n",
    "df.corr()['Type of glass'].sort_values"
   ]
  },
  {
   "cell_type": "code",
   "execution_count": 26,
   "id": "279d365f",
   "metadata": {},
   "outputs": [
    {
     "data": {
      "text/plain": [
       "<AxesSubplot:>"
      ]
     },
     "execution_count": 26,
     "metadata": {},
     "output_type": "execute_result"
    },
    {
     "data": {
      "image/png": "[encoded data removed]",
      "text/plain": [
       "<Figure size 1224x1080 with 2 Axes>"
      ]
     },
     "metadata": {
      "needs_background": "light"
     },
     "output_type": "display_data"
    }
   ],
   "source": [
    "# let's check correlation using heatmap\n",
    "plt.figure(figsize=(17,15))\n",
    "sns.heatmap(df.corr(),annot =True,linewidth = 0.5,linecolor = 'black',fmt  = '.2f')"
   ]
  },
  {
   "cell_type": "markdown",
   "id": "0d632a90",
   "metadata": {},
   "source": [
    "- Sodium,aluminium,silicon and barium are positivly correlated with type of glass\n",
    "- RI , magnesium , Potassium and Iron are negatively correlated with type of glass\n",
    "- maximum correlation : Aluminium\n",
    "- minimum correlation : Calcium"
   ]
  },
  {
   "cell_type": "markdown",
   "id": "30f274ff",
   "metadata": {},
   "source": [
    "## Outliers checking"
   ]
  },
  {
   "cell_type": "code",
   "execution_count": 27,
   "id": "d86feb95",
   "metadata": {},
   "outputs": [
    {
     "data": {
      "image/png": "[encoded data removed]",
      "text/plain": [
       "<Figure size 1080x1440 with 10 Axes>"
      ]
     },
     "metadata": {
      "needs_background": "light"
     },
     "output_type": "display_data"
    }
   ],
   "source": [
    "# let's visualize the outliers using boxplot\n",
    "plt.figure(figsize = (15,20))\n",
    "pn = 1\n",
    "for col in df:\n",
    "    if pn <=10:\n",
    "        plt.subplot(2,5,pn)\n",
    "        ax=sns.boxplot(data = df[col])\n",
    "        plt.xlabel(col,fontsize= 15)\n",
    "    pn += 1\n",
    "plt.show()    "
   ]
  },
  {
   "cell_type": "markdown",
   "id": "ab3cec54",
   "metadata": {},
   "source": [
    "### Most of the features are having outliers, let's treat with outliers first..........."
   ]
  },
  {
   "cell_type": "markdown",
   "id": "391cd809",
   "metadata": {},
   "source": [
    "## Removing Outliers"
   ]
  },
  {
   "cell_type": "markdown",
   "id": "1ba899dc",
   "metadata": {},
   "source": [
    "### Z- score technique"
   ]
  },
  {
   "cell_type": "code",
   "execution_count": 28,
   "id": "45a068ce",
   "metadata": {},
   "outputs": [],
   "source": [
    "from scipy.stats import zscore"
   ]
  },
  {
   "cell_type": "code",
   "execution_count": 29,
   "id": "86f549bf",
   "metadata": {},
   "outputs": [],
   "source": [
    "z_score = zscore(df[['Ca','Ba','K','Fe','Si','Al','RI','Na']])"
   ]
  },
  {
   "cell_type": "code",
   "execution_count": 30,
   "id": "eefd99ea",
   "metadata": {},
   "outputs": [],
   "source": [
    "z= np.abs(z_score)"
   ]
  },
  {
   "cell_type": "code",
   "execution_count": 31,
   "id": "cef69e2b",
   "metadata": {},
   "outputs": [],
   "source": [
    "filtering_entry = (z<3).all(axis = 1)"
   ]
  },
  {
   "cell_type": "code",
   "execution_count": 32,
   "id": "3075a3d0",
   "metadata": {},
   "outputs": [],
   "source": [
    "df = df[filtering_entry]"
   ]
  },
  {
   "cell_type": "code",
   "execution_count": 33,
   "id": "e0ff1429",
   "metadata": {},
   "outputs": [
    {
     "data": {
      "text/html": [
       "<div>\n",
       "<style scoped>\n",
       "    .dataframe tbody tr th:only-of-type {\n",
       "        vertical-align: middle;\n",
       "    }\n",
       "\n",
       "    .dataframe tbody tr th {\n",
       "        vertical-align: top;\n",
       "    }\n",
       "\n",
       "    .dataframe thead th {\n",
       "        text-align: right;\n",
       "    }\n",
       "</style>\n",
       "<table border=\"1\" class=\"dataframe\">\n",
       "  <thead>\n",
       "    <tr style=\"text-align: right;\">\n",
       "      <th></th>\n",
       "      <th>RI</th>\n",
       "      <th>Na</th>\n",
       "      <th>Mg</th>\n",
       "      <th>Al</th>\n",
       "      <th>Si</th>\n",
       "      <th>K</th>\n",
       "      <th>Ca</th>\n",
       "      <th>Ba</th>\n",
       "      <th>Fe</th>\n",
       "      <th>Type of glass</th>\n",
       "    </tr>\n",
       "  </thead>\n",
       "  <tbody>\n",
       "    <tr>\n",
       "      <th>0</th>\n",
       "      <td>1.52101</td>\n",
       "      <td>13.64</td>\n",
       "      <td>4.49</td>\n",
       "      <td>1.10</td>\n",
       "      <td>71.78</td>\n",
       "      <td>0.06</td>\n",
       "      <td>8.75</td>\n",
       "      <td>0.0</td>\n",
       "      <td>0.0</td>\n",
       "      <td>1</td>\n",
       "    </tr>\n",
       "    <tr>\n",
       "      <th>1</th>\n",
       "      <td>1.51761</td>\n",
       "      <td>13.89</td>\n",
       "      <td>3.60</td>\n",
       "      <td>1.36</td>\n",
       "      <td>72.73</td>\n",
       "      <td>0.48</td>\n",
       "      <td>7.83</td>\n",
       "      <td>0.0</td>\n",
       "      <td>0.0</td>\n",
       "      <td>1</td>\n",
       "    </tr>\n",
       "    <tr>\n",
       "      <th>2</th>\n",
       "      <td>1.51618</td>\n",
       "      <td>13.53</td>\n",
       "      <td>3.55</td>\n",
       "      <td>1.54</td>\n",
       "      <td>72.99</td>\n",
       "      <td>0.39</td>\n",
       "      <td>7.78</td>\n",
       "      <td>0.0</td>\n",
       "      <td>0.0</td>\n",
       "      <td>1</td>\n",
       "    </tr>\n",
       "    <tr>\n",
       "      <th>3</th>\n",
       "      <td>1.51766</td>\n",
       "      <td>13.21</td>\n",
       "      <td>3.69</td>\n",
       "      <td>1.29</td>\n",
       "      <td>72.61</td>\n",
       "      <td>0.57</td>\n",
       "      <td>8.22</td>\n",
       "      <td>0.0</td>\n",
       "      <td>0.0</td>\n",
       "      <td>1</td>\n",
       "    </tr>\n",
       "    <tr>\n",
       "      <th>4</th>\n",
       "      <td>1.51742</td>\n",
       "      <td>13.27</td>\n",
       "      <td>3.62</td>\n",
       "      <td>1.24</td>\n",
       "      <td>73.08</td>\n",
       "      <td>0.55</td>\n",
       "      <td>8.07</td>\n",
       "      <td>0.0</td>\n",
       "      <td>0.0</td>\n",
       "      <td>1</td>\n",
       "    </tr>\n",
       "  </tbody>\n",
       "</table>\n",
       "</div>"
      ],
      "text/plain": [
       "        RI     Na    Mg    Al     Si     K    Ca   Ba   Fe  Type of glass\n",
       "0  1.52101  13.64  4.49  1.10  71.78  0.06  8.75  0.0  0.0              1\n",
       "1  1.51761  13.89  3.60  1.36  72.73  0.48  7.83  0.0  0.0              1\n",
       "2  1.51618  13.53  3.55  1.54  72.99  0.39  7.78  0.0  0.0              1\n",
       "3  1.51766  13.21  3.69  1.29  72.61  0.57  8.22  0.0  0.0              1\n",
       "4  1.51742  13.27  3.62  1.24  73.08  0.55  8.07  0.0  0.0              1"
      ]
     },
     "execution_count": 33,
     "metadata": {},
     "output_type": "execute_result"
    }
   ],
   "source": [
    "df.head()"
   ]
  },
  {
   "cell_type": "code",
   "execution_count": 34,
   "id": "05c29e8d",
   "metadata": {},
   "outputs": [
    {
     "data": {
      "text/html": [
       "<div>\n",
       "<style scoped>\n",
       "    .dataframe tbody tr th:only-of-type {\n",
       "        vertical-align: middle;\n",
       "    }\n",
       "\n",
       "    .dataframe tbody tr th {\n",
       "        vertical-align: top;\n",
       "    }\n",
       "\n",
       "    .dataframe thead th {\n",
       "        text-align: right;\n",
       "    }\n",
       "</style>\n",
       "<table border=\"1\" class=\"dataframe\">\n",
       "  <thead>\n",
       "    <tr style=\"text-align: right;\">\n",
       "      <th></th>\n",
       "      <th>RI</th>\n",
       "      <th>Na</th>\n",
       "      <th>Mg</th>\n",
       "      <th>Al</th>\n",
       "      <th>Si</th>\n",
       "      <th>K</th>\n",
       "      <th>Ca</th>\n",
       "      <th>Ba</th>\n",
       "      <th>Fe</th>\n",
       "      <th>Type of glass</th>\n",
       "    </tr>\n",
       "  </thead>\n",
       "  <tbody>\n",
       "    <tr>\n",
       "      <th>count</th>\n",
       "      <td>193.000000</td>\n",
       "      <td>193.00000</td>\n",
       "      <td>193.000000</td>\n",
       "      <td>193.000000</td>\n",
       "      <td>193.000000</td>\n",
       "      <td>193.000000</td>\n",
       "      <td>193.000000</td>\n",
       "      <td>193.000000</td>\n",
       "      <td>193.000000</td>\n",
       "      <td>193.000000</td>\n",
       "    </tr>\n",
       "    <tr>\n",
       "      <th>mean</th>\n",
       "      <td>1.518040</td>\n",
       "      <td>13.41285</td>\n",
       "      <td>2.875130</td>\n",
       "      <td>1.427668</td>\n",
       "      <td>72.725544</td>\n",
       "      <td>0.433212</td>\n",
       "      <td>8.820777</td>\n",
       "      <td>0.123990</td>\n",
       "      <td>0.051865</td>\n",
       "      <td>2.626943</td>\n",
       "    </tr>\n",
       "    <tr>\n",
       "      <th>std</th>\n",
       "      <td>0.002275</td>\n",
       "      <td>0.67260</td>\n",
       "      <td>1.310355</td>\n",
       "      <td>0.439568</td>\n",
       "      <td>0.582325</td>\n",
       "      <td>0.282063</td>\n",
       "      <td>0.990259</td>\n",
       "      <td>0.357943</td>\n",
       "      <td>0.085924</td>\n",
       "      <td>2.032471</td>\n",
       "    </tr>\n",
       "    <tr>\n",
       "      <th>min</th>\n",
       "      <td>1.511310</td>\n",
       "      <td>11.03000</td>\n",
       "      <td>0.000000</td>\n",
       "      <td>0.290000</td>\n",
       "      <td>70.570000</td>\n",
       "      <td>0.000000</td>\n",
       "      <td>5.430000</td>\n",
       "      <td>0.000000</td>\n",
       "      <td>0.000000</td>\n",
       "      <td>1.000000</td>\n",
       "    </tr>\n",
       "    <tr>\n",
       "      <th>25%</th>\n",
       "      <td>1.516510</td>\n",
       "      <td>12.94000</td>\n",
       "      <td>2.850000</td>\n",
       "      <td>1.190000</td>\n",
       "      <td>72.380000</td>\n",
       "      <td>0.140000</td>\n",
       "      <td>8.240000</td>\n",
       "      <td>0.000000</td>\n",
       "      <td>0.000000</td>\n",
       "      <td>1.000000</td>\n",
       "    </tr>\n",
       "    <tr>\n",
       "      <th>50%</th>\n",
       "      <td>1.517630</td>\n",
       "      <td>13.30000</td>\n",
       "      <td>3.500000</td>\n",
       "      <td>1.360000</td>\n",
       "      <td>72.830000</td>\n",
       "      <td>0.560000</td>\n",
       "      <td>8.580000</td>\n",
       "      <td>0.000000</td>\n",
       "      <td>0.000000</td>\n",
       "      <td>2.000000</td>\n",
       "    </tr>\n",
       "    <tr>\n",
       "      <th>75%</th>\n",
       "      <td>1.518980</td>\n",
       "      <td>13.78000</td>\n",
       "      <td>3.610000</td>\n",
       "      <td>1.610000</td>\n",
       "      <td>73.090000</td>\n",
       "      <td>0.600000</td>\n",
       "      <td>9.070000</td>\n",
       "      <td>0.000000</td>\n",
       "      <td>0.090000</td>\n",
       "      <td>3.000000</td>\n",
       "    </tr>\n",
       "    <tr>\n",
       "      <th>max</th>\n",
       "      <td>1.527250</td>\n",
       "      <td>15.15000</td>\n",
       "      <td>4.490000</td>\n",
       "      <td>2.880000</td>\n",
       "      <td>74.550000</td>\n",
       "      <td>1.760000</td>\n",
       "      <td>12.500000</td>\n",
       "      <td>1.640000</td>\n",
       "      <td>0.320000</td>\n",
       "      <td>7.000000</td>\n",
       "    </tr>\n",
       "  </tbody>\n",
       "</table>\n",
       "</div>"
      ],
      "text/plain": [
       "               RI         Na          Mg          Al          Si           K  \\\n",
       "count  193.000000  193.00000  193.000000  193.000000  193.000000  193.000000   \n",
       "mean     1.518040   13.41285    2.875130    1.427668   72.725544    0.433212   \n",
       "std      0.002275    0.67260    1.310355    0.439568    0.582325    0.282063   \n",
       "min      1.511310   11.03000    0.000000    0.290000   70.570000    0.000000   \n",
       "25%      1.516510   12.94000    2.850000    1.190000   72.380000    0.140000   \n",
       "50%      1.517630   13.30000    3.500000    1.360000   72.830000    0.560000   \n",
       "75%      1.518980   13.78000    3.610000    1.610000   73.090000    0.600000   \n",
       "max      1.527250   15.15000    4.490000    2.880000   74.550000    1.760000   \n",
       "\n",
       "               Ca          Ba          Fe  Type of glass  \n",
       "count  193.000000  193.000000  193.000000     193.000000  \n",
       "mean     8.820777    0.123990    0.051865       2.626943  \n",
       "std      0.990259    0.357943    0.085924       2.032471  \n",
       "min      5.430000    0.000000    0.000000       1.000000  \n",
       "25%      8.240000    0.000000    0.000000       1.000000  \n",
       "50%      8.580000    0.000000    0.000000       2.000000  \n",
       "75%      9.070000    0.000000    0.090000       3.000000  \n",
       "max     12.500000    1.640000    0.320000       7.000000  "
      ]
     },
     "execution_count": 34,
     "metadata": {},
     "output_type": "execute_result"
    }
   ],
   "source": [
    "df.describe()"
   ]
  },
  {
   "cell_type": "code",
   "execution_count": 35,
   "id": "89cdf257",
   "metadata": {},
   "outputs": [
    {
     "data": {
      "text/plain": [
       "(193, 10)"
      ]
     },
     "execution_count": 35,
     "metadata": {},
     "output_type": "execute_result"
    }
   ],
   "source": [
    "df.shape"
   ]
  },
  {
   "cell_type": "markdown",
   "id": "7d6b2e94",
   "metadata": {},
   "source": [
    "## Percentage data loss"
   ]
  },
  {
   "cell_type": "code",
   "execution_count": 36,
   "id": "4bd27cb3",
   "metadata": {},
   "outputs": [
    {
     "name": "stdout",
     "output_type": "stream",
     "text": [
      "9.389671361502346 %\n"
     ]
    }
   ],
   "source": [
    "loss_percent = (213-193)/213*100\n",
    "print(loss_percent,'%')"
   ]
  },
  {
   "cell_type": "code",
   "execution_count": 37,
   "id": "d163a445",
   "metadata": {},
   "outputs": [
    {
     "data": {
      "image/png": "[encoded data removed]",
      "text/plain": [
       "<Figure size 1080x1440 with 8 Axes>"
      ]
     },
     "metadata": {
      "needs_background": "light"
     },
     "output_type": "display_data"
    }
   ],
   "source": [
    "# let's visualize the data after removing outliers\n",
    "plt.figure(figsize = (15,20))\n",
    "pn = 1\n",
    "for col in df:\n",
    "    if pn <= 8:\n",
    "        plt.subplot(2,4,pn)\n",
    "        ax=sns.distplot(df[col])\n",
    "        plt.xlabel(col,fontsize= 15)\n",
    "    pn += 1\n",
    "plt.show()    "
   ]
  },
  {
   "cell_type": "markdown",
   "id": "bded0a26",
   "metadata": {},
   "source": [
    "### Now, looks better after removing the outliers"
   ]
  },
  {
   "cell_type": "markdown",
   "id": "5df9d787",
   "metadata": {},
   "source": [
    "### Dividing data in features and label"
   ]
  },
  {
   "cell_type": "code",
   "execution_count": 38,
   "id": "5e6822d6",
   "metadata": {},
   "outputs": [],
   "source": [
    "x = df.drop('Type of glass',axis = 1)\n"
   ]
  },
  {
   "cell_type": "code",
   "execution_count": 39,
   "id": "46e3a3f6",
   "metadata": {},
   "outputs": [
    {
     "data": {
      "text/html": [
       "<div>\n",
       "<style scoped>\n",
       "    .dataframe tbody tr th:only-of-type {\n",
       "        vertical-align: middle;\n",
       "    }\n",
       "\n",
       "    .dataframe tbody tr th {\n",
       "        vertical-align: top;\n",
       "    }\n",
       "\n",
       "    .dataframe thead th {\n",
       "        text-align: right;\n",
       "    }\n",
       "</style>\n",
       "<table border=\"1\" class=\"dataframe\">\n",
       "  <thead>\n",
       "    <tr style=\"text-align: right;\">\n",
       "      <th></th>\n",
       "      <th>RI</th>\n",
       "      <th>Na</th>\n",
       "      <th>Mg</th>\n",
       "      <th>Al</th>\n",
       "      <th>Si</th>\n",
       "      <th>K</th>\n",
       "      <th>Ca</th>\n",
       "      <th>Ba</th>\n",
       "      <th>Fe</th>\n",
       "    </tr>\n",
       "  </thead>\n",
       "  <tbody>\n",
       "    <tr>\n",
       "      <th>0</th>\n",
       "      <td>1.52101</td>\n",
       "      <td>13.64</td>\n",
       "      <td>4.49</td>\n",
       "      <td>1.10</td>\n",
       "      <td>71.78</td>\n",
       "      <td>0.06</td>\n",
       "      <td>8.75</td>\n",
       "      <td>0.0</td>\n",
       "      <td>0.0</td>\n",
       "    </tr>\n",
       "    <tr>\n",
       "      <th>1</th>\n",
       "      <td>1.51761</td>\n",
       "      <td>13.89</td>\n",
       "      <td>3.60</td>\n",
       "      <td>1.36</td>\n",
       "      <td>72.73</td>\n",
       "      <td>0.48</td>\n",
       "      <td>7.83</td>\n",
       "      <td>0.0</td>\n",
       "      <td>0.0</td>\n",
       "    </tr>\n",
       "    <tr>\n",
       "      <th>2</th>\n",
       "      <td>1.51618</td>\n",
       "      <td>13.53</td>\n",
       "      <td>3.55</td>\n",
       "      <td>1.54</td>\n",
       "      <td>72.99</td>\n",
       "      <td>0.39</td>\n",
       "      <td>7.78</td>\n",
       "      <td>0.0</td>\n",
       "      <td>0.0</td>\n",
       "    </tr>\n",
       "    <tr>\n",
       "      <th>3</th>\n",
       "      <td>1.51766</td>\n",
       "      <td>13.21</td>\n",
       "      <td>3.69</td>\n",
       "      <td>1.29</td>\n",
       "      <td>72.61</td>\n",
       "      <td>0.57</td>\n",
       "      <td>8.22</td>\n",
       "      <td>0.0</td>\n",
       "      <td>0.0</td>\n",
       "    </tr>\n",
       "    <tr>\n",
       "      <th>4</th>\n",
       "      <td>1.51742</td>\n",
       "      <td>13.27</td>\n",
       "      <td>3.62</td>\n",
       "      <td>1.24</td>\n",
       "      <td>73.08</td>\n",
       "      <td>0.55</td>\n",
       "      <td>8.07</td>\n",
       "      <td>0.0</td>\n",
       "      <td>0.0</td>\n",
       "    </tr>\n",
       "  </tbody>\n",
       "</table>\n",
       "</div>"
      ],
      "text/plain": [
       "        RI     Na    Mg    Al     Si     K    Ca   Ba   Fe\n",
       "0  1.52101  13.64  4.49  1.10  71.78  0.06  8.75  0.0  0.0\n",
       "1  1.51761  13.89  3.60  1.36  72.73  0.48  7.83  0.0  0.0\n",
       "2  1.51618  13.53  3.55  1.54  72.99  0.39  7.78  0.0  0.0\n",
       "3  1.51766  13.21  3.69  1.29  72.61  0.57  8.22  0.0  0.0\n",
       "4  1.51742  13.27  3.62  1.24  73.08  0.55  8.07  0.0  0.0"
      ]
     },
     "execution_count": 39,
     "metadata": {},
     "output_type": "execute_result"
    }
   ],
   "source": [
    "x.head()"
   ]
  },
  {
   "cell_type": "code",
   "execution_count": 40,
   "id": "c19b84a6",
   "metadata": {},
   "outputs": [],
   "source": [
    "y = df['Type of glass']"
   ]
  },
  {
   "cell_type": "code",
   "execution_count": 41,
   "id": "01dd25d0",
   "metadata": {},
   "outputs": [
    {
     "data": {
      "text/plain": [
       "0    1\n",
       "1    1\n",
       "2    1\n",
       "3    1\n",
       "4    1\n",
       "Name: Type of glass, dtype: int64"
      ]
     },
     "execution_count": 41,
     "metadata": {},
     "output_type": "execute_result"
    }
   ],
   "source": [
    "y.head()"
   ]
  },
  {
   "cell_type": "markdown",
   "id": "06a84d04",
   "metadata": {},
   "source": [
    "## Best Random State"
   ]
  },
  {
   "cell_type": "code",
   "execution_count": 51,
   "id": "023985de",
   "metadata": {},
   "outputs": [],
   "source": [
    "# lets import all necessary libraries \n",
    "from sklearn.ensemble import RandomForestClassifier\n",
    "from sklearn.ensemble import AdaBoostClassifier\n",
    "from sklearn.tree import DecisionTreeClassifier\n",
    "from sklearn.neighbors import KNeighborsClassifier\n",
    "from sklearn.model_selection import train_test_split,GridSearchCV,RandomizedSearchCV\n",
    "from sklearn.metrics import confusion_matrix,classification_report,roc_curve,roc_auc_score,accuracy_score"
   ]
  },
  {
   "cell_type": "code",
   "execution_count": 94,
   "id": "1b2da3b9",
   "metadata": {},
   "outputs": [
    {
     "name": "stdout",
     "output_type": "stream",
     "text": [
      "training score 0.7272727272727273 testing score 0.8205128205128205 random state 1\n",
      "Training score 0.7272727272727273 testing score 0.8205128205128205 random state 1\n",
      "training score 0.7792207792207793 testing score 0.6153846153846154 random state 2\n",
      "training score 0.7402597402597403 testing score 0.6666666666666666 random state 3\n",
      "training score 0.7532467532467533 testing score 0.6666666666666666 random state 4\n",
      "training score 0.7662337662337663 testing score 0.7692307692307693 random state 5\n",
      "training score 0.7857142857142857 testing score 0.6410256410256411 random state 6\n",
      "training score 0.7597402597402597 testing score 0.6923076923076923 random state 7\n",
      "training score 0.7857142857142857 testing score 0.5897435897435898 random state 8\n",
      "training score 0.7662337662337663 testing score 0.8461538461538461 random state 9\n",
      "training score 0.7857142857142857 testing score 0.48717948717948717 random state 10\n",
      "training score 0.7337662337662337 testing score 0.7692307692307693 random state 11\n",
      "training score 0.7402597402597403 testing score 0.6923076923076923 random state 12\n",
      "training score 0.7987012987012987 testing score 0.5897435897435898 random state 13\n",
      "training score 0.7597402597402597 testing score 0.5897435897435898 random state 14\n",
      "training score 0.7857142857142857 testing score 0.5641025641025641 random state 15\n",
      "training score 0.7727272727272727 testing score 0.5641025641025641 random state 16\n",
      "training score 0.7922077922077922 testing score 0.5384615384615384 random state 17\n",
      "training score 0.7532467532467533 testing score 0.6923076923076923 random state 18\n",
      "training score 0.7662337662337663 testing score 0.6666666666666666 random state 19\n",
      "training score 0.7597402597402597 testing score 0.6410256410256411 random state 20\n",
      "training score 0.7727272727272727 testing score 0.6923076923076923 random state 21\n",
      "training score 0.7727272727272727 testing score 0.717948717948718 random state 22\n",
      "training score 0.7857142857142857 testing score 0.6410256410256411 random state 23\n",
      "training score 0.7272727272727273 testing score 0.8205128205128205 random state 24\n",
      "training score 0.7337662337662337 testing score 0.6153846153846154 random state 25\n",
      "training score 0.7597402597402597 testing score 0.5641025641025641 random state 26\n",
      "training score 0.7857142857142857 testing score 0.6666666666666666 random state 27\n",
      "training score 0.7662337662337663 testing score 0.717948717948718 random state 28\n",
      "training score 0.7402597402597403 testing score 0.5897435897435898 random state 29\n",
      "training score 0.7922077922077922 testing score 0.6153846153846154 random state 30\n",
      "training score 0.8051948051948052 testing score 0.5128205128205128 random state 31\n",
      "training score 0.7857142857142857 testing score 0.6666666666666666 random state 32\n",
      "training score 0.7922077922077922 testing score 0.5897435897435898 random state 33\n",
      "training score 0.7857142857142857 testing score 0.6666666666666666 random state 34\n",
      "training score 0.7792207792207793 testing score 0.6410256410256411 random state 35\n",
      "training score 0.7597402597402597 testing score 0.6666666666666666 random state 36\n",
      "training score 0.7857142857142857 testing score 0.6153846153846154 random state 37\n",
      "training score 0.7597402597402597 testing score 0.6410256410256411 random state 38\n",
      "training score 0.7727272727272727 testing score 0.5897435897435898 random state 39\n",
      "training score 0.7597402597402597 testing score 0.5897435897435898 random state 40\n",
      "training score 0.7597402597402597 testing score 0.6410256410256411 random state 41\n",
      "training score 0.7727272727272727 testing score 0.6666666666666666 random state 42\n",
      "training score 0.7857142857142857 testing score 0.6410256410256411 random state 43\n",
      "training score 0.7532467532467533 testing score 0.7692307692307693 random state 44\n",
      "training score 0.7532467532467533 testing score 0.6923076923076923 random state 45\n",
      "training score 0.7597402597402597 testing score 0.6410256410256411 random state 46\n",
      "training score 0.7857142857142857 testing score 0.5641025641025641 random state 47\n",
      "training score 0.7922077922077922 testing score 0.6153846153846154 random state 48\n",
      "training score 0.7727272727272727 testing score 0.717948717948718 random state 49\n",
      "training score 0.7857142857142857 testing score 0.5641025641025641 random state 50\n",
      "training score 0.7402597402597403 testing score 0.7435897435897436 random state 51\n",
      "training score 0.7792207792207793 testing score 0.7435897435897436 random state 52\n",
      "training score 0.7727272727272727 testing score 0.5641025641025641 random state 53\n",
      "training score 0.7662337662337663 testing score 0.46153846153846156 random state 54\n",
      "training score 0.7662337662337663 testing score 0.6153846153846154 random state 55\n",
      "training score 0.7532467532467533 testing score 0.5641025641025641 random state 56\n",
      "training score 0.7727272727272727 testing score 0.6923076923076923 random state 57\n",
      "training score 0.7857142857142857 testing score 0.5384615384615384 random state 58\n",
      "training score 0.7597402597402597 testing score 0.5897435897435898 random state 59\n",
      "training score 0.7792207792207793 testing score 0.717948717948718 random state 60\n",
      "training score 0.7792207792207793 testing score 0.6923076923076923 random state 61\n",
      "training score 0.7792207792207793 testing score 0.7435897435897436 random state 62\n",
      "training score 0.7467532467532467 testing score 0.5641025641025641 random state 63\n",
      "training score 0.7532467532467533 testing score 0.7435897435897436 random state 64\n",
      "training score 0.7597402597402597 testing score 0.7435897435897436 random state 65\n",
      "training score 0.7727272727272727 testing score 0.5897435897435898 random state 66\n",
      "training score 0.8051948051948052 testing score 0.6666666666666666 random state 67\n",
      "training score 0.7727272727272727 testing score 0.6153846153846154 random state 68\n",
      "training score 0.7987012987012987 testing score 0.717948717948718 random state 69\n",
      "training score 0.7727272727272727 testing score 0.6666666666666666 random state 70\n",
      "training score 0.7662337662337663 testing score 0.6153846153846154 random state 71\n",
      "training score 0.7662337662337663 testing score 0.6666666666666666 random state 72\n",
      "training score 0.7987012987012987 testing score 0.6410256410256411 random state 73\n",
      "training score 0.7662337662337663 testing score 0.6410256410256411 random state 74\n",
      "training score 0.7857142857142857 testing score 0.5897435897435898 random state 75\n",
      "training score 0.7597402597402597 testing score 0.7692307692307693 random state 76\n",
      "training score 0.7922077922077922 testing score 0.6666666666666666 random state 77\n",
      "training score 0.7727272727272727 testing score 0.5897435897435898 random state 78\n",
      "training score 0.7662337662337663 testing score 0.7435897435897436 random state 79\n",
      "training score 0.7402597402597403 testing score 0.7692307692307693 random state 80\n",
      "training score 0.7467532467532467 testing score 0.6153846153846154 random state 81\n",
      "training score 0.7532467532467533 testing score 0.6153846153846154 random state 82\n",
      "training score 0.7662337662337663 testing score 0.6153846153846154 random state 83\n",
      "training score 0.8051948051948052 testing score 0.5897435897435898 random state 84\n",
      "training score 0.7792207792207793 testing score 0.6153846153846154 random state 85\n",
      "training score 0.7727272727272727 testing score 0.6666666666666666 random state 86\n",
      "training score 0.7337662337662337 testing score 0.8717948717948718 random state 87\n",
      "training score 0.7532467532467533 testing score 0.6923076923076923 random state 88\n",
      "training score 0.7727272727272727 testing score 0.6153846153846154 random state 89\n",
      "training score 0.7532467532467533 testing score 0.7435897435897436 random state 90\n",
      "training score 0.7792207792207793 testing score 0.5641025641025641 random state 91\n",
      "training score 0.7597402597402597 testing score 0.6666666666666666 random state 92\n",
      "training score 0.7857142857142857 testing score 0.6923076923076923 random state 93\n",
      "training score 0.7727272727272727 testing score 0.6410256410256411 random state 94\n",
      "training score 0.7662337662337663 testing score 0.6153846153846154 random state 95\n",
      "training score 0.7597402597402597 testing score 0.717948717948718 random state 96\n",
      "training score 0.7987012987012987 testing score 0.6153846153846154 random state 97\n",
      "training score 0.7792207792207793 testing score 0.6666666666666666 random state 98\n",
      "training score 0.7597402597402597 testing score 0.6923076923076923 random state 99\n",
      "training score 0.7662337662337663 testing score 0.7435897435897436 random state 100\n",
      "training score 0.7597402597402597 testing score 0.6666666666666666 random state 101\n",
      "training score 0.7922077922077922 testing score 0.5384615384615384 random state 102\n",
      "training score 0.7857142857142857 testing score 0.7692307692307693 random state 103\n",
      "training score 0.7532467532467533 testing score 0.5641025641025641 random state 104\n",
      "training score 0.7662337662337663 testing score 0.5897435897435898 random state 105\n",
      "training score 0.7597402597402597 testing score 0.717948717948718 random state 106\n",
      "training score 0.7402597402597403 testing score 0.7948717948717948 random state 107\n",
      "training score 0.8051948051948052 testing score 0.6666666666666666 random state 108\n",
      "training score 0.7857142857142857 testing score 0.6923076923076923 random state 109\n",
      "training score 0.7792207792207793 testing score 0.6666666666666666 random state 110\n",
      "training score 0.7467532467532467 testing score 0.7692307692307693 random state 111\n",
      "training score 0.7727272727272727 testing score 0.5384615384615384 random state 112\n",
      "training score 0.7922077922077922 testing score 0.6923076923076923 random state 113\n",
      "training score 0.7597402597402597 testing score 0.717948717948718 random state 114\n",
      "training score 0.7792207792207793 testing score 0.6923076923076923 random state 115\n",
      "training score 0.7792207792207793 testing score 0.7435897435897436 random state 116\n",
      "training score 0.7922077922077922 testing score 0.6410256410256411 random state 117\n",
      "training score 0.7467532467532467 testing score 0.6923076923076923 random state 118\n",
      "training score 0.7727272727272727 testing score 0.7435897435897436 random state 119\n",
      "training score 0.7727272727272727 testing score 0.6666666666666666 random state 120\n",
      "training score 0.7467532467532467 testing score 0.6923076923076923 random state 121\n",
      "training score 0.7727272727272727 testing score 0.6923076923076923 random state 122\n",
      "training score 0.7727272727272727 testing score 0.5897435897435898 random state 123\n",
      "training score 0.7987012987012987 testing score 0.5641025641025641 random state 124\n",
      "training score 0.7727272727272727 testing score 0.6923076923076923 random state 125\n",
      "training score 0.7922077922077922 testing score 0.6153846153846154 random state 126\n",
      "training score 0.7597402597402597 testing score 0.6666666666666666 random state 127\n",
      "training score 0.7922077922077922 testing score 0.5128205128205128 random state 128\n",
      "training score 0.7857142857142857 testing score 0.5897435897435898 random state 129\n",
      "training score 0.7727272727272727 testing score 0.6666666666666666 random state 130\n",
      "training score 0.7792207792207793 testing score 0.6923076923076923 random state 131\n",
      "training score 0.7337662337662337 testing score 0.7435897435897436 random state 132\n",
      "training score 0.7337662337662337 testing score 0.7692307692307693 random state 133\n",
      "training score 0.7727272727272727 testing score 0.5897435897435898 random state 134\n",
      "training score 0.7532467532467533 testing score 0.6923076923076923 random state 135\n",
      "training score 0.7662337662337663 testing score 0.7435897435897436 random state 136\n",
      "training score 0.7792207792207793 testing score 0.6153846153846154 random state 137\n",
      "training score 0.7857142857142857 testing score 0.6410256410256411 random state 138\n",
      "training score 0.7922077922077922 testing score 0.6410256410256411 random state 139\n",
      "training score 0.7792207792207793 testing score 0.6410256410256411 random state 140\n",
      "training score 0.7337662337662337 testing score 0.717948717948718 random state 141\n",
      "training score 0.7922077922077922 testing score 0.6410256410256411 random state 142\n",
      "training score 0.7792207792207793 testing score 0.7948717948717948 random state 143\n",
      "training score 0.7857142857142857 testing score 0.6410256410256411 random state 144\n",
      "training score 0.7727272727272727 testing score 0.6410256410256411 random state 145\n",
      "training score 0.7597402597402597 testing score 0.7692307692307693 random state 146\n",
      "training score 0.7922077922077922 testing score 0.6410256410256411 random state 147\n",
      "training score 0.7402597402597403 testing score 0.7948717948717948 random state 148\n",
      "training score 0.7467532467532467 testing score 0.7692307692307693 random state 149\n",
      "training score 0.7727272727272727 testing score 0.6923076923076923 random state 150\n",
      "training score 0.7532467532467533 testing score 0.7692307692307693 random state 151\n",
      "training score 0.7597402597402597 testing score 0.6666666666666666 random state 152\n",
      "training score 0.7597402597402597 testing score 0.7435897435897436 random state 153\n",
      "training score 0.7597402597402597 testing score 0.7435897435897436 random state 154\n",
      "training score 0.7597402597402597 testing score 0.6153846153846154 random state 155\n",
      "training score 0.7922077922077922 testing score 0.6923076923076923 random state 156\n",
      "training score 0.7662337662337663 testing score 0.6153846153846154 random state 157\n",
      "training score 0.7792207792207793 testing score 0.6666666666666666 random state 158\n",
      "training score 0.7792207792207793 testing score 0.5897435897435898 random state 159\n",
      "training score 0.7792207792207793 testing score 0.6666666666666666 random state 160\n",
      "training score 0.7987012987012987 testing score 0.5641025641025641 random state 161\n",
      "training score 0.7857142857142857 testing score 0.6923076923076923 random state 162\n",
      "training score 0.7532467532467533 testing score 0.6923076923076923 random state 163\n",
      "training score 0.7662337662337663 testing score 0.6666666666666666 random state 164\n",
      "training score 0.7467532467532467 testing score 0.6666666666666666 random state 165\n",
      "training score 0.7857142857142857 testing score 0.6153846153846154 random state 166\n",
      "training score 0.7922077922077922 testing score 0.7435897435897436 random state 167\n",
      "training score 0.7857142857142857 testing score 0.6666666666666666 random state 168\n",
      "training score 0.7402597402597403 testing score 0.7435897435897436 random state 169\n",
      "training score 0.7727272727272727 testing score 0.5897435897435898 random state 170\n",
      "training score 0.7532467532467533 testing score 0.6666666666666666 random state 171\n",
      "training score 0.7792207792207793 testing score 0.717948717948718 random state 172\n",
      "training score 0.8051948051948052 testing score 0.5897435897435898 random state 173\n",
      "training score 0.7597402597402597 testing score 0.7435897435897436 random state 174\n",
      "training score 0.7792207792207793 testing score 0.5641025641025641 random state 175\n",
      "training score 0.7662337662337663 testing score 0.8205128205128205 random state 176\n",
      "training score 0.7857142857142857 testing score 0.7948717948717948 random state 177\n",
      "training score 0.7987012987012987 testing score 0.5897435897435898 random state 178\n",
      "training score 0.7727272727272727 testing score 0.6923076923076923 random state 179\n",
      "training score 0.7662337662337663 testing score 0.6666666666666666 random state 180\n",
      "training score 0.7532467532467533 testing score 0.6153846153846154 random state 181\n",
      "training score 0.7662337662337663 testing score 0.6410256410256411 random state 182\n",
      "training score 0.7987012987012987 testing score 0.6923076923076923 random state 183\n",
      "training score 0.7727272727272727 testing score 0.6666666666666666 random state 184\n",
      "training score 0.7337662337662337 testing score 0.7692307692307693 random state 185\n",
      "training score 0.7662337662337663 testing score 0.6153846153846154 random state 186\n",
      "training score 0.7727272727272727 testing score 0.5641025641025641 random state 187\n",
      "training score 0.7792207792207793 testing score 0.6410256410256411 random state 188\n",
      "training score 0.7792207792207793 testing score 0.6153846153846154 random state 189\n",
      "training score 0.7662337662337663 testing score 0.717948717948718 random state 190\n",
      "training score 0.7922077922077922 testing score 0.5641025641025641 random state 191\n",
      "training score 0.7532467532467533 testing score 0.6153846153846154 random state 192\n",
      "training score 0.7467532467532467 testing score 0.717948717948718 random state 193\n",
      "training score 0.7987012987012987 testing score 0.6410256410256411 random state 194\n",
      "training score 0.7857142857142857 testing score 0.7435897435897436 random state 195\n",
      "training score 0.7857142857142857 testing score 0.6666666666666666 random state 196\n",
      "training score 0.7792207792207793 testing score 0.6153846153846154 random state 197\n",
      "training score 0.7467532467532467 testing score 0.7948717948717948 random state 198\n",
      "training score 0.7727272727272727 testing score 0.717948717948718 random state 199\n",
      "training score 0.7857142857142857 testing score 0.6153846153846154 random state 200\n",
      "training score 0.7792207792207793 testing score 0.717948717948718 random state 201\n",
      "training score 0.7337662337662337 testing score 0.8205128205128205 random state 202\n",
      "training score 0.7792207792207793 testing score 0.6410256410256411 random state 203\n",
      "training score 0.7727272727272727 testing score 0.6923076923076923 random state 204\n",
      "training score 0.7922077922077922 testing score 0.6153846153846154 random state 205\n",
      "training score 0.7662337662337663 testing score 0.717948717948718 random state 206\n",
      "training score 0.8116883116883117 testing score 0.5641025641025641 random state 207\n",
      "training score 0.7597402597402597 testing score 0.6666666666666666 random state 208\n",
      "training score 0.7987012987012987 testing score 0.6410256410256411 random state 209\n",
      "training score 0.7792207792207793 testing score 0.6923076923076923 random state 210\n",
      "training score 0.7792207792207793 testing score 0.7692307692307693 random state 211\n",
      "training score 0.7532467532467533 testing score 0.6666666666666666 random state 212\n",
      "training score 0.7857142857142857 testing score 0.6923076923076923 random state 213\n",
      "training score 0.7857142857142857 testing score 0.6666666666666666 random state 214\n",
      "training score 0.7662337662337663 testing score 0.6153846153846154 random state 215\n",
      "training score 0.7597402597402597 testing score 0.6153846153846154 random state 216\n",
      "training score 0.7922077922077922 testing score 0.6153846153846154 random state 217\n",
      "training score 0.7467532467532467 testing score 0.7435897435897436 random state 218\n",
      "training score 0.8116883116883117 testing score 0.6666666666666666 random state 219\n",
      "training score 0.7792207792207793 testing score 0.7692307692307693 random state 220\n",
      "training score 0.7922077922077922 testing score 0.6153846153846154 random state 221\n",
      "training score 0.7857142857142857 testing score 0.5897435897435898 random state 222\n",
      "training score 0.7467532467532467 testing score 0.8461538461538461 random state 223\n",
      "training score 0.7662337662337663 testing score 0.717948717948718 random state 224\n",
      "training score 0.7662337662337663 testing score 0.6923076923076923 random state 225\n",
      "training score 0.7727272727272727 testing score 0.5897435897435898 random state 226\n",
      "training score 0.7792207792207793 testing score 0.7435897435897436 random state 227\n",
      "training score 0.7727272727272727 testing score 0.5641025641025641 random state 228\n",
      "training score 0.7532467532467533 testing score 0.7435897435897436 random state 229\n",
      "training score 0.7857142857142857 testing score 0.5897435897435898 random state 230\n",
      "training score 0.7532467532467533 testing score 0.717948717948718 random state 231\n",
      "training score 0.7662337662337663 testing score 0.6153846153846154 random state 232\n",
      "training score 0.7727272727272727 testing score 0.6153846153846154 random state 233\n",
      "training score 0.7597402597402597 testing score 0.7692307692307693 random state 234\n",
      "training score 0.7662337662337663 testing score 0.6923076923076923 random state 235\n",
      "training score 0.7857142857142857 testing score 0.6153846153846154 random state 236\n",
      "training score 0.7467532467532467 testing score 0.8461538461538461 random state 237\n",
      "training score 0.7792207792207793 testing score 0.717948717948718 random state 238\n",
      "training score 0.7532467532467533 testing score 0.7692307692307693 random state 239\n",
      "training score 0.7532467532467533 testing score 0.6410256410256411 random state 240\n",
      "training score 0.7597402597402597 testing score 0.6410256410256411 random state 241\n",
      "training score 0.7727272727272727 testing score 0.5128205128205128 random state 242\n",
      "training score 0.7337662337662337 testing score 0.6923076923076923 random state 243\n",
      "training score 0.7662337662337663 testing score 0.6410256410256411 random state 244\n",
      "training score 0.7597402597402597 testing score 0.8205128205128205 random state 245\n",
      "training score 0.7402597402597403 testing score 0.717948717948718 random state 246\n",
      "training score 0.7792207792207793 testing score 0.6923076923076923 random state 247\n",
      "training score 0.7597402597402597 testing score 0.717948717948718 random state 248\n",
      "training score 0.7987012987012987 testing score 0.6410256410256411 random state 249\n",
      "training score 0.7792207792207793 testing score 0.5641025641025641 random state 250\n",
      "training score 0.7987012987012987 testing score 0.5384615384615384 random state 251\n",
      "training score 0.7402597402597403 testing score 0.7948717948717948 random state 252\n",
      "training score 0.7922077922077922 testing score 0.5897435897435898 random state 253\n",
      "training score 0.7922077922077922 testing score 0.5384615384615384 random state 254\n",
      "training score 0.7857142857142857 testing score 0.5641025641025641 random state 255\n",
      "training score 0.7662337662337663 testing score 0.717948717948718 random state 256\n",
      "training score 0.7532467532467533 testing score 0.717948717948718 random state 257\n",
      "training score 0.7857142857142857 testing score 0.6153846153846154 random state 258\n",
      "training score 0.7662337662337663 testing score 0.6410256410256411 random state 259\n",
      "training score 0.7402597402597403 testing score 0.6923076923076923 random state 260\n",
      "training score 0.7727272727272727 testing score 0.6923076923076923 random state 261\n",
      "training score 0.7922077922077922 testing score 0.5897435897435898 random state 262\n",
      "training score 0.7597402597402597 testing score 0.6666666666666666 random state 263\n",
      "training score 0.7597402597402597 testing score 0.6153846153846154 random state 264\n",
      "training score 0.7857142857142857 testing score 0.5641025641025641 random state 265\n",
      "training score 0.7792207792207793 testing score 0.6410256410256411 random state 266\n",
      "training score 0.7662337662337663 testing score 0.6923076923076923 random state 267\n",
      "training score 0.7857142857142857 testing score 0.5641025641025641 random state 268\n",
      "training score 0.7792207792207793 testing score 0.6410256410256411 random state 269\n",
      "training score 0.7857142857142857 testing score 0.6666666666666666 random state 270\n",
      "training score 0.8051948051948052 testing score 0.5641025641025641 random state 271\n",
      "training score 0.7857142857142857 testing score 0.6153846153846154 random state 272\n",
      "training score 0.7987012987012987 testing score 0.6410256410256411 random state 273\n",
      "training score 0.7662337662337663 testing score 0.5897435897435898 random state 274\n",
      "training score 0.7402597402597403 testing score 0.6666666666666666 random state 275\n",
      "training score 0.7662337662337663 testing score 0.6153846153846154 random state 276\n",
      "training score 0.7727272727272727 testing score 0.5641025641025641 random state 277\n",
      "training score 0.7857142857142857 testing score 0.6923076923076923 random state 278\n",
      "training score 0.7532467532467533 testing score 0.6923076923076923 random state 279\n",
      "training score 0.7662337662337663 testing score 0.717948717948718 random state 280\n",
      "training score 0.7792207792207793 testing score 0.6410256410256411 random state 281\n",
      "training score 0.7792207792207793 testing score 0.7692307692307693 random state 282\n",
      "training score 0.7987012987012987 testing score 0.5641025641025641 random state 283\n",
      "training score 0.7597402597402597 testing score 0.6666666666666666 random state 284\n",
      "training score 0.7727272727272727 testing score 0.5641025641025641 random state 285\n",
      "training score 0.7532467532467533 testing score 0.6923076923076923 random state 286\n",
      "training score 0.7597402597402597 testing score 0.7692307692307693 random state 287\n",
      "training score 0.7727272727272727 testing score 0.6923076923076923 random state 288\n",
      "training score 0.7922077922077922 testing score 0.6923076923076923 random state 289\n",
      "training score 0.7857142857142857 testing score 0.7692307692307693 random state 290\n",
      "training score 0.7922077922077922 testing score 0.6410256410256411 random state 291\n",
      "training score 0.7727272727272727 testing score 0.6666666666666666 random state 292\n",
      "training score 0.7727272727272727 testing score 0.6410256410256411 random state 293\n",
      "training score 0.8051948051948052 testing score 0.5897435897435898 random state 294\n",
      "training score 0.7402597402597403 testing score 0.7435897435897436 random state 295\n",
      "training score 0.7597402597402597 testing score 0.717948717948718 random state 296\n",
      "training score 0.7727272727272727 testing score 0.6410256410256411 random state 297\n",
      "training score 0.7532467532467533 testing score 0.7948717948717948 random state 298\n",
      "training score 0.7857142857142857 testing score 0.6410256410256411 random state 299\n",
      "training score 0.7467532467532467 testing score 0.6666666666666666 random state 300\n",
      "training score 0.7857142857142857 testing score 0.7435897435897436 random state 301\n",
      "training score 0.7922077922077922 testing score 0.5897435897435898 random state 302\n",
      "training score 0.7987012987012987 testing score 0.5897435897435898 random state 303\n",
      "training score 0.7597402597402597 testing score 0.6923076923076923 random state 304\n",
      "training score 0.7532467532467533 testing score 0.6666666666666666 random state 305\n",
      "training score 0.7727272727272727 testing score 0.717948717948718 random state 306\n",
      "training score 0.7662337662337663 testing score 0.6666666666666666 random state 307\n",
      "training score 0.7662337662337663 testing score 0.7435897435897436 random state 308\n",
      "training score 0.7727272727272727 testing score 0.6410256410256411 random state 309\n",
      "training score 0.7727272727272727 testing score 0.5641025641025641 random state 310\n",
      "training score 0.7662337662337663 testing score 0.5897435897435898 random state 311\n",
      "training score 0.7792207792207793 testing score 0.5897435897435898 random state 312\n",
      "training score 0.7792207792207793 testing score 0.6410256410256411 random state 313\n",
      "training score 0.7727272727272727 testing score 0.5897435897435898 random state 314\n",
      "training score 0.7857142857142857 testing score 0.5897435897435898 random state 315\n",
      "training score 0.7597402597402597 testing score 0.6666666666666666 random state 316\n",
      "training score 0.7597402597402597 testing score 0.7435897435897436 random state 317\n",
      "training score 0.7987012987012987 testing score 0.5641025641025641 random state 318\n",
      "training score 0.7792207792207793 testing score 0.7435897435897436 random state 319\n",
      "training score 0.7727272727272727 testing score 0.7435897435897436 random state 320\n",
      "training score 0.7792207792207793 testing score 0.5897435897435898 random state 321\n",
      "training score 0.7792207792207793 testing score 0.5641025641025641 random state 322\n",
      "training score 0.8116883116883117 testing score 0.6410256410256411 random state 323\n",
      "training score 0.7662337662337663 testing score 0.717948717948718 random state 324\n",
      "training score 0.7857142857142857 testing score 0.6153846153846154 random state 325\n",
      "training score 0.7727272727272727 testing score 0.6666666666666666 random state 326\n",
      "training score 0.7987012987012987 testing score 0.717948717948718 random state 327\n",
      "training score 0.7662337662337663 testing score 0.717948717948718 random state 328\n",
      "training score 0.7532467532467533 testing score 0.6666666666666666 random state 329\n",
      "training score 0.7662337662337663 testing score 0.6410256410256411 random state 330\n",
      "training score 0.7532467532467533 testing score 0.717948717948718 random state 331\n",
      "training score 0.7402597402597403 testing score 0.717948717948718 random state 332\n",
      "training score 0.7727272727272727 testing score 0.7435897435897436 random state 333\n",
      "training score 0.7662337662337663 testing score 0.5897435897435898 random state 334\n",
      "training score 0.7532467532467533 testing score 0.7435897435897436 random state 335\n",
      "training score 0.7662337662337663 testing score 0.7435897435897436 random state 336\n",
      "training score 0.7987012987012987 testing score 0.6410256410256411 random state 337\n",
      "training score 0.7922077922077922 testing score 0.5641025641025641 random state 338\n",
      "training score 0.7857142857142857 testing score 0.6923076923076923 random state 339\n",
      "training score 0.7727272727272727 testing score 0.6410256410256411 random state 340\n",
      "training score 0.7597402597402597 testing score 0.6923076923076923 random state 341\n",
      "training score 0.7597402597402597 testing score 0.6923076923076923 random state 342\n",
      "training score 0.7662337662337663 testing score 0.7435897435897436 random state 343\n",
      "training score 0.7662337662337663 testing score 0.6153846153846154 random state 344\n",
      "training score 0.7792207792207793 testing score 0.7435897435897436 random state 345\n",
      "training score 0.7467532467532467 testing score 0.7435897435897436 random state 346\n",
      "training score 0.7662337662337663 testing score 0.6410256410256411 random state 347\n",
      "training score 0.7727272727272727 testing score 0.717948717948718 random state 348\n",
      "training score 0.7597402597402597 testing score 0.717948717948718 random state 349\n",
      "training score 0.7727272727272727 testing score 0.6666666666666666 random state 350\n",
      "training score 0.7662337662337663 testing score 0.717948717948718 random state 351\n",
      "training score 0.7467532467532467 testing score 0.717948717948718 random state 352\n",
      "training score 0.7792207792207793 testing score 0.6410256410256411 random state 353\n",
      "training score 0.7532467532467533 testing score 0.6923076923076923 random state 354\n",
      "training score 0.7922077922077922 testing score 0.717948717948718 random state 355\n",
      "training score 0.7792207792207793 testing score 0.6666666666666666 random state 356\n",
      "training score 0.7402597402597403 testing score 0.7692307692307693 random state 357\n",
      "training score 0.7792207792207793 testing score 0.6410256410256411 random state 358\n",
      "training score 0.7857142857142857 testing score 0.5897435897435898 random state 359\n",
      "training score 0.7662337662337663 testing score 0.6666666666666666 random state 360\n",
      "training score 0.7402597402597403 testing score 0.717948717948718 random state 361\n",
      "training score 0.7792207792207793 testing score 0.6410256410256411 random state 362\n",
      "training score 0.7597402597402597 testing score 0.8205128205128205 random state 363\n",
      "training score 0.8116883116883117 testing score 0.5641025641025641 random state 364\n",
      "training score 0.7337662337662337 testing score 0.7948717948717948 random state 365\n",
      "training score 0.7857142857142857 testing score 0.5641025641025641 random state 366\n",
      "training score 0.7727272727272727 testing score 0.717948717948718 random state 367\n",
      "training score 0.7922077922077922 testing score 0.5641025641025641 random state 368\n",
      "training score 0.7987012987012987 testing score 0.6410256410256411 random state 369\n",
      "training score 0.7727272727272727 testing score 0.717948717948718 random state 370\n",
      "training score 0.7727272727272727 testing score 0.6666666666666666 random state 371\n",
      "training score 0.7987012987012987 testing score 0.5384615384615384 random state 372\n",
      "training score 0.7142857142857143 testing score 0.7692307692307693 random state 373\n",
      "training score 0.7597402597402597 testing score 0.6923076923076923 random state 374\n",
      "training score 0.7792207792207793 testing score 0.6153846153846154 random state 375\n",
      "training score 0.7857142857142857 testing score 0.5897435897435898 random state 376\n",
      "training score 0.7467532467532467 testing score 0.6666666666666666 random state 377\n",
      "training score 0.7597402597402597 testing score 0.6410256410256411 random state 378\n",
      "training score 0.7987012987012987 testing score 0.6153846153846154 random state 379\n",
      "training score 0.7792207792207793 testing score 0.6923076923076923 random state 380\n",
      "training score 0.7402597402597403 testing score 0.8461538461538461 random state 381\n",
      "training score 0.7662337662337663 testing score 0.6923076923076923 random state 382\n",
      "training score 0.7337662337662337 testing score 0.7692307692307693 random state 383\n",
      "training score 0.7727272727272727 testing score 0.717948717948718 random state 384\n",
      "training score 0.7857142857142857 testing score 0.6666666666666666 random state 385\n",
      "training score 0.7272727272727273 testing score 0.717948717948718 random state 386\n",
      "training score 0.7337662337662337 testing score 0.7692307692307693 random state 387\n",
      "training score 0.7532467532467533 testing score 0.6923076923076923 random state 388\n",
      "training score 0.7662337662337663 testing score 0.6923076923076923 random state 389\n",
      "training score 0.7727272727272727 testing score 0.6410256410256411 random state 390\n",
      "training score 0.7532467532467533 testing score 0.5641025641025641 random state 391\n",
      "training score 0.7597402597402597 testing score 0.6666666666666666 random state 392\n",
      "training score 0.7792207792207793 testing score 0.717948717948718 random state 393\n",
      "training score 0.8051948051948052 testing score 0.6410256410256411 random state 394\n",
      "training score 0.7597402597402597 testing score 0.7435897435897436 random state 395\n",
      "training score 0.7792207792207793 testing score 0.5641025641025641 random state 396\n",
      "training score 0.7857142857142857 testing score 0.5897435897435898 random state 397\n",
      "training score 0.7467532467532467 testing score 0.7435897435897436 random state 398\n",
      "training score 0.7727272727272727 testing score 0.6666666666666666 random state 399\n",
      "training score 0.7337662337662337 testing score 0.7435897435897436 random state 400\n",
      "training score 0.7597402597402597 testing score 0.7692307692307693 random state 401\n",
      "training score 0.7532467532467533 testing score 0.717948717948718 random state 402\n",
      "training score 0.7337662337662337 testing score 0.8717948717948718 random state 403\n",
      "training score 0.7662337662337663 testing score 0.6666666666666666 random state 404\n",
      "training score 0.7987012987012987 testing score 0.5641025641025641 random state 405\n",
      "training score 0.7727272727272727 testing score 0.6666666666666666 random state 406\n",
      "training score 0.7662337662337663 testing score 0.6666666666666666 random state 407\n",
      "training score 0.8051948051948052 testing score 0.5128205128205128 random state 408\n",
      "training score 0.7792207792207793 testing score 0.6410256410256411 random state 409\n",
      "training score 0.7922077922077922 testing score 0.6923076923076923 random state 410\n",
      "training score 0.7727272727272727 testing score 0.717948717948718 random state 411\n",
      "training score 0.7662337662337663 testing score 0.6666666666666666 random state 412\n",
      "training score 0.7597402597402597 testing score 0.5897435897435898 random state 413\n",
      "training score 0.7727272727272727 testing score 0.6410256410256411 random state 414\n",
      "training score 0.7857142857142857 testing score 0.6666666666666666 random state 415\n",
      "training score 0.8051948051948052 testing score 0.6153846153846154 random state 416\n",
      "training score 0.7857142857142857 testing score 0.5384615384615384 random state 417\n",
      "training score 0.7857142857142857 testing score 0.6923076923076923 random state 418\n",
      "training score 0.7402597402597403 testing score 0.7435897435897436 random state 419\n",
      "training score 0.7662337662337663 testing score 0.7692307692307693 random state 420\n",
      "training score 0.7857142857142857 testing score 0.6153846153846154 random state 421\n",
      "training score 0.7662337662337663 testing score 0.6153846153846154 random state 422\n",
      "training score 0.7662337662337663 testing score 0.717948717948718 random state 423\n",
      "training score 0.7532467532467533 testing score 0.717948717948718 random state 424\n",
      "training score 0.7727272727272727 testing score 0.5128205128205128 random state 425\n",
      "training score 0.7727272727272727 testing score 0.6923076923076923 random state 426\n",
      "training score 0.7727272727272727 testing score 0.6410256410256411 random state 427\n",
      "training score 0.7662337662337663 testing score 0.6666666666666666 random state 428\n",
      "training score 0.7597402597402597 testing score 0.6923076923076923 random state 429\n",
      "training score 0.7662337662337663 testing score 0.6410256410256411 random state 430\n",
      "training score 0.7922077922077922 testing score 0.717948717948718 random state 431\n",
      "training score 0.7857142857142857 testing score 0.6923076923076923 random state 432\n",
      "training score 0.7597402597402597 testing score 0.7435897435897436 random state 433\n",
      "training score 0.7467532467532467 testing score 0.7435897435897436 random state 434\n",
      "training score 0.7857142857142857 testing score 0.6666666666666666 random state 435\n",
      "training score 0.7857142857142857 testing score 0.6153846153846154 random state 436\n",
      "training score 0.8051948051948052 testing score 0.5897435897435898 random state 437\n",
      "training score 0.7402597402597403 testing score 0.6923076923076923 random state 438\n",
      "training score 0.7792207792207793 testing score 0.5641025641025641 random state 439\n",
      "training score 0.7792207792207793 testing score 0.717948717948718 random state 440\n",
      "training score 0.7662337662337663 testing score 0.6666666666666666 random state 441\n",
      "training score 0.7402597402597403 testing score 0.7435897435897436 random state 442\n",
      "training score 0.7662337662337663 testing score 0.6923076923076923 random state 443\n",
      "training score 0.7402597402597403 testing score 0.6666666666666666 random state 444\n",
      "training score 0.7597402597402597 testing score 0.8717948717948718 random state 445\n",
      "training score 0.7662337662337663 testing score 0.5897435897435898 random state 446\n",
      "training score 0.7727272727272727 testing score 0.6153846153846154 random state 447\n",
      "training score 0.7402597402597403 testing score 0.6153846153846154 random state 448\n",
      "training score 0.7792207792207793 testing score 0.717948717948718 random state 449\n",
      "training score 0.7662337662337663 testing score 0.7435897435897436 random state 450\n",
      "training score 0.7792207792207793 testing score 0.717948717948718 random state 451\n",
      "training score 0.7857142857142857 testing score 0.5641025641025641 random state 452\n",
      "training score 0.8051948051948052 testing score 0.5897435897435898 random state 453\n",
      "training score 0.7662337662337663 testing score 0.6923076923076923 random state 454\n",
      "training score 0.7727272727272727 testing score 0.7435897435897436 random state 455\n",
      "training score 0.7857142857142857 testing score 0.6153846153846154 random state 456\n",
      "training score 0.7857142857142857 testing score 0.5641025641025641 random state 457\n",
      "training score 0.7337662337662337 testing score 0.6666666666666666 random state 458\n",
      "training score 0.7467532467532467 testing score 0.717948717948718 random state 459\n",
      "training score 0.7922077922077922 testing score 0.5384615384615384 random state 460\n",
      "training score 0.7727272727272727 testing score 0.5897435897435898 random state 461\n",
      "training score 0.7792207792207793 testing score 0.6666666666666666 random state 462\n",
      "training score 0.7857142857142857 testing score 0.6410256410256411 random state 463\n",
      "training score 0.7662337662337663 testing score 0.5897435897435898 random state 464\n",
      "training score 0.7922077922077922 testing score 0.6153846153846154 random state 465\n",
      "training score 0.7857142857142857 testing score 0.6923076923076923 random state 466\n",
      "training score 0.7792207792207793 testing score 0.5384615384615384 random state 467\n",
      "training score 0.7922077922077922 testing score 0.6666666666666666 random state 468\n",
      "training score 0.7727272727272727 testing score 0.717948717948718 random state 469\n",
      "training score 0.7597402597402597 testing score 0.7948717948717948 random state 470\n",
      "training score 0.7532467532467533 testing score 0.6153846153846154 random state 471\n",
      "training score 0.7662337662337663 testing score 0.6666666666666666 random state 472\n",
      "training score 0.7662337662337663 testing score 0.6410256410256411 random state 473\n",
      "training score 0.7467532467532467 testing score 0.7435897435897436 random state 474\n",
      "training score 0.7597402597402597 testing score 0.717948717948718 random state 475\n",
      "training score 0.8051948051948052 testing score 0.6153846153846154 random state 476\n",
      "training score 0.7857142857142857 testing score 0.6410256410256411 random state 477\n",
      "training score 0.7727272727272727 testing score 0.6666666666666666 random state 478\n",
      "training score 0.7597402597402597 testing score 0.7435897435897436 random state 479\n",
      "training score 0.7467532467532467 testing score 0.717948717948718 random state 480\n",
      "training score 0.7792207792207793 testing score 0.5641025641025641 random state 481\n",
      "training score 0.7662337662337663 testing score 0.7948717948717948 random state 482\n",
      "training score 0.7662337662337663 testing score 0.6923076923076923 random state 483\n",
      "training score 0.7662337662337663 testing score 0.7435897435897436 random state 484\n",
      "training score 0.7792207792207793 testing score 0.7948717948717948 random state 485\n",
      "training score 0.7727272727272727 testing score 0.6410256410256411 random state 486\n",
      "training score 0.7662337662337663 testing score 0.6410256410256411 random state 487\n",
      "training score 0.7727272727272727 testing score 0.6410256410256411 random state 488\n",
      "training score 0.7792207792207793 testing score 0.7692307692307693 random state 489\n",
      "training score 0.7597402597402597 testing score 0.717948717948718 random state 490\n",
      "training score 0.7597402597402597 testing score 0.6153846153846154 random state 491\n",
      "training score 0.7857142857142857 testing score 0.7435897435897436 random state 492\n",
      "training score 0.7467532467532467 testing score 0.5641025641025641 random state 493\n",
      "training score 0.7922077922077922 testing score 0.5641025641025641 random state 494\n",
      "training score 0.7857142857142857 testing score 0.6153846153846154 random state 495\n",
      "training score 0.7987012987012987 testing score 0.5641025641025641 random state 496\n",
      "training score 0.7857142857142857 testing score 0.6153846153846154 random state 497\n",
      "training score 0.7922077922077922 testing score 0.6153846153846154 random state 498\n",
      "training score 0.7727272727272727 testing score 0.6153846153846154 random state 499\n",
      "training score 0.7662337662337663 testing score 0.7435897435897436 random state 500\n",
      "training score 0.7662337662337663 testing score 0.6153846153846154 random state 501\n",
      "training score 0.7597402597402597 testing score 0.7692307692307693 random state 502\n",
      "training score 0.7792207792207793 testing score 0.6923076923076923 random state 503\n",
      "training score 0.7467532467532467 testing score 0.6153846153846154 random state 504\n",
      "training score 0.7402597402597403 testing score 0.7435897435897436 random state 505\n",
      "training score 0.7662337662337663 testing score 0.5897435897435898 random state 506\n",
      "training score 0.7857142857142857 testing score 0.7435897435897436 random state 507\n",
      "training score 0.7727272727272727 testing score 0.5897435897435898 random state 508\n",
      "training score 0.7987012987012987 testing score 0.6666666666666666 random state 509\n",
      "training score 0.7727272727272727 testing score 0.6410256410256411 random state 510\n",
      "training score 0.7337662337662337 testing score 0.717948717948718 random state 511\n",
      "training score 0.7857142857142857 testing score 0.6410256410256411 random state 512\n",
      "training score 0.7792207792207793 testing score 0.6410256410256411 random state 513\n",
      "training score 0.7792207792207793 testing score 0.5641025641025641 random state 514\n",
      "training score 0.7727272727272727 testing score 0.6153846153846154 random state 515\n",
      "training score 0.7792207792207793 testing score 0.7435897435897436 random state 516\n",
      "training score 0.7727272727272727 testing score 0.5897435897435898 random state 517\n",
      "training score 0.7727272727272727 testing score 0.8461538461538461 random state 518\n",
      "training score 0.7792207792207793 testing score 0.717948717948718 random state 519\n",
      "training score 0.7792207792207793 testing score 0.6410256410256411 random state 520\n",
      "training score 0.7532467532467533 testing score 0.7435897435897436 random state 521\n",
      "training score 0.7597402597402597 testing score 0.6923076923076923 random state 522\n",
      "training score 0.7857142857142857 testing score 0.6153846153846154 random state 523\n",
      "training score 0.7532467532467533 testing score 0.6923076923076923 random state 524\n",
      "training score 0.7727272727272727 testing score 0.6410256410256411 random state 525\n",
      "training score 0.8051948051948052 testing score 0.717948717948718 random state 526\n",
      "training score 0.7727272727272727 testing score 0.717948717948718 random state 527\n",
      "training score 0.7597402597402597 testing score 0.6410256410256411 random state 528\n",
      "training score 0.7597402597402597 testing score 0.7435897435897436 random state 529\n",
      "training score 0.7727272727272727 testing score 0.6923076923076923 random state 530\n",
      "training score 0.7597402597402597 testing score 0.6923076923076923 random state 531\n",
      "training score 0.7727272727272727 testing score 0.6666666666666666 random state 532\n",
      "training score 0.7922077922077922 testing score 0.6923076923076923 random state 533\n",
      "training score 0.7532467532467533 testing score 0.717948717948718 random state 534\n",
      "training score 0.7857142857142857 testing score 0.5897435897435898 random state 535\n",
      "training score 0.7857142857142857 testing score 0.6923076923076923 random state 536\n",
      "training score 0.7792207792207793 testing score 0.6410256410256411 random state 537\n",
      "training score 0.7662337662337663 testing score 0.6410256410256411 random state 538\n",
      "training score 0.7727272727272727 testing score 0.6410256410256411 random state 539\n",
      "training score 0.7857142857142857 testing score 0.717948717948718 random state 540\n",
      "training score 0.7142857142857143 testing score 0.8717948717948718 random state 541\n",
      "training score 0.7987012987012987 testing score 0.5384615384615384 random state 542\n",
      "training score 0.7857142857142857 testing score 0.5897435897435898 random state 543\n",
      "training score 0.7597402597402597 testing score 0.6410256410256411 random state 544\n",
      "training score 0.7467532467532467 testing score 0.6153846153846154 random state 545\n",
      "training score 0.7597402597402597 testing score 0.6923076923076923 random state 546\n",
      "training score 0.7662337662337663 testing score 0.6923076923076923 random state 547\n",
      "training score 0.8051948051948052 testing score 0.6153846153846154 random state 548\n",
      "training score 0.7662337662337663 testing score 0.6923076923076923 random state 549\n",
      "training score 0.7727272727272727 testing score 0.6666666666666666 random state 550\n",
      "training score 0.7597402597402597 testing score 0.6923076923076923 random state 551\n",
      "training score 0.7727272727272727 testing score 0.8461538461538461 random state 552\n",
      "training score 0.7662337662337663 testing score 0.7692307692307693 random state 553\n",
      "training score 0.7467532467532467 testing score 0.6666666666666666 random state 554\n",
      "training score 0.7857142857142857 testing score 0.5897435897435898 random state 555\n",
      "training score 0.7662337662337663 testing score 0.6666666666666666 random state 556\n",
      "training score 0.7532467532467533 testing score 0.6666666666666666 random state 557\n",
      "training score 0.7857142857142857 testing score 0.6153846153846154 random state 558\n",
      "training score 0.7337662337662337 testing score 0.5384615384615384 random state 559\n",
      "training score 0.7987012987012987 testing score 0.5897435897435898 random state 560\n",
      "training score 0.7532467532467533 testing score 0.717948717948718 random state 561\n",
      "training score 0.7792207792207793 testing score 0.5897435897435898 random state 562\n",
      "training score 0.7597402597402597 testing score 0.6666666666666666 random state 563\n",
      "training score 0.8116883116883117 testing score 0.6410256410256411 random state 564\n",
      "training score 0.7792207792207793 testing score 0.5384615384615384 random state 565\n",
      "training score 0.7727272727272727 testing score 0.6923076923076923 random state 566\n",
      "training score 0.7857142857142857 testing score 0.5897435897435898 random state 567\n",
      "training score 0.7727272727272727 testing score 0.6410256410256411 random state 568\n",
      "training score 0.7792207792207793 testing score 0.6923076923076923 random state 569\n",
      "training score 0.7662337662337663 testing score 0.7435897435897436 random state 570\n",
      "training score 0.7597402597402597 testing score 0.7435897435897436 random state 571\n",
      "training score 0.7532467532467533 testing score 0.7692307692307693 random state 572\n",
      "training score 0.7662337662337663 testing score 0.6410256410256411 random state 573\n",
      "training score 0.7597402597402597 testing score 0.5897435897435898 random state 574\n",
      "training score 0.7532467532467533 testing score 0.6923076923076923 random state 575\n",
      "training score 0.7662337662337663 testing score 0.5897435897435898 random state 576\n",
      "training score 0.7792207792207793 testing score 0.6410256410256411 random state 577\n",
      "training score 0.7792207792207793 testing score 0.717948717948718 random state 578\n",
      "training score 0.7532467532467533 testing score 0.717948717948718 random state 579\n",
      "training score 0.7922077922077922 testing score 0.5897435897435898 random state 580\n",
      "training score 0.7727272727272727 testing score 0.6923076923076923 random state 581\n",
      "training score 0.7532467532467533 testing score 0.6153846153846154 random state 582\n",
      "training score 0.7922077922077922 testing score 0.5641025641025641 random state 583\n",
      "training score 0.7922077922077922 testing score 0.717948717948718 random state 584\n",
      "training score 0.7532467532467533 testing score 0.6666666666666666 random state 585\n",
      "training score 0.7727272727272727 testing score 0.717948717948718 random state 586\n",
      "training score 0.7662337662337663 testing score 0.7435897435897436 random state 587\n",
      "training score 0.7922077922077922 testing score 0.6923076923076923 random state 588\n",
      "training score 0.7727272727272727 testing score 0.6923076923076923 random state 589\n",
      "training score 0.7597402597402597 testing score 0.717948717948718 random state 590\n",
      "training score 0.7727272727272727 testing score 0.6410256410256411 random state 591\n",
      "training score 0.7987012987012987 testing score 0.5897435897435898 random state 592\n",
      "training score 0.7467532467532467 testing score 0.8205128205128205 random state 593\n",
      "training score 0.7727272727272727 testing score 0.6666666666666666 random state 594\n",
      "training score 0.7792207792207793 testing score 0.717948717948718 random state 595\n",
      "training score 0.7597402597402597 testing score 0.6923076923076923 random state 596\n",
      "training score 0.7662337662337663 testing score 0.7692307692307693 random state 597\n",
      "training score 0.7857142857142857 testing score 0.5384615384615384 random state 598\n",
      "training score 0.7662337662337663 testing score 0.6153846153846154 random state 599\n",
      "training score 0.7857142857142857 testing score 0.7435897435897436 random state 600\n",
      "training score 0.7922077922077922 testing score 0.6410256410256411 random state 601\n",
      "training score 0.7662337662337663 testing score 0.7435897435897436 random state 602\n",
      "training score 0.7402597402597403 testing score 0.6410256410256411 random state 603\n",
      "training score 0.7532467532467533 testing score 0.6923076923076923 random state 604\n",
      "training score 0.7532467532467533 testing score 0.6410256410256411 random state 605\n",
      "training score 0.7662337662337663 testing score 0.7435897435897436 random state 606\n",
      "training score 0.7532467532467533 testing score 0.717948717948718 random state 607\n",
      "training score 0.7792207792207793 testing score 0.717948717948718 random state 608\n",
      "training score 0.8051948051948052 testing score 0.6153846153846154 random state 609\n",
      "training score 0.7532467532467533 testing score 0.6666666666666666 random state 610\n",
      "training score 0.7662337662337663 testing score 0.7692307692307693 random state 611\n",
      "training score 0.7597402597402597 testing score 0.6410256410256411 random state 612\n",
      "training score 0.7662337662337663 testing score 0.7948717948717948 random state 613\n",
      "training score 0.7727272727272727 testing score 0.6666666666666666 random state 614\n",
      "training score 0.8051948051948052 testing score 0.6666666666666666 random state 615\n",
      "training score 0.7467532467532467 testing score 0.6923076923076923 random state 616\n",
      "training score 0.7467532467532467 testing score 0.6923076923076923 random state 617\n",
      "training score 0.7597402597402597 testing score 0.6923076923076923 random state 618\n",
      "training score 0.7857142857142857 testing score 0.6410256410256411 random state 619\n",
      "training score 0.7532467532467533 testing score 0.717948717948718 random state 620\n",
      "training score 0.7987012987012987 testing score 0.6410256410256411 random state 621\n",
      "training score 0.7727272727272727 testing score 0.5897435897435898 random state 622\n",
      "training score 0.7597402597402597 testing score 0.717948717948718 random state 623\n",
      "training score 0.7402597402597403 testing score 0.6923076923076923 random state 624\n",
      "training score 0.7987012987012987 testing score 0.6923076923076923 random state 625\n",
      "training score 0.7402597402597403 testing score 0.7435897435897436 random state 626\n",
      "training score 0.7597402597402597 testing score 0.7692307692307693 random state 627\n",
      "training score 0.7662337662337663 testing score 0.6923076923076923 random state 628\n",
      "training score 0.7987012987012987 testing score 0.6153846153846154 random state 629\n",
      "training score 0.7662337662337663 testing score 0.5641025641025641 random state 630\n",
      "training score 0.7792207792207793 testing score 0.5897435897435898 random state 631\n",
      "training score 0.7857142857142857 testing score 0.6666666666666666 random state 632\n",
      "training score 0.7597402597402597 testing score 0.717948717948718 random state 633\n",
      "training score 0.7857142857142857 testing score 0.5384615384615384 random state 634\n",
      "training score 0.7727272727272727 testing score 0.7435897435897436 random state 635\n",
      "training score 0.7857142857142857 testing score 0.5128205128205128 random state 636\n",
      "training score 0.7727272727272727 testing score 0.5897435897435898 random state 637\n",
      "training score 0.7727272727272727 testing score 0.6666666666666666 random state 638\n",
      "training score 0.7727272727272727 testing score 0.6923076923076923 random state 639\n",
      "training score 0.7727272727272727 testing score 0.6410256410256411 random state 640\n",
      "training score 0.7727272727272727 testing score 0.6923076923076923 random state 641\n",
      "training score 0.7662337662337663 testing score 0.717948717948718 random state 642\n",
      "training score 0.7792207792207793 testing score 0.717948717948718 random state 643\n",
      "training score 0.7662337662337663 testing score 0.6410256410256411 random state 644\n",
      "training score 0.7727272727272727 testing score 0.6410256410256411 random state 645\n",
      "training score 0.8181818181818182 testing score 0.5384615384615384 random state 646\n",
      "training score 0.7792207792207793 testing score 0.5897435897435898 random state 647\n",
      "training score 0.7792207792207793 testing score 0.7692307692307693 random state 648\n",
      "training score 0.7272727272727273 testing score 0.8717948717948718 random state 649\n",
      "training score 0.7467532467532467 testing score 0.6666666666666666 random state 650\n",
      "training score 0.8051948051948052 testing score 0.5128205128205128 random state 651\n",
      "training score 0.7532467532467533 testing score 0.7435897435897436 random state 652\n",
      "training score 0.7662337662337663 testing score 0.6923076923076923 random state 653\n",
      "training score 0.7857142857142857 testing score 0.5897435897435898 random state 654\n",
      "training score 0.7402597402597403 testing score 0.7435897435897436 random state 655\n",
      "training score 0.7597402597402597 testing score 0.7435897435897436 random state 656\n",
      "training score 0.7662337662337663 testing score 0.6666666666666666 random state 657\n",
      "training score 0.7922077922077922 testing score 0.6666666666666666 random state 658\n",
      "training score 0.7727272727272727 testing score 0.6923076923076923 random state 659\n",
      "training score 0.7922077922077922 testing score 0.5897435897435898 random state 660\n",
      "training score 0.7402597402597403 testing score 0.7435897435897436 random state 661\n",
      "training score 0.8181818181818182 testing score 0.5128205128205128 random state 662\n",
      "training score 0.7987012987012987 testing score 0.6153846153846154 random state 663\n",
      "training score 0.7662337662337663 testing score 0.717948717948718 random state 664\n",
      "training score 0.7662337662337663 testing score 0.6153846153846154 random state 665\n",
      "training score 0.7662337662337663 testing score 0.5897435897435898 random state 666\n",
      "training score 0.7857142857142857 testing score 0.5128205128205128 random state 667\n",
      "training score 0.7987012987012987 testing score 0.5897435897435898 random state 668\n",
      "training score 0.7597402597402597 testing score 0.6666666666666666 random state 669\n",
      "training score 0.7532467532467533 testing score 0.7435897435897436 random state 670\n",
      "training score 0.7792207792207793 testing score 0.6666666666666666 random state 671\n",
      "training score 0.7402597402597403 testing score 0.5897435897435898 random state 672\n",
      "training score 0.7597402597402597 testing score 0.6410256410256411 random state 673\n",
      "training score 0.7922077922077922 testing score 0.717948717948718 random state 674\n",
      "training score 0.7857142857142857 testing score 0.6410256410256411 random state 675\n",
      "training score 0.7727272727272727 testing score 0.6153846153846154 random state 676\n",
      "training score 0.7662337662337663 testing score 0.6923076923076923 random state 677\n",
      "training score 0.7597402597402597 testing score 0.6666666666666666 random state 678\n",
      "training score 0.7727272727272727 testing score 0.717948717948718 random state 679\n",
      "training score 0.7922077922077922 testing score 0.5384615384615384 random state 680\n",
      "training score 0.7727272727272727 testing score 0.5641025641025641 random state 681\n",
      "training score 0.7467532467532467 testing score 0.7948717948717948 random state 682\n",
      "training score 0.7272727272727273 testing score 0.6923076923076923 random state 683\n",
      "training score 0.7597402597402597 testing score 0.7435897435897436 random state 684\n",
      "training score 0.7857142857142857 testing score 0.5641025641025641 random state 685\n",
      "training score 0.7727272727272727 testing score 0.6410256410256411 random state 686\n",
      "training score 0.7662337662337663 testing score 0.717948717948718 random state 687\n",
      "training score 0.7857142857142857 testing score 0.7948717948717948 random state 688\n",
      "training score 0.7727272727272727 testing score 0.6153846153846154 random state 689\n",
      "training score 0.7792207792207793 testing score 0.5641025641025641 random state 690\n",
      "training score 0.7792207792207793 testing score 0.6923076923076923 random state 691\n",
      "training score 0.7337662337662337 testing score 0.6153846153846154 random state 692\n",
      "training score 0.7597402597402597 testing score 0.6923076923076923 random state 693\n",
      "training score 0.7532467532467533 testing score 0.717948717948718 random state 694\n",
      "training score 0.8116883116883117 testing score 0.5384615384615384 random state 695\n",
      "training score 0.7792207792207793 testing score 0.717948717948718 random state 696\n",
      "training score 0.7727272727272727 testing score 0.5384615384615384 random state 697\n",
      "training score 0.7792207792207793 testing score 0.7948717948717948 random state 698\n",
      "training score 0.7987012987012987 testing score 0.6666666666666666 random state 699\n"
     ]
    }
   ],
   "source": [
    "# maximum accuracy\n",
    "max_accu = 0\n",
    "# best random state value for which max accuracy is achived\n",
    "max_rs = 0\n",
    "for i in range(1,700):\n",
    "    x_train,x_test,y_train,y_test= train_test_split(x,y,test_size =0.20,random_state = i)\n",
    "    knn = KNeighborsClassifier()\n",
    "    knn.fit(x_train,y_train)\n",
    "    y_pred = knn.predict(x_train)\n",
    "    score1 = accuracy_score(y_train,y_pred)\n",
    "    pred = knn.predict(x_test)\n",
    "    score=accuracy_score(y_test,pred)\n",
    "    print('training score',score1,'testing score',score,'random state',i)\n",
    "    if (score and score1) > max_accu:\n",
    "        max_accu = score\n",
    "        max_rs = i\n",
    "        print('Training score',score1,'testing score',score,'random state',i)\n",
    "    \n",
    "\n"
   ]
  },
  {
   "cell_type": "markdown",
   "id": "3b008672",
   "metadata": {},
   "source": [
    "## Train Test Split"
   ]
  },
  {
   "cell_type": "code",
   "execution_count": 95,
   "id": "1c5044a9",
   "metadata": {},
   "outputs": [],
   "source": [
    "#split data into train and test, model will be build on training data and tested on test data\n",
    "x_train,x_test,y_train,y_test = train_test_split(x,y,test_size= 0.20,random_state = 5)\n"
   ]
  },
  {
   "cell_type": "code",
   "execution_count": 84,
   "id": "a199240b",
   "metadata": {},
   "outputs": [],
   "source": [
    "from sklearn.model_selection import cross_val_score"
   ]
  },
  {
   "cell_type": "markdown",
   "id": "7da81f1e",
   "metadata": {},
   "source": [
    "## Model Building using KNN"
   ]
  },
  {
   "cell_type": "code",
   "execution_count": 96,
   "id": "598a37c2",
   "metadata": {},
   "outputs": [
    {
     "name": "stdout",
     "output_type": "stream",
     "text": [
      "Training score 0.7662337662337663\n",
      "Testing score 0.7692307692307693\n",
      "[[16  2  1  0  0]\n",
      " [ 1  8  0  0  0]\n",
      " [ 5  0  0  0  0]\n",
      " [ 0  0  0  1  0]\n",
      " [ 0  0  0  0  5]]\n",
      "              precision    recall  f1-score   support\n",
      "\n",
      "           1       0.73      0.84      0.78        19\n",
      "           2       0.80      0.89      0.84         9\n",
      "           3       0.00      0.00      0.00         5\n",
      "           5       1.00      1.00      1.00         1\n",
      "           7       1.00      1.00      1.00         5\n",
      "\n",
      "    accuracy                           0.77        39\n",
      "   macro avg       0.71      0.75      0.72        39\n",
      "weighted avg       0.69      0.77      0.73        39\n",
      "\n"
     ]
    }
   ],
   "source": [
    "# creating object for KNeighbors\n",
    "knn = KNeighborsClassifier()\n",
    "# model training\n",
    "knn.fit(x_train,y_train)\n",
    "# predict the training score\n",
    "y_pred = knn.predict(x_train)\n",
    "print('Training score',accuracy_score(y_train,y_pred))\n",
    "pred = knn.predict(x_test)\n",
    "print('Testing score',accuracy_score(y_test,pred))\n",
    "print(confusion_matrix(y_test,pred))\n",
    "print(classification_report(y_test,pred))"
   ]
  },
  {
   "cell_type": "markdown",
   "id": "193a09a1",
   "metadata": {},
   "source": [
    "### After setting the random state = 5 , We got the accuracy score is 76%"
   ]
  },
  {
   "cell_type": "markdown",
   "id": "1d99089a",
   "metadata": {},
   "source": [
    "##  Cross validation for KNN"
   ]
  },
  {
   "cell_type": "code",
   "execution_count": 104,
   "id": "15f31342",
   "metadata": {},
   "outputs": [
    {
     "name": "stdout",
     "output_type": "stream",
     "text": [
      "Cross validation score of KNN 0.6636752136752136\n"
     ]
    }
   ],
   "source": [
    "cr2 = cross_val_score(knn,x,y,cv =15)\n",
    "print(\"Cross validation score of KNN\",cr2.mean())"
   ]
  },
  {
   "cell_type": "markdown",
   "id": "7af1cea2",
   "metadata": {},
   "source": [
    "### Difference between model accuracy and cross validation accuracy score is 10\n"
   ]
  },
  {
   "cell_type": "markdown",
   "id": "2c66ae24",
   "metadata": {},
   "source": [
    "## Model Building using Random Forest"
   ]
  },
  {
   "cell_type": "code",
   "execution_count": 60,
   "id": "00af60a4",
   "metadata": {},
   "outputs": [
    {
     "name": "stdout",
     "output_type": "stream",
     "text": [
      "Training score 1.0\n",
      "Testing score 0.7948717948717948\n",
      "[[12  1  0  0  0]\n",
      " [ 2 12  1  0  0]\n",
      " [ 3  1  2  0  0]\n",
      " [ 0  0  0  2  0]\n",
      " [ 0  0  0  0  3]]\n",
      "              precision    recall  f1-score   support\n",
      "\n",
      "           1       0.71      0.92      0.80        13\n",
      "           2       0.86      0.80      0.83        15\n",
      "           3       0.67      0.33      0.44         6\n",
      "           5       1.00      1.00      1.00         2\n",
      "           7       1.00      1.00      1.00         3\n",
      "\n",
      "    accuracy                           0.79        39\n",
      "   macro avg       0.85      0.81      0.81        39\n",
      "weighted avg       0.80      0.79      0.78        39\n",
      "\n"
     ]
    }
   ],
   "source": [
    "# creating object for RandomForest\n",
    "rf = RandomForestClassifier()\n",
    "# model training\n",
    "rf.fit(x_train,y_train)\n",
    "# predict the training score\n",
    "y_pred = rf.predict(x_train)\n",
    "print('Training score',accuracy_score(y_train,y_pred))\n",
    "pred = rf.predict(x_test)\n",
    "print('Testing score',accuracy_score(y_test,pred))\n",
    "print(confusion_matrix(y_test,pred))\n",
    "print(classification_report(y_test,pred))"
   ]
  },
  {
   "cell_type": "markdown",
   "id": "5bdb97a5",
   "metadata": {},
   "source": [
    "### After setting the random state = 1 , We got the accuracy score is 79% score is good but difference between training and testing score is more"
   ]
  },
  {
   "cell_type": "markdown",
   "id": "7e3ecbcc",
   "metadata": {},
   "source": [
    "## Cross validation for Random Forest"
   ]
  },
  {
   "cell_type": "code",
   "execution_count": 66,
   "id": "67131599",
   "metadata": {},
   "outputs": [
    {
     "name": "stdout",
     "output_type": "stream",
     "text": [
      "Cross validation score of Random Forest model 0.7658119658119659\n"
     ]
    }
   ],
   "source": [
    "cr4 = cross_val_score(rf,x,y,cv = 15)\n",
    "print(\"Cross validation score of Random Forest model\",cr4.mean())"
   ]
  },
  {
   "cell_type": "markdown",
   "id": "d93ca526",
   "metadata": {},
   "source": [
    "### Difference between model accuracy and cross validation accuracy score is 3"
   ]
  },
  {
   "cell_type": "markdown",
   "id": "d1b50cd7",
   "metadata": {},
   "source": [
    "## Model Building using Decision tree"
   ]
  },
  {
   "cell_type": "code",
   "execution_count": 67,
   "id": "9e3a58fa",
   "metadata": {},
   "outputs": [
    {
     "name": "stdout",
     "output_type": "stream",
     "text": [
      "Training score 1.0\n",
      "Testing score 0.7435897435897436\n",
      "[[14  3  1  0  0  0]\n",
      " [ 0  8  3  0  1  0]\n",
      " [ 0  0  0  0  0  0]\n",
      " [ 0  0  0  1  0  0]\n",
      " [ 0  2  0  0  0  0]\n",
      " [ 0  0  0  0  0  6]]\n",
      "              precision    recall  f1-score   support\n",
      "\n",
      "           1       1.00      0.78      0.88        18\n",
      "           2       0.62      0.67      0.64        12\n",
      "           3       0.00      0.00      0.00         0\n",
      "           5       1.00      1.00      1.00         1\n",
      "           6       0.00      0.00      0.00         2\n",
      "           7       1.00      1.00      1.00         6\n",
      "\n",
      "    accuracy                           0.74        39\n",
      "   macro avg       0.60      0.57      0.59        39\n",
      "weighted avg       0.83      0.74      0.78        39\n",
      "\n"
     ]
    }
   ],
   "source": [
    "# creating object for DecisionTree\n",
    "dt = DecisionTreeClassifier()\n",
    "# model training\n",
    "dt.fit(x_train,y_train)\n",
    "# predict the training score\n",
    "y_pred = dt.predict(x_train)\n",
    "print('Training score',accuracy_score(y_train,y_pred))\n",
    "pred = dt.predict(x_test)\n",
    "print('Testing score',accuracy_score(y_test,pred))\n",
    "print(confusion_matrix(y_test,pred))\n",
    "print(classification_report(y_test,pred))"
   ]
  },
  {
   "cell_type": "markdown",
   "id": "172e47ff",
   "metadata": {},
   "source": [
    " ### After setting the random state 1 , We got the accuracy score is 74%"
   ]
  },
  {
   "cell_type": "markdown",
   "id": "47697191",
   "metadata": {},
   "source": [
    "##  Cross validation for Decision Tree\n"
   ]
  },
  {
   "cell_type": "code",
   "execution_count": 75,
   "id": "6522b8d2",
   "metadata": {},
   "outputs": [
    {
     "name": "stdout",
     "output_type": "stream",
     "text": [
      "Cross validation score of Decision Tree model 0.7034188034188034\n"
     ]
    }
   ],
   "source": [
    "cr3 = cross_val_score(dt,x,y,cv =15)\n",
    "print(\"Cross validation score of Decision Tree model\",cr3.mean())"
   ]
  },
  {
   "cell_type": "markdown",
   "id": "7ac018f5",
   "metadata": {},
   "source": [
    "### Difference between model accuracy and cross validation accuracy score is 4"
   ]
  },
  {
   "cell_type": "markdown",
   "id": "89a8e86a",
   "metadata": {},
   "source": [
    "## Model Building using ada boost"
   ]
  },
  {
   "cell_type": "code",
   "execution_count": 78,
   "id": "6cbb4530",
   "metadata": {},
   "outputs": [
    {
     "name": "stdout",
     "output_type": "stream",
     "text": [
      "Training score 0.6688311688311688\n",
      "Testing score 0.6410256410256411\n",
      "[[9 1 0 0 1]\n",
      " [7 9 0 0 1]\n",
      " [1 2 0 0 0]\n",
      " [0 1 0 0 0]\n",
      " [0 0 0 0 7]]\n",
      "              precision    recall  f1-score   support\n",
      "\n",
      "           1       0.53      0.82      0.64        11\n",
      "           2       0.69      0.53      0.60        17\n",
      "           3       0.00      0.00      0.00         3\n",
      "           5       0.00      0.00      0.00         1\n",
      "           7       0.78      1.00      0.88         7\n",
      "\n",
      "    accuracy                           0.64        39\n",
      "   macro avg       0.40      0.47      0.42        39\n",
      "weighted avg       0.59      0.64      0.60        39\n",
      "\n"
     ]
    }
   ],
   "source": [
    "# creating object for AdaBOOst\n",
    "ada = AdaBoostClassifier()\n",
    "# model training\n",
    "ada.fit(x_train,y_train)\n",
    "# predict the training score\n",
    "y_pred = ada.predict(x_train)\n",
    "print('Training score',accuracy_score(y_train,y_pred))\n",
    "pred = ada.predict(x_test)\n",
    "print('Testing score',accuracy_score(y_test,pred))\n",
    "print(confusion_matrix(y_test,pred))\n",
    "print(classification_report(y_test,pred))"
   ]
  },
  {
   "cell_type": "markdown",
   "id": "d6f4e675",
   "metadata": {},
   "source": [
    "### After setting the random state = 119 , We got the accuracy score is 64%,i am not satisfied with this score"
   ]
  },
  {
   "cell_type": "markdown",
   "id": "ab15b32d",
   "metadata": {},
   "source": [
    "## Cross validation for ADA BOOST"
   ]
  },
  {
   "cell_type": "code",
   "execution_count": 82,
   "id": "2a752bb0",
   "metadata": {},
   "outputs": [
    {
     "name": "stdout",
     "output_type": "stream",
     "text": [
      "Cross validation score of ADA BOOST 0.49234068627450983\n"
     ]
    }
   ],
   "source": [
    "cr5 = cross_val_score(ada,x,y,cv =12)\n",
    "print(\"Cross validation score of ADA BOOST\",cr5.mean())"
   ]
  },
  {
   "cell_type": "markdown",
   "id": "f114d93c",
   "metadata": {},
   "source": [
    "### Difference between model accuracy and cross validation accuracy score is big"
   ]
  },
  {
   "cell_type": "markdown",
   "id": "76901a95",
   "metadata": {},
   "source": [
    "# as per my observation , Random Forest is best and model accuracy and cross val score difference  is also least"
   ]
  },
  {
   "cell_type": "markdown",
   "id": "fe92335d",
   "metadata": {},
   "source": [
    "## HYPERPARAMETER TUNING"
   ]
  },
  {
   "cell_type": "code",
   "execution_count": null,
   "id": "db212321",
   "metadata": {},
   "outputs": [],
   "source": [
    "RandomForestClassifier()"
   ]
  },
  {
   "cell_type": "code",
   "execution_count": 107,
   "id": "367ab5c2",
   "metadata": {},
   "outputs": [],
   "source": [
    "# Hyperparameter tuning using Random Forest\n",
    "params = {'n_estimators':[100],\n",
    "         'criterion':['entropy','gini'],\n",
    "         'max_depth':[10,15],\n",
    "         'min_samples_split':[10,11],\n",
    "         'min_samples_leaf':[5,6]}"
   ]
  },
  {
   "cell_type": "code",
   "execution_count": 108,
   "id": "e58ad904",
   "metadata": {},
   "outputs": [
    {
     "data": {
      "text/plain": [
       "GridSearchCV(estimator=RandomForestClassifier(),\n",
       "             param_grid={'criterion': ['entropy', 'gini'],\n",
       "                         'max_depth': [10, 15], 'min_samples_leaf': [5, 6],\n",
       "                         'min_samples_split': [10, 11], 'n_estimators': [100]})"
      ]
     },
     "execution_count": 108,
     "metadata": {},
     "output_type": "execute_result"
    }
   ],
   "source": [
    "grd = GridSearchCV(rf,param_grid = params)\n",
    "grd.fit(x_train,y_train)"
   ]
  },
  {
   "cell_type": "code",
   "execution_count": 109,
   "id": "ef2f7c9e",
   "metadata": {},
   "outputs": [
    {
     "data": {
      "text/plain": [
       "RandomForestClassifier(criterion='entropy', max_depth=15, min_samples_leaf=5,\n",
       "                       min_samples_split=10)"
      ]
     },
     "execution_count": 109,
     "metadata": {},
     "output_type": "execute_result"
    }
   ],
   "source": [
    "rf = grd.best_estimator_\n",
    "rf.fit(x_train,y_train)"
   ]
  },
  {
   "cell_type": "code",
   "execution_count": 110,
   "id": "430c8617",
   "metadata": {},
   "outputs": [
    {
     "data": {
      "text/plain": [
       "0.7692307692307693"
      ]
     },
     "execution_count": 110,
     "metadata": {},
     "output_type": "execute_result"
    }
   ],
   "source": [
    "pred = rf.predict(x_test)\n",
    "accuracy_score(y_test,pred)"
   ]
  },
  {
   "cell_type": "markdown",
   "id": "fa794624",
   "metadata": {},
   "source": [
    "##  Save the final model"
   ]
  },
  {
   "cell_type": "code",
   "execution_count": 111,
   "id": "f00487f6",
   "metadata": {},
   "outputs": [],
   "source": [
    "import pickle"
   ]
  },
  {
   "cell_type": "code",
   "execution_count": 112,
   "id": "651d5a07",
   "metadata": {},
   "outputs": [],
   "source": [
    "pickle.dump(rf,open('glass','wb'))"
   ]
  },
  {
   "cell_type": "code",
   "execution_count": 113,
   "id": "53151477",
   "metadata": {},
   "outputs": [],
   "source": [
    "import joblib"
   ]
  },
  {
   "cell_type": "code",
   "execution_count": 114,
   "id": "b6ad0d64",
   "metadata": {},
   "outputs": [
    {
     "data": {
      "text/plain": [
       "['glass.pkl']"
      ]
     },
     "execution_count": 114,
     "metadata": {},
     "output_type": "execute_result"
    }
   ],
   "source": [
    "joblib.dump(rf,'glass.pkl')"
   ]
  },
  {
   "cell_type": "code",
   "execution_count": null,
   "id": "34fcb76b",
   "metadata": {},
   "outputs": [],
   "source": []
  }
 ],
 "metadata": {
  "kernelspec": {
   "display_name": "Python 3 (ipykernel)",
   "language": "python",
   "name": "python3"
  },
  "language_info": {
   "codemirror_mode": {
    "name": "ipython",
    "version": 3
   },
   "file_extension": ".py",
   "mimetype": "text/x-python",
   "name": "python",
   "nbconvert_exporter": "python",
   "pygments_lexer": "ipython3",
   "version": "3.9.12"
  }
 },
 "nbformat": 4,
 "nbformat_minor": 5
}

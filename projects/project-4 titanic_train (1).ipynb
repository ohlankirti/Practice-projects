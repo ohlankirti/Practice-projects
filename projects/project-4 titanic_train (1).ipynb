{
 "cells": [
  {
   "cell_type": "markdown",
   "id": "1f7ce6c5",
   "metadata": {},
   "source": [
    "#  Titanic Project"
   ]
  },
  {
   "cell_type": "code",
   "execution_count": 182,
   "id": "4d3f09b2",
   "metadata": {},
   "outputs": [],
   "source": [
    "# import all necessary libraries\n",
    "import pandas as pd\n",
    "import numpy as np\n",
    "import seaborn as sns\n",
    "import matplotlib.pyplot as plt\n",
    "import warnings\n",
    "warnings.filterwarnings('ignore')\n",
    "import pickle\n",
    "from sklearn.linear_model import LogisticRegression\n",
    "from sklearn.model_selection import train_test_split,GridSearchCV,RandomizedSearchCV\n",
    "from sklearn.metrics import confusion_matrix,classification_report,roc_curve,roc_auc_score,accuracy_score"
   ]
  },
  {
   "cell_type": "code",
   "execution_count": 183,
   "id": "211c1ea0",
   "metadata": {},
   "outputs": [
    {
     "data": {
      "text/html": [
       "<div>\n",
       "<style scoped>\n",
       "    .dataframe tbody tr th:only-of-type {\n",
       "        vertical-align: middle;\n",
       "    }\n",
       "\n",
       "    .dataframe tbody tr th {\n",
       "        vertical-align: top;\n",
       "    }\n",
       "\n",
       "    .dataframe thead th {\n",
       "        text-align: right;\n",
       "    }\n",
       "</style>\n",
       "<table border=\"1\" class=\"dataframe\">\n",
       "  <thead>\n",
       "    <tr style=\"text-align: right;\">\n",
       "      <th></th>\n",
       "      <th>Unnamed: 0</th>\n",
       "      <th>PassengerId</th>\n",
       "      <th>Survived</th>\n",
       "      <th>Pclass</th>\n",
       "      <th>Name</th>\n",
       "      <th>Sex</th>\n",
       "      <th>Age</th>\n",
       "      <th>SibSp</th>\n",
       "      <th>Parch</th>\n",
       "      <th>Ticket</th>\n",
       "      <th>Fare</th>\n",
       "      <th>Cabin</th>\n",
       "      <th>Embarked</th>\n",
       "    </tr>\n",
       "  </thead>\n",
       "  <tbody>\n",
       "    <tr>\n",
       "      <th>0</th>\n",
       "      <td>0</td>\n",
       "      <td>1</td>\n",
       "      <td>0</td>\n",
       "      <td>3</td>\n",
       "      <td>Braund, Mr. Owen Harris</td>\n",
       "      <td>male</td>\n",
       "      <td>22.0</td>\n",
       "      <td>1</td>\n",
       "      <td>0</td>\n",
       "      <td>A/5 21171</td>\n",
       "      <td>7.2500</td>\n",
       "      <td>NaN</td>\n",
       "      <td>S</td>\n",
       "    </tr>\n",
       "    <tr>\n",
       "      <th>1</th>\n",
       "      <td>1</td>\n",
       "      <td>2</td>\n",
       "      <td>1</td>\n",
       "      <td>1</td>\n",
       "      <td>Cumings, Mrs. John Bradley (Florence Briggs Th...</td>\n",
       "      <td>female</td>\n",
       "      <td>38.0</td>\n",
       "      <td>1</td>\n",
       "      <td>0</td>\n",
       "      <td>PC 17599</td>\n",
       "      <td>71.2833</td>\n",
       "      <td>C85</td>\n",
       "      <td>C</td>\n",
       "    </tr>\n",
       "    <tr>\n",
       "      <th>2</th>\n",
       "      <td>2</td>\n",
       "      <td>3</td>\n",
       "      <td>1</td>\n",
       "      <td>3</td>\n",
       "      <td>Heikkinen, Miss. Laina</td>\n",
       "      <td>female</td>\n",
       "      <td>26.0</td>\n",
       "      <td>0</td>\n",
       "      <td>0</td>\n",
       "      <td>STON/O2. 3101282</td>\n",
       "      <td>7.9250</td>\n",
       "      <td>NaN</td>\n",
       "      <td>S</td>\n",
       "    </tr>\n",
       "    <tr>\n",
       "      <th>3</th>\n",
       "      <td>3</td>\n",
       "      <td>4</td>\n",
       "      <td>1</td>\n",
       "      <td>1</td>\n",
       "      <td>Futrelle, Mrs. Jacques Heath (Lily May Peel)</td>\n",
       "      <td>female</td>\n",
       "      <td>35.0</td>\n",
       "      <td>1</td>\n",
       "      <td>0</td>\n",
       "      <td>113803</td>\n",
       "      <td>53.1000</td>\n",
       "      <td>C123</td>\n",
       "      <td>S</td>\n",
       "    </tr>\n",
       "    <tr>\n",
       "      <th>4</th>\n",
       "      <td>4</td>\n",
       "      <td>5</td>\n",
       "      <td>0</td>\n",
       "      <td>3</td>\n",
       "      <td>Allen, Mr. William Henry</td>\n",
       "      <td>male</td>\n",
       "      <td>35.0</td>\n",
       "      <td>0</td>\n",
       "      <td>0</td>\n",
       "      <td>373450</td>\n",
       "      <td>8.0500</td>\n",
       "      <td>NaN</td>\n",
       "      <td>S</td>\n",
       "    </tr>\n",
       "  </tbody>\n",
       "</table>\n",
       "</div>"
      ],
      "text/plain": [
       "   Unnamed: 0  PassengerId  Survived  Pclass  \\\n",
       "0           0            1         0       3   \n",
       "1           1            2         1       1   \n",
       "2           2            3         1       3   \n",
       "3           3            4         1       1   \n",
       "4           4            5         0       3   \n",
       "\n",
       "                                                Name     Sex   Age  SibSp  \\\n",
       "0                            Braund, Mr. Owen Harris    male  22.0      1   \n",
       "1  Cumings, Mrs. John Bradley (Florence Briggs Th...  female  38.0      1   \n",
       "2                             Heikkinen, Miss. Laina  female  26.0      0   \n",
       "3       Futrelle, Mrs. Jacques Heath (Lily May Peel)  female  35.0      1   \n",
       "4                           Allen, Mr. William Henry    male  35.0      0   \n",
       "\n",
       "   Parch            Ticket     Fare Cabin Embarked  \n",
       "0      0         A/5 21171   7.2500   NaN        S  \n",
       "1      0          PC 17599  71.2833   C85        C  \n",
       "2      0  STON/O2. 3101282   7.9250   NaN        S  \n",
       "3      0            113803  53.1000  C123        S  \n",
       "4      0            373450   8.0500   NaN        S  "
      ]
     },
     "execution_count": 183,
     "metadata": {},
     "output_type": "execute_result"
    }
   ],
   "source": [
    "# read csv file and convert into dataframe\n",
    "data = pd.read_csv('titanic_train.csv')\n",
    "data.head()"
   ]
  },
  {
   "cell_type": "markdown",
   "id": "4ef140af",
   "metadata": {},
   "source": [
    "### ****** Observations*******\n",
    "Firstly, we explore the Titanic dataset and explore about the people who suvived and those who did not\n",
    "\n",
    "Unnamed: 0 - no need of this unnamed column so we can drop from the dataset\n",
    "\n",
    "PassengerID - it is used serial nos of passengers\n",
    "\n",
    "Survived- having two type of values 0 and 1. 0 for Died and 1 for Survived\n",
    "\n",
    "Pclass - Pclass is having three types of classes. 1stclass,2ndclass,3rdclass\n",
    "\n",
    "Name - real name of passengers\n",
    "\n",
    "Sex - gender of the passenger male or female\n",
    "\n",
    "Age - age of passengers and some passangers age are missing\n",
    "\n",
    "sibSp-  no. of siblings or spouses\n",
    "\n",
    "Parch - no of childerens or parents\n",
    "\n",
    "Ticket - ticket no of passengers\n",
    "\n",
    "Fare-  fare of ticket\n",
    " \n",
    "cabin - column cabin has more missing values\n",
    "\n",
    "Embarked - we have three values S,C and Q Embarked is port/station\n",
    "\n",
    "These are the features of this dataset\n"
   ]
  },
  {
   "cell_type": "code",
   "execution_count": 184,
   "id": "5559b245",
   "metadata": {},
   "outputs": [
    {
     "data": {
      "text/plain": [
       "(891, 13)"
      ]
     },
     "execution_count": 184,
     "metadata": {},
     "output_type": "execute_result"
    }
   ],
   "source": [
    "# let's check the shape of the dataset\n",
    "data.shape"
   ]
  },
  {
   "cell_type": "markdown",
   "id": "11ef28f8",
   "metadata": {},
   "source": [
    "### we have 891 rows and 13 columns in  this dataset"
   ]
  },
  {
   "cell_type": "code",
   "execution_count": 185,
   "id": "37d77f99",
   "metadata": {},
   "outputs": [
    {
     "name": "stdout",
     "output_type": "stream",
     "text": [
      "<class 'pandas.core.frame.DataFrame'>\n",
      "RangeIndex: 891 entries, 0 to 890\n",
      "Data columns (total 13 columns):\n",
      " #   Column       Non-Null Count  Dtype  \n",
      "---  ------       --------------  -----  \n",
      " 0   Unnamed: 0   891 non-null    int64  \n",
      " 1   PassengerId  891 non-null    int64  \n",
      " 2   Survived     891 non-null    int64  \n",
      " 3   Pclass       891 non-null    int64  \n",
      " 4   Name         891 non-null    object \n",
      " 5   Sex          891 non-null    object \n",
      " 6   Age          714 non-null    float64\n",
      " 7   SibSp        891 non-null    int64  \n",
      " 8   Parch        891 non-null    int64  \n",
      " 9   Ticket       891 non-null    object \n",
      " 10  Fare         891 non-null    float64\n",
      " 11  Cabin        204 non-null    object \n",
      " 12  Embarked     889 non-null    object \n",
      "dtypes: float64(2), int64(6), object(5)\n",
      "memory usage: 90.6+ KB\n"
     ]
    }
   ],
   "source": [
    "# summery about all columns\n",
    "data.info()"
   ]
  },
  {
   "cell_type": "markdown",
   "id": "f5e18d24",
   "metadata": {},
   "source": [
    "### there is null values present in age ,cabin and embarked column,we will use imputing techniques to treat with NAN"
   ]
  },
  {
   "cell_type": "code",
   "execution_count": 186,
   "id": "3f4b0a80",
   "metadata": {},
   "outputs": [
    {
     "data": {
      "text/plain": [
       "S    644\n",
       "C    168\n",
       "Q     77\n",
       "Name: Embarked, dtype: int64"
      ]
     },
     "execution_count": 186,
     "metadata": {},
     "output_type": "execute_result"
    }
   ],
   "source": [
    "data['Embarked'].value_counts()"
   ]
  },
  {
   "cell_type": "code",
   "execution_count": 187,
   "id": "0ac8d710",
   "metadata": {},
   "outputs": [],
   "source": [
    "# we will use replace method to manipulate the text\n",
    "data['Sex'] = data['Sex'].replace({'male':1,'female':0})\n",
    "data['Embarked'] = data['Embarked'].replace({'S':1,'C':2,'Q':3})\n"
   ]
  },
  {
   "cell_type": "code",
   "execution_count": 188,
   "id": "5423a2e8",
   "metadata": {},
   "outputs": [
    {
     "data": {
      "text/html": [
       "<div>\n",
       "<style scoped>\n",
       "    .dataframe tbody tr th:only-of-type {\n",
       "        vertical-align: middle;\n",
       "    }\n",
       "\n",
       "    .dataframe tbody tr th {\n",
       "        vertical-align: top;\n",
       "    }\n",
       "\n",
       "    .dataframe thead th {\n",
       "        text-align: right;\n",
       "    }\n",
       "</style>\n",
       "<table border=\"1\" class=\"dataframe\">\n",
       "  <thead>\n",
       "    <tr style=\"text-align: right;\">\n",
       "      <th></th>\n",
       "      <th>PassengerId</th>\n",
       "      <th>Survived</th>\n",
       "      <th>Pclass</th>\n",
       "      <th>Sex</th>\n",
       "      <th>Age</th>\n",
       "      <th>SibSp</th>\n",
       "      <th>Parch</th>\n",
       "      <th>Fare</th>\n",
       "      <th>Embarked</th>\n",
       "    </tr>\n",
       "  </thead>\n",
       "  <tbody>\n",
       "    <tr>\n",
       "      <th>0</th>\n",
       "      <td>1</td>\n",
       "      <td>0</td>\n",
       "      <td>3</td>\n",
       "      <td>1</td>\n",
       "      <td>22.0</td>\n",
       "      <td>1</td>\n",
       "      <td>0</td>\n",
       "      <td>7.2500</td>\n",
       "      <td>1.0</td>\n",
       "    </tr>\n",
       "    <tr>\n",
       "      <th>1</th>\n",
       "      <td>2</td>\n",
       "      <td>1</td>\n",
       "      <td>1</td>\n",
       "      <td>0</td>\n",
       "      <td>38.0</td>\n",
       "      <td>1</td>\n",
       "      <td>0</td>\n",
       "      <td>71.2833</td>\n",
       "      <td>2.0</td>\n",
       "    </tr>\n",
       "    <tr>\n",
       "      <th>2</th>\n",
       "      <td>3</td>\n",
       "      <td>1</td>\n",
       "      <td>3</td>\n",
       "      <td>0</td>\n",
       "      <td>26.0</td>\n",
       "      <td>0</td>\n",
       "      <td>0</td>\n",
       "      <td>7.9250</td>\n",
       "      <td>1.0</td>\n",
       "    </tr>\n",
       "    <tr>\n",
       "      <th>3</th>\n",
       "      <td>4</td>\n",
       "      <td>1</td>\n",
       "      <td>1</td>\n",
       "      <td>0</td>\n",
       "      <td>35.0</td>\n",
       "      <td>1</td>\n",
       "      <td>0</td>\n",
       "      <td>53.1000</td>\n",
       "      <td>1.0</td>\n",
       "    </tr>\n",
       "    <tr>\n",
       "      <th>4</th>\n",
       "      <td>5</td>\n",
       "      <td>0</td>\n",
       "      <td>3</td>\n",
       "      <td>1</td>\n",
       "      <td>35.0</td>\n",
       "      <td>0</td>\n",
       "      <td>0</td>\n",
       "      <td>8.0500</td>\n",
       "      <td>1.0</td>\n",
       "    </tr>\n",
       "  </tbody>\n",
       "</table>\n",
       "</div>"
      ],
      "text/plain": [
       "   PassengerId  Survived  Pclass  Sex   Age  SibSp  Parch     Fare  Embarked\n",
       "0            1         0       3    1  22.0      1      0   7.2500       1.0\n",
       "1            2         1       1    0  38.0      1      0  71.2833       2.0\n",
       "2            3         1       3    0  26.0      0      0   7.9250       1.0\n",
       "3            4         1       1    0  35.0      1      0  53.1000       1.0\n",
       "4            5         0       3    1  35.0      0      0   8.0500       1.0"
      ]
     },
     "execution_count": 188,
     "metadata": {},
     "output_type": "execute_result"
    }
   ],
   "source": [
    "# let's drop the unnecessary columns from dataset,machine is not understand the text dataso we can drop the name,ticket and cabin columns\n",
    "data.drop(columns=['Unnamed: 0','Name','Ticket','Cabin'],axis = 1,inplace = True)\n",
    "data.head()"
   ]
  },
  {
   "cell_type": "markdown",
   "id": "909a3f4e",
   "metadata": {},
   "source": [
    "###  after manipulation data looks good"
   ]
  },
  {
   "cell_type": "code",
   "execution_count": 189,
   "id": "19c4742d",
   "metadata": {},
   "outputs": [
    {
     "data": {
      "text/html": [
       "<div>\n",
       "<style scoped>\n",
       "    .dataframe tbody tr th:only-of-type {\n",
       "        vertical-align: middle;\n",
       "    }\n",
       "\n",
       "    .dataframe tbody tr th {\n",
       "        vertical-align: top;\n",
       "    }\n",
       "\n",
       "    .dataframe thead th {\n",
       "        text-align: right;\n",
       "    }\n",
       "</style>\n",
       "<table border=\"1\" class=\"dataframe\">\n",
       "  <thead>\n",
       "    <tr style=\"text-align: right;\">\n",
       "      <th></th>\n",
       "      <th>PassengerId</th>\n",
       "      <th>Survived</th>\n",
       "      <th>Pclass</th>\n",
       "      <th>Sex</th>\n",
       "      <th>Age</th>\n",
       "      <th>SibSp</th>\n",
       "      <th>Parch</th>\n",
       "      <th>Fare</th>\n",
       "      <th>Embarked</th>\n",
       "    </tr>\n",
       "  </thead>\n",
       "  <tbody>\n",
       "    <tr>\n",
       "      <th>count</th>\n",
       "      <td>891.000000</td>\n",
       "      <td>891.000000</td>\n",
       "      <td>891.000000</td>\n",
       "      <td>891.000000</td>\n",
       "      <td>714.000000</td>\n",
       "      <td>891.000000</td>\n",
       "      <td>891.000000</td>\n",
       "      <td>891.000000</td>\n",
       "      <td>889.000000</td>\n",
       "    </tr>\n",
       "    <tr>\n",
       "      <th>mean</th>\n",
       "      <td>446.000000</td>\n",
       "      <td>0.383838</td>\n",
       "      <td>2.308642</td>\n",
       "      <td>0.647587</td>\n",
       "      <td>29.699118</td>\n",
       "      <td>0.523008</td>\n",
       "      <td>0.381594</td>\n",
       "      <td>32.204208</td>\n",
       "      <td>1.362205</td>\n",
       "    </tr>\n",
       "    <tr>\n",
       "      <th>std</th>\n",
       "      <td>257.353842</td>\n",
       "      <td>0.486592</td>\n",
       "      <td>0.836071</td>\n",
       "      <td>0.477990</td>\n",
       "      <td>14.526497</td>\n",
       "      <td>1.102743</td>\n",
       "      <td>0.806057</td>\n",
       "      <td>49.693429</td>\n",
       "      <td>0.636157</td>\n",
       "    </tr>\n",
       "    <tr>\n",
       "      <th>min</th>\n",
       "      <td>1.000000</td>\n",
       "      <td>0.000000</td>\n",
       "      <td>1.000000</td>\n",
       "      <td>0.000000</td>\n",
       "      <td>0.420000</td>\n",
       "      <td>0.000000</td>\n",
       "      <td>0.000000</td>\n",
       "      <td>0.000000</td>\n",
       "      <td>1.000000</td>\n",
       "    </tr>\n",
       "    <tr>\n",
       "      <th>25%</th>\n",
       "      <td>223.500000</td>\n",
       "      <td>0.000000</td>\n",
       "      <td>2.000000</td>\n",
       "      <td>0.000000</td>\n",
       "      <td>20.125000</td>\n",
       "      <td>0.000000</td>\n",
       "      <td>0.000000</td>\n",
       "      <td>7.910400</td>\n",
       "      <td>1.000000</td>\n",
       "    </tr>\n",
       "    <tr>\n",
       "      <th>50%</th>\n",
       "      <td>446.000000</td>\n",
       "      <td>0.000000</td>\n",
       "      <td>3.000000</td>\n",
       "      <td>1.000000</td>\n",
       "      <td>28.000000</td>\n",
       "      <td>0.000000</td>\n",
       "      <td>0.000000</td>\n",
       "      <td>14.454200</td>\n",
       "      <td>1.000000</td>\n",
       "    </tr>\n",
       "    <tr>\n",
       "      <th>75%</th>\n",
       "      <td>668.500000</td>\n",
       "      <td>1.000000</td>\n",
       "      <td>3.000000</td>\n",
       "      <td>1.000000</td>\n",
       "      <td>38.000000</td>\n",
       "      <td>1.000000</td>\n",
       "      <td>0.000000</td>\n",
       "      <td>31.000000</td>\n",
       "      <td>2.000000</td>\n",
       "    </tr>\n",
       "    <tr>\n",
       "      <th>max</th>\n",
       "      <td>891.000000</td>\n",
       "      <td>1.000000</td>\n",
       "      <td>3.000000</td>\n",
       "      <td>1.000000</td>\n",
       "      <td>80.000000</td>\n",
       "      <td>8.000000</td>\n",
       "      <td>6.000000</td>\n",
       "      <td>512.329200</td>\n",
       "      <td>3.000000</td>\n",
       "    </tr>\n",
       "  </tbody>\n",
       "</table>\n",
       "</div>"
      ],
      "text/plain": [
       "       PassengerId    Survived      Pclass         Sex         Age  \\\n",
       "count   891.000000  891.000000  891.000000  891.000000  714.000000   \n",
       "mean    446.000000    0.383838    2.308642    0.647587   29.699118   \n",
       "std     257.353842    0.486592    0.836071    0.477990   14.526497   \n",
       "min       1.000000    0.000000    1.000000    0.000000    0.420000   \n",
       "25%     223.500000    0.000000    2.000000    0.000000   20.125000   \n",
       "50%     446.000000    0.000000    3.000000    1.000000   28.000000   \n",
       "75%     668.500000    1.000000    3.000000    1.000000   38.000000   \n",
       "max     891.000000    1.000000    3.000000    1.000000   80.000000   \n",
       "\n",
       "            SibSp       Parch        Fare    Embarked  \n",
       "count  891.000000  891.000000  891.000000  889.000000  \n",
       "mean     0.523008    0.381594   32.204208    1.362205  \n",
       "std      1.102743    0.806057   49.693429    0.636157  \n",
       "min      0.000000    0.000000    0.000000    1.000000  \n",
       "25%      0.000000    0.000000    7.910400    1.000000  \n",
       "50%      0.000000    0.000000   14.454200    1.000000  \n",
       "75%      1.000000    0.000000   31.000000    2.000000  \n",
       "max      8.000000    6.000000  512.329200    3.000000  "
      ]
     },
     "execution_count": 189,
     "metadata": {},
     "output_type": "execute_result"
    }
   ],
   "source": [
    "# understanding data at high level, we check stats of dataset\n",
    "data.describe()"
   ]
  },
  {
   "cell_type": "markdown",
   "id": "6188f537",
   "metadata": {},
   "source": [
    "### Observations====\n",
    "\n",
    "1-Age= Max value of Age is indicating the presence of outliers.\n",
    "\n",
    "2-sex= Mean & STD are close to each others\n",
    "\n",
    "3-SibSp= data is very confusing\n",
    "\n",
    "4-Parch= data is very confusing\n",
    "\n",
    "5-Fare = Max value of Fare is  indicating the presence of outliers.\n",
    "\n",
    "6-Embarked = Measure of central Tendency and Dispersion is looking satisfactory,Min and Max are also satisfactory.\n",
    "\n",
    "7- Pclass = q2,q3 and max values are same in pclass"
   ]
  },
  {
   "cell_type": "markdown",
   "id": "081f8c4b",
   "metadata": {},
   "source": [
    "###  Treating with null values"
   ]
  },
  {
   "cell_type": "code",
   "execution_count": 190,
   "id": "62415902",
   "metadata": {},
   "outputs": [],
   "source": [
    "data['Age'] = data['Age'].fillna(data['Age'].mean())\n",
    "data['Embarked'] = data['Embarked'].fillna(data['Embarked'].mode()[0])"
   ]
  },
  {
   "cell_type": "code",
   "execution_count": 191,
   "id": "ac88cd1b",
   "metadata": {},
   "outputs": [
    {
     "data": {
      "text/html": [
       "<div>\n",
       "<style scoped>\n",
       "    .dataframe tbody tr th:only-of-type {\n",
       "        vertical-align: middle;\n",
       "    }\n",
       "\n",
       "    .dataframe tbody tr th {\n",
       "        vertical-align: top;\n",
       "    }\n",
       "\n",
       "    .dataframe thead th {\n",
       "        text-align: right;\n",
       "    }\n",
       "</style>\n",
       "<table border=\"1\" class=\"dataframe\">\n",
       "  <thead>\n",
       "    <tr style=\"text-align: right;\">\n",
       "      <th></th>\n",
       "      <th>PassengerId</th>\n",
       "      <th>Survived</th>\n",
       "      <th>Pclass</th>\n",
       "      <th>Sex</th>\n",
       "      <th>Age</th>\n",
       "      <th>SibSp</th>\n",
       "      <th>Fare</th>\n",
       "      <th>Embarked</th>\n",
       "    </tr>\n",
       "  </thead>\n",
       "  <tbody>\n",
       "    <tr>\n",
       "      <th>0</th>\n",
       "      <td>1</td>\n",
       "      <td>0</td>\n",
       "      <td>3</td>\n",
       "      <td>1</td>\n",
       "      <td>22.0</td>\n",
       "      <td>1</td>\n",
       "      <td>7.2500</td>\n",
       "      <td>1.0</td>\n",
       "    </tr>\n",
       "    <tr>\n",
       "      <th>1</th>\n",
       "      <td>2</td>\n",
       "      <td>1</td>\n",
       "      <td>1</td>\n",
       "      <td>0</td>\n",
       "      <td>38.0</td>\n",
       "      <td>1</td>\n",
       "      <td>71.2833</td>\n",
       "      <td>2.0</td>\n",
       "    </tr>\n",
       "    <tr>\n",
       "      <th>2</th>\n",
       "      <td>3</td>\n",
       "      <td>1</td>\n",
       "      <td>3</td>\n",
       "      <td>0</td>\n",
       "      <td>26.0</td>\n",
       "      <td>0</td>\n",
       "      <td>7.9250</td>\n",
       "      <td>1.0</td>\n",
       "    </tr>\n",
       "    <tr>\n",
       "      <th>3</th>\n",
       "      <td>4</td>\n",
       "      <td>1</td>\n",
       "      <td>1</td>\n",
       "      <td>0</td>\n",
       "      <td>35.0</td>\n",
       "      <td>1</td>\n",
       "      <td>53.1000</td>\n",
       "      <td>1.0</td>\n",
       "    </tr>\n",
       "    <tr>\n",
       "      <th>4</th>\n",
       "      <td>5</td>\n",
       "      <td>0</td>\n",
       "      <td>3</td>\n",
       "      <td>1</td>\n",
       "      <td>35.0</td>\n",
       "      <td>0</td>\n",
       "      <td>8.0500</td>\n",
       "      <td>1.0</td>\n",
       "    </tr>\n",
       "  </tbody>\n",
       "</table>\n",
       "</div>"
      ],
      "text/plain": [
       "   PassengerId  Survived  Pclass  Sex   Age  SibSp     Fare  Embarked\n",
       "0            1         0       3    1  22.0      1   7.2500       1.0\n",
       "1            2         1       1    0  38.0      1  71.2833       2.0\n",
       "2            3         1       3    0  26.0      0   7.9250       1.0\n",
       "3            4         1       1    0  35.0      1  53.1000       1.0\n",
       "4            5         0       3    1  35.0      0   8.0500       1.0"
      ]
     },
     "execution_count": 191,
     "metadata": {},
     "output_type": "execute_result"
    }
   ],
   "source": [
    "# no need of Parch column\n",
    "data.drop('Parch',axis = 1,inplace = True)\n",
    "data.head()"
   ]
  },
  {
   "cell_type": "code",
   "execution_count": 192,
   "id": "f56f7331",
   "metadata": {},
   "outputs": [],
   "source": [
    "data.drop('Fare',axis = 1,inplace = True)"
   ]
  },
  {
   "cell_type": "code",
   "execution_count": 193,
   "id": "3df988c9",
   "metadata": {},
   "outputs": [
    {
     "data": {
      "text/plain": [
       "PassengerId    0\n",
       "Survived       0\n",
       "Pclass         0\n",
       "Sex            0\n",
       "Age            0\n",
       "SibSp          0\n",
       "Embarked       0\n",
       "dtype: int64"
      ]
     },
     "execution_count": 193,
     "metadata": {},
     "output_type": "execute_result"
    }
   ],
   "source": [
    "# let's check the null values\n",
    "data.isna().sum()"
   ]
  },
  {
   "cell_type": "markdown",
   "id": "d7eaafa5",
   "metadata": {},
   "source": [
    "### now the data looks good ,there is no missing value present in dataset"
   ]
  },
  {
   "cell_type": "markdown",
   "id": "78464d6b",
   "metadata": {},
   "source": [
    "##  Target variable"
   ]
  },
  {
   "cell_type": "code",
   "execution_count": 194,
   "id": "e2776119",
   "metadata": {},
   "outputs": [
    {
     "data": {
      "image/png": "[encoded data removed]",
      "text/plain": [
       "<Figure size 432x288 with 1 Axes>"
      ]
     },
     "metadata": {
      "needs_background": "light"
     },
     "output_type": "display_data"
    }
   ],
   "source": [
    "# let's visualize the target how many passengers are survived or died\n",
    "data['Survived'].hist(grid = False)\n",
    "plt.title('Survived VS Died')\n",
    "plt.show()"
   ]
  },
  {
   "cell_type": "code",
   "execution_count": 195,
   "id": "4b8a9edc",
   "metadata": {},
   "outputs": [
    {
     "data": {
      "text/plain": [
       "0    549\n",
       "1    342\n",
       "Name: Survived, dtype: int64"
      ]
     },
     "execution_count": 195,
     "metadata": {},
     "output_type": "execute_result"
    }
   ],
   "source": [
    "data['Survived'].value_counts()"
   ]
  },
  {
   "cell_type": "markdown",
   "id": "85b6100b",
   "metadata": {},
   "source": [
    "###  there is no sign of imbalancing ,there are 549 passengers are Died and 342 passengers are Survived"
   ]
  },
  {
   "cell_type": "markdown",
   "id": "8b8f9585",
   "metadata": {},
   "source": [
    "## Feature vs label"
   ]
  },
  {
   "cell_type": "code",
   "execution_count": 196,
   "id": "6ec3a587",
   "metadata": {},
   "outputs": [
    {
     "data": {
      "image/png": "[encoded data removed]",
      "text/plain": [
       "<Figure size 432x288 with 1 Axes>"
      ]
     },
     "metadata": {
      "needs_background": "light"
     },
     "output_type": "display_data"
    }
   ],
   "source": [
    "# let's visualize the data how many male or female survived by using count plot\n",
    "sns.countplot(x = 'Survived', hue = 'Sex',data = data)\n",
    "plt.show()"
   ]
  },
  {
   "cell_type": "markdown",
   "id": "e067ebff",
   "metadata": {},
   "source": [
    "### as compared to female , males are more who did not survived"
   ]
  },
  {
   "cell_type": "code",
   "execution_count": 197,
   "id": "c06fd5ca",
   "metadata": {},
   "outputs": [
    {
     "data": {
      "image/png": "[encoded data removed]",
      "text/plain": [
       "<Figure size 432x288 with 1 Axes>"
      ]
     },
     "metadata": {
      "needs_background": "light"
     },
     "output_type": "display_data"
    }
   ],
   "source": [
    "# let's visualize the classes of passengers\n",
    "sns.countplot(x = 'Survived', hue = 'Pclass',data = data)\n",
    "plt.show()"
   ]
  },
  {
   "cell_type": "markdown",
   "id": "95699203",
   "metadata": {},
   "source": [
    "### as compared to other classes,3rdclass passengers are more who did not survived"
   ]
  },
  {
   "cell_type": "code",
   "execution_count": 198,
   "id": "071d2a4c",
   "metadata": {},
   "outputs": [
    {
     "data": {
      "image/png": "[encoded data removed]",
      "text/plain": [
       "<Figure size 432x288 with 1 Axes>"
      ]
     },
     "metadata": {
      "needs_background": "light"
     },
     "output_type": "display_data"
    }
   ],
   "source": [
    "# let's visualize relationship between Survived and Embarked\n",
    "sns.countplot(x = 'Survived', hue = 'Embarked',data = data)\n",
    "plt.show()"
   ]
  },
  {
   "cell_type": "markdown",
   "id": "1a80e87b",
   "metadata": {},
   "source": [
    "### As compared to other ports, southern port of passengers are more who did not survived"
   ]
  },
  {
   "cell_type": "markdown",
   "id": "9f3370a1",
   "metadata": {},
   "source": [
    "### According to my Pre observation on data i suspected outliers in Age and SibSp columns now,  i am checking the outliers by plotting BOX PLOT "
   ]
  },
  {
   "cell_type": "code",
   "execution_count": 199,
   "id": "5c836c1b",
   "metadata": {},
   "outputs": [
    {
     "data": {
      "image/png": "[encoded data removed]",
      "text/plain": [
       "<Figure size 1080x1440 with 7 Axes>"
      ]
     },
     "metadata": {
      "needs_background": "light"
     },
     "output_type": "display_data"
    }
   ],
   "source": [
    "# let's visualize the outliers using boxplot\n",
    "plt.figure(figsize = (15,20))\n",
    "pn = 1\n",
    "for col in data:\n",
    "    if pn <= 8:\n",
    "        plt.subplot(2,4,pn)\n",
    "        ax=sns.boxplot(data = data[col])\n",
    "        plt.xlabel(col,fontsize= 15)\n",
    "    pn += 1\n",
    "plt.show()    "
   ]
  },
  {
   "cell_type": "markdown",
   "id": "41ade217",
   "metadata": {},
   "source": [
    "### As expected age,sibsp are showing outliers ,Lets treat with outliers first.............."
   ]
  },
  {
   "cell_type": "code",
   "execution_count": 200,
   "id": "c8f835de",
   "metadata": {},
   "outputs": [
    {
     "data": {
      "text/plain": [
       "PassengerId    445.0\n",
       "Survived         1.0\n",
       "Pclass           1.0\n",
       "Sex              1.0\n",
       "Age             13.0\n",
       "SibSp            1.0\n",
       "Embarked         1.0\n",
       "dtype: float64"
      ]
     },
     "execution_count": 200,
     "metadata": {},
     "output_type": "execute_result"
    }
   ],
   "source": [
    "# Use the quantile techniques\n",
    "#find the IQR(Inter Quantile Range) to identify the outliers\n",
    "# 1st Quantile\n",
    "q1 = data.quantile(0.25)\n",
    "# 3rd Quantile\n",
    "q3 = data.quantile(0.75)\n",
    "# IQR\n",
    "iqr = q3 - q1\n",
    "iqr"
   ]
  },
  {
   "cell_type": "code",
   "execution_count": 201,
   "id": "51607694",
   "metadata": {},
   "outputs": [
    {
     "data": {
      "text/plain": [
       "(891, 7)"
      ]
     },
     "execution_count": 201,
     "metadata": {},
     "output_type": "execute_result"
    }
   ],
   "source": [
    "data.shape"
   ]
  },
  {
   "cell_type": "code",
   "execution_count": 202,
   "id": "050fafc5",
   "metadata": {},
   "outputs": [
    {
     "data": {
      "text/html": [
       "<div>\n",
       "<style scoped>\n",
       "    .dataframe tbody tr th:only-of-type {\n",
       "        vertical-align: middle;\n",
       "    }\n",
       "\n",
       "    .dataframe tbody tr th {\n",
       "        vertical-align: top;\n",
       "    }\n",
       "\n",
       "    .dataframe thead th {\n",
       "        text-align: right;\n",
       "    }\n",
       "</style>\n",
       "<table border=\"1\" class=\"dataframe\">\n",
       "  <thead>\n",
       "    <tr style=\"text-align: right;\">\n",
       "      <th></th>\n",
       "      <th>index</th>\n",
       "      <th>PassengerId</th>\n",
       "      <th>Survived</th>\n",
       "      <th>Pclass</th>\n",
       "      <th>Sex</th>\n",
       "      <th>Age</th>\n",
       "      <th>SibSp</th>\n",
       "      <th>Embarked</th>\n",
       "    </tr>\n",
       "  </thead>\n",
       "  <tbody>\n",
       "    <tr>\n",
       "      <th>0</th>\n",
       "      <td>0</td>\n",
       "      <td>1</td>\n",
       "      <td>0</td>\n",
       "      <td>3</td>\n",
       "      <td>1</td>\n",
       "      <td>22.000000</td>\n",
       "      <td>1</td>\n",
       "      <td>1.0</td>\n",
       "    </tr>\n",
       "    <tr>\n",
       "      <th>1</th>\n",
       "      <td>1</td>\n",
       "      <td>2</td>\n",
       "      <td>1</td>\n",
       "      <td>1</td>\n",
       "      <td>0</td>\n",
       "      <td>38.000000</td>\n",
       "      <td>1</td>\n",
       "      <td>2.0</td>\n",
       "    </tr>\n",
       "    <tr>\n",
       "      <th>2</th>\n",
       "      <td>2</td>\n",
       "      <td>3</td>\n",
       "      <td>1</td>\n",
       "      <td>3</td>\n",
       "      <td>0</td>\n",
       "      <td>26.000000</td>\n",
       "      <td>0</td>\n",
       "      <td>1.0</td>\n",
       "    </tr>\n",
       "    <tr>\n",
       "      <th>3</th>\n",
       "      <td>3</td>\n",
       "      <td>4</td>\n",
       "      <td>1</td>\n",
       "      <td>1</td>\n",
       "      <td>0</td>\n",
       "      <td>35.000000</td>\n",
       "      <td>1</td>\n",
       "      <td>1.0</td>\n",
       "    </tr>\n",
       "    <tr>\n",
       "      <th>4</th>\n",
       "      <td>4</td>\n",
       "      <td>5</td>\n",
       "      <td>0</td>\n",
       "      <td>3</td>\n",
       "      <td>1</td>\n",
       "      <td>35.000000</td>\n",
       "      <td>0</td>\n",
       "      <td>1.0</td>\n",
       "    </tr>\n",
       "    <tr>\n",
       "      <th>...</th>\n",
       "      <td>...</td>\n",
       "      <td>...</td>\n",
       "      <td>...</td>\n",
       "      <td>...</td>\n",
       "      <td>...</td>\n",
       "      <td>...</td>\n",
       "      <td>...</td>\n",
       "      <td>...</td>\n",
       "    </tr>\n",
       "    <tr>\n",
       "      <th>844</th>\n",
       "      <td>886</td>\n",
       "      <td>887</td>\n",
       "      <td>0</td>\n",
       "      <td>2</td>\n",
       "      <td>1</td>\n",
       "      <td>27.000000</td>\n",
       "      <td>0</td>\n",
       "      <td>1.0</td>\n",
       "    </tr>\n",
       "    <tr>\n",
       "      <th>845</th>\n",
       "      <td>887</td>\n",
       "      <td>888</td>\n",
       "      <td>1</td>\n",
       "      <td>1</td>\n",
       "      <td>0</td>\n",
       "      <td>19.000000</td>\n",
       "      <td>0</td>\n",
       "      <td>1.0</td>\n",
       "    </tr>\n",
       "    <tr>\n",
       "      <th>846</th>\n",
       "      <td>888</td>\n",
       "      <td>889</td>\n",
       "      <td>0</td>\n",
       "      <td>3</td>\n",
       "      <td>0</td>\n",
       "      <td>29.699118</td>\n",
       "      <td>1</td>\n",
       "      <td>1.0</td>\n",
       "    </tr>\n",
       "    <tr>\n",
       "      <th>847</th>\n",
       "      <td>889</td>\n",
       "      <td>890</td>\n",
       "      <td>1</td>\n",
       "      <td>1</td>\n",
       "      <td>1</td>\n",
       "      <td>26.000000</td>\n",
       "      <td>0</td>\n",
       "      <td>2.0</td>\n",
       "    </tr>\n",
       "    <tr>\n",
       "      <th>848</th>\n",
       "      <td>890</td>\n",
       "      <td>891</td>\n",
       "      <td>0</td>\n",
       "      <td>3</td>\n",
       "      <td>1</td>\n",
       "      <td>32.000000</td>\n",
       "      <td>0</td>\n",
       "      <td>3.0</td>\n",
       "    </tr>\n",
       "  </tbody>\n",
       "</table>\n",
       "<p>849 rows × 8 columns</p>\n",
       "</div>"
      ],
      "text/plain": [
       "     index  PassengerId  Survived  Pclass  Sex        Age  SibSp  Embarked\n",
       "0        0            1         0       3    1  22.000000      1       1.0\n",
       "1        1            2         1       1    0  38.000000      1       2.0\n",
       "2        2            3         1       3    0  26.000000      0       1.0\n",
       "3        3            4         1       1    0  35.000000      1       1.0\n",
       "4        4            5         0       3    1  35.000000      0       1.0\n",
       "..     ...          ...       ...     ...  ...        ...    ...       ...\n",
       "844    886          887         0       2    1  27.000000      0       1.0\n",
       "845    887          888         1       1    0  19.000000      0       1.0\n",
       "846    888          889         0       3    0  29.699118      1       1.0\n",
       "847    889          890         1       1    1  26.000000      0       2.0\n",
       "848    890          891         0       3    1  32.000000      0       3.0\n",
       "\n",
       "[849 rows x 8 columns]"
      ]
     },
     "execution_count": 202,
     "metadata": {},
     "output_type": "execute_result"
    }
   ],
   "source": [
    "# remove the outliers from higher side of age\n",
    "age = (q3.Age + (1.5*iqr.Age))\n",
    "age\n",
    "# check the index which have higher values\n",
    "index = np.where(data['Age']>age)\n",
    "index\n",
    "# drop the index which we find in the above cell\n",
    "data = data.drop(data.index[index])\n",
    "data.shape\n",
    "data.reset_index()"
   ]
  },
  {
   "cell_type": "code",
   "execution_count": 203,
   "id": "1403bf08",
   "metadata": {},
   "outputs": [
    {
     "data": {
      "text/html": [
       "<div>\n",
       "<style scoped>\n",
       "    .dataframe tbody tr th:only-of-type {\n",
       "        vertical-align: middle;\n",
       "    }\n",
       "\n",
       "    .dataframe tbody tr th {\n",
       "        vertical-align: top;\n",
       "    }\n",
       "\n",
       "    .dataframe thead th {\n",
       "        text-align: right;\n",
       "    }\n",
       "</style>\n",
       "<table border=\"1\" class=\"dataframe\">\n",
       "  <thead>\n",
       "    <tr style=\"text-align: right;\">\n",
       "      <th></th>\n",
       "      <th>index</th>\n",
       "      <th>PassengerId</th>\n",
       "      <th>Survived</th>\n",
       "      <th>Pclass</th>\n",
       "      <th>Sex</th>\n",
       "      <th>Age</th>\n",
       "      <th>SibSp</th>\n",
       "      <th>Embarked</th>\n",
       "    </tr>\n",
       "  </thead>\n",
       "  <tbody>\n",
       "    <tr>\n",
       "      <th>0</th>\n",
       "      <td>0</td>\n",
       "      <td>1</td>\n",
       "      <td>0</td>\n",
       "      <td>3</td>\n",
       "      <td>1</td>\n",
       "      <td>22.000000</td>\n",
       "      <td>1</td>\n",
       "      <td>1.0</td>\n",
       "    </tr>\n",
       "    <tr>\n",
       "      <th>1</th>\n",
       "      <td>1</td>\n",
       "      <td>2</td>\n",
       "      <td>1</td>\n",
       "      <td>1</td>\n",
       "      <td>0</td>\n",
       "      <td>38.000000</td>\n",
       "      <td>1</td>\n",
       "      <td>2.0</td>\n",
       "    </tr>\n",
       "    <tr>\n",
       "      <th>2</th>\n",
       "      <td>2</td>\n",
       "      <td>3</td>\n",
       "      <td>1</td>\n",
       "      <td>3</td>\n",
       "      <td>0</td>\n",
       "      <td>26.000000</td>\n",
       "      <td>0</td>\n",
       "      <td>1.0</td>\n",
       "    </tr>\n",
       "    <tr>\n",
       "      <th>3</th>\n",
       "      <td>3</td>\n",
       "      <td>4</td>\n",
       "      <td>1</td>\n",
       "      <td>1</td>\n",
       "      <td>0</td>\n",
       "      <td>35.000000</td>\n",
       "      <td>1</td>\n",
       "      <td>1.0</td>\n",
       "    </tr>\n",
       "    <tr>\n",
       "      <th>4</th>\n",
       "      <td>4</td>\n",
       "      <td>5</td>\n",
       "      <td>0</td>\n",
       "      <td>3</td>\n",
       "      <td>1</td>\n",
       "      <td>35.000000</td>\n",
       "      <td>0</td>\n",
       "      <td>1.0</td>\n",
       "    </tr>\n",
       "    <tr>\n",
       "      <th>...</th>\n",
       "      <td>...</td>\n",
       "      <td>...</td>\n",
       "      <td>...</td>\n",
       "      <td>...</td>\n",
       "      <td>...</td>\n",
       "      <td>...</td>\n",
       "      <td>...</td>\n",
       "      <td>...</td>\n",
       "    </tr>\n",
       "    <tr>\n",
       "      <th>820</th>\n",
       "      <td>886</td>\n",
       "      <td>887</td>\n",
       "      <td>0</td>\n",
       "      <td>2</td>\n",
       "      <td>1</td>\n",
       "      <td>27.000000</td>\n",
       "      <td>0</td>\n",
       "      <td>1.0</td>\n",
       "    </tr>\n",
       "    <tr>\n",
       "      <th>821</th>\n",
       "      <td>887</td>\n",
       "      <td>888</td>\n",
       "      <td>1</td>\n",
       "      <td>1</td>\n",
       "      <td>0</td>\n",
       "      <td>19.000000</td>\n",
       "      <td>0</td>\n",
       "      <td>1.0</td>\n",
       "    </tr>\n",
       "    <tr>\n",
       "      <th>822</th>\n",
       "      <td>888</td>\n",
       "      <td>889</td>\n",
       "      <td>0</td>\n",
       "      <td>3</td>\n",
       "      <td>0</td>\n",
       "      <td>29.699118</td>\n",
       "      <td>1</td>\n",
       "      <td>1.0</td>\n",
       "    </tr>\n",
       "    <tr>\n",
       "      <th>823</th>\n",
       "      <td>889</td>\n",
       "      <td>890</td>\n",
       "      <td>1</td>\n",
       "      <td>1</td>\n",
       "      <td>1</td>\n",
       "      <td>26.000000</td>\n",
       "      <td>0</td>\n",
       "      <td>2.0</td>\n",
       "    </tr>\n",
       "    <tr>\n",
       "      <th>824</th>\n",
       "      <td>890</td>\n",
       "      <td>891</td>\n",
       "      <td>0</td>\n",
       "      <td>3</td>\n",
       "      <td>1</td>\n",
       "      <td>32.000000</td>\n",
       "      <td>0</td>\n",
       "      <td>3.0</td>\n",
       "    </tr>\n",
       "  </tbody>\n",
       "</table>\n",
       "<p>825 rows × 8 columns</p>\n",
       "</div>"
      ],
      "text/plain": [
       "     index  PassengerId  Survived  Pclass  Sex        Age  SibSp  Embarked\n",
       "0        0            1         0       3    1  22.000000      1       1.0\n",
       "1        1            2         1       1    0  38.000000      1       2.0\n",
       "2        2            3         1       3    0  26.000000      0       1.0\n",
       "3        3            4         1       1    0  35.000000      1       1.0\n",
       "4        4            5         0       3    1  35.000000      0       1.0\n",
       "..     ...          ...       ...     ...  ...        ...    ...       ...\n",
       "820    886          887         0       2    1  27.000000      0       1.0\n",
       "821    887          888         1       1    0  19.000000      0       1.0\n",
       "822    888          889         0       3    0  29.699118      1       1.0\n",
       "823    889          890         1       1    1  26.000000      0       2.0\n",
       "824    890          891         0       3    1  32.000000      0       3.0\n",
       "\n",
       "[825 rows x 8 columns]"
      ]
     },
     "execution_count": 203,
     "metadata": {},
     "output_type": "execute_result"
    }
   ],
   "source": [
    "# remove the outliers from lower side of age\n",
    "age = (q1.Age - (1.5*iqr.Age))\n",
    "age\n",
    "# check the index which have higher values\n",
    "index = np.where(data['Age']<age)\n",
    "index\n",
    "# drop the index which we find in the above cell\n",
    "data = data.drop(data.index[index])\n",
    "data.shape\n",
    "data.reset_index()"
   ]
  },
  {
   "cell_type": "code",
   "execution_count": 204,
   "id": "e7041127",
   "metadata": {},
   "outputs": [
    {
     "data": {
      "text/plain": [
       "(825, 7)"
      ]
     },
     "execution_count": 204,
     "metadata": {},
     "output_type": "execute_result"
    }
   ],
   "source": [
    "data.shape"
   ]
  },
  {
   "cell_type": "code",
   "execution_count": 205,
   "id": "e838ee8f",
   "metadata": {},
   "outputs": [
    {
     "data": {
      "text/html": [
       "<div>\n",
       "<style scoped>\n",
       "    .dataframe tbody tr th:only-of-type {\n",
       "        vertical-align: middle;\n",
       "    }\n",
       "\n",
       "    .dataframe tbody tr th {\n",
       "        vertical-align: top;\n",
       "    }\n",
       "\n",
       "    .dataframe thead th {\n",
       "        text-align: right;\n",
       "    }\n",
       "</style>\n",
       "<table border=\"1\" class=\"dataframe\">\n",
       "  <thead>\n",
       "    <tr style=\"text-align: right;\">\n",
       "      <th></th>\n",
       "      <th>index</th>\n",
       "      <th>PassengerId</th>\n",
       "      <th>Survived</th>\n",
       "      <th>Pclass</th>\n",
       "      <th>Sex</th>\n",
       "      <th>Age</th>\n",
       "      <th>SibSp</th>\n",
       "      <th>Embarked</th>\n",
       "    </tr>\n",
       "  </thead>\n",
       "  <tbody>\n",
       "    <tr>\n",
       "      <th>0</th>\n",
       "      <td>0</td>\n",
       "      <td>1</td>\n",
       "      <td>0</td>\n",
       "      <td>3</td>\n",
       "      <td>1</td>\n",
       "      <td>22.000000</td>\n",
       "      <td>1</td>\n",
       "      <td>1.0</td>\n",
       "    </tr>\n",
       "    <tr>\n",
       "      <th>1</th>\n",
       "      <td>1</td>\n",
       "      <td>2</td>\n",
       "      <td>1</td>\n",
       "      <td>1</td>\n",
       "      <td>0</td>\n",
       "      <td>38.000000</td>\n",
       "      <td>1</td>\n",
       "      <td>2.0</td>\n",
       "    </tr>\n",
       "    <tr>\n",
       "      <th>2</th>\n",
       "      <td>2</td>\n",
       "      <td>3</td>\n",
       "      <td>1</td>\n",
       "      <td>3</td>\n",
       "      <td>0</td>\n",
       "      <td>26.000000</td>\n",
       "      <td>0</td>\n",
       "      <td>1.0</td>\n",
       "    </tr>\n",
       "    <tr>\n",
       "      <th>3</th>\n",
       "      <td>3</td>\n",
       "      <td>4</td>\n",
       "      <td>1</td>\n",
       "      <td>1</td>\n",
       "      <td>0</td>\n",
       "      <td>35.000000</td>\n",
       "      <td>1</td>\n",
       "      <td>1.0</td>\n",
       "    </tr>\n",
       "    <tr>\n",
       "      <th>4</th>\n",
       "      <td>4</td>\n",
       "      <td>5</td>\n",
       "      <td>0</td>\n",
       "      <td>3</td>\n",
       "      <td>1</td>\n",
       "      <td>35.000000</td>\n",
       "      <td>0</td>\n",
       "      <td>1.0</td>\n",
       "    </tr>\n",
       "    <tr>\n",
       "      <th>...</th>\n",
       "      <td>...</td>\n",
       "      <td>...</td>\n",
       "      <td>...</td>\n",
       "      <td>...</td>\n",
       "      <td>...</td>\n",
       "      <td>...</td>\n",
       "      <td>...</td>\n",
       "      <td>...</td>\n",
       "    </tr>\n",
       "    <tr>\n",
       "      <th>781</th>\n",
       "      <td>886</td>\n",
       "      <td>887</td>\n",
       "      <td>0</td>\n",
       "      <td>2</td>\n",
       "      <td>1</td>\n",
       "      <td>27.000000</td>\n",
       "      <td>0</td>\n",
       "      <td>1.0</td>\n",
       "    </tr>\n",
       "    <tr>\n",
       "      <th>782</th>\n",
       "      <td>887</td>\n",
       "      <td>888</td>\n",
       "      <td>1</td>\n",
       "      <td>1</td>\n",
       "      <td>0</td>\n",
       "      <td>19.000000</td>\n",
       "      <td>0</td>\n",
       "      <td>1.0</td>\n",
       "    </tr>\n",
       "    <tr>\n",
       "      <th>783</th>\n",
       "      <td>888</td>\n",
       "      <td>889</td>\n",
       "      <td>0</td>\n",
       "      <td>3</td>\n",
       "      <td>0</td>\n",
       "      <td>29.699118</td>\n",
       "      <td>1</td>\n",
       "      <td>1.0</td>\n",
       "    </tr>\n",
       "    <tr>\n",
       "      <th>784</th>\n",
       "      <td>889</td>\n",
       "      <td>890</td>\n",
       "      <td>1</td>\n",
       "      <td>1</td>\n",
       "      <td>1</td>\n",
       "      <td>26.000000</td>\n",
       "      <td>0</td>\n",
       "      <td>2.0</td>\n",
       "    </tr>\n",
       "    <tr>\n",
       "      <th>785</th>\n",
       "      <td>890</td>\n",
       "      <td>891</td>\n",
       "      <td>0</td>\n",
       "      <td>3</td>\n",
       "      <td>1</td>\n",
       "      <td>32.000000</td>\n",
       "      <td>0</td>\n",
       "      <td>3.0</td>\n",
       "    </tr>\n",
       "  </tbody>\n",
       "</table>\n",
       "<p>786 rows × 8 columns</p>\n",
       "</div>"
      ],
      "text/plain": [
       "     index  PassengerId  Survived  Pclass  Sex        Age  SibSp  Embarked\n",
       "0        0            1         0       3    1  22.000000      1       1.0\n",
       "1        1            2         1       1    0  38.000000      1       2.0\n",
       "2        2            3         1       3    0  26.000000      0       1.0\n",
       "3        3            4         1       1    0  35.000000      1       1.0\n",
       "4        4            5         0       3    1  35.000000      0       1.0\n",
       "..     ...          ...       ...     ...  ...        ...    ...       ...\n",
       "781    886          887         0       2    1  27.000000      0       1.0\n",
       "782    887          888         1       1    0  19.000000      0       1.0\n",
       "783    888          889         0       3    0  29.699118      1       1.0\n",
       "784    889          890         1       1    1  26.000000      0       2.0\n",
       "785    890          891         0       3    1  32.000000      0       3.0\n",
       "\n",
       "[786 rows x 8 columns]"
      ]
     },
     "execution_count": 205,
     "metadata": {},
     "output_type": "execute_result"
    }
   ],
   "source": [
    "# remove the outliers from higher side of \n",
    "sibsp= (q3.SibSp + (1.5*iqr.SibSp))\n",
    "sibsp\n",
    "# check the index which have higher values\n",
    "index = np.where(data['SibSp']>sibsp)\n",
    "index\n",
    "# drop the index which we find in the above cell\n",
    "data = data.drop(data.index[index])\n",
    "data.shape\n",
    "data.reset_index()"
   ]
  },
  {
   "cell_type": "markdown",
   "id": "bd09a61a",
   "metadata": {},
   "source": [
    "## let's check the outliers are remove or not"
   ]
  },
  {
   "cell_type": "code",
   "execution_count": 206,
   "id": "612859d6",
   "metadata": {},
   "outputs": [
    {
     "data": {
      "image/png": "[encoded data removed]",
      "text/plain": [
       "<Figure size 1080x1440 with 7 Axes>"
      ]
     },
     "metadata": {
      "needs_background": "light"
     },
     "output_type": "display_data"
    }
   ],
   "source": [
    "\n",
    "plt.figure(figsize = (15,20))\n",
    "pn = 1\n",
    "for col in data:\n",
    "    if pn <= 8:\n",
    "        plt.subplot(2,4,pn)\n",
    "        ax=sns.boxplot(data = data[col])\n",
    "        plt.xlabel(col,fontsize= 15)\n",
    "    pn += 1\n",
    "plt.show()    "
   ]
  },
  {
   "cell_type": "markdown",
   "id": "1ae0ad64",
   "metadata": {},
   "source": [
    "### outliers are removed from age and SibSp column"
   ]
  },
  {
   "cell_type": "code",
   "execution_count": 207,
   "id": "8154a9cc",
   "metadata": {},
   "outputs": [
    {
     "data": {
      "text/plain": [
       "(786, 7)"
      ]
     },
     "execution_count": 207,
     "metadata": {},
     "output_type": "execute_result"
    }
   ],
   "source": [
    "data.shape"
   ]
  },
  {
   "cell_type": "code",
   "execution_count": 208,
   "id": "67b7e3c7",
   "metadata": {},
   "outputs": [
    {
     "data": {
      "text/html": [
       "<div>\n",
       "<style scoped>\n",
       "    .dataframe tbody tr th:only-of-type {\n",
       "        vertical-align: middle;\n",
       "    }\n",
       "\n",
       "    .dataframe tbody tr th {\n",
       "        vertical-align: top;\n",
       "    }\n",
       "\n",
       "    .dataframe thead th {\n",
       "        text-align: right;\n",
       "    }\n",
       "</style>\n",
       "<table border=\"1\" class=\"dataframe\">\n",
       "  <thead>\n",
       "    <tr style=\"text-align: right;\">\n",
       "      <th></th>\n",
       "      <th>PassengerId</th>\n",
       "      <th>Pclass</th>\n",
       "      <th>Sex</th>\n",
       "      <th>Age</th>\n",
       "      <th>SibSp</th>\n",
       "      <th>Embarked</th>\n",
       "    </tr>\n",
       "  </thead>\n",
       "  <tbody>\n",
       "    <tr>\n",
       "      <th>0</th>\n",
       "      <td>1</td>\n",
       "      <td>3</td>\n",
       "      <td>1</td>\n",
       "      <td>22.0</td>\n",
       "      <td>1</td>\n",
       "      <td>1.0</td>\n",
       "    </tr>\n",
       "    <tr>\n",
       "      <th>1</th>\n",
       "      <td>2</td>\n",
       "      <td>1</td>\n",
       "      <td>0</td>\n",
       "      <td>38.0</td>\n",
       "      <td>1</td>\n",
       "      <td>2.0</td>\n",
       "    </tr>\n",
       "    <tr>\n",
       "      <th>2</th>\n",
       "      <td>3</td>\n",
       "      <td>3</td>\n",
       "      <td>0</td>\n",
       "      <td>26.0</td>\n",
       "      <td>0</td>\n",
       "      <td>1.0</td>\n",
       "    </tr>\n",
       "    <tr>\n",
       "      <th>3</th>\n",
       "      <td>4</td>\n",
       "      <td>1</td>\n",
       "      <td>0</td>\n",
       "      <td>35.0</td>\n",
       "      <td>1</td>\n",
       "      <td>1.0</td>\n",
       "    </tr>\n",
       "    <tr>\n",
       "      <th>4</th>\n",
       "      <td>5</td>\n",
       "      <td>3</td>\n",
       "      <td>1</td>\n",
       "      <td>35.0</td>\n",
       "      <td>0</td>\n",
       "      <td>1.0</td>\n",
       "    </tr>\n",
       "  </tbody>\n",
       "</table>\n",
       "</div>"
      ],
      "text/plain": [
       "   PassengerId  Pclass  Sex   Age  SibSp  Embarked\n",
       "0            1       3    1  22.0      1       1.0\n",
       "1            2       1    0  38.0      1       2.0\n",
       "2            3       3    0  26.0      0       1.0\n",
       "3            4       1    0  35.0      1       1.0\n",
       "4            5       3    1  35.0      0       1.0"
      ]
     },
     "execution_count": 208,
     "metadata": {},
     "output_type": "execute_result"
    }
   ],
   "source": [
    "#Lets seprate Label and Features for checking if all features and contributing to Label\n",
    "x = data.drop(columns = ['Survived'])\n",
    "x.head()\n",
    "              "
   ]
  },
  {
   "cell_type": "code",
   "execution_count": 209,
   "id": "4e21f406",
   "metadata": {},
   "outputs": [],
   "source": [
    "y = data['Survived']\n"
   ]
  },
  {
   "cell_type": "markdown",
   "id": "75a279be",
   "metadata": {},
   "source": [
    "## Lets check Multi-Collinearity by plotting Heat map"
   ]
  },
  {
   "cell_type": "code",
   "execution_count": 210,
   "id": "a0e84e39",
   "metadata": {},
   "outputs": [
    {
     "data": {
      "image/png": "[encoded data removed]",
      "text/plain": [
       "<Figure size 1296x1008 with 2 Axes>"
      ]
     },
     "metadata": {
      "needs_background": "light"
     },
     "output_type": "display_data"
    }
   ],
   "source": [
    "df_corr=data.corr().abs()\n",
    "plt.figure(figsize=(18,14))\n",
    "sns.heatmap(df_corr,annot=True)\n",
    "plt.show()"
   ]
  },
  {
   "cell_type": "markdown",
   "id": "6711f326",
   "metadata": {},
   "source": [
    "### NO Multi-collinearity problem has been visualized\n"
   ]
  },
  {
   "cell_type": "markdown",
   "id": "46de6cfe",
   "metadata": {},
   "source": [
    "##  Data Standardization and Normalization\n"
   ]
  },
  {
   "cell_type": "code",
   "execution_count": 211,
   "id": "20df6db0",
   "metadata": {},
   "outputs": [],
   "source": [
    "from sklearn.preprocessing import StandardScaler"
   ]
  },
  {
   "cell_type": "code",
   "execution_count": 212,
   "id": "b48ac786",
   "metadata": {},
   "outputs": [
    {
     "data": {
      "text/plain": [
       "array([[-1.76165776,  0.8238864 ,  0.73359421, -0.76319069,  1.305055  ,\n",
       "        -0.57905514],\n",
       "       [-1.75773952, -1.59243714, -1.36315143,  0.87075529,  1.305055  ,\n",
       "         0.97963437],\n",
       "       [-1.75382128,  0.8238864 , -1.36315143, -0.3547042 , -0.59101382,\n",
       "        -0.57905514],\n",
       "       ...,\n",
       "       [ 1.71773957,  0.8238864 , -1.36315143,  0.0230557 ,  1.305055  ,\n",
       "        -0.57905514],\n",
       "       [ 1.72165781, -1.59243714,  0.73359421, -0.3547042 , -0.59101382,\n",
       "         0.97963437],\n",
       "       [ 1.72557605,  0.8238864 ,  0.73359421,  0.25802554, -0.59101382,\n",
       "         2.53832389]])"
      ]
     },
     "execution_count": 212,
     "metadata": {},
     "output_type": "execute_result"
    }
   ],
   "source": [
    "# let's standardize the data using standard scaler\n",
    "# data scaling formula z = (x-mean)/std\n",
    "scaler = StandardScaler()\n",
    "x_scaled = scaler.fit_transform(x)\n",
    "x_scaled"
   ]
  },
  {
   "cell_type": "markdown",
   "id": "b050d789",
   "metadata": {},
   "source": [
    "## Best Random State"
   ]
  },
  {
   "cell_type": "code",
   "execution_count": 213,
   "id": "5d61c38a",
   "metadata": {},
   "outputs": [],
   "source": [
    "from sklearn.ensemble import RandomForestClassifier\n",
    "from sklearn.ensemble import AdaBoostClassifier\n",
    "from sklearn.tree import DecisionTreeClassifier\n",
    "from sklearn.neighbors import KNeighborsClassifier"
   ]
  },
  {
   "cell_type": "code",
   "execution_count": 214,
   "id": "81d5dfb8",
   "metadata": {},
   "outputs": [
    {
     "name": "stdout",
     "output_type": "stream",
     "text": [
      "training score 0.8232484076433121 testing score 0.8037974683544303 random state 1\n",
      "Training score 0.8232484076433121 testing score 0.8037974683544303 random state 1\n",
      "training score 0.8375796178343949 testing score 0.7151898734177216 random state 2\n",
      "Training score 0.8375796178343949 testing score 0.7151898734177216 random state 2\n",
      "training score 0.8232484076433121 testing score 0.7784810126582279 random state 3\n",
      "Training score 0.8232484076433121 testing score 0.7784810126582279 random state 3\n",
      "training score 0.8375796178343949 testing score 0.7341772151898734 random state 4\n",
      "Training score 0.8375796178343949 testing score 0.7341772151898734 random state 4\n",
      "training score 0.8232484076433121 testing score 0.759493670886076 random state 5\n",
      "Training score 0.8232484076433121 testing score 0.759493670886076 random state 5\n",
      "training score 0.8328025477707006 testing score 0.7468354430379747 random state 6\n",
      "Training score 0.8328025477707006 testing score 0.7468354430379747 random state 6\n",
      "training score 0.8343949044585988 testing score 0.7658227848101266 random state 7\n",
      "Training score 0.8343949044585988 testing score 0.7658227848101266 random state 7\n",
      "training score 0.8328025477707006 testing score 0.810126582278481 random state 8\n",
      "Training score 0.8328025477707006 testing score 0.810126582278481 random state 8\n",
      "training score 0.8168789808917197 testing score 0.7658227848101266 random state 9\n",
      "Training score 0.8168789808917197 testing score 0.7658227848101266 random state 9\n",
      "training score 0.8280254777070064 testing score 0.7911392405063291 random state 10\n",
      "Training score 0.8280254777070064 testing score 0.7911392405063291 random state 10\n",
      "training score 0.8248407643312102 testing score 0.7848101265822784 random state 11\n",
      "Training score 0.8248407643312102 testing score 0.7848101265822784 random state 11\n",
      "training score 0.8232484076433121 testing score 0.8354430379746836 random state 12\n",
      "Training score 0.8232484076433121 testing score 0.8354430379746836 random state 12\n",
      "training score 0.8328025477707006 testing score 0.8037974683544303 random state 13\n",
      "training score 0.8375796178343949 testing score 0.759493670886076 random state 14\n",
      "Training score 0.8375796178343949 testing score 0.759493670886076 random state 14\n",
      "training score 0.8439490445859873 testing score 0.8291139240506329 random state 15\n",
      "Training score 0.8439490445859873 testing score 0.8291139240506329 random state 15\n",
      "training score 0.821656050955414 testing score 0.810126582278481 random state 16\n",
      "training score 0.8359872611464968 testing score 0.7341772151898734 random state 17\n",
      "Training score 0.8359872611464968 testing score 0.7341772151898734 random state 17\n",
      "training score 0.8503184713375797 testing score 0.7848101265822784 random state 18\n",
      "Training score 0.8503184713375797 testing score 0.7848101265822784 random state 18\n",
      "training score 0.8232484076433121 testing score 0.7531645569620253 random state 19\n",
      "Training score 0.8232484076433121 testing score 0.7531645569620253 random state 19\n",
      "training score 0.8343949044585988 testing score 0.7721518987341772 random state 20\n",
      "Training score 0.8343949044585988 testing score 0.7721518987341772 random state 20\n",
      "training score 0.8375796178343949 testing score 0.7721518987341772 random state 21\n",
      "Training score 0.8375796178343949 testing score 0.7721518987341772 random state 21\n",
      "training score 0.8359872611464968 testing score 0.7531645569620253 random state 22\n",
      "Training score 0.8359872611464968 testing score 0.7531645569620253 random state 22\n",
      "training score 0.8328025477707006 testing score 0.7974683544303798 random state 23\n",
      "Training score 0.8328025477707006 testing score 0.7974683544303798 random state 23\n",
      "training score 0.8232484076433121 testing score 0.8164556962025317 random state 24\n",
      "Training score 0.8232484076433121 testing score 0.8164556962025317 random state 24\n",
      "training score 0.8232484076433121 testing score 0.7974683544303798 random state 25\n",
      "Training score 0.8232484076433121 testing score 0.7974683544303798 random state 25\n",
      "training score 0.8280254777070064 testing score 0.8037974683544303 random state 26\n",
      "Training score 0.8280254777070064 testing score 0.8037974683544303 random state 26\n",
      "training score 0.821656050955414 testing score 0.8037974683544303 random state 27\n",
      "Training score 0.821656050955414 testing score 0.8037974683544303 random state 27\n",
      "training score 0.8312101910828026 testing score 0.8291139240506329 random state 28\n",
      "Training score 0.8312101910828026 testing score 0.8291139240506329 random state 28\n",
      "training score 0.8264331210191083 testing score 0.8037974683544303 random state 29\n",
      "training score 0.8471337579617835 testing score 0.7721518987341772 random state 30\n",
      "Training score 0.8471337579617835 testing score 0.7721518987341772 random state 30\n",
      "training score 0.8503184713375797 testing score 0.7658227848101266 random state 31\n",
      "Training score 0.8503184713375797 testing score 0.7658227848101266 random state 31\n",
      "training score 0.8232484076433121 testing score 0.8417721518987342 random state 32\n",
      "Training score 0.8232484076433121 testing score 0.8417721518987342 random state 32\n",
      "training score 0.8296178343949044 testing score 0.7658227848101266 random state 33\n",
      "training score 0.8280254777070064 testing score 0.8227848101265823 random state 34\n",
      "training score 0.8375796178343949 testing score 0.7531645569620253 random state 35\n",
      "training score 0.8343949044585988 testing score 0.8037974683544303 random state 36\n",
      "training score 0.8296178343949044 testing score 0.7721518987341772 random state 37\n",
      "training score 0.8375796178343949 testing score 0.7784810126582279 random state 38\n",
      "training score 0.8248407643312102 testing score 0.810126582278481 random state 39\n",
      "training score 0.8375796178343949 testing score 0.7784810126582279 random state 40\n",
      "training score 0.8280254777070064 testing score 0.7974683544303798 random state 41\n",
      "training score 0.839171974522293 testing score 0.7784810126582279 random state 42\n",
      "training score 0.839171974522293 testing score 0.7974683544303798 random state 43\n",
      "training score 0.821656050955414 testing score 0.8037974683544303 random state 44\n",
      "training score 0.839171974522293 testing score 0.7974683544303798 random state 45\n",
      "training score 0.839171974522293 testing score 0.7658227848101266 random state 46\n",
      "training score 0.8296178343949044 testing score 0.8037974683544303 random state 47\n",
      "training score 0.839171974522293 testing score 0.7531645569620253 random state 48\n",
      "training score 0.8280254777070064 testing score 0.7721518987341772 random state 49\n",
      "training score 0.8359872611464968 testing score 0.7911392405063291 random state 50\n",
      "training score 0.8423566878980892 testing score 0.8037974683544303 random state 51\n",
      "Training score 0.8423566878980892 testing score 0.8037974683544303 random state 51\n",
      "training score 0.8296178343949044 testing score 0.7658227848101266 random state 52\n",
      "Training score 0.8296178343949044 testing score 0.7658227848101266 random state 52\n",
      "training score 0.8296178343949044 testing score 0.8164556962025317 random state 53\n",
      "Training score 0.8296178343949044 testing score 0.8164556962025317 random state 53\n",
      "training score 0.8296178343949044 testing score 0.8227848101265823 random state 54\n",
      "Training score 0.8296178343949044 testing score 0.8227848101265823 random state 54\n",
      "training score 0.8168789808917197 testing score 0.7911392405063291 random state 55\n",
      "training score 0.8296178343949044 testing score 0.810126582278481 random state 56\n",
      "Training score 0.8296178343949044 testing score 0.810126582278481 random state 56\n",
      "training score 0.8455414012738853 testing score 0.7531645569620253 random state 57\n",
      "Training score 0.8455414012738853 testing score 0.7531645569620253 random state 57\n",
      "training score 0.8359872611464968 testing score 0.7848101265822784 random state 58\n",
      "Training score 0.8359872611464968 testing score 0.7848101265822784 random state 58\n",
      "training score 0.8312101910828026 testing score 0.7784810126582279 random state 59\n",
      "Training score 0.8312101910828026 testing score 0.7784810126582279 random state 59\n",
      "training score 0.8280254777070064 testing score 0.7974683544303798 random state 60\n",
      "Training score 0.8280254777070064 testing score 0.7974683544303798 random state 60\n",
      "training score 0.8359872611464968 testing score 0.7848101265822784 random state 61\n",
      "Training score 0.8359872611464968 testing score 0.7848101265822784 random state 61\n",
      "training score 0.8343949044585988 testing score 0.7848101265822784 random state 62\n",
      "Training score 0.8343949044585988 testing score 0.7848101265822784 random state 62\n",
      "training score 0.8312101910828026 testing score 0.7784810126582279 random state 63\n",
      "Training score 0.8312101910828026 testing score 0.7784810126582279 random state 63\n",
      "training score 0.8328025477707006 testing score 0.7784810126582279 random state 64\n",
      "Training score 0.8328025477707006 testing score 0.7784810126582279 random state 64\n",
      "training score 0.839171974522293 testing score 0.7848101265822784 random state 65\n",
      "Training score 0.839171974522293 testing score 0.7848101265822784 random state 65\n",
      "training score 0.8200636942675159 testing score 0.7911392405063291 random state 66\n",
      "Training score 0.8200636942675159 testing score 0.7911392405063291 random state 66\n",
      "training score 0.839171974522293 testing score 0.7848101265822784 random state 67\n",
      "Training score 0.839171974522293 testing score 0.7848101265822784 random state 67\n",
      "training score 0.8375796178343949 testing score 0.7721518987341772 random state 68\n",
      "Training score 0.8375796178343949 testing score 0.7721518987341772 random state 68\n",
      "training score 0.8184713375796179 testing score 0.8291139240506329 random state 69\n",
      "Training score 0.8184713375796179 testing score 0.8291139240506329 random state 69\n",
      "training score 0.8200636942675159 testing score 0.8227848101265823 random state 70\n",
      "training score 0.8280254777070064 testing score 0.7531645569620253 random state 71\n",
      "training score 0.8375796178343949 testing score 0.7215189873417721 random state 72\n",
      "Training score 0.8375796178343949 testing score 0.7215189873417721 random state 72\n",
      "training score 0.8343949044585988 testing score 0.7911392405063291 random state 73\n",
      "Training score 0.8343949044585988 testing score 0.7911392405063291 random state 73\n",
      "training score 0.8232484076433121 testing score 0.8037974683544303 random state 74\n",
      "Training score 0.8232484076433121 testing score 0.8037974683544303 random state 74\n",
      "training score 0.8328025477707006 testing score 0.7911392405063291 random state 75\n",
      "Training score 0.8328025477707006 testing score 0.7911392405063291 random state 75\n",
      "training score 0.8423566878980892 testing score 0.7658227848101266 random state 76\n",
      "Training score 0.8423566878980892 testing score 0.7658227848101266 random state 76\n",
      "training score 0.8407643312101911 testing score 0.810126582278481 random state 77\n",
      "Training score 0.8407643312101911 testing score 0.810126582278481 random state 77\n",
      "training score 0.8471337579617835 testing score 0.810126582278481 random state 78\n",
      "Training score 0.8471337579617835 testing score 0.810126582278481 random state 78\n",
      "training score 0.8375796178343949 testing score 0.7784810126582279 random state 79\n",
      "Training score 0.8375796178343949 testing score 0.7784810126582279 random state 79\n",
      "training score 0.8073248407643312 testing score 0.8607594936708861 random state 80\n",
      "Training score 0.8073248407643312 testing score 0.8607594936708861 random state 80\n",
      "training score 0.821656050955414 testing score 0.8164556962025317 random state 81\n",
      "training score 0.8343949044585988 testing score 0.7658227848101266 random state 82\n",
      "training score 0.8471337579617835 testing score 0.740506329113924 random state 83\n",
      "training score 0.8248407643312102 testing score 0.8354430379746836 random state 84\n",
      "training score 0.8359872611464968 testing score 0.7784810126582279 random state 85\n",
      "training score 0.8248407643312102 testing score 0.8037974683544303 random state 86\n",
      "training score 0.8312101910828026 testing score 0.8164556962025317 random state 87\n",
      "training score 0.8375796178343949 testing score 0.7468354430379747 random state 88\n",
      "training score 0.8248407643312102 testing score 0.8291139240506329 random state 89\n",
      "training score 0.8407643312101911 testing score 0.7658227848101266 random state 90\n",
      "training score 0.8296178343949044 testing score 0.759493670886076 random state 91\n",
      "training score 0.8439490445859873 testing score 0.7784810126582279 random state 92\n",
      "training score 0.8184713375796179 testing score 0.8417721518987342 random state 93\n",
      "training score 0.8232484076433121 testing score 0.7911392405063291 random state 94\n",
      "training score 0.8487261146496815 testing score 0.7531645569620253 random state 95\n",
      "training score 0.8200636942675159 testing score 0.8291139240506329 random state 96\n",
      "training score 0.8407643312101911 testing score 0.7784810126582279 random state 97\n",
      "training score 0.8248407643312102 testing score 0.8227848101265823 random state 98\n",
      "training score 0.8184713375796179 testing score 0.7848101265822784 random state 99\n",
      "training score 0.8328025477707006 testing score 0.7341772151898734 random state 100\n",
      "training score 0.8439490445859873 testing score 0.759493670886076 random state 101\n",
      "training score 0.8296178343949044 testing score 0.8037974683544303 random state 102\n",
      "training score 0.8280254777070064 testing score 0.7531645569620253 random state 103\n",
      "training score 0.8312101910828026 testing score 0.7974683544303798 random state 104\n",
      "training score 0.8328025477707006 testing score 0.7848101265822784 random state 105\n",
      "training score 0.8375796178343949 testing score 0.7531645569620253 random state 106\n",
      "training score 0.8232484076433121 testing score 0.7911392405063291 random state 107\n",
      "training score 0.8264331210191083 testing score 0.8227848101265823 random state 108\n",
      "training score 0.8232484076433121 testing score 0.7911392405063291 random state 109\n",
      "training score 0.8232484076433121 testing score 0.8164556962025317 random state 110\n",
      "training score 0.8375796178343949 testing score 0.7848101265822784 random state 111\n",
      "training score 0.8152866242038217 testing score 0.8354430379746836 random state 112\n",
      "training score 0.8200636942675159 testing score 0.7848101265822784 random state 113\n",
      "training score 0.8280254777070064 testing score 0.7784810126582279 random state 114\n",
      "training score 0.8503184713375797 testing score 0.7848101265822784 random state 115\n",
      "training score 0.8455414012738853 testing score 0.7341772151898734 random state 116\n",
      "training score 0.8328025477707006 testing score 0.7974683544303798 random state 117\n",
      "training score 0.8503184713375797 testing score 0.7658227848101266 random state 118\n",
      "training score 0.8359872611464968 testing score 0.7721518987341772 random state 119\n",
      "training score 0.8248407643312102 testing score 0.7658227848101266 random state 120\n",
      "training score 0.8264331210191083 testing score 0.7974683544303798 random state 121\n",
      "training score 0.8375796178343949 testing score 0.7784810126582279 random state 122\n",
      "training score 0.8359872611464968 testing score 0.7911392405063291 random state 123\n",
      "training score 0.8232484076433121 testing score 0.7341772151898734 random state 124\n",
      "training score 0.839171974522293 testing score 0.7468354430379747 random state 125\n",
      "training score 0.8312101910828026 testing score 0.810126582278481 random state 126\n",
      "training score 0.839171974522293 testing score 0.8354430379746836 random state 127\n",
      "training score 0.8296178343949044 testing score 0.7721518987341772 random state 128\n",
      "training score 0.8343949044585988 testing score 0.7848101265822784 random state 129\n",
      "training score 0.8343949044585988 testing score 0.8227848101265823 random state 130\n",
      "training score 0.8423566878980892 testing score 0.7848101265822784 random state 131\n",
      "training score 0.8375796178343949 testing score 0.8227848101265823 random state 132\n",
      "training score 0.8184713375796179 testing score 0.8164556962025317 random state 133\n",
      "training score 0.8312101910828026 testing score 0.810126582278481 random state 134\n",
      "training score 0.8359872611464968 testing score 0.8037974683544303 random state 135\n",
      "training score 0.8280254777070064 testing score 0.7974683544303798 random state 136\n",
      "training score 0.8280254777070064 testing score 0.7911392405063291 random state 137\n",
      "training score 0.8312101910828026 testing score 0.7784810126582279 random state 138\n",
      "training score 0.8184713375796179 testing score 0.8164556962025317 random state 139\n",
      "training score 0.8455414012738853 testing score 0.759493670886076 random state 140\n",
      "training score 0.8375796178343949 testing score 0.759493670886076 random state 141\n",
      "training score 0.8328025477707006 testing score 0.7531645569620253 random state 142\n",
      "training score 0.8232484076433121 testing score 0.8164556962025317 random state 143\n",
      "training score 0.8232484076433121 testing score 0.8164556962025317 random state 144\n",
      "training score 0.8280254777070064 testing score 0.7784810126582279 random state 145\n",
      "training score 0.8343949044585988 testing score 0.7784810126582279 random state 146\n",
      "training score 0.8455414012738853 testing score 0.7911392405063291 random state 147\n",
      "training score 0.839171974522293 testing score 0.8037974683544303 random state 148\n",
      "training score 0.839171974522293 testing score 0.7658227848101266 random state 149\n",
      "training score 0.8248407643312102 testing score 0.8354430379746836 random state 150\n",
      "training score 0.8407643312101911 testing score 0.7341772151898734 random state 151\n",
      "training score 0.839171974522293 testing score 0.7531645569620253 random state 152\n",
      "training score 0.8168789808917197 testing score 0.8607594936708861 random state 153\n",
      "training score 0.8312101910828026 testing score 0.7341772151898734 random state 154\n",
      "training score 0.8423566878980892 testing score 0.7721518987341772 random state 155\n",
      "training score 0.8375796178343949 testing score 0.8037974683544303 random state 156\n",
      "training score 0.8168789808917197 testing score 0.8227848101265823 random state 157\n",
      "training score 0.8312101910828026 testing score 0.7848101265822784 random state 158\n",
      "training score 0.8264331210191083 testing score 0.8164556962025317 random state 159\n",
      "training score 0.8375796178343949 testing score 0.759493670886076 random state 160\n",
      "training score 0.8359872611464968 testing score 0.7468354430379747 random state 161\n",
      "training score 0.8264331210191083 testing score 0.7658227848101266 random state 162\n",
      "training score 0.8248407643312102 testing score 0.7911392405063291 random state 163\n",
      "training score 0.8200636942675159 testing score 0.810126582278481 random state 164\n",
      "training score 0.8121019108280255 testing score 0.8544303797468354 random state 165\n",
      "training score 0.8248407643312102 testing score 0.810126582278481 random state 166\n",
      "training score 0.8248407643312102 testing score 0.8227848101265823 random state 167\n",
      "training score 0.8264331210191083 testing score 0.7784810126582279 random state 168\n",
      "training score 0.8439490445859873 testing score 0.7468354430379747 random state 169\n",
      "training score 0.8312101910828026 testing score 0.7531645569620253 random state 170\n",
      "training score 0.8343949044585988 testing score 0.8164556962025317 random state 171\n",
      "training score 0.8550955414012739 testing score 0.740506329113924 random state 172\n",
      "training score 0.8343949044585988 testing score 0.8291139240506329 random state 173\n",
      "training score 0.8248407643312102 testing score 0.8354430379746836 random state 174\n",
      "training score 0.8264331210191083 testing score 0.8037974683544303 random state 175\n",
      "training score 0.8264331210191083 testing score 0.810126582278481 random state 176\n",
      "training score 0.8343949044585988 testing score 0.7658227848101266 random state 177\n",
      "training score 0.8423566878980892 testing score 0.7848101265822784 random state 178\n",
      "training score 0.8296178343949044 testing score 0.7911392405063291 random state 179\n",
      "training score 0.839171974522293 testing score 0.7721518987341772 random state 180\n",
      "training score 0.8312101910828026 testing score 0.7341772151898734 random state 181\n",
      "training score 0.8168789808917197 testing score 0.8164556962025317 random state 182\n",
      "training score 0.8328025477707006 testing score 0.7911392405063291 random state 183\n",
      "training score 0.8328025477707006 testing score 0.759493670886076 random state 184\n",
      "training score 0.8375796178343949 testing score 0.7784810126582279 random state 185\n",
      "training score 0.8343949044585988 testing score 0.8037974683544303 random state 186\n",
      "training score 0.8232484076433121 testing score 0.8354430379746836 random state 187\n",
      "training score 0.8280254777070064 testing score 0.7974683544303798 random state 188\n",
      "training score 0.8359872611464968 testing score 0.7911392405063291 random state 189\n",
      "training score 0.8328025477707006 testing score 0.7721518987341772 random state 190\n",
      "training score 0.8248407643312102 testing score 0.8164556962025317 random state 191\n",
      "training score 0.8296178343949044 testing score 0.8227848101265823 random state 192\n",
      "training score 0.8152866242038217 testing score 0.8291139240506329 random state 193\n",
      "training score 0.8280254777070064 testing score 0.7341772151898734 random state 194\n",
      "training score 0.8328025477707006 testing score 0.759493670886076 random state 195\n",
      "training score 0.839171974522293 testing score 0.7531645569620253 random state 196\n",
      "training score 0.8184713375796179 testing score 0.8037974683544303 random state 197\n",
      "training score 0.8487261146496815 testing score 0.810126582278481 random state 198\n",
      "training score 0.821656050955414 testing score 0.8037974683544303 random state 199\n",
      "training score 0.8168789808917197 testing score 0.8291139240506329 random state 200\n",
      "training score 0.8375796178343949 testing score 0.8164556962025317 random state 201\n",
      "training score 0.8248407643312102 testing score 0.7848101265822784 random state 202\n",
      "training score 0.8312101910828026 testing score 0.8227848101265823 random state 203\n",
      "training score 0.8248407643312102 testing score 0.8164556962025317 random state 204\n",
      "training score 0.8503184713375797 testing score 0.7278481012658228 random state 205\n",
      "training score 0.8375796178343949 testing score 0.7721518987341772 random state 206\n",
      "training score 0.8407643312101911 testing score 0.759493670886076 random state 207\n",
      "training score 0.8535031847133758 testing score 0.7531645569620253 random state 208\n",
      "training score 0.821656050955414 testing score 0.7911392405063291 random state 209\n",
      "training score 0.8359872611464968 testing score 0.7848101265822784 random state 210\n",
      "training score 0.8423566878980892 testing score 0.740506329113924 random state 211\n",
      "training score 0.8232484076433121 testing score 0.8164556962025317 random state 212\n",
      "training score 0.8375796178343949 testing score 0.7784810126582279 random state 213\n",
      "training score 0.821656050955414 testing score 0.810126582278481 random state 214\n",
      "training score 0.8264331210191083 testing score 0.8291139240506329 random state 215\n",
      "training score 0.8296178343949044 testing score 0.7974683544303798 random state 216\n",
      "training score 0.8312101910828026 testing score 0.8164556962025317 random state 217\n",
      "training score 0.8343949044585988 testing score 0.7848101265822784 random state 218\n",
      "training score 0.839171974522293 testing score 0.7658227848101266 random state 219\n",
      "training score 0.856687898089172 testing score 0.7215189873417721 random state 220\n",
      "training score 0.8535031847133758 testing score 0.740506329113924 random state 221\n",
      "training score 0.8343949044585988 testing score 0.740506329113924 random state 222\n",
      "training score 0.8487261146496815 testing score 0.7721518987341772 random state 223\n",
      "training score 0.8375796178343949 testing score 0.7784810126582279 random state 224\n",
      "training score 0.821656050955414 testing score 0.810126582278481 random state 225\n",
      "training score 0.8503184713375797 testing score 0.759493670886076 random state 226\n",
      "training score 0.8280254777070064 testing score 0.810126582278481 random state 227\n",
      "training score 0.8343949044585988 testing score 0.7911392405063291 random state 228\n",
      "training score 0.8328025477707006 testing score 0.7658227848101266 random state 229\n",
      "training score 0.8455414012738853 testing score 0.759493670886076 random state 230\n",
      "training score 0.8423566878980892 testing score 0.7848101265822784 random state 231\n",
      "training score 0.8487261146496815 testing score 0.7848101265822784 random state 232\n",
      "training score 0.8407643312101911 testing score 0.7911392405063291 random state 233\n",
      "training score 0.8312101910828026 testing score 0.7848101265822784 random state 234\n",
      "training score 0.839171974522293 testing score 0.7721518987341772 random state 235\n",
      "training score 0.8264331210191083 testing score 0.8544303797468354 random state 236\n",
      "training score 0.8598726114649682 testing score 0.740506329113924 random state 237\n",
      "training score 0.821656050955414 testing score 0.8037974683544303 random state 238\n",
      "training score 0.8359872611464968 testing score 0.740506329113924 random state 239\n",
      "training score 0.8455414012738853 testing score 0.740506329113924 random state 240\n",
      "training score 0.8312101910828026 testing score 0.7911392405063291 random state 241\n",
      "training score 0.8328025477707006 testing score 0.7468354430379747 random state 242\n",
      "training score 0.8296178343949044 testing score 0.7911392405063291 random state 243\n",
      "training score 0.8359872611464968 testing score 0.7468354430379747 random state 244\n",
      "training score 0.8248407643312102 testing score 0.7911392405063291 random state 245\n",
      "training score 0.8375796178343949 testing score 0.7658227848101266 random state 246\n",
      "training score 0.8280254777070064 testing score 0.7974683544303798 random state 247\n",
      "training score 0.8280254777070064 testing score 0.8164556962025317 random state 248\n",
      "training score 0.8439490445859873 testing score 0.7658227848101266 random state 249\n",
      "training score 0.8359872611464968 testing score 0.7784810126582279 random state 250\n",
      "training score 0.8328025477707006 testing score 0.7721518987341772 random state 251\n",
      "training score 0.821656050955414 testing score 0.8164556962025317 random state 252\n",
      "training score 0.8264331210191083 testing score 0.7974683544303798 random state 253\n",
      "training score 0.8232484076433121 testing score 0.8037974683544303 random state 254\n",
      "training score 0.8343949044585988 testing score 0.7658227848101266 random state 255\n",
      "training score 0.8343949044585988 testing score 0.8037974683544303 random state 256\n",
      "training score 0.8280254777070064 testing score 0.8037974683544303 random state 257\n",
      "training score 0.8248407643312102 testing score 0.8291139240506329 random state 258\n",
      "training score 0.8264331210191083 testing score 0.810126582278481 random state 259\n",
      "training score 0.8535031847133758 testing score 0.7531645569620253 random state 260\n",
      "training score 0.8200636942675159 testing score 0.8481012658227848 random state 261\n",
      "training score 0.8248407643312102 testing score 0.8291139240506329 random state 262\n",
      "training score 0.8343949044585988 testing score 0.7784810126582279 random state 263\n",
      "training score 0.8248407643312102 testing score 0.7974683544303798 random state 264\n",
      "training score 0.8455414012738853 testing score 0.740506329113924 random state 265\n",
      "training score 0.8296178343949044 testing score 0.7721518987341772 random state 266\n",
      "training score 0.8200636942675159 testing score 0.810126582278481 random state 267\n",
      "training score 0.8423566878980892 testing score 0.7151898734177216 random state 268\n",
      "training score 0.8471337579617835 testing score 0.7911392405063291 random state 269\n",
      "training score 0.8439490445859873 testing score 0.7784810126582279 random state 270\n",
      "training score 0.821656050955414 testing score 0.8164556962025317 random state 271\n",
      "training score 0.8343949044585988 testing score 0.7658227848101266 random state 272\n",
      "training score 0.8312101910828026 testing score 0.810126582278481 random state 273\n",
      "training score 0.8407643312101911 testing score 0.7721518987341772 random state 274\n",
      "training score 0.8248407643312102 testing score 0.810126582278481 random state 275\n",
      "training score 0.8423566878980892 testing score 0.740506329113924 random state 276\n",
      "training score 0.8328025477707006 testing score 0.7848101265822784 random state 277\n",
      "training score 0.8359872611464968 testing score 0.7721518987341772 random state 278\n",
      "training score 0.821656050955414 testing score 0.8354430379746836 random state 279\n",
      "training score 0.8264331210191083 testing score 0.810126582278481 random state 280\n",
      "training score 0.839171974522293 testing score 0.7784810126582279 random state 281\n",
      "training score 0.8375796178343949 testing score 0.7784810126582279 random state 282\n",
      "training score 0.8407643312101911 testing score 0.7848101265822784 random state 283\n",
      "training score 0.8312101910828026 testing score 0.7974683544303798 random state 284\n",
      "training score 0.8439490445859873 testing score 0.8354430379746836 random state 285\n",
      "training score 0.8184713375796179 testing score 0.8037974683544303 random state 286\n",
      "training score 0.8200636942675159 testing score 0.8164556962025317 random state 287\n",
      "training score 0.8487261146496815 testing score 0.740506329113924 random state 288\n",
      "training score 0.8312101910828026 testing score 0.7784810126582279 random state 289\n",
      "training score 0.8248407643312102 testing score 0.7911392405063291 random state 290\n",
      "training score 0.8343949044585988 testing score 0.7658227848101266 random state 291\n",
      "training score 0.821656050955414 testing score 0.8164556962025317 random state 292\n",
      "training score 0.8264331210191083 testing score 0.7848101265822784 random state 293\n",
      "training score 0.8248407643312102 testing score 0.759493670886076 random state 294\n",
      "training score 0.8343949044585988 testing score 0.8037974683544303 random state 295\n",
      "training score 0.8375796178343949 testing score 0.7784810126582279 random state 296\n",
      "training score 0.8280254777070064 testing score 0.7848101265822784 random state 297\n",
      "training score 0.8519108280254777 testing score 0.7278481012658228 random state 298\n",
      "training score 0.8280254777070064 testing score 0.8164556962025317 random state 299\n",
      "training score 0.8264331210191083 testing score 0.8227848101265823 random state 300\n",
      "training score 0.8328025477707006 testing score 0.7658227848101266 random state 301\n",
      "training score 0.839171974522293 testing score 0.759493670886076 random state 302\n",
      "training score 0.8280254777070064 testing score 0.7974683544303798 random state 303\n",
      "training score 0.8312101910828026 testing score 0.8291139240506329 random state 304\n",
      "training score 0.8343949044585988 testing score 0.7531645569620253 random state 305\n",
      "training score 0.8328025477707006 testing score 0.7784810126582279 random state 306\n",
      "training score 0.8328025477707006 testing score 0.7721518987341772 random state 307\n",
      "training score 0.8248407643312102 testing score 0.8481012658227848 random state 308\n",
      "training score 0.8343949044585988 testing score 0.759493670886076 random state 309\n",
      "training score 0.8487261146496815 testing score 0.7341772151898734 random state 310\n",
      "training score 0.8343949044585988 testing score 0.8037974683544303 random state 311\n",
      "training score 0.8168789808917197 testing score 0.7848101265822784 random state 312\n",
      "training score 0.8200636942675159 testing score 0.7721518987341772 random state 313\n",
      "training score 0.8312101910828026 testing score 0.7911392405063291 random state 314\n",
      "training score 0.8487261146496815 testing score 0.7278481012658228 random state 315\n",
      "training score 0.8328025477707006 testing score 0.8037974683544303 random state 316\n",
      "training score 0.8487261146496815 testing score 0.7721518987341772 random state 317\n",
      "training score 0.8359872611464968 testing score 0.8164556962025317 random state 318\n",
      "training score 0.8248407643312102 testing score 0.7974683544303798 random state 319\n",
      "training score 0.8296178343949044 testing score 0.7721518987341772 random state 320\n",
      "training score 0.8439490445859873 testing score 0.7848101265822784 random state 321\n",
      "training score 0.839171974522293 testing score 0.7531645569620253 random state 322\n",
      "training score 0.8439490445859873 testing score 0.759493670886076 random state 323\n",
      "training score 0.839171974522293 testing score 0.7974683544303798 random state 324\n",
      "training score 0.8200636942675159 testing score 0.810126582278481 random state 325\n",
      "training score 0.8312101910828026 testing score 0.7911392405063291 random state 326\n",
      "training score 0.8359872611464968 testing score 0.7911392405063291 random state 327\n",
      "training score 0.8328025477707006 testing score 0.7721518987341772 random state 328\n",
      "training score 0.8375796178343949 testing score 0.7468354430379747 random state 329\n",
      "training score 0.821656050955414 testing score 0.8354430379746836 random state 330\n",
      "training score 0.8296178343949044 testing score 0.8481012658227848 random state 331\n",
      "training score 0.8439490445859873 testing score 0.7468354430379747 random state 332\n",
      "training score 0.8375796178343949 testing score 0.7721518987341772 random state 333\n",
      "training score 0.8232484076433121 testing score 0.8037974683544303 random state 334\n",
      "training score 0.8248407643312102 testing score 0.7721518987341772 random state 335\n",
      "training score 0.8487261146496815 testing score 0.740506329113924 random state 336\n",
      "training score 0.8312101910828026 testing score 0.7784810126582279 random state 337\n",
      "training score 0.8264331210191083 testing score 0.810126582278481 random state 338\n",
      "training score 0.8407643312101911 testing score 0.7468354430379747 random state 339\n",
      "training score 0.8232484076433121 testing score 0.810126582278481 random state 340\n",
      "training score 0.8423566878980892 testing score 0.7721518987341772 random state 341\n",
      "training score 0.8343949044585988 testing score 0.8037974683544303 random state 342\n",
      "training score 0.8359872611464968 testing score 0.6962025316455697 random state 343\n",
      "training score 0.8296178343949044 testing score 0.7848101265822784 random state 344\n",
      "training score 0.8232484076433121 testing score 0.7848101265822784 random state 345\n",
      "training score 0.8296178343949044 testing score 0.8037974683544303 random state 346\n",
      "training score 0.8375796178343949 testing score 0.8037974683544303 random state 347\n",
      "training score 0.821656050955414 testing score 0.7974683544303798 random state 348\n",
      "training score 0.8200636942675159 testing score 0.7721518987341772 random state 349\n",
      "training score 0.8312101910828026 testing score 0.7531645569620253 random state 350\n",
      "training score 0.839171974522293 testing score 0.7911392405063291 random state 351\n",
      "training score 0.8375796178343949 testing score 0.740506329113924 random state 352\n",
      "training score 0.8248407643312102 testing score 0.8164556962025317 random state 353\n",
      "training score 0.8248407643312102 testing score 0.8037974683544303 random state 354\n",
      "training score 0.8359872611464968 testing score 0.7848101265822784 random state 355\n",
      "training score 0.839171974522293 testing score 0.7658227848101266 random state 356\n",
      "training score 0.8232484076433121 testing score 0.810126582278481 random state 357\n",
      "training score 0.8296178343949044 testing score 0.7658227848101266 random state 358\n",
      "training score 0.8343949044585988 testing score 0.7341772151898734 random state 359\n",
      "training score 0.821656050955414 testing score 0.7974683544303798 random state 360\n",
      "training score 0.8375796178343949 testing score 0.759493670886076 random state 361\n",
      "training score 0.8280254777070064 testing score 0.7784810126582279 random state 362\n",
      "training score 0.8343949044585988 testing score 0.7784810126582279 random state 363\n",
      "training score 0.8280254777070064 testing score 0.8164556962025317 random state 364\n",
      "training score 0.8359872611464968 testing score 0.8227848101265823 random state 365\n",
      "training score 0.8359872611464968 testing score 0.7468354430379747 random state 366\n",
      "training score 0.8089171974522293 testing score 0.8354430379746836 random state 367\n",
      "training score 0.8184713375796179 testing score 0.7911392405063291 random state 368\n",
      "training score 0.8375796178343949 testing score 0.7784810126582279 random state 369\n",
      "training score 0.8359872611464968 testing score 0.740506329113924 random state 370\n",
      "training score 0.8200636942675159 testing score 0.8291139240506329 random state 371\n",
      "training score 0.8280254777070064 testing score 0.8227848101265823 random state 372\n",
      "training score 0.8264331210191083 testing score 0.7974683544303798 random state 373\n",
      "training score 0.8168789808917197 testing score 0.8417721518987342 random state 374\n",
      "training score 0.8375796178343949 testing score 0.7658227848101266 random state 375\n",
      "training score 0.8248407643312102 testing score 0.7974683544303798 random state 376\n",
      "training score 0.8280254777070064 testing score 0.8227848101265823 random state 377\n",
      "training score 0.8152866242038217 testing score 0.7784810126582279 random state 378\n",
      "training score 0.8407643312101911 testing score 0.7341772151898734 random state 379\n",
      "training score 0.8487261146496815 testing score 0.7658227848101266 random state 380\n",
      "training score 0.821656050955414 testing score 0.810126582278481 random state 381\n",
      "training score 0.8439490445859873 testing score 0.7721518987341772 random state 382\n",
      "training score 0.839171974522293 testing score 0.7911392405063291 random state 383\n",
      "training score 0.8487261146496815 testing score 0.8227848101265823 random state 384\n",
      "training score 0.8168789808917197 testing score 0.8227848101265823 random state 385\n",
      "training score 0.8343949044585988 testing score 0.7784810126582279 random state 386\n",
      "training score 0.8232484076433121 testing score 0.8164556962025317 random state 387\n",
      "training score 0.8248407643312102 testing score 0.810126582278481 random state 388\n",
      "training score 0.8328025477707006 testing score 0.7974683544303798 random state 389\n",
      "training score 0.8343949044585988 testing score 0.7658227848101266 random state 390\n",
      "training score 0.8264331210191083 testing score 0.7911392405063291 random state 391\n",
      "training score 0.8248407643312102 testing score 0.8164556962025317 random state 392\n",
      "training score 0.8455414012738853 testing score 0.7531645569620253 random state 393\n",
      "training score 0.8200636942675159 testing score 0.810126582278481 random state 394\n",
      "training score 0.8359872611464968 testing score 0.7974683544303798 random state 395\n",
      "training score 0.8423566878980892 testing score 0.7911392405063291 random state 396\n",
      "training score 0.8328025477707006 testing score 0.8544303797468354 random state 397\n",
      "training score 0.8471337579617835 testing score 0.7974683544303798 random state 398\n",
      "training score 0.8471337579617835 testing score 0.7848101265822784 random state 399\n",
      "training score 0.8200636942675159 testing score 0.7658227848101266 random state 400\n",
      "training score 0.8184713375796179 testing score 0.7721518987341772 random state 401\n",
      "training score 0.8296178343949044 testing score 0.810126582278481 random state 402\n",
      "training score 0.8264331210191083 testing score 0.7911392405063291 random state 403\n",
      "training score 0.8375796178343949 testing score 0.7531645569620253 random state 404\n",
      "training score 0.8343949044585988 testing score 0.7721518987341772 random state 405\n",
      "training score 0.8296178343949044 testing score 0.7468354430379747 random state 406\n",
      "training score 0.8248407643312102 testing score 0.7721518987341772 random state 407\n",
      "training score 0.8375796178343949 testing score 0.7974683544303798 random state 408\n",
      "training score 0.8519108280254777 testing score 0.7151898734177216 random state 409\n",
      "training score 0.8455414012738853 testing score 0.7658227848101266 random state 410\n",
      "training score 0.821656050955414 testing score 0.7911392405063291 random state 411\n",
      "training score 0.8184713375796179 testing score 0.7911392405063291 random state 412\n",
      "training score 0.8328025477707006 testing score 0.7784810126582279 random state 413\n",
      "training score 0.821656050955414 testing score 0.7911392405063291 random state 414\n",
      "training score 0.8264331210191083 testing score 0.810126582278481 random state 415\n",
      "training score 0.8312101910828026 testing score 0.759493670886076 random state 416\n",
      "training score 0.8121019108280255 testing score 0.8354430379746836 random state 417\n",
      "training score 0.8184713375796179 testing score 0.7848101265822784 random state 418\n",
      "training score 0.8375796178343949 testing score 0.7468354430379747 random state 419\n",
      "training score 0.8248407643312102 testing score 0.7911392405063291 random state 420\n",
      "training score 0.839171974522293 testing score 0.7658227848101266 random state 421\n",
      "training score 0.8232484076433121 testing score 0.810126582278481 random state 422\n",
      "training score 0.8264331210191083 testing score 0.7848101265822784 random state 423\n",
      "training score 0.8264331210191083 testing score 0.7784810126582279 random state 424\n",
      "training score 0.8232484076433121 testing score 0.7848101265822784 random state 425\n",
      "training score 0.8312101910828026 testing score 0.7468354430379747 random state 426\n",
      "training score 0.821656050955414 testing score 0.8164556962025317 random state 427\n",
      "training score 0.8264331210191083 testing score 0.7468354430379747 random state 428\n",
      "training score 0.8280254777070064 testing score 0.7848101265822784 random state 429\n",
      "training score 0.8375796178343949 testing score 0.8164556962025317 random state 430\n",
      "training score 0.8296178343949044 testing score 0.7784810126582279 random state 431\n",
      "training score 0.8375796178343949 testing score 0.7848101265822784 random state 432\n",
      "training score 0.8503184713375797 testing score 0.740506329113924 random state 433\n",
      "training score 0.8407643312101911 testing score 0.7848101265822784 random state 434\n",
      "training score 0.8280254777070064 testing score 0.8354430379746836 random state 435\n",
      "training score 0.8471337579617835 testing score 0.7341772151898734 random state 436\n",
      "training score 0.8312101910828026 testing score 0.7721518987341772 random state 437\n",
      "training score 0.8312101910828026 testing score 0.7468354430379747 random state 438\n",
      "training score 0.839171974522293 testing score 0.7721518987341772 random state 439\n",
      "training score 0.8423566878980892 testing score 0.8037974683544303 random state 440\n",
      "training score 0.8328025477707006 testing score 0.759493670886076 random state 441\n",
      "training score 0.8423566878980892 testing score 0.7848101265822784 random state 442\n",
      "training score 0.8280254777070064 testing score 0.7784810126582279 random state 443\n",
      "training score 0.821656050955414 testing score 0.7784810126582279 random state 444\n",
      "training score 0.8200636942675159 testing score 0.8670886075949367 random state 445\n",
      "training score 0.8471337579617835 testing score 0.7531645569620253 random state 446\n",
      "training score 0.821656050955414 testing score 0.7658227848101266 random state 447\n",
      "training score 0.8280254777070064 testing score 0.8037974683544303 random state 448\n",
      "training score 0.8359872611464968 testing score 0.7721518987341772 random state 449\n",
      "training score 0.8471337579617835 testing score 0.7468354430379747 random state 450\n",
      "training score 0.8312101910828026 testing score 0.7531645569620253 random state 451\n",
      "training score 0.8296178343949044 testing score 0.7911392405063291 random state 452\n",
      "training score 0.8375796178343949 testing score 0.7658227848101266 random state 453\n",
      "training score 0.8280254777070064 testing score 0.7468354430379747 random state 454\n",
      "training score 0.8200636942675159 testing score 0.8291139240506329 random state 455\n",
      "training score 0.8343949044585988 testing score 0.7911392405063291 random state 456\n",
      "training score 0.8264331210191083 testing score 0.7848101265822784 random state 457\n",
      "training score 0.8232484076433121 testing score 0.7721518987341772 random state 458\n",
      "training score 0.8312101910828026 testing score 0.7911392405063291 random state 459\n",
      "training score 0.8407643312101911 testing score 0.7531645569620253 random state 460\n",
      "training score 0.8232484076433121 testing score 0.7658227848101266 random state 461\n",
      "training score 0.8375796178343949 testing score 0.7658227848101266 random state 462\n",
      "training score 0.8423566878980892 testing score 0.7531645569620253 random state 463\n",
      "training score 0.8280254777070064 testing score 0.8164556962025317 random state 464\n",
      "training score 0.821656050955414 testing score 0.7721518987341772 random state 465\n",
      "training score 0.8375796178343949 testing score 0.7531645569620253 random state 466\n",
      "training score 0.8407643312101911 testing score 0.7848101265822784 random state 467\n",
      "training score 0.8200636942675159 testing score 0.7848101265822784 random state 468\n",
      "training score 0.8343949044585988 testing score 0.7911392405063291 random state 469\n",
      "training score 0.8280254777070064 testing score 0.8164556962025317 random state 470\n",
      "training score 0.8343949044585988 testing score 0.8291139240506329 random state 471\n",
      "training score 0.8312101910828026 testing score 0.8164556962025317 random state 472\n",
      "training score 0.8375796178343949 testing score 0.7911392405063291 random state 473\n",
      "training score 0.8407643312101911 testing score 0.759493670886076 random state 474\n",
      "training score 0.8264331210191083 testing score 0.810126582278481 random state 475\n",
      "training score 0.8296178343949044 testing score 0.810126582278481 random state 476\n",
      "training score 0.8328025477707006 testing score 0.7784810126582279 random state 477\n",
      "training score 0.8152866242038217 testing score 0.8291139240506329 random state 478\n",
      "training score 0.8232484076433121 testing score 0.7721518987341772 random state 479\n",
      "training score 0.8280254777070064 testing score 0.8291139240506329 random state 480\n",
      "training score 0.8264331210191083 testing score 0.8037974683544303 random state 481\n",
      "training score 0.8264331210191083 testing score 0.7974683544303798 random state 482\n",
      "training score 0.8423566878980892 testing score 0.740506329113924 random state 483\n",
      "training score 0.8264331210191083 testing score 0.7784810126582279 random state 484\n",
      "training score 0.8296178343949044 testing score 0.7848101265822784 random state 485\n",
      "training score 0.8407643312101911 testing score 0.7468354430379747 random state 486\n",
      "training score 0.8184713375796179 testing score 0.810126582278481 random state 487\n",
      "training score 0.8232484076433121 testing score 0.8481012658227848 random state 488\n",
      "training score 0.8296178343949044 testing score 0.7974683544303798 random state 489\n",
      "training score 0.8439490445859873 testing score 0.7531645569620253 random state 490\n",
      "training score 0.8503184713375797 testing score 0.740506329113924 random state 491\n",
      "training score 0.8455414012738853 testing score 0.7468354430379747 random state 492\n",
      "training score 0.8407643312101911 testing score 0.810126582278481 random state 493\n",
      "training score 0.8328025477707006 testing score 0.7721518987341772 random state 494\n",
      "training score 0.8423566878980892 testing score 0.7468354430379747 random state 495\n",
      "training score 0.8343949044585988 testing score 0.7658227848101266 random state 496\n",
      "training score 0.821656050955414 testing score 0.7911392405063291 random state 497\n",
      "training score 0.839171974522293 testing score 0.810126582278481 random state 498\n",
      "training score 0.821656050955414 testing score 0.7848101265822784 random state 499\n",
      "training score 0.8312101910828026 testing score 0.7658227848101266 random state 500\n",
      "training score 0.8407643312101911 testing score 0.810126582278481 random state 501\n",
      "training score 0.8312101910828026 testing score 0.8037974683544303 random state 502\n",
      "training score 0.8264331210191083 testing score 0.740506329113924 random state 503\n",
      "training score 0.8264331210191083 testing score 0.7911392405063291 random state 504\n",
      "training score 0.8359872611464968 testing score 0.8164556962025317 random state 505\n",
      "training score 0.821656050955414 testing score 0.810126582278481 random state 506\n",
      "training score 0.8359872611464968 testing score 0.7531645569620253 random state 507\n",
      "training score 0.8296178343949044 testing score 0.8291139240506329 random state 508\n",
      "training score 0.839171974522293 testing score 0.759493670886076 random state 509\n",
      "training score 0.8264331210191083 testing score 0.7468354430379747 random state 510\n",
      "training score 0.8375796178343949 testing score 0.7278481012658228 random state 511\n",
      "training score 0.839171974522293 testing score 0.759493670886076 random state 512\n",
      "training score 0.8407643312101911 testing score 0.7531645569620253 random state 513\n",
      "training score 0.839171974522293 testing score 0.7848101265822784 random state 514\n",
      "training score 0.8375796178343949 testing score 0.7848101265822784 random state 515\n",
      "training score 0.8232484076433121 testing score 0.8037974683544303 random state 516\n",
      "training score 0.8280254777070064 testing score 0.7721518987341772 random state 517\n",
      "training score 0.8296178343949044 testing score 0.8164556962025317 random state 518\n",
      "training score 0.8264331210191083 testing score 0.8227848101265823 random state 519\n",
      "training score 0.8439490445859873 testing score 0.759493670886076 random state 520\n",
      "training score 0.8328025477707006 testing score 0.7848101265822784 random state 521\n",
      "training score 0.8407643312101911 testing score 0.7721518987341772 random state 522\n",
      "training score 0.8359872611464968 testing score 0.7531645569620253 random state 523\n",
      "training score 0.8328025477707006 testing score 0.8037974683544303 random state 524\n",
      "training score 0.8423566878980892 testing score 0.7531645569620253 random state 525\n",
      "training score 0.8232484076433121 testing score 0.7658227848101266 random state 526\n",
      "training score 0.8168789808917197 testing score 0.8544303797468354 random state 527\n",
      "training score 0.8471337579617835 testing score 0.7974683544303798 random state 528\n",
      "training score 0.8343949044585988 testing score 0.7784810126582279 random state 529\n",
      "training score 0.8359872611464968 testing score 0.7278481012658228 random state 530\n",
      "training score 0.8343949044585988 testing score 0.7721518987341772 random state 531\n",
      "training score 0.8503184713375797 testing score 0.7848101265822784 random state 532\n",
      "training score 0.8343949044585988 testing score 0.7784810126582279 random state 533\n",
      "training score 0.8232484076433121 testing score 0.7974683544303798 random state 534\n",
      "training score 0.8184713375796179 testing score 0.7911392405063291 random state 535\n",
      "training score 0.8248407643312102 testing score 0.8227848101265823 random state 536\n",
      "training score 0.8200636942675159 testing score 0.7784810126582279 random state 537\n",
      "training score 0.8343949044585988 testing score 0.810126582278481 random state 538\n",
      "training score 0.8455414012738853 testing score 0.7215189873417721 random state 539\n",
      "training score 0.8312101910828026 testing score 0.8037974683544303 random state 540\n",
      "training score 0.8375796178343949 testing score 0.7531645569620253 random state 541\n",
      "training score 0.821656050955414 testing score 0.7974683544303798 random state 542\n",
      "training score 0.8343949044585988 testing score 0.7341772151898734 random state 543\n",
      "training score 0.8248407643312102 testing score 0.7911392405063291 random state 544\n",
      "training score 0.8152866242038217 testing score 0.810126582278481 random state 545\n",
      "training score 0.8359872611464968 testing score 0.7531645569620253 random state 546\n",
      "training score 0.8375796178343949 testing score 0.7341772151898734 random state 547\n",
      "training score 0.8343949044585988 testing score 0.759493670886076 random state 548\n",
      "training score 0.8296178343949044 testing score 0.7721518987341772 random state 549\n",
      "training score 0.8455414012738853 testing score 0.7468354430379747 random state 550\n",
      "training score 0.8248407643312102 testing score 0.8037974683544303 random state 551\n",
      "training score 0.8312101910828026 testing score 0.7784810126582279 random state 552\n",
      "training score 0.8264331210191083 testing score 0.7468354430379747 random state 553\n",
      "training score 0.8248407643312102 testing score 0.759493670886076 random state 554\n",
      "training score 0.8264331210191083 testing score 0.7911392405063291 random state 555\n",
      "training score 0.8280254777070064 testing score 0.8037974683544303 random state 556\n",
      "training score 0.8296178343949044 testing score 0.759493670886076 random state 557\n",
      "training score 0.839171974522293 testing score 0.7658227848101266 random state 558\n",
      "training score 0.8312101910828026 testing score 0.7341772151898734 random state 559\n",
      "training score 0.8200636942675159 testing score 0.8227848101265823 random state 560\n",
      "training score 0.8343949044585988 testing score 0.8037974683544303 random state 561\n",
      "training score 0.8359872611464968 testing score 0.7784810126582279 random state 562\n",
      "training score 0.8264331210191083 testing score 0.7911392405063291 random state 563\n",
      "training score 0.8312101910828026 testing score 0.8354430379746836 random state 564\n",
      "training score 0.8264331210191083 testing score 0.7278481012658228 random state 565\n",
      "training score 0.8455414012738853 testing score 0.7974683544303798 random state 566\n",
      "training score 0.8328025477707006 testing score 0.7974683544303798 random state 567\n",
      "training score 0.8328025477707006 testing score 0.7784810126582279 random state 568\n",
      "training score 0.8296178343949044 testing score 0.810126582278481 random state 569\n",
      "training score 0.8121019108280255 testing score 0.8037974683544303 random state 570\n",
      "training score 0.8184713375796179 testing score 0.7974683544303798 random state 571\n",
      "training score 0.839171974522293 testing score 0.7721518987341772 random state 572\n",
      "training score 0.8312101910828026 testing score 0.7911392405063291 random state 573\n",
      "training score 0.8232484076433121 testing score 0.7784810126582279 random state 574\n",
      "training score 0.8184713375796179 testing score 0.7658227848101266 random state 575\n",
      "training score 0.8168789808917197 testing score 0.8544303797468354 random state 576\n",
      "training score 0.8328025477707006 testing score 0.7848101265822784 random state 577\n",
      "training score 0.8343949044585988 testing score 0.740506329113924 random state 578\n",
      "training score 0.8296178343949044 testing score 0.810126582278481 random state 579\n",
      "training score 0.8375796178343949 testing score 0.7721518987341772 random state 580\n",
      "training score 0.839171974522293 testing score 0.7784810126582279 random state 581\n",
      "training score 0.8312101910828026 testing score 0.8037974683544303 random state 582\n",
      "training score 0.8248407643312102 testing score 0.8037974683544303 random state 583\n",
      "training score 0.8343949044585988 testing score 0.8037974683544303 random state 584\n",
      "training score 0.821656050955414 testing score 0.8291139240506329 random state 585\n",
      "training score 0.8328025477707006 testing score 0.7531645569620253 random state 586\n",
      "training score 0.8184713375796179 testing score 0.8164556962025317 random state 587\n",
      "training score 0.8200636942675159 testing score 0.8164556962025317 random state 588\n",
      "training score 0.8200636942675159 testing score 0.8291139240506329 random state 589\n",
      "training score 0.8312101910828026 testing score 0.7911392405063291 random state 590\n",
      "training score 0.8359872611464968 testing score 0.740506329113924 random state 591\n",
      "training score 0.8296178343949044 testing score 0.7658227848101266 random state 592\n",
      "training score 0.8312101910828026 testing score 0.8037974683544303 random state 593\n",
      "training score 0.8343949044585988 testing score 0.7721518987341772 random state 594\n",
      "training score 0.8296178343949044 testing score 0.810126582278481 random state 595\n",
      "training score 0.8232484076433121 testing score 0.8227848101265823 random state 596\n",
      "training score 0.8359872611464968 testing score 0.7848101265822784 random state 597\n",
      "training score 0.8343949044585988 testing score 0.7911392405063291 random state 598\n",
      "training score 0.8550955414012739 testing score 0.6835443037974683 random state 599\n",
      "training score 0.8232484076433121 testing score 0.8227848101265823 random state 600\n",
      "training score 0.8184713375796179 testing score 0.7784810126582279 random state 601\n",
      "training score 0.8264331210191083 testing score 0.8860759493670886 random state 602\n",
      "training score 0.8359872611464968 testing score 0.7974683544303798 random state 603\n",
      "training score 0.821656050955414 testing score 0.810126582278481 random state 604\n",
      "training score 0.8550955414012739 testing score 0.7468354430379747 random state 605\n",
      "training score 0.8312101910828026 testing score 0.7848101265822784 random state 606\n",
      "training score 0.8407643312101911 testing score 0.7468354430379747 random state 607\n",
      "training score 0.8439490445859873 testing score 0.7658227848101266 random state 608\n",
      "training score 0.8184713375796179 testing score 0.810126582278481 random state 609\n",
      "training score 0.839171974522293 testing score 0.7341772151898734 random state 610\n",
      "training score 0.8264331210191083 testing score 0.7658227848101266 random state 611\n",
      "training score 0.8343949044585988 testing score 0.7911392405063291 random state 612\n",
      "training score 0.8296178343949044 testing score 0.7721518987341772 random state 613\n",
      "training score 0.8264331210191083 testing score 0.7848101265822784 random state 614\n",
      "training score 0.8487261146496815 testing score 0.7911392405063291 random state 615\n",
      "training score 0.8184713375796179 testing score 0.810126582278481 random state 616\n",
      "training score 0.8455414012738853 testing score 0.7531645569620253 random state 617\n",
      "training score 0.8200636942675159 testing score 0.8037974683544303 random state 618\n",
      "training score 0.8296178343949044 testing score 0.7784810126582279 random state 619\n",
      "training score 0.8312101910828026 testing score 0.7658227848101266 random state 620\n",
      "training score 0.8280254777070064 testing score 0.759493670886076 random state 621\n",
      "training score 0.8248407643312102 testing score 0.7784810126582279 random state 622\n",
      "training score 0.8423566878980892 testing score 0.7721518987341772 random state 623\n",
      "training score 0.8359872611464968 testing score 0.759493670886076 random state 624\n",
      "training score 0.8312101910828026 testing score 0.8164556962025317 random state 625\n",
      "training score 0.8328025477707006 testing score 0.810126582278481 random state 626\n",
      "training score 0.8296178343949044 testing score 0.8417721518987342 random state 627\n",
      "training score 0.8280254777070064 testing score 0.8037974683544303 random state 628\n",
      "training score 0.8264331210191083 testing score 0.8164556962025317 random state 629\n",
      "training score 0.8280254777070064 testing score 0.7848101265822784 random state 630\n",
      "training score 0.8407643312101911 testing score 0.7278481012658228 random state 631\n",
      "training score 0.8359872611464968 testing score 0.7531645569620253 random state 632\n",
      "training score 0.8264331210191083 testing score 0.810126582278481 random state 633\n",
      "training score 0.8550955414012739 testing score 0.7341772151898734 random state 634\n",
      "training score 0.8312101910828026 testing score 0.7784810126582279 random state 635\n",
      "training score 0.8232484076433121 testing score 0.810126582278481 random state 636\n",
      "training score 0.8280254777070064 testing score 0.810126582278481 random state 637\n",
      "training score 0.8375796178343949 testing score 0.7531645569620253 random state 638\n",
      "training score 0.8343949044585988 testing score 0.7911392405063291 random state 639\n",
      "training score 0.8200636942675159 testing score 0.7974683544303798 random state 640\n",
      "training score 0.8375796178343949 testing score 0.7468354430379747 random state 641\n",
      "training score 0.8200636942675159 testing score 0.810126582278481 random state 642\n",
      "training score 0.8407643312101911 testing score 0.8037974683544303 random state 643\n",
      "training score 0.821656050955414 testing score 0.7784810126582279 random state 644\n",
      "training score 0.8296178343949044 testing score 0.8354430379746836 random state 645\n",
      "training score 0.821656050955414 testing score 0.8354430379746836 random state 646\n",
      "training score 0.8439490445859873 testing score 0.759493670886076 random state 647\n",
      "training score 0.8312101910828026 testing score 0.7848101265822784 random state 648\n",
      "training score 0.8264331210191083 testing score 0.810126582278481 random state 649\n",
      "training score 0.821656050955414 testing score 0.8037974683544303 random state 650\n",
      "training score 0.8407643312101911 testing score 0.7721518987341772 random state 651\n",
      "training score 0.8487261146496815 testing score 0.7088607594936709 random state 652\n",
      "training score 0.8312101910828026 testing score 0.7784810126582279 random state 653\n",
      "training score 0.8296178343949044 testing score 0.759493670886076 random state 654\n",
      "training score 0.8280254777070064 testing score 0.810126582278481 random state 655\n",
      "training score 0.8359872611464968 testing score 0.7784810126582279 random state 656\n",
      "training score 0.839171974522293 testing score 0.8037974683544303 random state 657\n",
      "training score 0.821656050955414 testing score 0.7911392405063291 random state 658\n",
      "training score 0.8455414012738853 testing score 0.7278481012658228 random state 659\n",
      "training score 0.8328025477707006 testing score 0.7784810126582279 random state 660\n",
      "training score 0.8312101910828026 testing score 0.7531645569620253 random state 661\n",
      "training score 0.8343949044585988 testing score 0.7468354430379747 random state 662\n",
      "training score 0.8375796178343949 testing score 0.8037974683544303 random state 663\n",
      "training score 0.8439490445859873 testing score 0.7784810126582279 random state 664\n",
      "training score 0.8280254777070064 testing score 0.7721518987341772 random state 665\n",
      "training score 0.839171974522293 testing score 0.759493670886076 random state 666\n",
      "training score 0.8359872611464968 testing score 0.7974683544303798 random state 667\n",
      "training score 0.821656050955414 testing score 0.7784810126582279 random state 668\n",
      "training score 0.8407643312101911 testing score 0.7848101265822784 random state 669\n",
      "training score 0.8328025477707006 testing score 0.7721518987341772 random state 670\n",
      "training score 0.8439490445859873 testing score 0.7531645569620253 random state 671\n",
      "training score 0.8375796178343949 testing score 0.810126582278481 random state 672\n",
      "training score 0.8407643312101911 testing score 0.7721518987341772 random state 673\n",
      "training score 0.8343949044585988 testing score 0.8037974683544303 random state 674\n",
      "training score 0.8152866242038217 testing score 0.8481012658227848 random state 675\n",
      "training score 0.8439490445859873 testing score 0.7341772151898734 random state 676\n",
      "training score 0.8184713375796179 testing score 0.8481012658227848 random state 677\n",
      "training score 0.8248407643312102 testing score 0.8227848101265823 random state 678\n",
      "training score 0.8423566878980892 testing score 0.7341772151898734 random state 679\n",
      "training score 0.8312101910828026 testing score 0.810126582278481 random state 680\n",
      "training score 0.8296178343949044 testing score 0.7911392405063291 random state 681\n",
      "training score 0.8471337579617835 testing score 0.7278481012658228 random state 682\n",
      "training score 0.8136942675159236 testing score 0.8227848101265823 random state 683\n",
      "training score 0.839171974522293 testing score 0.7784810126582279 random state 684\n",
      "training score 0.8407643312101911 testing score 0.740506329113924 random state 685\n",
      "training score 0.8200636942675159 testing score 0.7531645569620253 random state 686\n",
      "training score 0.8296178343949044 testing score 0.7974683544303798 random state 687\n",
      "training score 0.8264331210191083 testing score 0.8227848101265823 random state 688\n",
      "training score 0.8375796178343949 testing score 0.7848101265822784 random state 689\n",
      "training score 0.8343949044585988 testing score 0.7658227848101266 random state 690\n",
      "training score 0.8312101910828026 testing score 0.8164556962025317 random state 691\n",
      "training score 0.8152866242038217 testing score 0.8354430379746836 random state 692\n",
      "training score 0.8312101910828026 testing score 0.7974683544303798 random state 693\n",
      "training score 0.8328025477707006 testing score 0.8164556962025317 random state 694\n",
      "training score 0.8184713375796179 testing score 0.8037974683544303 random state 695\n",
      "training score 0.8184713375796179 testing score 0.8481012658227848 random state 696\n",
      "training score 0.8296178343949044 testing score 0.7848101265822784 random state 697\n",
      "training score 0.8280254777070064 testing score 0.8354430379746836 random state 698\n",
      "training score 0.8439490445859873 testing score 0.7151898734177216 random state 699\n",
      "training score 0.8439490445859873 testing score 0.7911392405063291 random state 700\n",
      "training score 0.8248407643312102 testing score 0.810126582278481 random state 701\n",
      "training score 0.8375796178343949 testing score 0.7658227848101266 random state 702\n",
      "training score 0.8248407643312102 testing score 0.8164556962025317 random state 703\n",
      "training score 0.8455414012738853 testing score 0.7721518987341772 random state 704\n",
      "training score 0.8519108280254777 testing score 0.7658227848101266 random state 705\n",
      "training score 0.8407643312101911 testing score 0.7468354430379747 random state 706\n",
      "training score 0.8168789808917197 testing score 0.8037974683544303 random state 707\n",
      "training score 0.839171974522293 testing score 0.7784810126582279 random state 708\n",
      "training score 0.8312101910828026 testing score 0.7658227848101266 random state 709\n",
      "training score 0.8375796178343949 testing score 0.8037974683544303 random state 710\n",
      "training score 0.8232484076433121 testing score 0.7721518987341772 random state 711\n",
      "training score 0.8184713375796179 testing score 0.8481012658227848 random state 712\n",
      "training score 0.8312101910828026 testing score 0.7974683544303798 random state 713\n",
      "training score 0.8407643312101911 testing score 0.7784810126582279 random state 714\n",
      "training score 0.8471337579617835 testing score 0.7531645569620253 random state 715\n",
      "training score 0.8248407643312102 testing score 0.7911392405063291 random state 716\n",
      "training score 0.8471337579617835 testing score 0.7721518987341772 random state 717\n",
      "training score 0.8296178343949044 testing score 0.8037974683544303 random state 718\n",
      "training score 0.8200636942675159 testing score 0.810126582278481 random state 719\n",
      "training score 0.8439490445859873 testing score 0.7658227848101266 random state 720\n",
      "training score 0.8343949044585988 testing score 0.810126582278481 random state 721\n",
      "training score 0.8280254777070064 testing score 0.8037974683544303 random state 722\n",
      "training score 0.8121019108280255 testing score 0.7911392405063291 random state 723\n",
      "training score 0.8328025477707006 testing score 0.7784810126582279 random state 724\n",
      "training score 0.8535031847133758 testing score 0.7278481012658228 random state 725\n",
      "training score 0.8248407643312102 testing score 0.8037974683544303 random state 726\n",
      "training score 0.821656050955414 testing score 0.810126582278481 random state 727\n",
      "training score 0.8423566878980892 testing score 0.7911392405063291 random state 728\n",
      "training score 0.8328025477707006 testing score 0.7784810126582279 random state 729\n",
      "training score 0.839171974522293 testing score 0.7784810126582279 random state 730\n",
      "training score 0.8359872611464968 testing score 0.7974683544303798 random state 731\n",
      "training score 0.8200636942675159 testing score 0.8481012658227848 random state 732\n",
      "training score 0.8375796178343949 testing score 0.7784810126582279 random state 733\n",
      "training score 0.8343949044585988 testing score 0.7531645569620253 random state 734\n",
      "training score 0.839171974522293 testing score 0.810126582278481 random state 735\n",
      "training score 0.8200636942675159 testing score 0.8037974683544303 random state 736\n",
      "training score 0.8423566878980892 testing score 0.759493670886076 random state 737\n",
      "training score 0.8200636942675159 testing score 0.8164556962025317 random state 738\n",
      "training score 0.8375796178343949 testing score 0.7658227848101266 random state 739\n",
      "training score 0.821656050955414 testing score 0.7974683544303798 random state 740\n",
      "training score 0.839171974522293 testing score 0.7278481012658228 random state 741\n",
      "training score 0.8296178343949044 testing score 0.7658227848101266 random state 742\n",
      "training score 0.839171974522293 testing score 0.7341772151898734 random state 743\n",
      "training score 0.8359872611464968 testing score 0.7911392405063291 random state 744\n",
      "training score 0.8232484076433121 testing score 0.740506329113924 random state 745\n",
      "training score 0.839171974522293 testing score 0.7784810126582279 random state 746\n",
      "training score 0.8328025477707006 testing score 0.7468354430379747 random state 747\n",
      "training score 0.8280254777070064 testing score 0.8164556962025317 random state 748\n",
      "training score 0.821656050955414 testing score 0.8417721518987342 random state 749\n",
      "training score 0.8248407643312102 testing score 0.7911392405063291 random state 750\n",
      "training score 0.8343949044585988 testing score 0.8164556962025317 random state 751\n",
      "training score 0.8264331210191083 testing score 0.7974683544303798 random state 752\n",
      "training score 0.8328025477707006 testing score 0.810126582278481 random state 753\n",
      "training score 0.8264331210191083 testing score 0.7658227848101266 random state 754\n",
      "training score 0.8343949044585988 testing score 0.8037974683544303 random state 755\n",
      "training score 0.8121019108280255 testing score 0.8164556962025317 random state 756\n",
      "training score 0.8328025477707006 testing score 0.7848101265822784 random state 757\n",
      "training score 0.8503184713375797 testing score 0.7215189873417721 random state 758\n",
      "training score 0.8312101910828026 testing score 0.7784810126582279 random state 759\n",
      "training score 0.8248407643312102 testing score 0.810126582278481 random state 760\n",
      "training score 0.8184713375796179 testing score 0.7848101265822784 random state 761\n",
      "training score 0.8423566878980892 testing score 0.7784810126582279 random state 762\n",
      "training score 0.8455414012738853 testing score 0.7088607594936709 random state 763\n",
      "training score 0.8407643312101911 testing score 0.740506329113924 random state 764\n",
      "training score 0.8184713375796179 testing score 0.8354430379746836 random state 765\n",
      "training score 0.8168789808917197 testing score 0.7848101265822784 random state 766\n",
      "training score 0.8248407643312102 testing score 0.7784810126582279 random state 767\n",
      "training score 0.8168789808917197 testing score 0.7848101265822784 random state 768\n",
      "training score 0.8455414012738853 testing score 0.740506329113924 random state 769\n",
      "training score 0.8200636942675159 testing score 0.8417721518987342 random state 770\n",
      "training score 0.8280254777070064 testing score 0.810126582278481 random state 771\n",
      "training score 0.839171974522293 testing score 0.7911392405063291 random state 772\n",
      "training score 0.839171974522293 testing score 0.7215189873417721 random state 773\n",
      "training score 0.821656050955414 testing score 0.8354430379746836 random state 774\n",
      "training score 0.8328025477707006 testing score 0.7848101265822784 random state 775\n",
      "training score 0.8296178343949044 testing score 0.7848101265822784 random state 776\n",
      "training score 0.839171974522293 testing score 0.8164556962025317 random state 777\n",
      "training score 0.8423566878980892 testing score 0.7278481012658228 random state 778\n",
      "training score 0.8487261146496815 testing score 0.810126582278481 random state 779\n",
      "training score 0.8168789808917197 testing score 0.7911392405063291 random state 780\n",
      "training score 0.821656050955414 testing score 0.810126582278481 random state 781\n",
      "training score 0.8328025477707006 testing score 0.7721518987341772 random state 782\n",
      "training score 0.8312101910828026 testing score 0.8037974683544303 random state 783\n",
      "training score 0.8343949044585988 testing score 0.8164556962025317 random state 784\n",
      "training score 0.8232484076433121 testing score 0.7784810126582279 random state 785\n"
     ]
    }
   ],
   "source": [
    "# maximum accuracy\n",
    "max_accu = 0\n",
    "# best random state value for which max accuracy is achived\n",
    "max_rs = 0\n",
    "for i in range(1,786):\n",
    "    x_train,x_test,y_train,y_test= train_test_split(x,y,test_size =0.20,random_state = i)\n",
    "    ada =AdaBoostClassifier()\n",
    "    ada.fit(x_train,y_train)\n",
    "    y_pred = ada.predict(x_train)\n",
    "    score1 = accuracy_score(y_train,y_pred)\n",
    "    pred = ada.predict(x_test)\n",
    "    score=accuracy_score(y_test,pred)\n",
    "    print('training score',score1,'testing score',score,'random state',i)\n",
    "    if (score and score1) > max_accu:\n",
    "        max_accu = score\n",
    "        max_rs = i\n",
    "        print('Training score',score1,'testing score',score,'random state',i)\n",
    "    \n",
    "\n"
   ]
  },
  {
   "cell_type": "code",
   "execution_count": 215,
   "id": "647f00be",
   "metadata": {},
   "outputs": [
    {
     "name": "stdout",
     "output_type": "stream",
     "text": [
      "Best accuracy is 0.8607594936708861 on random state 80\n"
     ]
    }
   ],
   "source": [
    "print('Best accuracy is',max_accu,'on random state',max_rs)"
   ]
  },
  {
   "cell_type": "markdown",
   "id": "6d42ee20",
   "metadata": {},
   "source": [
    "## Train Test Split"
   ]
  },
  {
   "cell_type": "code",
   "execution_count": 251,
   "id": "55adcfe9",
   "metadata": {},
   "outputs": [],
   "source": [
    "#split data into train and test, model will be build on training data and tested on test data\n",
    "x_train,x_test,y_train,y_test = train_test_split(x,y,test_size= 0.20,random_state = 107)\n"
   ]
  },
  {
   "cell_type": "markdown",
   "id": "6d5a44f8",
   "metadata": {},
   "source": [
    "## Model Building using Logistic regression"
   ]
  },
  {
   "cell_type": "code",
   "execution_count": 217,
   "id": "00f0d2a1",
   "metadata": {},
   "outputs": [
    {
     "name": "stdout",
     "output_type": "stream",
     "text": [
      "Training score 0.804140127388535\n",
      "Testing score 0.8037974683544303\n",
      "[[81 13]\n",
      " [18 46]]\n",
      "              precision    recall  f1-score   support\n",
      "\n",
      "           0       0.82      0.86      0.84        94\n",
      "           1       0.78      0.72      0.75        64\n",
      "\n",
      "    accuracy                           0.80       158\n",
      "   macro avg       0.80      0.79      0.79       158\n",
      "weighted avg       0.80      0.80      0.80       158\n",
      "\n"
     ]
    }
   ],
   "source": [
    "# creating object for LogisticRegression\n",
    "lr = LogisticRegression()\n",
    "# model training\n",
    "lr.fit(x_train,y_train)\n",
    "# predict the training score\n",
    "y_pred = lr.predict(x_train)\n",
    "print('Training score',accuracy_score(y_train,y_pred))\n",
    "pred = lr.predict(x_test)\n",
    "print('Testing score',accuracy_score(y_test,pred))\n",
    "print(confusion_matrix(y_test,pred))\n",
    "print(classification_report(y_test,pred))"
   ]
  },
  {
   "cell_type": "markdown",
   "id": "089080fd",
   "metadata": {},
   "source": [
    "### After setting the random state = 107 , We got the accuracy score is 80%"
   ]
  },
  {
   "cell_type": "markdown",
   "id": "df46a045",
   "metadata": {},
   "source": [
    "## Model Building using KNN"
   ]
  },
  {
   "cell_type": "code",
   "execution_count": 219,
   "id": "09fa289f",
   "metadata": {},
   "outputs": [
    {
     "name": "stdout",
     "output_type": "stream",
     "text": [
      "Training score 0.6831210191082803\n",
      "Testing score 0.6329113924050633\n",
      "[[75 20]\n",
      " [38 25]]\n",
      "              precision    recall  f1-score   support\n",
      "\n",
      "           0       0.66      0.79      0.72        95\n",
      "           1       0.56      0.40      0.46        63\n",
      "\n",
      "    accuracy                           0.63       158\n",
      "   macro avg       0.61      0.59      0.59       158\n",
      "weighted avg       0.62      0.63      0.62       158\n",
      "\n"
     ]
    }
   ],
   "source": [
    "# creating object for KNeighbors\n",
    "knn = KNeighborsClassifier()\n",
    "# model training\n",
    "knn.fit(x_train,y_train)\n",
    "# predict the training score\n",
    "y_pred = knn.predict(x_train)\n",
    "print('Training score',accuracy_score(y_train,y_pred))\n",
    "pred = knn.predict(x_test)\n",
    "print('Testing score',accuracy_score(y_test,pred))\n",
    "print(confusion_matrix(y_test,pred))\n",
    "print(classification_report(y_test,pred))"
   ]
  },
  {
   "cell_type": "markdown",
   "id": "5febc4c5",
   "metadata": {},
   "source": [
    "### After setting the random state = 67 , We got the accuracy score is 63% i am not satisfied with this score we work on  other models"
   ]
  },
  {
   "cell_type": "markdown",
   "id": "619e7dda",
   "metadata": {},
   "source": [
    "## Model Building using Random Forest\n"
   ]
  },
  {
   "cell_type": "code",
   "execution_count": 221,
   "id": "28b5b0c2",
   "metadata": {},
   "outputs": [
    {
     "name": "stdout",
     "output_type": "stream",
     "text": [
      "Training score 1.0\n",
      "Testing score 0.879746835443038\n",
      "[[89  6]\n",
      " [13 50]]\n",
      "              precision    recall  f1-score   support\n",
      "\n",
      "           0       0.87      0.94      0.90        95\n",
      "           1       0.89      0.79      0.84        63\n",
      "\n",
      "    accuracy                           0.88       158\n",
      "   macro avg       0.88      0.87      0.87       158\n",
      "weighted avg       0.88      0.88      0.88       158\n",
      "\n"
     ]
    }
   ],
   "source": [
    "# creating object for RandomForest\n",
    "rf = RandomForestClassifier()\n",
    "# model training\n",
    "rf.fit(x_train,y_train)\n",
    "# predict the training score\n",
    "y_pred = rf.predict(x_train)\n",
    "print('Training score',accuracy_score(y_train,y_pred))\n",
    "pred = rf.predict(x_test)\n",
    "print('Testing score',accuracy_score(y_test,pred))\n",
    "print(confusion_matrix(y_test,pred))\n",
    "print(classification_report(y_test,pred))"
   ]
  },
  {
   "cell_type": "markdown",
   "id": "2c30b1be",
   "metadata": {},
   "source": [
    "### After setting the random state = 596 , We got the accuracy score is 87% score is good but difference between training and testing score is more, confusion matrix of random forest is better than logistic regression"
   ]
  },
  {
   "cell_type": "markdown",
   "id": "e75550a4",
   "metadata": {},
   "source": [
    "## Model Building using Decision tree"
   ]
  },
  {
   "cell_type": "code",
   "execution_count": 225,
   "id": "dd6a5f0d",
   "metadata": {},
   "outputs": [
    {
     "name": "stdout",
     "output_type": "stream",
     "text": [
      "Training score 1.0\n",
      "Testing score 0.8291139240506329\n",
      "[[91 15]\n",
      " [12 40]]\n",
      "              precision    recall  f1-score   support\n",
      "\n",
      "           0       0.88      0.86      0.87       106\n",
      "           1       0.73      0.77      0.75        52\n",
      "\n",
      "    accuracy                           0.83       158\n",
      "   macro avg       0.81      0.81      0.81       158\n",
      "weighted avg       0.83      0.83      0.83       158\n",
      "\n"
     ]
    }
   ],
   "source": [
    "# creating object for DecisionTree\n",
    "dt = DecisionTreeClassifier()\n",
    "# model training\n",
    "dt.fit(x_train,y_train)\n",
    "# predict the training score\n",
    "y_pred = dt.predict(x_train)\n",
    "print('Training score',accuracy_score(y_train,y_pred))\n",
    "pred = dt.predict(x_test)\n",
    "print('Testing score',accuracy_score(y_test,pred))\n",
    "print(confusion_matrix(y_test,pred))\n",
    "print(classification_report(y_test,pred))"
   ]
  },
  {
   "cell_type": "markdown",
   "id": "ca16f8f9",
   "metadata": {},
   "source": [
    " ### After setting the random state = 364 , We got the accuracy score is 82%"
   ]
  },
  {
   "cell_type": "markdown",
   "id": "9c6746a6",
   "metadata": {},
   "source": [
    "## Model Building using ada boost\n"
   ]
  },
  {
   "cell_type": "code",
   "execution_count": 227,
   "id": "207a2e4e",
   "metadata": {},
   "outputs": [
    {
     "name": "stdout",
     "output_type": "stream",
     "text": [
      "Training score 0.8296178343949044\n",
      "Testing score 0.8227848101265823\n",
      "[[85 13]\n",
      " [15 45]]\n",
      "              precision    recall  f1-score   support\n",
      "\n",
      "           0       0.85      0.87      0.86        98\n",
      "           1       0.78      0.75      0.76        60\n",
      "\n",
      "    accuracy                           0.82       158\n",
      "   macro avg       0.81      0.81      0.81       158\n",
      "weighted avg       0.82      0.82      0.82       158\n",
      "\n"
     ]
    }
   ],
   "source": [
    "# creating object for AdaBOOst\n",
    "ada = AdaBoostClassifier()\n",
    "# model training\n",
    "ada.fit(x_train,y_train)\n",
    "# predict the training score\n",
    "y_pred = ada.predict(x_train)\n",
    "print('Training score',accuracy_score(y_train,y_pred))\n",
    "pred = ada.predict(x_test)\n",
    "print('Testing score',accuracy_score(y_test,pred))\n",
    "print(confusion_matrix(y_test,pred))\n",
    "print(classification_report(y_test,pred))"
   ]
  },
  {
   "cell_type": "markdown",
   "id": "7718d17e",
   "metadata": {},
   "source": [
    "### After setting the random state = 192 , We got the accuracy score is 82%,i am satisfied with this score"
   ]
  },
  {
   "cell_type": "markdown",
   "id": "1974d278",
   "metadata": {},
   "source": [
    "##  Cross validation for logistic regression"
   ]
  },
  {
   "cell_type": "code",
   "execution_count": 228,
   "id": "b58ebf74",
   "metadata": {},
   "outputs": [],
   "source": [
    "from sklearn.model_selection import cross_val_score"
   ]
  },
  {
   "cell_type": "code",
   "execution_count": 229,
   "id": "2551898c",
   "metadata": {},
   "outputs": [
    {
     "name": "stdout",
     "output_type": "stream",
     "text": [
      "Cross validation score of LogisticRegression model 0.8129807304684352\n"
     ]
    }
   ],
   "source": [
    "cr1 = cross_val_score(lr,x,y,cv = 5)\n",
    "print(\"Cross validation score of LogisticRegression model\",cr1.mean())"
   ]
  },
  {
   "cell_type": "code",
   "execution_count": 230,
   "id": "190dead4",
   "metadata": {},
   "outputs": [
    {
     "data": {
      "text/plain": [
       "array([0.81012658, 0.84076433, 0.78343949, 0.8089172 , 0.82165605])"
      ]
     },
     "execution_count": 230,
     "metadata": {},
     "output_type": "execute_result"
    }
   ],
   "source": [
    "cr1"
   ]
  },
  {
   "cell_type": "markdown",
   "id": "12b41b3b",
   "metadata": {},
   "source": [
    "### Difference between model accuracy and cross validation accuracy score is 1"
   ]
  },
  {
   "cell_type": "markdown",
   "id": "debdd03c",
   "metadata": {},
   "source": [
    "##  Cross validation for KNN"
   ]
  },
  {
   "cell_type": "code",
   "execution_count": 231,
   "id": "bae5ae4d",
   "metadata": {},
   "outputs": [
    {
     "name": "stdout",
     "output_type": "stream",
     "text": [
      "Cross validation score of KNN 0.49094573893412885\n"
     ]
    }
   ],
   "source": [
    "cr2 = cross_val_score(knn,x,y,cv = 5)\n",
    "print(\"Cross validation score of KNN\",cr2.mean())"
   ]
  },
  {
   "cell_type": "code",
   "execution_count": 232,
   "id": "1c4e6f24",
   "metadata": {},
   "outputs": [
    {
     "data": {
      "text/plain": [
       "array([0.60759494, 0.40764331, 0.41401274, 0.42038217, 0.60509554])"
      ]
     },
     "execution_count": 232,
     "metadata": {},
     "output_type": "execute_result"
    }
   ],
   "source": [
    "cr2"
   ]
  },
  {
   "cell_type": "markdown",
   "id": "66cc9c44",
   "metadata": {},
   "source": [
    "### Difference between model accuracy and cross validation accuracy score is big"
   ]
  },
  {
   "cell_type": "markdown",
   "id": "dfffd377",
   "metadata": {},
   "source": [
    "##  Cross validation for Decision Tree"
   ]
  },
  {
   "cell_type": "code",
   "execution_count": 233,
   "id": "a86f2f30",
   "metadata": {},
   "outputs": [
    {
     "name": "stdout",
     "output_type": "stream",
     "text": [
      "Cross validation score of Decision Tree model 0.7621865677658631\n"
     ]
    }
   ],
   "source": [
    "cr3 = cross_val_score(dt,x,y,cv = 5)\n",
    "print(\"Cross validation score of Decision Tree model\",cr3.mean())"
   ]
  },
  {
   "cell_type": "code",
   "execution_count": 234,
   "id": "3f666f3d",
   "metadata": {},
   "outputs": [
    {
     "data": {
      "text/plain": [
       "array([0.6835443 , 0.78980892, 0.79617834, 0.75159236, 0.78980892])"
      ]
     },
     "execution_count": 234,
     "metadata": {},
     "output_type": "execute_result"
    }
   ],
   "source": [
    "cr3"
   ]
  },
  {
   "cell_type": "markdown",
   "id": "ddc40de7",
   "metadata": {},
   "source": [
    "### Difference between model accuracy and cross validation accuracy score is 8"
   ]
  },
  {
   "cell_type": "markdown",
   "id": "5ba3ac6f",
   "metadata": {},
   "source": [
    "## Cross validation for Random Forest"
   ]
  },
  {
   "cell_type": "code",
   "execution_count": 235,
   "id": "8235de18",
   "metadata": {},
   "outputs": [
    {
     "name": "stdout",
     "output_type": "stream",
     "text": [
      "Cross validation score of Random Forest model 0.7914939933886963\n"
     ]
    }
   ],
   "source": [
    "cr4 = cross_val_score(rf,x,y,cv = 5)\n",
    "print(\"Cross validation score of Random Forest model\",cr4.mean())"
   ]
  },
  {
   "cell_type": "code",
   "execution_count": 236,
   "id": "c99ad387",
   "metadata": {},
   "outputs": [
    {
     "data": {
      "text/plain": [
       "array([0.67721519, 0.81528662, 0.8089172 , 0.82802548, 0.82802548])"
      ]
     },
     "execution_count": 236,
     "metadata": {},
     "output_type": "execute_result"
    }
   ],
   "source": [
    "cr4"
   ]
  },
  {
   "cell_type": "markdown",
   "id": "f0e674e5",
   "metadata": {},
   "source": [
    "### Difference between model accuracy and cross validation accuracy score is 7"
   ]
  },
  {
   "cell_type": "markdown",
   "id": "131c46af",
   "metadata": {},
   "source": [
    "## Cross validation for ADA BOOST\n"
   ]
  },
  {
   "cell_type": "code",
   "execution_count": 237,
   "id": "216e6c47",
   "metadata": {},
   "outputs": [
    {
     "name": "stdout",
     "output_type": "stream",
     "text": [
      "Cross validation score of ADA BOOST 0.725300330565186\n"
     ]
    }
   ],
   "source": [
    "cr5 = cross_val_score(ada,x,y,cv = 5)\n",
    "print(\"Cross validation score of ADA BOOST\",cr5.mean())"
   ]
  },
  {
   "cell_type": "code",
   "execution_count": 238,
   "id": "2477568a",
   "metadata": {},
   "outputs": [
    {
     "data": {
      "text/plain": [
       "array([0.63924051, 0.73248408, 0.8089172 , 0.80254777, 0.6433121 ])"
      ]
     },
     "execution_count": 238,
     "metadata": {},
     "output_type": "execute_result"
    }
   ],
   "source": [
    "cr5"
   ]
  },
  {
   "cell_type": "markdown",
   "id": "c23b3044",
   "metadata": {},
   "source": [
    "### Difference between model accuracy and cross validation accuracy score is 10"
   ]
  },
  {
   "cell_type": "markdown",
   "id": "2fc3f0f4",
   "metadata": {},
   "source": [
    "## Hyperparameter Tuning"
   ]
  },
  {
   "cell_type": "code",
   "execution_count": 239,
   "id": "20419645",
   "metadata": {},
   "outputs": [],
   "source": [
    "# Hyperparameter tuning using Random Forest\n",
    "params = {'n_estimators':[13,15],\n",
    "         'criterion':['entropy','gini'],\n",
    "         'max_depth':[10,15],\n",
    "         'min_samples_split':[10,11],\n",
    "         'min_samples_leaf':[5,6]}"
   ]
  },
  {
   "cell_type": "code",
   "execution_count": 240,
   "id": "585961a6",
   "metadata": {},
   "outputs": [],
   "source": [
    "grd = GridSearchCV(rf,param_grid = params)"
   ]
  },
  {
   "cell_type": "code",
   "execution_count": 241,
   "id": "f1c0b659",
   "metadata": {},
   "outputs": [
    {
     "data": {
      "text/plain": [
       "GridSearchCV(estimator=RandomForestClassifier(),\n",
       "             param_grid={'criterion': ['entropy', 'gini'],\n",
       "                         'max_depth': [10, 15], 'min_samples_leaf': [5, 6],\n",
       "                         'min_samples_split': [10, 11],\n",
       "                         'n_estimators': [13, 15]})"
      ]
     },
     "execution_count": 241,
     "metadata": {},
     "output_type": "execute_result"
    }
   ],
   "source": [
    "grd.fit(x_train,y_train)"
   ]
  },
  {
   "cell_type": "code",
   "execution_count": 242,
   "id": "28d87550",
   "metadata": {},
   "outputs": [],
   "source": [
    "rf = grd.best_estimator_"
   ]
  },
  {
   "cell_type": "code",
   "execution_count": 243,
   "id": "f817e291",
   "metadata": {},
   "outputs": [
    {
     "data": {
      "text/plain": [
       "RandomForestClassifier(max_depth=10, min_samples_leaf=6, min_samples_split=10,\n",
       "                       n_estimators=15)"
      ]
     },
     "execution_count": 243,
     "metadata": {},
     "output_type": "execute_result"
    }
   ],
   "source": [
    "rf.fit(x_train,y_train)"
   ]
  },
  {
   "cell_type": "code",
   "execution_count": 244,
   "id": "34d6c80e",
   "metadata": {},
   "outputs": [
    {
     "data": {
      "text/plain": [
       "0.8164556962025317"
      ]
     },
     "execution_count": 244,
     "metadata": {},
     "output_type": "execute_result"
    }
   ],
   "source": [
    "pred = rf.predict(x_test)\n",
    "accuracy_score(y_test,pred)"
   ]
  },
  {
   "cell_type": "markdown",
   "id": "dcf186dc",
   "metadata": {},
   "source": [
    "## ROC AUC Curve"
   ]
  },
  {
   "cell_type": "code",
   "execution_count": 245,
   "id": "6ad51015",
   "metadata": {},
   "outputs": [],
   "source": [
    "from sklearn.metrics import plot_roc_curve"
   ]
  },
  {
   "cell_type": "code",
   "execution_count": 253,
   "id": "20538823",
   "metadata": {},
   "outputs": [
    {
     "data": {
      "image/png": "[encoded data removed]",
      "text/plain": [
       "<Figure size 432x288 with 1 Axes>"
      ]
     },
     "metadata": {
      "needs_background": "light"
     },
     "output_type": "display_data"
    }
   ],
   "source": [
    "disp = plot_roc_curve(lr,x_train,y_train)\n",
    "plot_roc_curve(dt,x_train,y_train,ax = disp.ax_)\n",
    "plot_roc_curve(rf,x_train,y_train,ax = disp.ax_)\n",
    "plot_roc_curve(ada,x_train,y_train,ax = disp.ax_)\n",
    "plot_roc_curve(knn,x_train,y_train,ax = disp.ax_)\n",
    "plt.legend(prop={'size':10},loc = 'lower right')\n",
    "plt.show()"
   ]
  },
  {
   "cell_type": "code",
   "execution_count": 254,
   "id": "04e094eb",
   "metadata": {},
   "outputs": [
    {
     "data": {
      "image/png": "[encoded data removed]",
      "text/plain": [
       "<Figure size 432x288 with 1 Axes>"
      ]
     },
     "metadata": {
      "needs_background": "light"
     },
     "output_type": "display_data"
    }
   ],
   "source": [
    "disp = plot_roc_curve(lr,x_test,y_test)\n",
    "plot_roc_curve(dt,x_test,y_test,ax = disp.ax_)\n",
    "plot_roc_curve(rf,x_test,y_test,ax = disp.ax_)\n",
    "plot_roc_curve(ada,x_test,y_test,ax = disp.ax_)\n",
    "plot_roc_curve(knn,x_test,y_test,ax = disp.ax_)\n",
    "plt.legend(prop={'size':10},loc = 'lower right')\n",
    "plt.show()"
   ]
  },
  {
   "cell_type": "markdown",
   "id": "c1e4b524",
   "metadata": {},
   "source": [
    "##  Save the final model"
   ]
  },
  {
   "cell_type": "code",
   "execution_count": 255,
   "id": "c19c7413",
   "metadata": {},
   "outputs": [],
   "source": [
    "# as per my observation Random forest is best for this dataset \n",
    "import pickle"
   ]
  },
  {
   "cell_type": "code",
   "execution_count": 256,
   "id": "bf182494",
   "metadata": {},
   "outputs": [],
   "source": [
    "pickle.dump(rf,open('Titanic_model','wb'))"
   ]
  },
  {
   "cell_type": "code",
   "execution_count": 257,
   "id": "8b20cf79",
   "metadata": {},
   "outputs": [],
   "source": [
    "import joblib"
   ]
  },
  {
   "cell_type": "code",
   "execution_count": 258,
   "id": "011693ae",
   "metadata": {},
   "outputs": [
    {
     "data": {
      "text/plain": [
       "['Titanic Model.pkl']"
      ]
     },
     "execution_count": 258,
     "metadata": {},
     "output_type": "execute_result"
    }
   ],
   "source": [
    "joblib.dump(rf,'Titanic Model.pkl')"
   ]
  },
  {
   "cell_type": "code",
   "execution_count": null,
   "id": "74dde8e7",
   "metadata": {},
   "outputs": [],
   "source": []
  }
 ],
 "metadata": {
  "kernelspec": {
   "display_name": "Python 3 (ipykernel)",
   "language": "python",
   "name": "python3"
  },
  "language_info": {
   "codemirror_mode": {
    "name": "ipython",
    "version": 3
   },
   "file_extension": ".py",
   "mimetype": "text/x-python",
   "name": "python",
   "nbconvert_exporter": "python",
   "pygments_lexer": "ipython3",
   "version": "3.9.12"
  }
 },
 "nbformat": 4,
 "nbformat_minor": 5
}

{
 "cells": [
  {
   "cell_type": "markdown",
   "id": "f5211148",
   "metadata": {},
   "source": [
    "##  Medical Cost Insurance"
   ]
  },
  {
   "cell_type": "markdown",
   "id": "aaf761c3",
   "metadata": {},
   "source": [
    "##### In this project ,Label is continuous form so i am using linear regression\n",
    "### Features/Independent variables\n",
    "####  Age\n",
    "####  Sex\n",
    "####  BMI\n",
    "####  Childern\n",
    "####  Smoker\n",
    "####  region\n",
    "###  Label / Target\n",
    "####  Charges"
   ]
  },
  {
   "cell_type": "code",
   "execution_count": 5,
   "id": "596986d7",
   "metadata": {},
   "outputs": [],
   "source": [
    "# import all necessary libraries\n",
    "import pandas as pd\n",
    "import numpy as np\n",
    "import matplotlib.pyplot as plt\n",
    "import seaborn as sns\n",
    "from sklearn.preprocessing import StandardScaler\n",
    "from sklearn.linear_model import LinearRegression\n",
    "from sklearn.model_selection import train_test_split,GridSearchCV\n",
    "from sklearn.metrics import mean_squared_error,mean_absolute_error\n",
    "from sklearn.metrics import accuracy_score,classification_report\n",
    "import pickle\n",
    "import warnings\n",
    "warnings.filterwarnings('ignore')"
   ]
  },
  {
   "cell_type": "markdown",
   "id": "9e68279e",
   "metadata": {},
   "source": [
    "##  Data Selection"
   ]
  },
  {
   "cell_type": "code",
   "execution_count": 6,
   "id": "57d58fd4",
   "metadata": {},
   "outputs": [
    {
     "data": {
      "text/html": [
       "<div>\n",
       "<style scoped>\n",
       "    .dataframe tbody tr th:only-of-type {\n",
       "        vertical-align: middle;\n",
       "    }\n",
       "\n",
       "    .dataframe tbody tr th {\n",
       "        vertical-align: top;\n",
       "    }\n",
       "\n",
       "    .dataframe thead th {\n",
       "        text-align: right;\n",
       "    }\n",
       "</style>\n",
       "<table border=\"1\" class=\"dataframe\">\n",
       "  <thead>\n",
       "    <tr style=\"text-align: right;\">\n",
       "      <th></th>\n",
       "      <th>age</th>\n",
       "      <th>sex</th>\n",
       "      <th>bmi</th>\n",
       "      <th>children</th>\n",
       "      <th>smoker</th>\n",
       "      <th>region</th>\n",
       "      <th>charges</th>\n",
       "    </tr>\n",
       "  </thead>\n",
       "  <tbody>\n",
       "    <tr>\n",
       "      <th>0</th>\n",
       "      <td>19</td>\n",
       "      <td>female</td>\n",
       "      <td>27.900</td>\n",
       "      <td>0</td>\n",
       "      <td>yes</td>\n",
       "      <td>southwest</td>\n",
       "      <td>16884.92400</td>\n",
       "    </tr>\n",
       "    <tr>\n",
       "      <th>1</th>\n",
       "      <td>18</td>\n",
       "      <td>male</td>\n",
       "      <td>33.770</td>\n",
       "      <td>1</td>\n",
       "      <td>no</td>\n",
       "      <td>southeast</td>\n",
       "      <td>1725.55230</td>\n",
       "    </tr>\n",
       "    <tr>\n",
       "      <th>2</th>\n",
       "      <td>28</td>\n",
       "      <td>male</td>\n",
       "      <td>33.000</td>\n",
       "      <td>3</td>\n",
       "      <td>no</td>\n",
       "      <td>southeast</td>\n",
       "      <td>4449.46200</td>\n",
       "    </tr>\n",
       "    <tr>\n",
       "      <th>3</th>\n",
       "      <td>33</td>\n",
       "      <td>male</td>\n",
       "      <td>22.705</td>\n",
       "      <td>0</td>\n",
       "      <td>no</td>\n",
       "      <td>northwest</td>\n",
       "      <td>21984.47061</td>\n",
       "    </tr>\n",
       "    <tr>\n",
       "      <th>4</th>\n",
       "      <td>32</td>\n",
       "      <td>male</td>\n",
       "      <td>28.880</td>\n",
       "      <td>0</td>\n",
       "      <td>no</td>\n",
       "      <td>northwest</td>\n",
       "      <td>3866.85520</td>\n",
       "    </tr>\n",
       "  </tbody>\n",
       "</table>\n",
       "</div>"
      ],
      "text/plain": [
       "   age     sex     bmi  children smoker     region      charges\n",
       "0   19  female  27.900         0    yes  southwest  16884.92400\n",
       "1   18    male  33.770         1     no  southeast   1725.55230\n",
       "2   28    male  33.000         3     no  southeast   4449.46200\n",
       "3   33    male  22.705         0     no  northwest  21984.47061\n",
       "4   32    male  28.880         0     no  northwest   3866.85520"
      ]
     },
     "execution_count": 6,
     "metadata": {},
     "output_type": "execute_result"
    }
   ],
   "source": [
    "# read csv file and convert into dataframe\n",
    "df = pd.read_csv('medical_cost_insurance.csv')\n",
    "df.head()"
   ]
  },
  {
   "cell_type": "markdown",
   "id": "5b0714b5",
   "metadata": {},
   "source": [
    "#### In this dataset , we have six features and one label . label data is in continuous form . Sex,smoker and region data is in text so we convert into numeric we can use encoding techniques"
   ]
  },
  {
   "cell_type": "code",
   "execution_count": 7,
   "id": "6bee74e9",
   "metadata": {},
   "outputs": [
    {
     "data": {
      "text/html": [
       "<div>\n",
       "<style scoped>\n",
       "    .dataframe tbody tr th:only-of-type {\n",
       "        vertical-align: middle;\n",
       "    }\n",
       "\n",
       "    .dataframe tbody tr th {\n",
       "        vertical-align: top;\n",
       "    }\n",
       "\n",
       "    .dataframe thead th {\n",
       "        text-align: right;\n",
       "    }\n",
       "</style>\n",
       "<table border=\"1\" class=\"dataframe\">\n",
       "  <thead>\n",
       "    <tr style=\"text-align: right;\">\n",
       "      <th></th>\n",
       "      <th>sex_male</th>\n",
       "      <th>smoker_yes</th>\n",
       "    </tr>\n",
       "  </thead>\n",
       "  <tbody>\n",
       "    <tr>\n",
       "      <th>0</th>\n",
       "      <td>0</td>\n",
       "      <td>1</td>\n",
       "    </tr>\n",
       "    <tr>\n",
       "      <th>1</th>\n",
       "      <td>1</td>\n",
       "      <td>0</td>\n",
       "    </tr>\n",
       "  </tbody>\n",
       "</table>\n",
       "</div>"
      ],
      "text/plain": [
       "   sex_male  smoker_yes\n",
       "0         0           1\n",
       "1         1           0"
      ]
     },
     "execution_count": 7,
     "metadata": {},
     "output_type": "execute_result"
    }
   ],
   "source": [
    "# let's use encoding technique\n",
    "data1 = pd.get_dummies(df[['sex','smoker']],drop_first = True)\n",
    "data1.head(2)\n"
   ]
  },
  {
   "cell_type": "code",
   "execution_count": 8,
   "id": "17cdefe3",
   "metadata": {},
   "outputs": [
    {
     "data": {
      "text/html": [
       "<div>\n",
       "<style scoped>\n",
       "    .dataframe tbody tr th:only-of-type {\n",
       "        vertical-align: middle;\n",
       "    }\n",
       "\n",
       "    .dataframe tbody tr th {\n",
       "        vertical-align: top;\n",
       "    }\n",
       "\n",
       "    .dataframe thead th {\n",
       "        text-align: right;\n",
       "    }\n",
       "</style>\n",
       "<table border=\"1\" class=\"dataframe\">\n",
       "  <thead>\n",
       "    <tr style=\"text-align: right;\">\n",
       "      <th></th>\n",
       "      <th>age</th>\n",
       "      <th>sex</th>\n",
       "      <th>bmi</th>\n",
       "      <th>children</th>\n",
       "      <th>smoker</th>\n",
       "      <th>region</th>\n",
       "      <th>charges</th>\n",
       "      <th>sex_male</th>\n",
       "      <th>smoker_yes</th>\n",
       "    </tr>\n",
       "  </thead>\n",
       "  <tbody>\n",
       "    <tr>\n",
       "      <th>0</th>\n",
       "      <td>19</td>\n",
       "      <td>female</td>\n",
       "      <td>27.900</td>\n",
       "      <td>0</td>\n",
       "      <td>yes</td>\n",
       "      <td>southwest</td>\n",
       "      <td>16884.92400</td>\n",
       "      <td>0</td>\n",
       "      <td>1</td>\n",
       "    </tr>\n",
       "    <tr>\n",
       "      <th>1</th>\n",
       "      <td>18</td>\n",
       "      <td>male</td>\n",
       "      <td>33.770</td>\n",
       "      <td>1</td>\n",
       "      <td>no</td>\n",
       "      <td>southeast</td>\n",
       "      <td>1725.55230</td>\n",
       "      <td>1</td>\n",
       "      <td>0</td>\n",
       "    </tr>\n",
       "    <tr>\n",
       "      <th>2</th>\n",
       "      <td>28</td>\n",
       "      <td>male</td>\n",
       "      <td>33.000</td>\n",
       "      <td>3</td>\n",
       "      <td>no</td>\n",
       "      <td>southeast</td>\n",
       "      <td>4449.46200</td>\n",
       "      <td>1</td>\n",
       "      <td>0</td>\n",
       "    </tr>\n",
       "    <tr>\n",
       "      <th>3</th>\n",
       "      <td>33</td>\n",
       "      <td>male</td>\n",
       "      <td>22.705</td>\n",
       "      <td>0</td>\n",
       "      <td>no</td>\n",
       "      <td>northwest</td>\n",
       "      <td>21984.47061</td>\n",
       "      <td>1</td>\n",
       "      <td>0</td>\n",
       "    </tr>\n",
       "    <tr>\n",
       "      <th>4</th>\n",
       "      <td>32</td>\n",
       "      <td>male</td>\n",
       "      <td>28.880</td>\n",
       "      <td>0</td>\n",
       "      <td>no</td>\n",
       "      <td>northwest</td>\n",
       "      <td>3866.85520</td>\n",
       "      <td>1</td>\n",
       "      <td>0</td>\n",
       "    </tr>\n",
       "  </tbody>\n",
       "</table>\n",
       "</div>"
      ],
      "text/plain": [
       "   age     sex     bmi  children smoker     region      charges  sex_male  \\\n",
       "0   19  female  27.900         0    yes  southwest  16884.92400         0   \n",
       "1   18    male  33.770         1     no  southeast   1725.55230         1   \n",
       "2   28    male  33.000         3     no  southeast   4449.46200         1   \n",
       "3   33    male  22.705         0     no  northwest  21984.47061         1   \n",
       "4   32    male  28.880         0     no  northwest   3866.85520         1   \n",
       "\n",
       "   smoker_yes  \n",
       "0           1  \n",
       "1           0  \n",
       "2           0  \n",
       "3           0  \n",
       "4           0  "
      ]
     },
     "execution_count": 8,
     "metadata": {},
     "output_type": "execute_result"
    }
   ],
   "source": [
    "# concatenate all columns\n",
    "data = pd.concat([df,data1],axis = 1)\n",
    "data.head()\n"
   ]
  },
  {
   "cell_type": "code",
   "execution_count": 9,
   "id": "bd30351a",
   "metadata": {},
   "outputs": [],
   "source": [
    "# drop the unnecessary columns\n",
    "data.drop(['sex','smoker'],axis = 1,inplace = True)\n"
   ]
  },
  {
   "cell_type": "code",
   "execution_count": 10,
   "id": "2ac510cf",
   "metadata": {},
   "outputs": [
    {
     "data": {
      "text/html": [
       "<div>\n",
       "<style scoped>\n",
       "    .dataframe tbody tr th:only-of-type {\n",
       "        vertical-align: middle;\n",
       "    }\n",
       "\n",
       "    .dataframe tbody tr th {\n",
       "        vertical-align: top;\n",
       "    }\n",
       "\n",
       "    .dataframe thead th {\n",
       "        text-align: right;\n",
       "    }\n",
       "</style>\n",
       "<table border=\"1\" class=\"dataframe\">\n",
       "  <thead>\n",
       "    <tr style=\"text-align: right;\">\n",
       "      <th></th>\n",
       "      <th>age</th>\n",
       "      <th>bmi</th>\n",
       "      <th>children</th>\n",
       "      <th>region</th>\n",
       "      <th>charges</th>\n",
       "      <th>sex_male</th>\n",
       "      <th>smoker_yes</th>\n",
       "    </tr>\n",
       "  </thead>\n",
       "  <tbody>\n",
       "    <tr>\n",
       "      <th>0</th>\n",
       "      <td>19</td>\n",
       "      <td>27.900</td>\n",
       "      <td>0</td>\n",
       "      <td>southwest</td>\n",
       "      <td>16884.92400</td>\n",
       "      <td>0</td>\n",
       "      <td>1</td>\n",
       "    </tr>\n",
       "    <tr>\n",
       "      <th>1</th>\n",
       "      <td>18</td>\n",
       "      <td>33.770</td>\n",
       "      <td>1</td>\n",
       "      <td>southeast</td>\n",
       "      <td>1725.55230</td>\n",
       "      <td>1</td>\n",
       "      <td>0</td>\n",
       "    </tr>\n",
       "    <tr>\n",
       "      <th>2</th>\n",
       "      <td>28</td>\n",
       "      <td>33.000</td>\n",
       "      <td>3</td>\n",
       "      <td>southeast</td>\n",
       "      <td>4449.46200</td>\n",
       "      <td>1</td>\n",
       "      <td>0</td>\n",
       "    </tr>\n",
       "    <tr>\n",
       "      <th>3</th>\n",
       "      <td>33</td>\n",
       "      <td>22.705</td>\n",
       "      <td>0</td>\n",
       "      <td>northwest</td>\n",
       "      <td>21984.47061</td>\n",
       "      <td>1</td>\n",
       "      <td>0</td>\n",
       "    </tr>\n",
       "    <tr>\n",
       "      <th>4</th>\n",
       "      <td>32</td>\n",
       "      <td>28.880</td>\n",
       "      <td>0</td>\n",
       "      <td>northwest</td>\n",
       "      <td>3866.85520</td>\n",
       "      <td>1</td>\n",
       "      <td>0</td>\n",
       "    </tr>\n",
       "  </tbody>\n",
       "</table>\n",
       "</div>"
      ],
      "text/plain": [
       "   age     bmi  children     region      charges  sex_male  smoker_yes\n",
       "0   19  27.900         0  southwest  16884.92400         0           1\n",
       "1   18  33.770         1  southeast   1725.55230         1           0\n",
       "2   28  33.000         3  southeast   4449.46200         1           0\n",
       "3   33  22.705         0  northwest  21984.47061         1           0\n",
       "4   32  28.880         0  northwest   3866.85520         1           0"
      ]
     },
     "execution_count": 10,
     "metadata": {},
     "output_type": "execute_result"
    }
   ],
   "source": [
    "# let's check the dataframe\n",
    "data.head()"
   ]
  },
  {
   "cell_type": "code",
   "execution_count": 11,
   "id": "b5dd9736",
   "metadata": {},
   "outputs": [
    {
     "data": {
      "text/html": [
       "<div>\n",
       "<style scoped>\n",
       "    .dataframe tbody tr th:only-of-type {\n",
       "        vertical-align: middle;\n",
       "    }\n",
       "\n",
       "    .dataframe tbody tr th {\n",
       "        vertical-align: top;\n",
       "    }\n",
       "\n",
       "    .dataframe thead th {\n",
       "        text-align: right;\n",
       "    }\n",
       "</style>\n",
       "<table border=\"1\" class=\"dataframe\">\n",
       "  <thead>\n",
       "    <tr style=\"text-align: right;\">\n",
       "      <th></th>\n",
       "      <th>age</th>\n",
       "      <th>bmi</th>\n",
       "      <th>children</th>\n",
       "      <th>region</th>\n",
       "      <th>charges</th>\n",
       "      <th>sex_male</th>\n",
       "      <th>smoker_yes</th>\n",
       "    </tr>\n",
       "  </thead>\n",
       "  <tbody>\n",
       "    <tr>\n",
       "      <th>0</th>\n",
       "      <td>19</td>\n",
       "      <td>27.900</td>\n",
       "      <td>0</td>\n",
       "      <td>1</td>\n",
       "      <td>16884.92400</td>\n",
       "      <td>0</td>\n",
       "      <td>1</td>\n",
       "    </tr>\n",
       "    <tr>\n",
       "      <th>1</th>\n",
       "      <td>18</td>\n",
       "      <td>33.770</td>\n",
       "      <td>1</td>\n",
       "      <td>3</td>\n",
       "      <td>1725.55230</td>\n",
       "      <td>1</td>\n",
       "      <td>0</td>\n",
       "    </tr>\n",
       "    <tr>\n",
       "      <th>2</th>\n",
       "      <td>28</td>\n",
       "      <td>33.000</td>\n",
       "      <td>3</td>\n",
       "      <td>3</td>\n",
       "      <td>4449.46200</td>\n",
       "      <td>1</td>\n",
       "      <td>0</td>\n",
       "    </tr>\n",
       "    <tr>\n",
       "      <th>3</th>\n",
       "      <td>33</td>\n",
       "      <td>22.705</td>\n",
       "      <td>0</td>\n",
       "      <td>2</td>\n",
       "      <td>21984.47061</td>\n",
       "      <td>1</td>\n",
       "      <td>0</td>\n",
       "    </tr>\n",
       "    <tr>\n",
       "      <th>4</th>\n",
       "      <td>32</td>\n",
       "      <td>28.880</td>\n",
       "      <td>0</td>\n",
       "      <td>2</td>\n",
       "      <td>3866.85520</td>\n",
       "      <td>1</td>\n",
       "      <td>0</td>\n",
       "    </tr>\n",
       "    <tr>\n",
       "      <th>5</th>\n",
       "      <td>31</td>\n",
       "      <td>25.740</td>\n",
       "      <td>0</td>\n",
       "      <td>3</td>\n",
       "      <td>3756.62160</td>\n",
       "      <td>0</td>\n",
       "      <td>0</td>\n",
       "    </tr>\n",
       "    <tr>\n",
       "      <th>6</th>\n",
       "      <td>46</td>\n",
       "      <td>33.440</td>\n",
       "      <td>1</td>\n",
       "      <td>3</td>\n",
       "      <td>8240.58960</td>\n",
       "      <td>0</td>\n",
       "      <td>0</td>\n",
       "    </tr>\n",
       "    <tr>\n",
       "      <th>7</th>\n",
       "      <td>37</td>\n",
       "      <td>27.740</td>\n",
       "      <td>3</td>\n",
       "      <td>2</td>\n",
       "      <td>7281.50560</td>\n",
       "      <td>0</td>\n",
       "      <td>0</td>\n",
       "    </tr>\n",
       "    <tr>\n",
       "      <th>8</th>\n",
       "      <td>37</td>\n",
       "      <td>29.830</td>\n",
       "      <td>2</td>\n",
       "      <td>4</td>\n",
       "      <td>6406.41070</td>\n",
       "      <td>1</td>\n",
       "      <td>0</td>\n",
       "    </tr>\n",
       "    <tr>\n",
       "      <th>9</th>\n",
       "      <td>60</td>\n",
       "      <td>25.840</td>\n",
       "      <td>0</td>\n",
       "      <td>2</td>\n",
       "      <td>28923.13692</td>\n",
       "      <td>0</td>\n",
       "      <td>0</td>\n",
       "    </tr>\n",
       "  </tbody>\n",
       "</table>\n",
       "</div>"
      ],
      "text/plain": [
       "   age     bmi  children  region      charges  sex_male  smoker_yes\n",
       "0   19  27.900         0       1  16884.92400         0           1\n",
       "1   18  33.770         1       3   1725.55230         1           0\n",
       "2   28  33.000         3       3   4449.46200         1           0\n",
       "3   33  22.705         0       2  21984.47061         1           0\n",
       "4   32  28.880         0       2   3866.85520         1           0\n",
       "5   31  25.740         0       3   3756.62160         0           0\n",
       "6   46  33.440         1       3   8240.58960         0           0\n",
       "7   37  27.740         3       2   7281.50560         0           0\n",
       "8   37  29.830         2       4   6406.41070         1           0\n",
       "9   60  25.840         0       2  28923.13692         0           0"
      ]
     },
     "execution_count": 11,
     "metadata": {},
     "output_type": "execute_result"
    }
   ],
   "source": [
    "data['region'] = df['region'].replace({'southwest':1,'northwest':2,'southeast':3,'northeast':4})\n",
    "data.head(10)"
   ]
  },
  {
   "cell_type": "code",
   "execution_count": 12,
   "id": "afcfd8cd",
   "metadata": {},
   "outputs": [
    {
     "data": {
      "text/plain": [
       "(1338, 7)"
      ]
     },
     "execution_count": 12,
     "metadata": {},
     "output_type": "execute_result"
    }
   ],
   "source": [
    "# Let's check the shape of dataset\n",
    "data.shape"
   ]
  },
  {
   "cell_type": "code",
   "execution_count": 13,
   "id": "887cd991",
   "metadata": {},
   "outputs": [
    {
     "name": "stdout",
     "output_type": "stream",
     "text": [
      "<class 'pandas.core.frame.DataFrame'>\n",
      "RangeIndex: 1338 entries, 0 to 1337\n",
      "Data columns (total 7 columns):\n",
      " #   Column      Non-Null Count  Dtype  \n",
      "---  ------      --------------  -----  \n",
      " 0   age         1338 non-null   int64  \n",
      " 1   bmi         1338 non-null   float64\n",
      " 2   children    1338 non-null   int64  \n",
      " 3   region      1338 non-null   int64  \n",
      " 4   charges     1338 non-null   float64\n",
      " 5   sex_male    1338 non-null   uint8  \n",
      " 6   smoker_yes  1338 non-null   uint8  \n",
      "dtypes: float64(2), int64(3), uint8(2)\n",
      "memory usage: 55.0 KB\n"
     ]
    }
   ],
   "source": [
    "# info about all columns\n",
    "data.info()"
   ]
  },
  {
   "cell_type": "markdown",
   "id": "2341c475",
   "metadata": {},
   "source": [
    "##  Data Description"
   ]
  },
  {
   "cell_type": "code",
   "execution_count": 14,
   "id": "c5a1b383",
   "metadata": {},
   "outputs": [
    {
     "data": {
      "text/html": [
       "<div>\n",
       "<style scoped>\n",
       "    .dataframe tbody tr th:only-of-type {\n",
       "        vertical-align: middle;\n",
       "    }\n",
       "\n",
       "    .dataframe tbody tr th {\n",
       "        vertical-align: top;\n",
       "    }\n",
       "\n",
       "    .dataframe thead th {\n",
       "        text-align: right;\n",
       "    }\n",
       "</style>\n",
       "<table border=\"1\" class=\"dataframe\">\n",
       "  <thead>\n",
       "    <tr style=\"text-align: right;\">\n",
       "      <th></th>\n",
       "      <th>age</th>\n",
       "      <th>bmi</th>\n",
       "      <th>children</th>\n",
       "      <th>region</th>\n",
       "      <th>charges</th>\n",
       "      <th>sex_male</th>\n",
       "      <th>smoker_yes</th>\n",
       "    </tr>\n",
       "  </thead>\n",
       "  <tbody>\n",
       "    <tr>\n",
       "      <th>count</th>\n",
       "      <td>1338.000000</td>\n",
       "      <td>1338.000000</td>\n",
       "      <td>1338.000000</td>\n",
       "      <td>1338.000000</td>\n",
       "      <td>1338.000000</td>\n",
       "      <td>1338.000000</td>\n",
       "      <td>1338.000000</td>\n",
       "    </tr>\n",
       "    <tr>\n",
       "      <th>mean</th>\n",
       "      <td>39.207025</td>\n",
       "      <td>30.663397</td>\n",
       "      <td>1.094918</td>\n",
       "      <td>2.513453</td>\n",
       "      <td>13270.422265</td>\n",
       "      <td>0.505232</td>\n",
       "      <td>0.204783</td>\n",
       "    </tr>\n",
       "    <tr>\n",
       "      <th>std</th>\n",
       "      <td>14.049960</td>\n",
       "      <td>6.098187</td>\n",
       "      <td>1.205493</td>\n",
       "      <td>1.104915</td>\n",
       "      <td>12110.011237</td>\n",
       "      <td>0.500160</td>\n",
       "      <td>0.403694</td>\n",
       "    </tr>\n",
       "    <tr>\n",
       "      <th>min</th>\n",
       "      <td>18.000000</td>\n",
       "      <td>15.960000</td>\n",
       "      <td>0.000000</td>\n",
       "      <td>1.000000</td>\n",
       "      <td>1121.873900</td>\n",
       "      <td>0.000000</td>\n",
       "      <td>0.000000</td>\n",
       "    </tr>\n",
       "    <tr>\n",
       "      <th>25%</th>\n",
       "      <td>27.000000</td>\n",
       "      <td>26.296250</td>\n",
       "      <td>0.000000</td>\n",
       "      <td>2.000000</td>\n",
       "      <td>4740.287150</td>\n",
       "      <td>0.000000</td>\n",
       "      <td>0.000000</td>\n",
       "    </tr>\n",
       "    <tr>\n",
       "      <th>50%</th>\n",
       "      <td>39.000000</td>\n",
       "      <td>30.400000</td>\n",
       "      <td>1.000000</td>\n",
       "      <td>3.000000</td>\n",
       "      <td>9382.033000</td>\n",
       "      <td>1.000000</td>\n",
       "      <td>0.000000</td>\n",
       "    </tr>\n",
       "    <tr>\n",
       "      <th>75%</th>\n",
       "      <td>51.000000</td>\n",
       "      <td>34.693750</td>\n",
       "      <td>2.000000</td>\n",
       "      <td>3.000000</td>\n",
       "      <td>16639.912515</td>\n",
       "      <td>1.000000</td>\n",
       "      <td>0.000000</td>\n",
       "    </tr>\n",
       "    <tr>\n",
       "      <th>max</th>\n",
       "      <td>64.000000</td>\n",
       "      <td>53.130000</td>\n",
       "      <td>5.000000</td>\n",
       "      <td>4.000000</td>\n",
       "      <td>63770.428010</td>\n",
       "      <td>1.000000</td>\n",
       "      <td>1.000000</td>\n",
       "    </tr>\n",
       "  </tbody>\n",
       "</table>\n",
       "</div>"
      ],
      "text/plain": [
       "               age          bmi     children       region       charges  \\\n",
       "count  1338.000000  1338.000000  1338.000000  1338.000000   1338.000000   \n",
       "mean     39.207025    30.663397     1.094918     2.513453  13270.422265   \n",
       "std      14.049960     6.098187     1.205493     1.104915  12110.011237   \n",
       "min      18.000000    15.960000     0.000000     1.000000   1121.873900   \n",
       "25%      27.000000    26.296250     0.000000     2.000000   4740.287150   \n",
       "50%      39.000000    30.400000     1.000000     3.000000   9382.033000   \n",
       "75%      51.000000    34.693750     2.000000     3.000000  16639.912515   \n",
       "max      64.000000    53.130000     5.000000     4.000000  63770.428010   \n",
       "\n",
       "          sex_male   smoker_yes  \n",
       "count  1338.000000  1338.000000  \n",
       "mean      0.505232     0.204783  \n",
       "std       0.500160     0.403694  \n",
       "min       0.000000     0.000000  \n",
       "25%       0.000000     0.000000  \n",
       "50%       1.000000     0.000000  \n",
       "75%       1.000000     0.000000  \n",
       "max       1.000000     1.000000  "
      ]
     },
     "execution_count": 14,
     "metadata": {},
     "output_type": "execute_result"
    }
   ],
   "source": [
    "# understanding data at high level, we check stats of dataset\n",
    "data.describe()"
   ]
  },
  {
   "cell_type": "markdown",
   "id": "5275ec16",
   "metadata": {},
   "source": [
    "##### Observations====\n",
    "\n",
    "1-Age=> Measure of central Tendency and Dispersion is looking satisfactory,Min and Max are also satisfactory.\n",
    "\n",
    "2-sex=> Mean & STD are close to each others and Min & MAX values are not satisfactory\n",
    "\n",
    "3- bmi=> Measure of central Tendency and Dispersion is looking satisfactory,but Max value of BMI indicating presence of outliers\n",
    "\n",
    "4- children=> Mean & STD values are very close to each other, rest is looking satisfactory\n",
    "\n",
    "5- smoker=> Measure of central Tendency and Dispersion is looking satisfactory,no values in Min and MAX could be point of concern\n",
    "\n",
    "6 - region=> We will recheck and we will see if region is impacting the charges and accordingly we will take the decision(rest all is looking satisfactory)"
   ]
  },
  {
   "cell_type": "markdown",
   "id": "30ed8f89",
   "metadata": {},
   "source": [
    "##   EDA(Exploratory Decision Analysis)"
   ]
  },
  {
   "cell_type": "code",
   "execution_count": 15,
   "id": "606eaf77",
   "metadata": {},
   "outputs": [
    {
     "data": {
      "image/png": "[encoded data removed]",
      "text/plain": [
       "<Figure size 1440x1800 with 7 Axes>"
      ]
     },
     "metadata": {
      "needs_background": "light"
     },
     "output_type": "display_data"
    }
   ],
   "source": [
    "# Let's see how the data is distributed for every column\n",
    "plt.figure(figsize = (20,25))\n",
    "plotnumber = 1\n",
    "for col in data:\n",
    "    if plotnumber<= 7:\n",
    "        ax = plt.subplot(2,4,plotnumber)\n",
    "        sns.distplot(data[col])\n",
    "        plt.xlabel(col,fontsize = 10)\n",
    "    plotnumber +=1\n",
    "plt.show()    "
   ]
  },
  {
   "cell_type": "code",
   "execution_count": 16,
   "id": "ff8690a0",
   "metadata": {},
   "outputs": [],
   "source": [
    "# In Distribution plot , all columns data is distributed normally,there is no skewness in this dataset "
   ]
  },
  {
   "cell_type": "code",
   "execution_count": 17,
   "id": "9f778149",
   "metadata": {},
   "outputs": [
    {
     "data": {
      "text/html": [
       "<div>\n",
       "<style scoped>\n",
       "    .dataframe tbody tr th:only-of-type {\n",
       "        vertical-align: middle;\n",
       "    }\n",
       "\n",
       "    .dataframe tbody tr th {\n",
       "        vertical-align: top;\n",
       "    }\n",
       "\n",
       "    .dataframe thead th {\n",
       "        text-align: right;\n",
       "    }\n",
       "</style>\n",
       "<table border=\"1\" class=\"dataframe\">\n",
       "  <thead>\n",
       "    <tr style=\"text-align: right;\">\n",
       "      <th></th>\n",
       "      <th>age</th>\n",
       "      <th>bmi</th>\n",
       "      <th>children</th>\n",
       "      <th>region</th>\n",
       "      <th>charges</th>\n",
       "      <th>sex_male</th>\n",
       "      <th>smoker_yes</th>\n",
       "    </tr>\n",
       "  </thead>\n",
       "  <tbody>\n",
       "    <tr>\n",
       "      <th>0</th>\n",
       "      <td>19</td>\n",
       "      <td>27.900</td>\n",
       "      <td>0</td>\n",
       "      <td>1</td>\n",
       "      <td>16884.92400</td>\n",
       "      <td>0</td>\n",
       "      <td>1</td>\n",
       "    </tr>\n",
       "    <tr>\n",
       "      <th>1</th>\n",
       "      <td>18</td>\n",
       "      <td>33.770</td>\n",
       "      <td>1</td>\n",
       "      <td>3</td>\n",
       "      <td>1725.55230</td>\n",
       "      <td>1</td>\n",
       "      <td>0</td>\n",
       "    </tr>\n",
       "    <tr>\n",
       "      <th>2</th>\n",
       "      <td>28</td>\n",
       "      <td>33.000</td>\n",
       "      <td>3</td>\n",
       "      <td>3</td>\n",
       "      <td>4449.46200</td>\n",
       "      <td>1</td>\n",
       "      <td>0</td>\n",
       "    </tr>\n",
       "    <tr>\n",
       "      <th>3</th>\n",
       "      <td>33</td>\n",
       "      <td>22.705</td>\n",
       "      <td>0</td>\n",
       "      <td>2</td>\n",
       "      <td>21984.47061</td>\n",
       "      <td>1</td>\n",
       "      <td>0</td>\n",
       "    </tr>\n",
       "    <tr>\n",
       "      <th>4</th>\n",
       "      <td>32</td>\n",
       "      <td>28.880</td>\n",
       "      <td>0</td>\n",
       "      <td>2</td>\n",
       "      <td>3866.85520</td>\n",
       "      <td>1</td>\n",
       "      <td>0</td>\n",
       "    </tr>\n",
       "  </tbody>\n",
       "</table>\n",
       "</div>"
      ],
      "text/plain": [
       "   age     bmi  children  region      charges  sex_male  smoker_yes\n",
       "0   19  27.900         0       1  16884.92400         0           1\n",
       "1   18  33.770         1       3   1725.55230         1           0\n",
       "2   28  33.000         3       3   4449.46200         1           0\n",
       "3   33  22.705         0       2  21984.47061         1           0\n",
       "4   32  28.880         0       2   3866.85520         1           0"
      ]
     },
     "execution_count": 17,
     "metadata": {},
     "output_type": "execute_result"
    }
   ],
   "source": [
    "data.head()"
   ]
  },
  {
   "cell_type": "code",
   "execution_count": 18,
   "id": "cf15ffd8",
   "metadata": {},
   "outputs": [
    {
     "data": {
      "text/html": [
       "<div>\n",
       "<style scoped>\n",
       "    .dataframe tbody tr th:only-of-type {\n",
       "        vertical-align: middle;\n",
       "    }\n",
       "\n",
       "    .dataframe tbody tr th {\n",
       "        vertical-align: top;\n",
       "    }\n",
       "\n",
       "    .dataframe thead th {\n",
       "        text-align: right;\n",
       "    }\n",
       "</style>\n",
       "<table border=\"1\" class=\"dataframe\">\n",
       "  <thead>\n",
       "    <tr style=\"text-align: right;\">\n",
       "      <th></th>\n",
       "      <th>age</th>\n",
       "      <th>bmi</th>\n",
       "      <th>children</th>\n",
       "      <th>region</th>\n",
       "      <th>sex_male</th>\n",
       "      <th>smoker_yes</th>\n",
       "    </tr>\n",
       "  </thead>\n",
       "  <tbody>\n",
       "    <tr>\n",
       "      <th>0</th>\n",
       "      <td>19</td>\n",
       "      <td>27.900</td>\n",
       "      <td>0</td>\n",
       "      <td>1</td>\n",
       "      <td>0</td>\n",
       "      <td>1</td>\n",
       "    </tr>\n",
       "    <tr>\n",
       "      <th>1</th>\n",
       "      <td>18</td>\n",
       "      <td>33.770</td>\n",
       "      <td>1</td>\n",
       "      <td>3</td>\n",
       "      <td>1</td>\n",
       "      <td>0</td>\n",
       "    </tr>\n",
       "    <tr>\n",
       "      <th>2</th>\n",
       "      <td>28</td>\n",
       "      <td>33.000</td>\n",
       "      <td>3</td>\n",
       "      <td>3</td>\n",
       "      <td>1</td>\n",
       "      <td>0</td>\n",
       "    </tr>\n",
       "    <tr>\n",
       "      <th>3</th>\n",
       "      <td>33</td>\n",
       "      <td>22.705</td>\n",
       "      <td>0</td>\n",
       "      <td>2</td>\n",
       "      <td>1</td>\n",
       "      <td>0</td>\n",
       "    </tr>\n",
       "    <tr>\n",
       "      <th>4</th>\n",
       "      <td>32</td>\n",
       "      <td>28.880</td>\n",
       "      <td>0</td>\n",
       "      <td>2</td>\n",
       "      <td>1</td>\n",
       "      <td>0</td>\n",
       "    </tr>\n",
       "  </tbody>\n",
       "</table>\n",
       "</div>"
      ],
      "text/plain": [
       "   age     bmi  children  region  sex_male  smoker_yes\n",
       "0   19  27.900         0       1         0           1\n",
       "1   18  33.770         1       3         1           0\n",
       "2   28  33.000         3       3         1           0\n",
       "3   33  22.705         0       2         1           0\n",
       "4   32  28.880         0       2         1           0"
      ]
     },
     "execution_count": 18,
     "metadata": {},
     "output_type": "execute_result"
    }
   ],
   "source": [
    "x = data.drop(columns=['charges'])\n",
    "x.head()"
   ]
  },
  {
   "cell_type": "code",
   "execution_count": 19,
   "id": "d9929e1a",
   "metadata": {},
   "outputs": [
    {
     "data": {
      "text/plain": [
       "0    16884.92400\n",
       "1     1725.55230\n",
       "2     4449.46200\n",
       "3    21984.47061\n",
       "4     3866.85520\n",
       "Name: charges, dtype: float64"
      ]
     },
     "execution_count": 19,
     "metadata": {},
     "output_type": "execute_result"
    }
   ],
   "source": [
    "y = data.charges\n",
    "y.head()"
   ]
  },
  {
   "cell_type": "code",
   "execution_count": 20,
   "id": "d6fdd0a2",
   "metadata": {},
   "outputs": [
    {
     "data": {
      "image/png": "[encoded data removed]",
      "text/plain": [
       "<Figure size 1080x1440 with 6 Axes>"
      ]
     },
     "metadata": {
      "needs_background": "light"
     },
     "output_type": "display_data"
    }
   ],
   "source": [
    "# let's visualize the outliers using boxplot\n",
    "plt.figure(figsize = (15,20))\n",
    "pn = 1\n",
    "for col in x:\n",
    "    if pn <= 6:\n",
    "        plt.subplot(2,3,pn)\n",
    "        ax=sns.boxplot(data = x[col])\n",
    "        plt.xlabel(col,fontsize= 15)\n",
    "    pn += 1\n",
    "plt.show()    "
   ]
  },
  {
   "cell_type": "markdown",
   "id": "5783991e",
   "metadata": {},
   "source": [
    "###As expected BMI is showing outliers on higher side,Lets treat the outliers firs==========\n",
    "****we are deleting outliers here i have verified from official site of ICMR that maximum mean BMI of average person is 29,hence we are having 53 as maximum value which is not a realistic value****"
   ]
  },
  {
   "cell_type": "code",
   "execution_count": 21,
   "id": "8e06b809",
   "metadata": {},
   "outputs": [
    {
     "data": {
      "text/plain": [
       "age              24.000000\n",
       "bmi               8.397500\n",
       "children          2.000000\n",
       "region            1.000000\n",
       "charges       11899.625365\n",
       "sex_male          1.000000\n",
       "smoker_yes        0.000000\n",
       "dtype: float64"
      ]
     },
     "execution_count": 21,
     "metadata": {},
     "output_type": "execute_result"
    }
   ],
   "source": [
    "# Use the quantile techniques\n",
    "#find the IQR(Inter Quantile Range) to identify the outliers\n",
    "# 1st Quantile\n",
    "q1 = data.quantile(0.25)\n",
    "# 3rd Quantile\n",
    "q3 = data.quantile(0.75)\n",
    "# IQR\n",
    "iqr = q3 - q1\n",
    "iqr"
   ]
  },
  {
   "cell_type": "code",
   "execution_count": 22,
   "id": "d7d35b79",
   "metadata": {},
   "outputs": [
    {
     "data": {
      "text/plain": [
       "47.290000000000006"
      ]
     },
     "execution_count": 22,
     "metadata": {},
     "output_type": "execute_result"
    }
   ],
   "source": [
    "# remove the outliers from BMI\n",
    "BMI = (q3.bmi + (1.5*iqr.bmi))\n",
    "BMI\n"
   ]
  },
  {
   "cell_type": "code",
   "execution_count": 23,
   "id": "e6677a25",
   "metadata": {},
   "outputs": [
    {
     "data": {
      "text/html": [
       "<div>\n",
       "<style scoped>\n",
       "    .dataframe tbody tr th:only-of-type {\n",
       "        vertical-align: middle;\n",
       "    }\n",
       "\n",
       "    .dataframe tbody tr th {\n",
       "        vertical-align: top;\n",
       "    }\n",
       "\n",
       "    .dataframe thead th {\n",
       "        text-align: right;\n",
       "    }\n",
       "</style>\n",
       "<table border=\"1\" class=\"dataframe\">\n",
       "  <thead>\n",
       "    <tr style=\"text-align: right;\">\n",
       "      <th></th>\n",
       "      <th>index</th>\n",
       "      <th>age</th>\n",
       "      <th>bmi</th>\n",
       "      <th>children</th>\n",
       "      <th>region</th>\n",
       "      <th>charges</th>\n",
       "      <th>sex_male</th>\n",
       "      <th>smoker_yes</th>\n",
       "    </tr>\n",
       "  </thead>\n",
       "  <tbody>\n",
       "    <tr>\n",
       "      <th>0</th>\n",
       "      <td>0</td>\n",
       "      <td>19</td>\n",
       "      <td>27.900</td>\n",
       "      <td>0</td>\n",
       "      <td>1</td>\n",
       "      <td>16884.92400</td>\n",
       "      <td>0</td>\n",
       "      <td>1</td>\n",
       "    </tr>\n",
       "    <tr>\n",
       "      <th>1</th>\n",
       "      <td>1</td>\n",
       "      <td>18</td>\n",
       "      <td>33.770</td>\n",
       "      <td>1</td>\n",
       "      <td>3</td>\n",
       "      <td>1725.55230</td>\n",
       "      <td>1</td>\n",
       "      <td>0</td>\n",
       "    </tr>\n",
       "    <tr>\n",
       "      <th>2</th>\n",
       "      <td>2</td>\n",
       "      <td>28</td>\n",
       "      <td>33.000</td>\n",
       "      <td>3</td>\n",
       "      <td>3</td>\n",
       "      <td>4449.46200</td>\n",
       "      <td>1</td>\n",
       "      <td>0</td>\n",
       "    </tr>\n",
       "    <tr>\n",
       "      <th>3</th>\n",
       "      <td>3</td>\n",
       "      <td>33</td>\n",
       "      <td>22.705</td>\n",
       "      <td>0</td>\n",
       "      <td>2</td>\n",
       "      <td>21984.47061</td>\n",
       "      <td>1</td>\n",
       "      <td>0</td>\n",
       "    </tr>\n",
       "    <tr>\n",
       "      <th>4</th>\n",
       "      <td>4</td>\n",
       "      <td>32</td>\n",
       "      <td>28.880</td>\n",
       "      <td>0</td>\n",
       "      <td>2</td>\n",
       "      <td>3866.85520</td>\n",
       "      <td>1</td>\n",
       "      <td>0</td>\n",
       "    </tr>\n",
       "    <tr>\n",
       "      <th>...</th>\n",
       "      <td>...</td>\n",
       "      <td>...</td>\n",
       "      <td>...</td>\n",
       "      <td>...</td>\n",
       "      <td>...</td>\n",
       "      <td>...</td>\n",
       "      <td>...</td>\n",
       "      <td>...</td>\n",
       "    </tr>\n",
       "    <tr>\n",
       "      <th>1324</th>\n",
       "      <td>1333</td>\n",
       "      <td>50</td>\n",
       "      <td>30.970</td>\n",
       "      <td>3</td>\n",
       "      <td>2</td>\n",
       "      <td>10600.54830</td>\n",
       "      <td>1</td>\n",
       "      <td>0</td>\n",
       "    </tr>\n",
       "    <tr>\n",
       "      <th>1325</th>\n",
       "      <td>1334</td>\n",
       "      <td>18</td>\n",
       "      <td>31.920</td>\n",
       "      <td>0</td>\n",
       "      <td>4</td>\n",
       "      <td>2205.98080</td>\n",
       "      <td>0</td>\n",
       "      <td>0</td>\n",
       "    </tr>\n",
       "    <tr>\n",
       "      <th>1326</th>\n",
       "      <td>1335</td>\n",
       "      <td>18</td>\n",
       "      <td>36.850</td>\n",
       "      <td>0</td>\n",
       "      <td>3</td>\n",
       "      <td>1629.83350</td>\n",
       "      <td>0</td>\n",
       "      <td>0</td>\n",
       "    </tr>\n",
       "    <tr>\n",
       "      <th>1327</th>\n",
       "      <td>1336</td>\n",
       "      <td>21</td>\n",
       "      <td>25.800</td>\n",
       "      <td>0</td>\n",
       "      <td>1</td>\n",
       "      <td>2007.94500</td>\n",
       "      <td>0</td>\n",
       "      <td>0</td>\n",
       "    </tr>\n",
       "    <tr>\n",
       "      <th>1328</th>\n",
       "      <td>1337</td>\n",
       "      <td>61</td>\n",
       "      <td>29.070</td>\n",
       "      <td>0</td>\n",
       "      <td>2</td>\n",
       "      <td>29141.36030</td>\n",
       "      <td>0</td>\n",
       "      <td>1</td>\n",
       "    </tr>\n",
       "  </tbody>\n",
       "</table>\n",
       "<p>1329 rows × 8 columns</p>\n",
       "</div>"
      ],
      "text/plain": [
       "      index  age     bmi  children  region      charges  sex_male  smoker_yes\n",
       "0         0   19  27.900         0       1  16884.92400         0           1\n",
       "1         1   18  33.770         1       3   1725.55230         1           0\n",
       "2         2   28  33.000         3       3   4449.46200         1           0\n",
       "3         3   33  22.705         0       2  21984.47061         1           0\n",
       "4         4   32  28.880         0       2   3866.85520         1           0\n",
       "...     ...  ...     ...       ...     ...          ...       ...         ...\n",
       "1324   1333   50  30.970         3       2  10600.54830         1           0\n",
       "1325   1334   18  31.920         0       4   2205.98080         0           0\n",
       "1326   1335   18  36.850         0       3   1629.83350         0           0\n",
       "1327   1336   21  25.800         0       1   2007.94500         0           0\n",
       "1328   1337   61  29.070         0       2  29141.36030         0           1\n",
       "\n",
       "[1329 rows x 8 columns]"
      ]
     },
     "execution_count": 23,
     "metadata": {},
     "output_type": "execute_result"
    }
   ],
   "source": [
    "# check the index which have higher values\n",
    "index = np.where(data['bmi']>BMI)\n",
    "index\n",
    "# drop the index which we find in the above cell\n",
    "data = data.drop(data.index[index])\n",
    "data.shape\n",
    "data.reset_index()"
   ]
  },
  {
   "cell_type": "code",
   "execution_count": 24,
   "id": "b6f44df3",
   "metadata": {},
   "outputs": [
    {
     "data": {
      "text/html": [
       "<div>\n",
       "<style scoped>\n",
       "    .dataframe tbody tr th:only-of-type {\n",
       "        vertical-align: middle;\n",
       "    }\n",
       "\n",
       "    .dataframe tbody tr th {\n",
       "        vertical-align: top;\n",
       "    }\n",
       "\n",
       "    .dataframe thead th {\n",
       "        text-align: right;\n",
       "    }\n",
       "</style>\n",
       "<table border=\"1\" class=\"dataframe\">\n",
       "  <thead>\n",
       "    <tr style=\"text-align: right;\">\n",
       "      <th></th>\n",
       "      <th>index</th>\n",
       "      <th>age</th>\n",
       "      <th>bmi</th>\n",
       "      <th>children</th>\n",
       "      <th>region</th>\n",
       "      <th>charges</th>\n",
       "      <th>sex_male</th>\n",
       "      <th>smoker_yes</th>\n",
       "    </tr>\n",
       "  </thead>\n",
       "  <tbody>\n",
       "    <tr>\n",
       "      <th>0</th>\n",
       "      <td>0</td>\n",
       "      <td>19</td>\n",
       "      <td>27.900</td>\n",
       "      <td>0</td>\n",
       "      <td>1</td>\n",
       "      <td>16884.92400</td>\n",
       "      <td>0</td>\n",
       "      <td>1</td>\n",
       "    </tr>\n",
       "    <tr>\n",
       "      <th>1</th>\n",
       "      <td>1</td>\n",
       "      <td>18</td>\n",
       "      <td>33.770</td>\n",
       "      <td>1</td>\n",
       "      <td>3</td>\n",
       "      <td>1725.55230</td>\n",
       "      <td>1</td>\n",
       "      <td>0</td>\n",
       "    </tr>\n",
       "    <tr>\n",
       "      <th>2</th>\n",
       "      <td>2</td>\n",
       "      <td>28</td>\n",
       "      <td>33.000</td>\n",
       "      <td>3</td>\n",
       "      <td>3</td>\n",
       "      <td>4449.46200</td>\n",
       "      <td>1</td>\n",
       "      <td>0</td>\n",
       "    </tr>\n",
       "    <tr>\n",
       "      <th>3</th>\n",
       "      <td>3</td>\n",
       "      <td>33</td>\n",
       "      <td>22.705</td>\n",
       "      <td>0</td>\n",
       "      <td>2</td>\n",
       "      <td>21984.47061</td>\n",
       "      <td>1</td>\n",
       "      <td>0</td>\n",
       "    </tr>\n",
       "    <tr>\n",
       "      <th>4</th>\n",
       "      <td>4</td>\n",
       "      <td>32</td>\n",
       "      <td>28.880</td>\n",
       "      <td>0</td>\n",
       "      <td>2</td>\n",
       "      <td>3866.85520</td>\n",
       "      <td>1</td>\n",
       "      <td>0</td>\n",
       "    </tr>\n",
       "    <tr>\n",
       "      <th>...</th>\n",
       "      <td>...</td>\n",
       "      <td>...</td>\n",
       "      <td>...</td>\n",
       "      <td>...</td>\n",
       "      <td>...</td>\n",
       "      <td>...</td>\n",
       "      <td>...</td>\n",
       "      <td>...</td>\n",
       "    </tr>\n",
       "    <tr>\n",
       "      <th>1315</th>\n",
       "      <td>1333</td>\n",
       "      <td>50</td>\n",
       "      <td>30.970</td>\n",
       "      <td>3</td>\n",
       "      <td>2</td>\n",
       "      <td>10600.54830</td>\n",
       "      <td>1</td>\n",
       "      <td>0</td>\n",
       "    </tr>\n",
       "    <tr>\n",
       "      <th>1316</th>\n",
       "      <td>1334</td>\n",
       "      <td>18</td>\n",
       "      <td>31.920</td>\n",
       "      <td>0</td>\n",
       "      <td>4</td>\n",
       "      <td>2205.98080</td>\n",
       "      <td>0</td>\n",
       "      <td>0</td>\n",
       "    </tr>\n",
       "    <tr>\n",
       "      <th>1317</th>\n",
       "      <td>1335</td>\n",
       "      <td>18</td>\n",
       "      <td>36.850</td>\n",
       "      <td>0</td>\n",
       "      <td>3</td>\n",
       "      <td>1629.83350</td>\n",
       "      <td>0</td>\n",
       "      <td>0</td>\n",
       "    </tr>\n",
       "    <tr>\n",
       "      <th>1318</th>\n",
       "      <td>1336</td>\n",
       "      <td>21</td>\n",
       "      <td>25.800</td>\n",
       "      <td>0</td>\n",
       "      <td>1</td>\n",
       "      <td>2007.94500</td>\n",
       "      <td>0</td>\n",
       "      <td>0</td>\n",
       "    </tr>\n",
       "    <tr>\n",
       "      <th>1319</th>\n",
       "      <td>1337</td>\n",
       "      <td>61</td>\n",
       "      <td>29.070</td>\n",
       "      <td>0</td>\n",
       "      <td>2</td>\n",
       "      <td>29141.36030</td>\n",
       "      <td>0</td>\n",
       "      <td>1</td>\n",
       "    </tr>\n",
       "  </tbody>\n",
       "</table>\n",
       "<p>1320 rows × 8 columns</p>\n",
       "</div>"
      ],
      "text/plain": [
       "      index  age     bmi  children  region      charges  sex_male  smoker_yes\n",
       "0         0   19  27.900         0       1  16884.92400         0           1\n",
       "1         1   18  33.770         1       3   1725.55230         1           0\n",
       "2         2   28  33.000         3       3   4449.46200         1           0\n",
       "3         3   33  22.705         0       2  21984.47061         1           0\n",
       "4         4   32  28.880         0       2   3866.85520         1           0\n",
       "...     ...  ...     ...       ...     ...          ...       ...         ...\n",
       "1315   1333   50  30.970         3       2  10600.54830         1           0\n",
       "1316   1334   18  31.920         0       4   2205.98080         0           0\n",
       "1317   1335   18  36.850         0       3   1629.83350         0           0\n",
       "1318   1336   21  25.800         0       1   2007.94500         0           0\n",
       "1319   1337   61  29.070         0       2  29141.36030         0           1\n",
       "\n",
       "[1320 rows x 8 columns]"
      ]
     },
     "execution_count": 24,
     "metadata": {},
     "output_type": "execute_result"
    }
   ],
   "source": [
    "# drop the index which we find in the above cell\n",
    "data = data.drop(data.index[index])\n",
    "data.shape\n",
    "data.reset_index()"
   ]
  },
  {
   "cell_type": "code",
   "execution_count": 25,
   "id": "51df6860",
   "metadata": {},
   "outputs": [
    {
     "data": {
      "image/png": "[encoded data removed]",
      "text/plain": [
       "<Figure size 1080x1440 with 6 Axes>"
      ]
     },
     "metadata": {
      "needs_background": "light"
     },
     "output_type": "display_data"
    }
   ],
   "source": [
    "# check the outliers are remove or not\n",
    "plt.figure(figsize = (15,20))\n",
    "pn = 1\n",
    "for col in data:\n",
    "    if pn <= 6:\n",
    "        plt.subplot(2,3,pn)\n",
    "        ax=sns.boxplot(data = data[col])\n",
    "        plt.xlabel(col,fontsize= 15)\n",
    "    pn += 1\n",
    "plt.show()    "
   ]
  },
  {
   "cell_type": "code",
   "execution_count": 26,
   "id": "edd7541a",
   "metadata": {},
   "outputs": [],
   "source": [
    "# Data looks much better now outliers removed from bmi column"
   ]
  },
  {
   "cell_type": "code",
   "execution_count": 27,
   "id": "52f41ede",
   "metadata": {},
   "outputs": [
    {
     "data": {
      "text/html": [
       "<div>\n",
       "<style scoped>\n",
       "    .dataframe tbody tr th:only-of-type {\n",
       "        vertical-align: middle;\n",
       "    }\n",
       "\n",
       "    .dataframe tbody tr th {\n",
       "        vertical-align: top;\n",
       "    }\n",
       "\n",
       "    .dataframe thead th {\n",
       "        text-align: right;\n",
       "    }\n",
       "</style>\n",
       "<table border=\"1\" class=\"dataframe\">\n",
       "  <thead>\n",
       "    <tr style=\"text-align: right;\">\n",
       "      <th></th>\n",
       "      <th>age</th>\n",
       "      <th>bmi</th>\n",
       "      <th>children</th>\n",
       "      <th>region</th>\n",
       "      <th>charges</th>\n",
       "      <th>sex_male</th>\n",
       "      <th>smoker_yes</th>\n",
       "    </tr>\n",
       "  </thead>\n",
       "  <tbody>\n",
       "    <tr>\n",
       "      <th>0</th>\n",
       "      <td>19</td>\n",
       "      <td>27.900</td>\n",
       "      <td>0</td>\n",
       "      <td>1</td>\n",
       "      <td>16884.92400</td>\n",
       "      <td>0</td>\n",
       "      <td>1</td>\n",
       "    </tr>\n",
       "    <tr>\n",
       "      <th>1</th>\n",
       "      <td>18</td>\n",
       "      <td>33.770</td>\n",
       "      <td>1</td>\n",
       "      <td>3</td>\n",
       "      <td>1725.55230</td>\n",
       "      <td>1</td>\n",
       "      <td>0</td>\n",
       "    </tr>\n",
       "    <tr>\n",
       "      <th>2</th>\n",
       "      <td>28</td>\n",
       "      <td>33.000</td>\n",
       "      <td>3</td>\n",
       "      <td>3</td>\n",
       "      <td>4449.46200</td>\n",
       "      <td>1</td>\n",
       "      <td>0</td>\n",
       "    </tr>\n",
       "    <tr>\n",
       "      <th>3</th>\n",
       "      <td>33</td>\n",
       "      <td>22.705</td>\n",
       "      <td>0</td>\n",
       "      <td>2</td>\n",
       "      <td>21984.47061</td>\n",
       "      <td>1</td>\n",
       "      <td>0</td>\n",
       "    </tr>\n",
       "    <tr>\n",
       "      <th>4</th>\n",
       "      <td>32</td>\n",
       "      <td>28.880</td>\n",
       "      <td>0</td>\n",
       "      <td>2</td>\n",
       "      <td>3866.85520</td>\n",
       "      <td>1</td>\n",
       "      <td>0</td>\n",
       "    </tr>\n",
       "  </tbody>\n",
       "</table>\n",
       "</div>"
      ],
      "text/plain": [
       "   age     bmi  children  region      charges  sex_male  smoker_yes\n",
       "0   19  27.900         0       1  16884.92400         0           1\n",
       "1   18  33.770         1       3   1725.55230         1           0\n",
       "2   28  33.000         3       3   4449.46200         1           0\n",
       "3   33  22.705         0       2  21984.47061         1           0\n",
       "4   32  28.880         0       2   3866.85520         1           0"
      ]
     },
     "execution_count": 27,
     "metadata": {},
     "output_type": "execute_result"
    }
   ],
   "source": [
    "data.head()"
   ]
  },
  {
   "cell_type": "code",
   "execution_count": 28,
   "id": "b8a21580",
   "metadata": {},
   "outputs": [
    {
     "data": {
      "text/plain": [
       "(1320, 7)"
      ]
     },
     "execution_count": 28,
     "metadata": {},
     "output_type": "execute_result"
    }
   ],
   "source": [
    "# check the shape\n",
    "data.shape"
   ]
  },
  {
   "cell_type": "code",
   "execution_count": 29,
   "id": "82e02132",
   "metadata": {},
   "outputs": [],
   "source": [
    "x = data.drop(columns = ['charges'])\n",
    "y = data.charges"
   ]
  },
  {
   "cell_type": "code",
   "execution_count": 30,
   "id": "45c4485e",
   "metadata": {},
   "outputs": [
    {
     "data": {
      "text/html": [
       "<div>\n",
       "<style scoped>\n",
       "    .dataframe tbody tr th:only-of-type {\n",
       "        vertical-align: middle;\n",
       "    }\n",
       "\n",
       "    .dataframe tbody tr th {\n",
       "        vertical-align: top;\n",
       "    }\n",
       "\n",
       "    .dataframe thead th {\n",
       "        text-align: right;\n",
       "    }\n",
       "</style>\n",
       "<table border=\"1\" class=\"dataframe\">\n",
       "  <thead>\n",
       "    <tr style=\"text-align: right;\">\n",
       "      <th></th>\n",
       "      <th>age</th>\n",
       "      <th>bmi</th>\n",
       "      <th>children</th>\n",
       "      <th>region</th>\n",
       "      <th>sex_male</th>\n",
       "      <th>smoker_yes</th>\n",
       "    </tr>\n",
       "  </thead>\n",
       "  <tbody>\n",
       "    <tr>\n",
       "      <th>0</th>\n",
       "      <td>19</td>\n",
       "      <td>27.900</td>\n",
       "      <td>0</td>\n",
       "      <td>1</td>\n",
       "      <td>0</td>\n",
       "      <td>1</td>\n",
       "    </tr>\n",
       "    <tr>\n",
       "      <th>1</th>\n",
       "      <td>18</td>\n",
       "      <td>33.770</td>\n",
       "      <td>1</td>\n",
       "      <td>3</td>\n",
       "      <td>1</td>\n",
       "      <td>0</td>\n",
       "    </tr>\n",
       "    <tr>\n",
       "      <th>2</th>\n",
       "      <td>28</td>\n",
       "      <td>33.000</td>\n",
       "      <td>3</td>\n",
       "      <td>3</td>\n",
       "      <td>1</td>\n",
       "      <td>0</td>\n",
       "    </tr>\n",
       "    <tr>\n",
       "      <th>3</th>\n",
       "      <td>33</td>\n",
       "      <td>22.705</td>\n",
       "      <td>0</td>\n",
       "      <td>2</td>\n",
       "      <td>1</td>\n",
       "      <td>0</td>\n",
       "    </tr>\n",
       "    <tr>\n",
       "      <th>4</th>\n",
       "      <td>32</td>\n",
       "      <td>28.880</td>\n",
       "      <td>0</td>\n",
       "      <td>2</td>\n",
       "      <td>1</td>\n",
       "      <td>0</td>\n",
       "    </tr>\n",
       "  </tbody>\n",
       "</table>\n",
       "</div>"
      ],
      "text/plain": [
       "   age     bmi  children  region  sex_male  smoker_yes\n",
       "0   19  27.900         0       1         0           1\n",
       "1   18  33.770         1       3         1           0\n",
       "2   28  33.000         3       3         1           0\n",
       "3   33  22.705         0       2         1           0\n",
       "4   32  28.880         0       2         1           0"
      ]
     },
     "execution_count": 30,
     "metadata": {},
     "output_type": "execute_result"
    }
   ],
   "source": [
    "x.head()"
   ]
  },
  {
   "cell_type": "code",
   "execution_count": 31,
   "id": "748e45d3",
   "metadata": {},
   "outputs": [
    {
     "data": {
      "image/png": "[encoded data removed]",
      "text/plain": [
       "<Figure size 1080x720 with 6 Axes>"
      ]
     },
     "metadata": {
      "needs_background": "light"
     },
     "output_type": "display_data"
    }
   ],
   "source": [
    "# let's visualize the relationship between label and features\n",
    "plt.figure(figsize = (15,10))\n",
    "plotnumber = 1\n",
    "for col in x:\n",
    "    if plotnumber <= 6:\n",
    "        ax = plt.subplot(2,3,plotnumber)\n",
    "        plt.bar(x[col],y)\n",
    "        plt.xlabel(col,fontsize = 10)\n",
    "        plt.ylabel('charges',fontsize = 10)\n",
    "    plotnumber += 1\n",
    "plt.show()        "
   ]
  },
  {
   "cell_type": "markdown",
   "id": "072168ec",
   "metadata": {},
   "source": [
    "#### Observations-----\n",
    "\n",
    "1.Charges=> visualization is depicting with less the age less the charges more the age more the charges\n",
    "\n",
    "2.Sex=> Males are just above the females in term of charges.\n",
    "\n",
    "3.BMI=> When BMI value is b/w 30-40 the charges are tend to increase\n",
    "\n",
    "4.Children=> with increase in number of childrens charges are decreasing,this might show chances of multi-collinearity\n",
    "\n",
    "5.Smoker=> If a person is smoker he/she tends to pay more charges\n",
    "\n",
    "6.Region=> Regions are showing no big effect regionwise on charges we may delete this feature to save our time"
   ]
  },
  {
   "cell_type": "markdown",
   "id": "bdbcba8e",
   "metadata": {},
   "source": [
    "## Lets recheck the observations and Multi-Collinearity by plotting Heat map"
   ]
  },
  {
   "cell_type": "code",
   "execution_count": 32,
   "id": "8ceb3b53",
   "metadata": {},
   "outputs": [
    {
     "data": {
      "image/png": "[encoded data removed]",
      "text/plain": [
       "<Figure size 1296x1008 with 2 Axes>"
      ]
     },
     "metadata": {
      "needs_background": "light"
     },
     "output_type": "display_data"
    }
   ],
   "source": [
    "df_corr=data.corr().abs()\n",
    "plt.figure(figsize=(18,14))\n",
    "sns.heatmap(df_corr,annot=True)\n",
    "plt.show()"
   ]
  },
  {
   "cell_type": "markdown",
   "id": "eab20dbc",
   "metadata": {},
   "source": [
    "### NO Multi-collinearity problem has been visualized"
   ]
  },
  {
   "cell_type": "markdown",
   "id": "6fe1073f",
   "metadata": {},
   "source": [
    "##  Data Standardization and Normalization"
   ]
  },
  {
   "cell_type": "code",
   "execution_count": 33,
   "id": "6f99d81b",
   "metadata": {},
   "outputs": [
    {
     "data": {
      "text/plain": [
       "array([[-1.43798468, -0.44453751, -0.90907953, -1.36494177, -1.01219557,\n",
       "         1.98590539],\n",
       "       [-1.50916937,  0.5503341 , -0.08207403,  0.44492577,  0.98795137,\n",
       "        -0.50354866],\n",
       "       [-0.79732247,  0.41983135,  1.57193696,  0.44492577,  0.98795137,\n",
       "        -0.50354866],\n",
       "       ...,\n",
       "       [-1.50916937,  1.0723451 , -0.90907953,  0.44492577, -1.01219557,\n",
       "        -0.50354866],\n",
       "       [-1.2956153 , -0.8004541 , -0.90907953, -1.36494177, -1.01219557,\n",
       "        -0.50354866],\n",
       "       [ 1.55177233, -0.24624112, -0.90907953, -0.460008  , -1.01219557,\n",
       "         1.98590539]])"
      ]
     },
     "execution_count": 33,
     "metadata": {},
     "output_type": "execute_result"
    }
   ],
   "source": [
    "# let's standardize the data using standard scaler\n",
    "# data scaling formula z = (x-mean)/std\n",
    "scaler = StandardScaler()\n",
    "x_scaled = scaler.fit_transform(x)\n",
    "x_scaled"
   ]
  },
  {
   "cell_type": "markdown",
   "id": "2d01c0d2",
   "metadata": {},
   "source": [
    "## Best Random State"
   ]
  },
  {
   "cell_type": "code",
   "execution_count": 34,
   "id": "ce720621",
   "metadata": {},
   "outputs": [],
   "source": [
    "from sklearn.metrics import r2_score"
   ]
  },
  {
   "cell_type": "code",
   "execution_count": 35,
   "id": "0e9b4be3",
   "metadata": {},
   "outputs": [
    {
     "name": "stdout",
     "output_type": "stream",
     "text": [
      "training score 0.7498822779705596 testing score 0.7154909580062426 random state 1\n",
      "testing score 0.7154909580062426 random state 1\n",
      "training score 0.7382078185034715 testing score 0.7807876550241071 random state 2\n",
      "testing score 0.7807876550241071 random state 2\n",
      "training score 0.741004635660788 testing score 0.7654949542979699 random state 3\n",
      "training score 0.7653890077866904 testing score 0.6341588537167142 random state 4\n",
      "training score 0.7448669648103539 testing score 0.7513434839093467 random state 5\n",
      "training score 0.7465477293994471 testing score 0.7440374174711144 random state 6\n",
      "training score 0.7494890001228063 testing score 0.7323193196483089 random state 7\n",
      "training score 0.738458968828926 testing score 0.7729983931104496 random state 8\n",
      "training score 0.7540478061392284 testing score 0.7038385153459554 random state 9\n",
      "training score 0.7489450636397943 testing score 0.7359949313292844 random state 10\n",
      "training score 0.7357220817857335 testing score 0.7815194500961382 random state 11\n",
      "training score 0.7404549206324457 testing score 0.7657241337064773 random state 12\n",
      "training score 0.7444174887325099 testing score 0.7469112515785555 random state 13\n",
      "training score 0.7350321335159444 testing score 0.7834106615923906 random state 14\n",
      "training score 0.7369319536726238 testing score 0.7802888720867281 random state 15\n",
      "training score 0.7524085851074094 testing score 0.7202853208149038 random state 16\n",
      "training score 0.7550777250560494 testing score 0.6982675552428913 random state 17\n",
      "training score 0.738955818028494 testing score 0.7683430135759497 random state 18\n",
      "training score 0.7479649271635382 testing score 0.739012164775773 random state 19\n",
      "training score 0.7492915999777245 testing score 0.7327787392183016 random state 20\n",
      "training score 0.7425748556510492 testing score 0.7583106161017903 random state 21\n",
      "training score 0.7519461207258129 testing score 0.7196006279327669 random state 22\n",
      "training score 0.7547729023279949 testing score 0.7096257721487096 random state 23\n",
      "training score 0.7469935421819361 testing score 0.7424968447891687 random state 24\n",
      "training score 0.7462344114795074 testing score 0.7439686071531051 random state 25\n",
      "training score 0.7325342571515414 testing score 0.7969132711321716 random state 26\n",
      "training score 0.7468537206530201 testing score 0.7427617022716002 random state 27\n",
      "training score 0.7637890039673613 testing score 0.6707213754989914 random state 28\n",
      "training score 0.736815228656521 testing score 0.7754640716253007 random state 29\n",
      "training score 0.7438262082707103 testing score 0.7546548419161209 random state 30\n",
      "training score 0.7618931680232919 testing score 0.6759413785172164 random state 31\n",
      "training score 0.7316282015415093 testing score 0.8045892090978273 random state 32\n",
      "training score 0.750930043611906 testing score 0.7227896771966599 random state 33\n",
      "training score 0.7563654143788966 testing score 0.7026682038868541 random state 34\n",
      "training score 0.7359900527167034 testing score 0.7782271551464482 random state 35\n",
      "training score 0.7478442282862112 testing score 0.7366042557739746 random state 36\n",
      "training score 0.7384256056743055 testing score 0.7734810239066248 random state 37\n",
      "training score 0.7380252972534161 testing score 0.7811702771859363 random state 38\n",
      "training score 0.7455046834282232 testing score 0.7481801230043451 random state 39\n",
      "training score 0.7553123744316182 testing score 0.710741614502221 random state 40\n",
      "training score 0.7373991384055208 testing score 0.7803258275389665 random state 41\n",
      "training score 0.7497025494266037 testing score 0.7267779403981847 random state 42\n",
      "training score 0.7629250130541196 testing score 0.6771330919069303 random state 43\n",
      "training score 0.7391981603722172 testing score 0.7691415217200983 random state 44\n",
      "training score 0.7584074012798298 testing score 0.6953258793819966 random state 45\n",
      "training score 0.7556141798711457 testing score 0.7050700331352779 random state 46\n",
      "training score 0.7488922786308461 testing score 0.7254332907797965 random state 47\n",
      "training score 0.7440623234600146 testing score 0.7533570412230216 random state 48\n",
      "training score 0.7453380911050991 testing score 0.749377305633371 random state 49\n",
      "training score 0.75470356091577 testing score 0.7137481335329338 random state 50\n",
      "training score 0.7431808076280966 testing score 0.7558874875509526 random state 51\n",
      "training score 0.7536236270305635 testing score 0.7074469672097659 random state 52\n",
      "training score 0.7400709451641139 testing score 0.7660784196027094 random state 53\n",
      "training score 0.7557325324981528 testing score 0.7036166355973956 random state 54\n",
      "training score 0.7522861696368593 testing score 0.7231370340576306 random state 55\n",
      "training score 0.7594597942507959 testing score 0.7000317485298 random state 56\n",
      "training score 0.7511582588463508 testing score 0.7212280551568182 random state 57\n",
      "training score 0.7471983335584655 testing score 0.7416932370170822 random state 58\n",
      "training score 0.7399854945125359 testing score 0.768589739556598 random state 59\n",
      "training score 0.7616303620715488 testing score 0.6816817406862641 random state 60\n",
      "training score 0.7435063663569669 testing score 0.7509356865881108 random state 61\n",
      "training score 0.7483138520624295 testing score 0.7367621944876835 random state 62\n",
      "training score 0.7484217704850123 testing score 0.736219806591234 random state 63\n",
      "training score 0.7384684322580938 testing score 0.7728991667122961 random state 64\n",
      "training score 0.7448821314687384 testing score 0.746956770488731 random state 65\n",
      "training score 0.7516495556590146 testing score 0.7233640125204681 random state 66\n",
      "training score 0.7517096578672429 testing score 0.722028773238115 random state 67\n",
      "training score 0.7445675295659386 testing score 0.7519375982723486 random state 68\n",
      "training score 0.7372338197861814 testing score 0.7817724616835393 random state 69\n",
      "training score 0.7471871619293302 testing score 0.740734892766068 random state 70\n",
      "training score 0.7470405913173275 testing score 0.7398319677629484 random state 71\n",
      "training score 0.7487899611849458 testing score 0.7356778861832594 random state 72\n",
      "training score 0.740725758186795 testing score 0.7669563341891587 random state 73\n",
      "training score 0.7523396860805752 testing score 0.7198138705371169 random state 74\n",
      "training score 0.7520294847673913 testing score 0.7227963651552156 random state 75\n",
      "training score 0.7506329536933458 testing score 0.7258184056787904 random state 76\n",
      "training score 0.7492888230054602 testing score 0.7296862599327696 random state 77\n",
      "training score 0.7513900178841566 testing score 0.7202281988775745 random state 78\n",
      "training score 0.7451253855533411 testing score 0.7501091516385552 random state 79\n",
      "training score 0.7404032645502081 testing score 0.7632588834912716 random state 80\n",
      "training score 0.7524621804900403 testing score 0.7074650668201732 random state 81\n",
      "training score 0.7486321415346933 testing score 0.7334818031771242 random state 82\n",
      "training score 0.7420541689115479 testing score 0.7557823037187366 random state 83\n",
      "training score 0.7461955999558659 testing score 0.743287833072727 random state 84\n",
      "training score 0.7494349029081506 testing score 0.7306516679574717 random state 85\n",
      "training score 0.7511599689344983 testing score 0.7209353580674484 random state 86\n",
      "training score 0.7495304414759478 testing score 0.7341897673473409 random state 87\n",
      "training score 0.7372774786751073 testing score 0.7685342785529752 random state 88\n",
      "training score 0.7473488617368484 testing score 0.7404643866688372 random state 89\n",
      "training score 0.743693594754858 testing score 0.7539780419949098 random state 90\n",
      "training score 0.746961793619459 testing score 0.7424858691341281 random state 91\n",
      "training score 0.7422551408121212 testing score 0.7600132530232232 random state 92\n",
      "training score 0.740742557603532 testing score 0.7690263541078178 random state 93\n",
      "training score 0.7469307985876219 testing score 0.7419835720773087 random state 94\n",
      "training score 0.7401834366942792 testing score 0.7739803651809426 random state 95\n",
      "training score 0.7595056558428885 testing score 0.6904216654035659 random state 96\n",
      "training score 0.7498042453764366 testing score 0.7285972861496319 random state 97\n",
      "training score 0.7629089904577978 testing score 0.6496350430200585 random state 98\n",
      "training score 0.747788369048621 testing score 0.7353119706689721 random state 99\n",
      "training score 0.7392319518897164 testing score 0.7728339509977512 random state 100\n",
      "training score 0.751971199364836 testing score 0.7184580995161418 random state 101\n",
      "training score 0.7469278812305299 testing score 0.741234446425271 random state 102\n",
      "training score 0.7346905572085575 testing score 0.7867831996028174 random state 103\n",
      "training score 0.7507597745918307 testing score 0.7229433405768468 random state 104\n",
      "training score 0.7460954909277393 testing score 0.7460530723208982 random state 105\n",
      "training score 0.7409715028523318 testing score 0.7631200620647963 random state 106\n",
      "training score 0.7443851389530602 testing score 0.7528954801675181 random state 107\n",
      "training score 0.7367319660972123 testing score 0.7745674794622228 random state 108\n",
      "training score 0.7514275597170514 testing score 0.7226795508689715 random state 109\n",
      "training score 0.7498390705996212 testing score 0.7277811938206677 random state 110\n",
      "training score 0.7394381138864788 testing score 0.7711538904753582 random state 111\n",
      "training score 0.7276912968439362 testing score 0.8030924445044045 random state 112\n",
      "training score 0.7442430546918568 testing score 0.7511967386635168 random state 113\n",
      "training score 0.7431572241801943 testing score 0.7546927843867016 random state 114\n",
      "training score 0.7627334756051606 testing score 0.67037081651775 random state 115\n",
      "training score 0.7361277989360089 testing score 0.7625110978000783 random state 116\n",
      "training score 0.7634869490603602 testing score 0.6827251949860308 random state 117\n",
      "training score 0.7414323289958946 testing score 0.7596575603906424 random state 118\n",
      "training score 0.7488890119587399 testing score 0.7348003309453564 random state 119\n",
      "training score 0.7470492756805363 testing score 0.7421806626516496 random state 120\n",
      "training score 0.7479381494600995 testing score 0.7352163403644114 random state 121\n",
      "training score 0.7509964009214063 testing score 0.722539687085642 random state 122\n",
      "training score 0.7543303740763792 testing score 0.7112486262516278 random state 123\n",
      "training score 0.7527684244365495 testing score 0.7203676996773203 random state 124\n",
      "training score 0.7485710260966026 testing score 0.7361063105579395 random state 125\n",
      "training score 0.7572846112058798 testing score 0.7009789234418267 random state 126\n",
      "training score 0.7376384076076234 testing score 0.7776160184463817 random state 127\n",
      "training score 0.7452948311420187 testing score 0.7489771176271118 random state 128\n",
      "training score 0.7413080117162363 testing score 0.7670315592999075 random state 129\n",
      "training score 0.7482317780170107 testing score 0.7327098716906253 random state 130\n",
      "training score 0.7362337665201256 testing score 0.7854380449700556 random state 131\n",
      "training score 0.7438123342987306 testing score 0.7554306307058137 random state 132\n",
      "training score 0.7478145799932581 testing score 0.737105591536841 random state 133\n",
      "training score 0.7483301151962356 testing score 0.734557909878 random state 134\n",
      "training score 0.7521836466852692 testing score 0.7178650011876744 random state 135\n",
      "training score 0.7482562355413969 testing score 0.736984895796654 random state 136\n",
      "training score 0.7433386171982524 testing score 0.7559267826614464 random state 137\n",
      "training score 0.7378356296013372 testing score 0.7746510603728456 random state 138\n",
      "training score 0.7473899364364874 testing score 0.7400870177040721 random state 139\n",
      "training score 0.7374098204440294 testing score 0.7850374801882333 random state 140\n",
      "training score 0.7473113141434805 testing score 0.7401121204925367 random state 141\n",
      "training score 0.7452185647506222 testing score 0.7487393877232553 random state 142\n",
      "training score 0.738265536704307 testing score 0.7690583545934466 random state 143\n",
      "training score 0.7454508158342317 testing score 0.7467014274118882 random state 144\n",
      "training score 0.7515517195894661 testing score 0.7231254284991656 random state 145\n",
      "training score 0.7510574335429705 testing score 0.7242324528459593 random state 146\n",
      "training score 0.7508385586236114 testing score 0.7123131350271206 random state 147\n",
      "training score 0.7373804762377123 testing score 0.7861077433807785 random state 148\n",
      "training score 0.7345345802814186 testing score 0.7884275921469461 random state 149\n",
      "training score 0.7451824994454403 testing score 0.7481059696398815 random state 150\n",
      "training score 0.7548842728539271 testing score 0.707471821522696 random state 151\n",
      "training score 0.7501165679426702 testing score 0.7296117083985132 random state 152\n",
      "training score 0.7466219002954786 testing score 0.7431025012483712 random state 153\n",
      "training score 0.74302016184258 testing score 0.7563105534917072 random state 154\n",
      "training score 0.7449595635042188 testing score 0.7481190411240588 random state 155\n",
      "training score 0.7416250743348096 testing score 0.7641764942832299 random state 156\n",
      "training score 0.749433815763845 testing score 0.7329992356585069 random state 157\n",
      "training score 0.7591462048505492 testing score 0.695490858070358 random state 158\n",
      "training score 0.7460159728292538 testing score 0.7463100266209319 random state 159\n",
      "training score 0.7541576696164836 testing score 0.7152280889338127 random state 160\n",
      "training score 0.74801098717044 testing score 0.7306087604069109 random state 161\n",
      "training score 0.7322475387997136 testing score 0.7906696687789094 random state 162\n",
      "training score 0.7573376502754949 testing score 0.6983874695293851 random state 163\n",
      "training score 0.7491938101771122 testing score 0.7335530251913689 random state 164\n",
      "training score 0.7432070138078589 testing score 0.7548911299616887 random state 165\n",
      "training score 0.7527025526206306 testing score 0.7186219619967451 random state 166\n",
      "training score 0.7485398528991314 testing score 0.7362322754956769 random state 167\n",
      "training score 0.7353294543992442 testing score 0.7778391023060989 random state 168\n",
      "training score 0.7492021351405709 testing score 0.7293811350693018 random state 169\n",
      "training score 0.7511834338526019 testing score 0.7228895744032918 random state 170\n",
      "training score 0.7554994001769075 testing score 0.706215909837437 random state 171\n",
      "training score 0.7491483526782825 testing score 0.7318947536100786 random state 172\n",
      "training score 0.7510324148503611 testing score 0.7241478197574067 random state 173\n",
      "training score 0.7468351969514104 testing score 0.7402935599660507 random state 174\n",
      "training score 0.7492259098376273 testing score 0.733740132128496 random state 175\n",
      "training score 0.7495972233343753 testing score 0.7333009575751392 random state 176\n",
      "training score 0.7469199157111366 testing score 0.7414132361953747 random state 177\n",
      "training score 0.7573411732043582 testing score 0.687909184792932 random state 178\n",
      "training score 0.7313018083483813 testing score 0.8001361073568555 random state 179\n",
      "training score 0.7501255761011156 testing score 0.7267245925576178 random state 180\n",
      "training score 0.7373983159781132 testing score 0.7793236616513324 random state 181\n",
      "training score 0.7337020648301444 testing score 0.7926563028325198 random state 182\n",
      "training score 0.7343416450973852 testing score 0.7881479052837571 random state 183\n",
      "training score 0.7499907026541763 testing score 0.7310893400523046 random state 184\n",
      "training score 0.7323087035367225 testing score 0.7914726349445067 random state 185\n",
      "training score 0.7471994541840437 testing score 0.7412422978764566 random state 186\n",
      "training score 0.741796949752138 testing score 0.7594321635064678 random state 187\n",
      "training score 0.74258045806995 testing score 0.7573147569049675 random state 188\n",
      "training score 0.7492004763665586 testing score 0.7343394921640434 random state 189\n",
      "training score 0.7454047099280465 testing score 0.748200947961581 random state 190\n",
      "training score 0.7406509559955179 testing score 0.766190692405294 random state 191\n",
      "training score 0.7415724409594688 testing score 0.7625793208239622 random state 192\n",
      "training score 0.7550018239685357 testing score 0.7129030621297106 random state 193\n",
      "training score 0.7484590653803733 testing score 0.7340671047379836 random state 194\n",
      "training score 0.7501939163156164 testing score 0.7267730146651621 random state 195\n",
      "training score 0.7364592596280706 testing score 0.7834567172083885 random state 196\n",
      "training score 0.7409036435106922 testing score 0.7621145469285844 random state 197\n",
      "training score 0.759173269172518 testing score 0.673135765173047 random state 198\n",
      "training score 0.7537044871517387 testing score 0.7125617597648773 random state 199\n",
      "training score 0.7529148991913445 testing score 0.7089880019346806 random state 200\n",
      "training score 0.7512619177684795 testing score 0.7226855723331387 random state 201\n",
      "training score 0.7534052518012202 testing score 0.7060660267310763 random state 202\n",
      "training score 0.7486813452874411 testing score 0.7338001687586697 random state 203\n",
      "training score 0.7420406695735964 testing score 0.7572011795999473 random state 204\n",
      "training score 0.7530700232059799 testing score 0.7206075709267634 random state 205\n",
      "training score 0.7430681993028819 testing score 0.7577859368878003 random state 206\n",
      "training score 0.7454863913172454 testing score 0.7481197544355156 random state 207\n",
      "training score 0.760141402384274 testing score 0.6754604669820025 random state 208\n",
      "training score 0.7513345332896917 testing score 0.7236769121889293 random state 209\n",
      "training score 0.7350862460046204 testing score 0.7762555604067662 random state 210\n",
      "training score 0.7431009312115845 testing score 0.7537076041434172 random state 211\n",
      "training score 0.7501289632187365 testing score 0.7272480757420792 random state 212\n",
      "training score 0.7469784088667106 testing score 0.742334352808748 random state 213\n",
      "training score 0.7473740481053769 testing score 0.7382543378606145 random state 214\n",
      "training score 0.7396533313758071 testing score 0.7683042991040381 random state 215\n",
      "training score 0.7266737367787055 testing score 0.8166946035604424 random state 216\n",
      "training score 0.7549624605022779 testing score 0.6990526176687903 random state 217\n",
      "training score 0.7652181801816661 testing score 0.6568283490215476 random state 218\n",
      "training score 0.7626258170537573 testing score 0.6593009012504765 random state 219\n",
      "training score 0.7434028546956176 testing score 0.756458312162659 random state 220\n",
      "training score 0.7520121404520617 testing score 0.7189089573164051 random state 221\n",
      "training score 0.7502331631095214 testing score 0.7295048357452989 random state 222\n",
      "training score 0.7420579257995932 testing score 0.7637089024567502 random state 223\n",
      "training score 0.752024721422197 testing score 0.7190634810732343 random state 224\n",
      "training score 0.74864688467482 testing score 0.7310078071873316 random state 225\n",
      "training score 0.747282018274672 testing score 0.7303642848642806 random state 226\n",
      "training score 0.733463302778686 testing score 0.7958558447934763 random state 227\n",
      "training score 0.7459147072812933 testing score 0.7472683270977156 random state 228\n",
      "training score 0.7589994541382268 testing score 0.6782170417486606 random state 229\n",
      "training score 0.7428557917851741 testing score 0.7599450620518535 random state 230\n",
      "training score 0.7467149212135122 testing score 0.7435970227495771 random state 231\n",
      "training score 0.7425927077722752 testing score 0.7620465354255976 random state 232\n",
      "training score 0.7416507730482234 testing score 0.7638934269299574 random state 233\n",
      "training score 0.7416702988120625 testing score 0.7625357414233392 random state 234\n",
      "training score 0.7467292424800338 testing score 0.7437066845830818 random state 235\n",
      "training score 0.7424442159685186 testing score 0.757061129936705 random state 236\n",
      "training score 0.7389860346102152 testing score 0.7705512366609557 random state 237\n",
      "training score 0.7334825178594929 testing score 0.7861902330665077 random state 238\n",
      "training score 0.7427495024206259 testing score 0.7542701389887317 random state 239\n",
      "training score 0.7419024543911187 testing score 0.7575619615574367 random state 240\n",
      "training score 0.7578020094780864 testing score 0.6799108802025966 random state 241\n",
      "training score 0.7494163274926692 testing score 0.732112061476359 random state 242\n",
      "training score 0.7596489298257577 testing score 0.6919575606050836 random state 243\n",
      "training score 0.758697086059551 testing score 0.6872455458594304 random state 244\n",
      "training score 0.7425950265727703 testing score 0.7548702275976246 random state 245\n",
      "training score 0.7489770247899934 testing score 0.734302642710279 random state 246\n",
      "training score 0.7580110743900391 testing score 0.6866549378314719 random state 247\n",
      "training score 0.7416661833646747 testing score 0.7623278936651845 random state 248\n",
      "training score 0.7489692897846345 testing score 0.7359861718109573 random state 249\n",
      "training score 0.751785499947961 testing score 0.7144699250552087 random state 250\n",
      "training score 0.7336236102421126 testing score 0.8007916200578582 random state 251\n",
      "training score 0.7498217874658306 testing score 0.7298715422837243 random state 252\n",
      "training score 0.7524956198045053 testing score 0.7205018862407111 random state 253\n",
      "training score 0.7592135742078664 testing score 0.6963175357639608 random state 254\n",
      "training score 0.7582157504025258 testing score 0.6900768834682411 random state 255\n",
      "training score 0.7528683580697805 testing score 0.7117265215162116 random state 256\n",
      "training score 0.734476844066521 testing score 0.7944394690028275 random state 257\n",
      "training score 0.7466025614865441 testing score 0.741065862926081 random state 258\n",
      "training score 0.7530224723652599 testing score 0.7211553343240875 random state 259\n",
      "training score 0.7452675052336286 testing score 0.7502980497950832 random state 260\n",
      "training score 0.7409697737092086 testing score 0.7674667234678046 random state 261\n",
      "training score 0.7490447094215966 testing score 0.7345167207154037 random state 262\n",
      "training score 0.7252646220178052 testing score 0.8067979427689557 random state 263\n",
      "training score 0.7484966906488877 testing score 0.7339556204137956 random state 264\n",
      "training score 0.7453867906269611 testing score 0.7487611446990532 random state 265\n",
      "training score 0.7496478350269533 testing score 0.7283546898883185 random state 266\n",
      "training score 0.7448420115004222 testing score 0.751424302400983 random state 267\n",
      "training score 0.7381187093872394 testing score 0.7731640385891003 random state 268\n",
      "training score 0.7505794158670619 testing score 0.7235821780500543 random state 269\n",
      "training score 0.7511630882180427 testing score 0.7258664647808567 random state 270\n",
      "training score 0.7348022919106607 testing score 0.7897162518553488 random state 271\n",
      "training score 0.7308538257526593 testing score 0.8019977319907996 random state 272\n",
      "training score 0.7530476758692117 testing score 0.704613973803542 random state 273\n",
      "training score 0.7273545599299454 testing score 0.8108611992077044 random state 274\n",
      "training score 0.7540349179043659 testing score 0.7083213925414138 random state 275\n",
      "training score 0.7621643397587291 testing score 0.6434888519768814 random state 276\n",
      "training score 0.7435741369879845 testing score 0.7468494950343603 random state 277\n",
      "training score 0.7428177650526575 testing score 0.7579125289954691 random state 278\n",
      "training score 0.7535891382874449 testing score 0.7085864395507064 random state 279\n",
      "training score 0.7596803491078833 testing score 0.6729099552934407 random state 280\n",
      "training score 0.7352807344335988 testing score 0.7779697335179545 random state 281\n",
      "training score 0.7483960931241391 testing score 0.7357383244985587 random state 282\n",
      "training score 0.7476851507638239 testing score 0.7390746839068685 random state 283\n",
      "training score 0.7583219269531034 testing score 0.6926822502898775 random state 284\n",
      "training score 0.7533376008711941 testing score 0.7163999417846179 random state 285\n",
      "training score 0.744986684921557 testing score 0.7503305122984922 random state 286\n",
      "training score 0.7395569387552953 testing score 0.7690822770788515 random state 287\n",
      "training score 0.7447359329422741 testing score 0.750731862772923 random state 288\n",
      "training score 0.7546417872527127 testing score 0.7148472924077763 random state 289\n",
      "training score 0.738152817781778 testing score 0.7744005092889019 random state 290\n",
      "training score 0.7249788389014007 testing score 0.8037419211374206 random state 291\n",
      "training score 0.7230589538324391 testing score 0.8239843356229908 random state 292\n",
      "training score 0.7490694289690378 testing score 0.7344844666836208 random state 293\n",
      "training score 0.7469254860925953 testing score 0.7428799232736631 random state 294\n",
      "training score 0.7456129928371461 testing score 0.7461656325286983 random state 295\n",
      "training score 0.7469888098322506 testing score 0.741003136295214 random state 296\n",
      "training score 0.7272413404293143 testing score 0.8101727120555801 random state 297\n",
      "training score 0.753127681329751 testing score 0.7205318716968052 random state 298\n",
      "training score 0.7507360515233591 testing score 0.7258666131091234 random state 299\n",
      "training score 0.7411087550373416 testing score 0.7601182209378248 random state 300\n",
      "training score 0.7446307356217947 testing score 0.7498509980322954 random state 301\n",
      "training score 0.7502424966523256 testing score 0.7246413897319072 random state 302\n",
      "training score 0.7368040010577277 testing score 0.7804705364512431 random state 303\n",
      "training score 0.7355311488678868 testing score 0.7853210148993538 random state 304\n",
      "training score 0.7409392835499425 testing score 0.7631197412915386 random state 305\n",
      "training score 0.7416676704835907 testing score 0.7622439144033843 random state 306\n",
      "training score 0.7605174799058323 testing score 0.6517347813683265 random state 307\n",
      "training score 0.7471240363023571 testing score 0.7419749154998851 random state 308\n",
      "training score 0.7475094901905621 testing score 0.7374355157524941 random state 309\n",
      "training score 0.7339217906617987 testing score 0.7957236483900476 random state 310\n",
      "training score 0.7512638521618478 testing score 0.7262089061969721 random state 311\n",
      "training score 0.7327863176630147 testing score 0.7910882560667798 random state 312\n",
      "training score 0.7484199208167148 testing score 0.7368099503250894 random state 313\n",
      "training score 0.7608875819116234 testing score 0.6730519739751982 random state 314\n",
      "training score 0.7489611202204146 testing score 0.7345911163098852 random state 315\n",
      "training score 0.7517777353490463 testing score 0.7204266757262725 random state 316\n",
      "training score 0.7542978977306478 testing score 0.7115734860283994 random state 317\n",
      "training score 0.7324404869514225 testing score 0.7881000368390251 random state 318\n",
      "training score 0.7580749754303819 testing score 0.6945432167729314 random state 319\n",
      "training score 0.7422607510837349 testing score 0.7640933648170747 random state 320\n",
      "training score 0.7453682296029239 testing score 0.7486859637079062 random state 321\n",
      "training score 0.7384809072221663 testing score 0.7708478761308126 random state 322\n",
      "training score 0.7299363048874754 testing score 0.8003690588008086 random state 323\n",
      "training score 0.7563524570979533 testing score 0.697779036193426 random state 324\n",
      "training score 0.7409994747246342 testing score 0.7672561013042627 random state 325\n",
      "training score 0.7673159558785003 testing score 0.6357179438954231 random state 326\n",
      "training score 0.757700452931237 testing score 0.6836394003101884 random state 327\n",
      "training score 0.7376558033497345 testing score 0.7786053499179179 random state 328\n",
      "training score 0.7393792086413717 testing score 0.7696634126262897 random state 329\n",
      "training score 0.7432961648366712 testing score 0.7556082645947202 random state 330\n",
      "training score 0.7437192483546602 testing score 0.755434642951439 random state 331\n",
      "training score 0.7444074124875296 testing score 0.7523255882509391 random state 332\n",
      "training score 0.736230004599765 testing score 0.7809011055840689 random state 333\n",
      "training score 0.7436926915408475 testing score 0.7560391296545612 random state 334\n",
      "training score 0.741446056021311 testing score 0.7623989058707299 random state 335\n",
      "training score 0.742570913892646 testing score 0.7615743951171325 random state 336\n",
      "training score 0.7373512893755361 testing score 0.780932933657704 random state 337\n",
      "training score 0.7440881163226314 testing score 0.7515050379608829 random state 338\n",
      "training score 0.7506558006574969 testing score 0.7242005440820553 random state 339\n",
      "training score 0.742059718942951 testing score 0.7558925401800409 random state 340\n",
      "training score 0.7420859940071034 testing score 0.7603957202916493 random state 341\n",
      "training score 0.7562995688964802 testing score 0.701602711973605 random state 342\n",
      "training score 0.7542307876127459 testing score 0.7133757587986158 random state 343\n",
      "training score 0.7344385113308338 testing score 0.7962982321486206 random state 344\n",
      "training score 0.7493742681215949 testing score 0.729215289122839 random state 345\n",
      "training score 0.7547827293676391 testing score 0.70333941038242 random state 346\n",
      "training score 0.7441507847757908 testing score 0.7498539041256604 random state 347\n",
      "training score 0.7668512730694534 testing score 0.6574316967944769 random state 348\n",
      "training score 0.7600885880136659 testing score 0.6763325398248985 random state 349\n",
      "training score 0.7349292666720723 testing score 0.7815155875310769 random state 350\n",
      "training score 0.7467454492578154 testing score 0.7437192176116432 random state 351\n",
      "training score 0.7434990762029827 testing score 0.7565020890706837 random state 352\n",
      "training score 0.7391917644440079 testing score 0.769279509805154 random state 353\n",
      "training score 0.742267810144986 testing score 0.7607773429928997 random state 354\n",
      "training score 0.7423200665407919 testing score 0.7600950930321271 random state 355\n",
      "training score 0.7460839922006011 testing score 0.7442173477557958 random state 356\n",
      "training score 0.7496264651018585 testing score 0.7307196960818324 random state 357\n",
      "training score 0.7468286731980645 testing score 0.7422222180284557 random state 358\n",
      "training score 0.7439456255500023 testing score 0.7533353524931482 random state 359\n",
      "training score 0.7529952990061033 testing score 0.717406622358985 random state 360\n",
      "training score 0.7490067441331864 testing score 0.7321832164980366 random state 361\n",
      "training score 0.7534978824481573 testing score 0.7139062306244266 random state 362\n",
      "training score 0.7560412058962314 testing score 0.7096234513177677 random state 363\n",
      "training score 0.754528777824449 testing score 0.6997553383989388 random state 364\n",
      "training score 0.7393029409200876 testing score 0.7743500482990411 random state 365\n",
      "training score 0.7446548115607639 testing score 0.7468373982996034 random state 366\n",
      "training score 0.7453918443371449 testing score 0.7472780861054882 random state 367\n",
      "training score 0.7519553253443619 testing score 0.7223400494998857 random state 368\n",
      "training score 0.7558176290600621 testing score 0.6943483930849521 random state 369\n",
      "training score 0.739608770733392 testing score 0.7734480083205096 random state 370\n",
      "training score 0.736652083701887 testing score 0.7853525450973848 random state 371\n",
      "training score 0.7539503520095585 testing score 0.7029235665158584 random state 372\n",
      "training score 0.7342988995478452 testing score 0.7850275444481878 random state 373\n",
      "training score 0.7565059287482685 testing score 0.6961788829247325 random state 374\n",
      "training score 0.7472144155862608 testing score 0.7413872977105316 random state 375\n",
      "training score 0.7408717366899062 testing score 0.7673651332862184 random state 376\n",
      "training score 0.7430313387198098 testing score 0.7570661579814919 random state 377\n",
      "training score 0.7479553406565549 testing score 0.7372245243345747 random state 378\n",
      "training score 0.7438324804535454 testing score 0.7560929154157913 random state 379\n",
      "training score 0.7511660915789511 testing score 0.7146386846708483 random state 380\n",
      "training score 0.7409966890405589 testing score 0.7696390730656646 random state 381\n",
      "training score 0.740731920556911 testing score 0.7609329469530793 random state 382\n",
      "training score 0.7391797461240885 testing score 0.7739025805916355 random state 383\n",
      "training score 0.7535427726115607 testing score 0.7144425741346383 random state 384\n",
      "training score 0.7607522022107907 testing score 0.6844120155298408 random state 385\n",
      "training score 0.7469475595505288 testing score 0.742813039360919 random state 386\n",
      "training score 0.7511608210824499 testing score 0.7209732467985646 random state 387\n",
      "training score 0.7514994600477003 testing score 0.7226621071664066 random state 388\n",
      "training score 0.7449235664464804 testing score 0.7493682174906042 random state 389\n",
      "training score 0.7435727031389701 testing score 0.754088270039229 random state 390\n",
      "training score 0.7347943136512054 testing score 0.7807506269631449 random state 391\n",
      "training score 0.730750642191133 testing score 0.7909675623000819 random state 392\n",
      "training score 0.7405333896330364 testing score 0.7694874697824584 random state 393\n",
      "training score 0.7402501596795865 testing score 0.7715144182536131 random state 394\n",
      "training score 0.7433980054453935 testing score 0.7563979364494784 random state 395\n",
      "training score 0.7478852959773293 testing score 0.7397048178688408 random state 396\n",
      "training score 0.7382417983331462 testing score 0.7831999388130801 random state 397\n",
      "training score 0.7489221461967452 testing score 0.7282647548363201 random state 398\n",
      "training score 0.738818761820057 testing score 0.7677026621320092 random state 399\n",
      "training score 0.7407268147408814 testing score 0.7625672489726293 random state 400\n",
      "training score 0.756131088584075 testing score 0.7079673705994304 random state 401\n",
      "training score 0.7485214327634959 testing score 0.7373530507880868 random state 402\n",
      "training score 0.7478399033528145 testing score 0.7386395784284907 random state 403\n",
      "training score 0.7552999891406379 testing score 0.712203469445817 random state 404\n",
      "training score 0.749895766019815 testing score 0.7250424063080965 random state 405\n",
      "training score 0.7497230301491133 testing score 0.7318698919493969 random state 406\n",
      "training score 0.7470165223701716 testing score 0.7427185367942265 random state 407\n",
      "training score 0.7432646878525877 testing score 0.7557826778030983 random state 408\n",
      "training score 0.7385357200768534 testing score 0.7743164666478336 random state 409\n",
      "training score 0.750275264028749 testing score 0.7275904208362228 random state 410\n",
      "training score 0.7470317021731272 testing score 0.7390675062645746 random state 411\n",
      "training score 0.742249497294038 testing score 0.7596425151760196 random state 412\n",
      "training score 0.7530065355484319 testing score 0.7114412688717473 random state 413\n",
      "training score 0.7382496957917273 testing score 0.7778847808725721 random state 414\n",
      "training score 0.7488889161724727 testing score 0.7306597145105101 random state 415\n",
      "training score 0.7455068687080499 testing score 0.7473239229688639 random state 416\n",
      "training score 0.7539402992768948 testing score 0.7085028563380298 random state 417\n",
      "training score 0.7597895889286703 testing score 0.669909371067144 random state 418\n",
      "training score 0.7523772308433376 testing score 0.7215885825761881 random state 419\n",
      "training score 0.7419919612312821 testing score 0.7605944225742373 random state 420\n",
      "training score 0.7471755930058307 testing score 0.7417160515174229 random state 421\n",
      "training score 0.7475128709136821 testing score 0.7410198477420369 random state 422\n",
      "training score 0.7468927531941516 testing score 0.7432633040489023 random state 423\n",
      "training score 0.7386356415911209 testing score 0.7695753918667799 random state 424\n",
      "training score 0.7365422553051773 testing score 0.780307286820024 random state 425\n",
      "training score 0.7586062964808633 testing score 0.6887732050217876 random state 426\n",
      "training score 0.733882679972254 testing score 0.789178330516342 random state 427\n",
      "training score 0.7466226096000497 testing score 0.7409658676194275 random state 428\n",
      "training score 0.7529497234298408 testing score 0.7125899359616401 random state 429\n",
      "training score 0.753640071789141 testing score 0.7064654791616485 random state 430\n",
      "training score 0.7637995461035545 testing score 0.651316794023443 random state 431\n",
      "training score 0.7250950062855093 testing score 0.8169729506535972 random state 432\n",
      "training score 0.737213168653351 testing score 0.7827461492596592 random state 433\n",
      "training score 0.7559170507300161 testing score 0.6933536678155733 random state 434\n",
      "training score 0.7434786239780957 testing score 0.7549897562472204 random state 435\n",
      "training score 0.7470826423911605 testing score 0.7427465144161955 random state 436\n",
      "training score 0.7411087904057644 testing score 0.7644348292034329 random state 437\n",
      "training score 0.7520508338904166 testing score 0.7222286813799772 random state 438\n",
      "training score 0.7448088947660296 testing score 0.7516617500851702 random state 439\n",
      "training score 0.7514203352671717 testing score 0.7242290934214882 random state 440\n",
      "training score 0.7443945397581273 testing score 0.7527575450114853 random state 441\n",
      "training score 0.7411804830444496 testing score 0.7615201156194442 random state 442\n",
      "training score 0.7514922681748812 testing score 0.7227669604037491 random state 443\n",
      "training score 0.7364080386111225 testing score 0.773239153258535 random state 444\n",
      "training score 0.7291884520742441 testing score 0.7911377016728871 random state 445\n",
      "training score 0.7374008290551546 testing score 0.7726581243924333 random state 446\n",
      "training score 0.7464986287180972 testing score 0.744783921713324 random state 447\n",
      "training score 0.7518793034052169 testing score 0.7196415431467469 random state 448\n",
      "training score 0.7400348474839886 testing score 0.7652225979365721 random state 449\n",
      "training score 0.7517441131993637 testing score 0.7216716232683082 random state 450\n",
      "training score 0.730103653982263 testing score 0.7903357713252175 random state 451\n",
      "training score 0.756001949086792 testing score 0.7079916591458264 random state 452\n",
      "training score 0.762161288128726 testing score 0.6719068245122206 random state 453\n",
      "training score 0.771406111707055 testing score 0.612465470438959 random state 454\n",
      "training score 0.7332743083496885 testing score 0.7927457800404064 random state 455\n",
      "training score 0.747683016253478 testing score 0.7258518501269462 random state 456\n",
      "training score 0.75868558913188 testing score 0.6776226979464643 random state 457\n",
      "training score 0.7491919914920557 testing score 0.7326720031480775 random state 458\n",
      "training score 0.7520568325880701 testing score 0.721857615328544 random state 459\n",
      "training score 0.735463669373418 testing score 0.7858865844286903 random state 460\n",
      "training score 0.7536166893265187 testing score 0.7192509218158945 random state 461\n",
      "training score 0.7478743838762585 testing score 0.73811298665026 random state 462\n",
      "training score 0.7679873158646355 testing score 0.6366775516422294 random state 463\n",
      "training score 0.747517201731761 testing score 0.7408912049049663 random state 464\n",
      "training score 0.7484591748137697 testing score 0.7343658968494308 random state 465\n",
      "training score 0.750223170911957 testing score 0.7249405527261789 random state 466\n",
      "training score 0.7572545039849212 testing score 0.7013270479200977 random state 467\n",
      "training score 0.7483550684245984 testing score 0.7346758741568634 random state 468\n",
      "training score 0.7359805740249872 testing score 0.7842744321915829 random state 469\n",
      "training score 0.7685056233232129 testing score 0.6444600144228364 random state 470\n",
      "training score 0.7438220250154732 testing score 0.7544819523595304 random state 471\n",
      "training score 0.7514883536197304 testing score 0.7258379994667599 random state 472\n",
      "training score 0.7495624459763697 testing score 0.7234224723066909 random state 473\n",
      "training score 0.7449288664085865 testing score 0.7493177676101337 random state 474\n",
      "training score 0.7575490503886515 testing score 0.7037202611073499 random state 475\n",
      "training score 0.7369087041493312 testing score 0.7785232322211336 random state 476\n",
      "training score 0.749978177127143 testing score 0.7279098645285472 random state 477\n",
      "training score 0.7514936845596147 testing score 0.7227413549053878 random state 478\n",
      "training score 0.745361854258038 testing score 0.7470168799647551 random state 479\n",
      "training score 0.7470158127611988 testing score 0.7379652168491041 random state 480\n",
      "training score 0.7536830521065955 testing score 0.7178150206837197 random state 481\n",
      "training score 0.7326459449302205 testing score 0.7869293032998778 random state 482\n",
      "training score 0.7445857599518328 testing score 0.7508422035094966 random state 483\n",
      "training score 0.7474658771800606 testing score 0.7393077419204226 random state 484\n",
      "training score 0.731296694840477 testing score 0.7972264355238579 random state 485\n",
      "training score 0.7455613405388697 testing score 0.7464980009207209 random state 486\n",
      "training score 0.7391456542425532 testing score 0.7563385638516835 random state 487\n",
      "training score 0.7401678007953003 testing score 0.7684579281530146 random state 488\n",
      "training score 0.7350747414940257 testing score 0.7839491774427061 random state 489\n",
      "training score 0.7302751521016364 testing score 0.8026183620460406 random state 490\n",
      "training score 0.7393310178167378 testing score 0.7720051710523295 random state 491\n",
      "training score 0.7297463842418301 testing score 0.7982715924547384 random state 492\n",
      "training score 0.732896089815729 testing score 0.7856054782276983 random state 493\n",
      "training score 0.7513663485083792 testing score 0.7250361171541359 random state 494\n",
      "training score 0.7451551076643436 testing score 0.7480641706137992 random state 495\n",
      "training score 0.7517095466124142 testing score 0.7222049752841455 random state 496\n",
      "training score 0.755044798399866 testing score 0.7040040528828546 random state 497\n",
      "training score 0.7452742746991999 testing score 0.7496965137960583 random state 498\n",
      "training score 0.7446311848147565 testing score 0.7486017546835738 random state 499\n",
      "training score 0.7490956175606903 testing score 0.7303268452266288 random state 500\n",
      "training score 0.7545351866255384 testing score 0.7093568780620712 random state 501\n",
      "training score 0.7373052410681096 testing score 0.7826399931830216 random state 502\n",
      "training score 0.7420148157351509 testing score 0.7606496087222971 random state 503\n",
      "training score 0.7533254599672897 testing score 0.7015758314049366 random state 504\n",
      "training score 0.7591657571912429 testing score 0.6756262298587938 random state 505\n",
      "training score 0.7496313213264777 testing score 0.730725211120598 random state 506\n",
      "training score 0.7411646115110708 testing score 0.7660543883487424 random state 507\n",
      "training score 0.7448237343260209 testing score 0.748660307871734 random state 508\n",
      "training score 0.7460895139227885 testing score 0.7421559198402712 random state 509\n",
      "training score 0.7454129249324553 testing score 0.746859334998411 random state 510\n",
      "training score 0.7374382924186508 testing score 0.7792566558777635 random state 511\n",
      "training score 0.7533462444737811 testing score 0.7106043858223562 random state 512\n",
      "training score 0.7502736568198761 testing score 0.7264218535315692 random state 513\n",
      "training score 0.752731273377298 testing score 0.7154052587380997 random state 514\n",
      "training score 0.7397083773237652 testing score 0.770580589872408 random state 515\n",
      "training score 0.7549005697930906 testing score 0.711619791638423 random state 516\n",
      "training score 0.7437274310927988 testing score 0.7553058695047449 random state 517\n",
      "training score 0.7479832128398096 testing score 0.7369715270656633 random state 518\n",
      "training score 0.7332552172052291 testing score 0.7905615219647546 random state 519\n",
      "training score 0.7428403472459069 testing score 0.7568724575422651 random state 520\n",
      "training score 0.7518588759456901 testing score 0.722976793966277 random state 521\n",
      "training score 0.7563215323979579 testing score 0.704047183924901 random state 522\n",
      "training score 0.7511933542101081 testing score 0.7239836174493539 random state 523\n",
      "training score 0.7418365022207738 testing score 0.7631403186979202 random state 524\n",
      "training score 0.7455059692605084 testing score 0.7468102437266179 random state 525\n",
      "training score 0.7487216985302042 testing score 0.7354596773917563 random state 526\n",
      "training score 0.7586663443210273 testing score 0.6905107173842702 random state 527\n",
      "training score 0.751215773317231 testing score 0.7165395453106402 random state 528\n",
      "training score 0.753826270213777 testing score 0.7134270557237095 random state 529\n",
      "training score 0.7643088686662634 testing score 0.6538848752985149 random state 530\n",
      "training score 0.7478887606071768 testing score 0.7376488500446561 random state 531\n",
      "training score 0.7625708418361881 testing score 0.6608069623076802 random state 532\n",
      "training score 0.7477011524294077 testing score 0.7398830590130285 random state 533\n",
      "training score 0.7516148893756729 testing score 0.722004960213138 random state 534\n",
      "training score 0.7466439355128984 testing score 0.742110277962934 random state 535\n",
      "training score 0.7331299873372198 testing score 0.7890646564638876 random state 536\n",
      "training score 0.7519740197633942 testing score 0.7187488335258209 random state 537\n",
      "training score 0.7483889930099461 testing score 0.7346273993655763 random state 538\n",
      "training score 0.7440341389983174 testing score 0.750132050442095 random state 539\n",
      "training score 0.7528096522862602 testing score 0.7181289693376274 random state 540\n",
      "training score 0.7430292499629865 testing score 0.7551949236464566 random state 541\n",
      "training score 0.7390170491992958 testing score 0.7739267507546 random state 542\n",
      "training score 0.7551402582714128 testing score 0.7090370409413635 random state 543\n",
      "training score 0.7584068241484928 testing score 0.7001389938958993 random state 544\n",
      "training score 0.7415188708451284 testing score 0.7649701168326114 random state 545\n",
      "training score 0.7432259992762489 testing score 0.7570171582979457 random state 546\n",
      "training score 0.7559354038580566 testing score 0.7051729427691704 random state 547\n",
      "training score 0.7434118749827243 testing score 0.7535010167189833 random state 548\n",
      "training score 0.7499591944653903 testing score 0.7289341004048892 random state 549\n",
      "training score 0.7488892807423889 testing score 0.7326205835149273 random state 550\n",
      "training score 0.745710325881769 testing score 0.7442669757175843 random state 551\n",
      "training score 0.749666783202831 testing score 0.7216512604603972 random state 552\n",
      "training score 0.7549505577512258 testing score 0.7109062998311995 random state 553\n",
      "training score 0.7515542390237562 testing score 0.7221435801353862 random state 554\n",
      "training score 0.7485173713378988 testing score 0.7367361222303486 random state 555\n",
      "training score 0.7558500070266597 testing score 0.6931601672514665 random state 556\n",
      "training score 0.7376498687592882 testing score 0.7783549469478204 random state 557\n",
      "training score 0.743873910812318 testing score 0.7541260091612231 random state 558\n",
      "training score 0.7464781535445759 testing score 0.7445197040477857 random state 559\n",
      "training score 0.7444645405030638 testing score 0.7517653206920263 random state 560\n",
      "training score 0.7433064924314428 testing score 0.7572044655380403 random state 561\n",
      "training score 0.746194685925895 testing score 0.7459742010429861 random state 562\n",
      "training score 0.7407161172899492 testing score 0.7678097603260452 random state 563\n",
      "training score 0.7517054251958343 testing score 0.720397211916938 random state 564\n",
      "training score 0.7458326740548484 testing score 0.7470313922026866 random state 565\n",
      "training score 0.7355788075075832 testing score 0.7874945818247662 random state 566\n",
      "training score 0.757319170290381 testing score 0.688202713226998 random state 567\n",
      "training score 0.7396748807882059 testing score 0.7731065193945693 random state 568\n",
      "training score 0.7488907734196029 testing score 0.7305941501856295 random state 569\n",
      "training score 0.7413118513109305 testing score 0.7656293544079484 random state 570\n",
      "training score 0.7415835753260891 testing score 0.7616529413184413 random state 571\n",
      "training score 0.7516703728168936 testing score 0.720127967284748 random state 572\n",
      "training score 0.754291520743423 testing score 0.7091980263645958 random state 573\n",
      "training score 0.7413048174697323 testing score 0.7617859975989542 random state 574\n",
      "training score 0.7501449190877292 testing score 0.7285798241365695 random state 575\n",
      "training score 0.7457566435767932 testing score 0.745532110253031 random state 576\n",
      "training score 0.7510297059944142 testing score 0.7236130268130541 random state 577\n",
      "training score 0.7512622187596466 testing score 0.7157460265874025 random state 578\n",
      "training score 0.7369984944680842 testing score 0.781826328777906 random state 579\n",
      "training score 0.7436347360748913 testing score 0.7559497207539341 random state 580\n",
      "training score 0.7566699585963041 testing score 0.6964666376048627 random state 581\n",
      "training score 0.7462722878563145 testing score 0.7404598037487444 random state 582\n",
      "training score 0.7372213385063334 testing score 0.7826901019361602 random state 583\n",
      "training score 0.7486223230081068 testing score 0.7372089930372099 random state 584\n",
      "training score 0.7497054919078896 testing score 0.7306155998052164 random state 585\n",
      "training score 0.7604522561171447 testing score 0.688440860176065 random state 586\n",
      "training score 0.742591746742952 testing score 0.7568425822836201 random state 587\n",
      "training score 0.7496378117859531 testing score 0.731583218016506 random state 588\n",
      "training score 0.7543468844494579 testing score 0.71363305986977 random state 589\n",
      "training score 0.7246716547220204 testing score 0.8124810080664486 random state 590\n",
      "training score 0.7509526195270955 testing score 0.7243796139424925 random state 591\n",
      "training score 0.7455447842964752 testing score 0.7480471604453797 random state 592\n",
      "training score 0.7457020187006504 testing score 0.7479408174663269 random state 593\n",
      "training score 0.748600876411659 testing score 0.7360232100646461 random state 594\n",
      "training score 0.7398398886490636 testing score 0.7654825599147388 random state 595\n",
      "training score 0.7508234829056086 testing score 0.7255522729132455 random state 596\n",
      "training score 0.7384671697903791 testing score 0.7712591436081865 random state 597\n",
      "training score 0.7467972898688061 testing score 0.7429788650151068 random state 598\n",
      "training score 0.7590246014134869 testing score 0.6900194223701537 random state 599\n",
      "training score 0.739268807521804 testing score 0.7710328860593473 random state 600\n",
      "training score 0.7422933790387871 testing score 0.7603531773771497 random state 601\n",
      "training score 0.7476535007581913 testing score 0.7395150643744631 random state 602\n",
      "training score 0.7392117118895989 testing score 0.7759674195713916 random state 603\n",
      "training score 0.7481518729885144 testing score 0.7371066982059549 random state 604\n",
      "training score 0.7634904876234151 testing score 0.6701985156024632 random state 605\n",
      "training score 0.7471628126226904 testing score 0.7391184812211817 random state 606\n",
      "training score 0.7374041296462135 testing score 0.7796057596483144 random state 607\n",
      "training score 0.7355019594936505 testing score 0.7897848967309502 random state 608\n",
      "training score 0.7370860612111203 testing score 0.7843815317790663 random state 609\n",
      "training score 0.7579624640320534 testing score 0.699008693055253 random state 610\n",
      "training score 0.7410302761539928 testing score 0.7620117155837068 random state 611\n",
      "training score 0.768706581620795 testing score 0.6435596982790086 random state 612\n",
      "training score 0.7298434761656158 testing score 0.8022172720345954 random state 613\n",
      "training score 0.7424093948088031 testing score 0.7584074731478258 random state 614\n",
      "training score 0.741952149199457 testing score 0.7583047652892964 random state 615\n",
      "training score 0.736847918978363 testing score 0.7809495616890278 random state 616\n",
      "training score 0.7380572509041472 testing score 0.767739221075952 random state 617\n",
      "training score 0.7356788337950045 testing score 0.7835783787501331 random state 618\n",
      "training score 0.7507799336165528 testing score 0.7288947525054809 random state 619\n",
      "training score 0.7521190262736963 testing score 0.7179940497966766 random state 620\n",
      "training score 0.7460021551131024 testing score 0.745077646018214 random state 621\n",
      "training score 0.7382063154228171 testing score 0.7778314462124262 random state 622\n",
      "training score 0.7644683409886638 testing score 0.6575666127104334 random state 623\n",
      "training score 0.7383642463023639 testing score 0.7767488956298472 random state 624\n",
      "training score 0.7515753493982478 testing score 0.7242319222710033 random state 625\n",
      "training score 0.7586900593355842 testing score 0.7003542528275597 random state 626\n",
      "training score 0.7533230741456528 testing score 0.7184368988375062 random state 627\n",
      "training score 0.7506886052342931 testing score 0.7283192747448684 random state 628\n",
      "training score 0.7676309555906669 testing score 0.6211538704495314 random state 629\n",
      "training score 0.7505533096798418 testing score 0.7248582991280538 random state 630\n",
      "training score 0.7566267964613322 testing score 0.6902295185662364 random state 631\n",
      "training score 0.7522021321777013 testing score 0.718657199514072 random state 632\n",
      "training score 0.736782634853923 testing score 0.7797782340950539 random state 633\n",
      "training score 0.74482015553247 testing score 0.7484415230697508 random state 634\n",
      "training score 0.7581890002295153 testing score 0.6991723311165301 random state 635\n",
      "training score 0.7487686173658363 testing score 0.7348986464102799 random state 636\n",
      "training score 0.7368951788083724 testing score 0.7744567107206223 random state 637\n",
      "training score 0.7492766900363435 testing score 0.7331474190869633 random state 638\n",
      "training score 0.7463145620382934 testing score 0.744325114725017 random state 639\n",
      "training score 0.7422357316935646 testing score 0.7607791697393663 random state 640\n",
      "training score 0.7381978226498342 testing score 0.7798131613832106 random state 641\n",
      "training score 0.7525081885747833 testing score 0.7226287763676265 random state 642\n",
      "training score 0.7579034578623425 testing score 0.6948734875361922 random state 643\n",
      "training score 0.7450621151957793 testing score 0.7429955777371544 random state 644\n",
      "training score 0.7586841523557983 testing score 0.6629922215154728 random state 645\n",
      "training score 0.7422334833840778 testing score 0.7565753714631069 random state 646\n",
      "training score 0.7553243638713834 testing score 0.7039086429791436 random state 647\n",
      "training score 0.7432240008374711 testing score 0.7546936349784614 random state 648\n",
      "training score 0.7609053141652524 testing score 0.6619190788114426 random state 649\n",
      "training score 0.7362592894949078 testing score 0.7829146506487694 random state 650\n",
      "training score 0.7428355976448209 testing score 0.7580520664735217 random state 651\n",
      "training score 0.7452586747855683 testing score 0.7470706887258778 random state 652\n",
      "training score 0.7431192035638401 testing score 0.7576140637521517 random state 653\n",
      "training score 0.7445082612324648 testing score 0.7482142618081005 random state 654\n",
      "training score 0.7491621819675948 testing score 0.7280976525832922 random state 655\n",
      "training score 0.7595910714597339 testing score 0.6946778922292705 random state 656\n",
      "training score 0.7421822825549172 testing score 0.7602683883608768 random state 657\n",
      "training score 0.7426005342436226 testing score 0.7560409385415943 random state 658\n",
      "training score 0.7564586888052329 testing score 0.690463768891785 random state 659\n",
      "training score 0.7562491923628044 testing score 0.7012762559757403 random state 660\n",
      "training score 0.7348071173182444 testing score 0.7832886017769521 random state 661\n",
      "training score 0.7464661982098297 testing score 0.74280355006896 random state 662\n",
      "training score 0.739309749942202 testing score 0.7735782158493554 random state 663\n",
      "training score 0.7549785896958834 testing score 0.7092763871437708 random state 664\n",
      "training score 0.7328863538316172 testing score 0.789251451222486 random state 665\n",
      "training score 0.7520691679655901 testing score 0.7098179693946733 random state 666\n",
      "training score 0.7492276681977088 testing score 0.726926935749202 random state 667\n",
      "training score 0.7395799103891443 testing score 0.7701830928078043 random state 668\n",
      "training score 0.7536799773428765 testing score 0.71294100157263 random state 669\n",
      "training score 0.7500055306742466 testing score 0.7306755511860865 random state 670\n",
      "training score 0.7431779026795191 testing score 0.757838347306114 random state 671\n",
      "training score 0.7379317629201253 testing score 0.7805576676097621 random state 672\n",
      "training score 0.7601700591381185 testing score 0.6840308404109341 random state 673\n",
      "training score 0.7587693058522644 testing score 0.6686095960146465 random state 674\n",
      "training score 0.7364003369674005 testing score 0.7860835646272492 random state 675\n",
      "training score 0.7526075192509822 testing score 0.7153311762698907 random state 676\n",
      "training score 0.7431234696688271 testing score 0.754187373633017 random state 677\n",
      "training score 0.7523156237939628 testing score 0.7129297157014929 random state 678\n",
      "training score 0.7504066318779576 testing score 0.7230345489593388 random state 679\n",
      "training score 0.7454193863780201 testing score 0.7436780299498085 random state 680\n",
      "training score 0.7375692952966096 testing score 0.7738407798706772 random state 681\n",
      "training score 0.746336221911748 testing score 0.7457700292320084 random state 682\n",
      "training score 0.7495224271160076 testing score 0.7293797891987133 random state 683\n",
      "training score 0.753753029241691 testing score 0.7094347696575942 random state 684\n",
      "training score 0.7361945759636817 testing score 0.7811021327472766 random state 685\n",
      "training score 0.7573090945858174 testing score 0.6914086201957113 random state 686\n",
      "training score 0.7485986995079565 testing score 0.7360482377947068 random state 687\n",
      "training score 0.743346397176778 testing score 0.7579485431353006 random state 688\n",
      "training score 0.7318858986501562 testing score 0.7925507474441357 random state 689\n",
      "training score 0.7627404729163495 testing score 0.6622958787151081 random state 690\n",
      "training score 0.75199793636305 testing score 0.72378155857606 random state 691\n",
      "training score 0.7459535486798463 testing score 0.7472069556991638 random state 692\n",
      "training score 0.7372251649737587 testing score 0.774089897981733 random state 693\n",
      "training score 0.7452804657769562 testing score 0.7458334738778146 random state 694\n",
      "training score 0.7439021500848692 testing score 0.7539004103161238 random state 695\n",
      "training score 0.7406157972878848 testing score 0.7634291297359476 random state 696\n",
      "training score 0.754098332722503 testing score 0.7090439351716624 random state 697\n",
      "training score 0.7473240968455346 testing score 0.7412352208621386 random state 698\n",
      "training score 0.7549421400125299 testing score 0.7085712526591017 random state 699\n",
      "training score 0.7406782612466737 testing score 0.7656219738159914 random state 700\n",
      "training score 0.7472382816380905 testing score 0.7389689953045271 random state 701\n",
      "training score 0.753349055725038 testing score 0.7147940546183231 random state 702\n",
      "training score 0.751291077515037 testing score 0.7218819337667566 random state 703\n",
      "training score 0.743439608301353 testing score 0.7541324976306587 random state 704\n",
      "training score 0.7424955746848034 testing score 0.758199082636833 random state 705\n",
      "training score 0.7424499531858069 testing score 0.7587724619777416 random state 706\n",
      "training score 0.7438797204547996 testing score 0.7521209129562715 random state 707\n",
      "training score 0.7487909146398339 testing score 0.7357273513215132 random state 708\n",
      "training score 0.7434591676276552 testing score 0.7575862875714306 random state 709\n",
      "training score 0.7422170173416631 testing score 0.7597925851500461 random state 710\n",
      "training score 0.7480419968844116 testing score 0.7373048769538237 random state 711\n",
      "training score 0.7654773403754214 testing score 0.665381535372982 random state 712\n",
      "training score 0.7642709432699897 testing score 0.6103531222784901 random state 713\n",
      "training score 0.742041703278183 testing score 0.7616582282089966 random state 714\n",
      "training score 0.7437422653687868 testing score 0.7560663207807102 random state 715\n",
      "training score 0.7414842076813934 testing score 0.7632999395426248 random state 716\n",
      "training score 0.7507679104746101 testing score 0.7206318128472746 random state 717\n",
      "training score 0.7370753641158067 testing score 0.7785177944578208 random state 718\n",
      "training score 0.7551151856767496 testing score 0.6948112351726493 random state 719\n",
      "training score 0.7483510991955367 testing score 0.7371509213767222 random state 720\n",
      "training score 0.7416167088299372 testing score 0.7640851770894068 random state 721\n",
      "training score 0.7502964772442299 testing score 0.7282550499735618 random state 722\n",
      "training score 0.7464527444757156 testing score 0.7390773515530336 random state 723\n",
      "training score 0.7406729414337596 testing score 0.7595379489344847 random state 724\n",
      "training score 0.7517828437391563 testing score 0.7222985602674867 random state 725\n",
      "training score 0.7529569680413111 testing score 0.7048000282893987 random state 726\n",
      "training score 0.760687816468797 testing score 0.6692378280988567 random state 727\n",
      "training score 0.7450531936022097 testing score 0.7490118546633184 random state 728\n",
      "training score 0.742058059983953 testing score 0.7624244409266657 random state 729\n",
      "training score 0.7414451954107926 testing score 0.7631972995996521 random state 730\n",
      "training score 0.7442760132833774 testing score 0.7533495500439576 random state 731\n",
      "training score 0.7347475385049489 testing score 0.7911453595976146 random state 732\n",
      "training score 0.7330723816868178 testing score 0.7860393641495095 random state 733\n",
      "training score 0.7441546273349826 testing score 0.7531374985199489 random state 734\n",
      "training score 0.7490385208114989 testing score 0.7322905911321322 random state 735\n",
      "training score 0.73426595535933 testing score 0.7932649960554771 random state 736\n",
      "training score 0.7651303927216135 testing score 0.6246373451123008 random state 737\n",
      "training score 0.7343867036740688 testing score 0.7824123531176981 random state 738\n",
      "training score 0.7422624665510718 testing score 0.7601317839953178 random state 739\n",
      "training score 0.7399297689375072 testing score 0.7683452928727583 random state 740\n",
      "training score 0.7389240256763501 testing score 0.767982568189133 random state 741\n",
      "training score 0.7449035189632368 testing score 0.7497364730174281 random state 742\n",
      "training score 0.7326604692606051 testing score 0.7880023557114701 random state 743\n",
      "training score 0.7369004424723042 testing score 0.7799269145909606 random state 744\n",
      "training score 0.7476385101587997 testing score 0.740212565023312 random state 745\n",
      "training score 0.7392838981383727 testing score 0.768733297375567 random state 746\n",
      "training score 0.7436174799309698 testing score 0.7553794768006378 random state 747\n",
      "training score 0.7323274178311272 testing score 0.788794266659169 random state 748\n",
      "training score 0.7375712940114372 testing score 0.7826849879477309 random state 749\n",
      "training score 0.7392674304057752 testing score 0.7627439529191907 random state 750\n",
      "training score 0.7430511710441753 testing score 0.7584715944553404 random state 751\n",
      "training score 0.7377027102074012 testing score 0.7778951149571934 random state 752\n",
      "training score 0.7587350219084159 testing score 0.689855037008279 random state 753\n",
      "training score 0.738640927351891 testing score 0.7761309394825646 random state 754\n",
      "training score 0.7537336305825001 testing score 0.7125599700344487 random state 755\n",
      "training score 0.7508699189193859 testing score 0.7245482016917879 random state 756\n",
      "training score 0.7499786680320946 testing score 0.7292208851532009 random state 757\n",
      "training score 0.7503665017467714 testing score 0.7306540221986739 random state 758\n",
      "training score 0.7447718082161172 testing score 0.7511548735256378 random state 759\n",
      "training score 0.75473082273445 testing score 0.7084361683462594 random state 760\n",
      "training score 0.746511087604667 testing score 0.7431689691888128 random state 761\n",
      "training score 0.7471629190696791 testing score 0.7414847438865416 random state 762\n",
      "training score 0.7526520544268538 testing score 0.7184082438322761 random state 763\n",
      "training score 0.7309802738110639 testing score 0.8008239435474669 random state 764\n",
      "training score 0.7534268391197917 testing score 0.7172833679138275 random state 765\n",
      "training score 0.7510983524626688 testing score 0.7245451838614478 random state 766\n",
      "training score 0.7471774475154639 testing score 0.7413306001322952 random state 767\n",
      "training score 0.7306079050354366 testing score 0.7984309332442867 random state 768\n",
      "training score 0.7518961758228737 testing score 0.7183618842210788 random state 769\n",
      "training score 0.747289516758633 testing score 0.738556565895982 random state 770\n",
      "training score 0.7363915811760834 testing score 0.7809877151089297 random state 771\n",
      "training score 0.7309574259467607 testing score 0.8101479294119882 random state 772\n",
      "training score 0.7579842236514458 testing score 0.6958773455888728 random state 773\n",
      "training score 0.7444966764537371 testing score 0.751285515558836 random state 774\n",
      "training score 0.75204364848595 testing score 0.7216655319191121 random state 775\n",
      "training score 0.7394815434618244 testing score 0.7729121829882013 random state 776\n",
      "training score 0.7479083427552761 testing score 0.7398936094015925 random state 777\n",
      "training score 0.740546389904257 testing score 0.7653076317064774 random state 778\n",
      "training score 0.7559150137929938 testing score 0.7036409489389535 random state 779\n",
      "training score 0.7550994230360728 testing score 0.6974412470384707 random state 780\n",
      "training score 0.7528164782650432 testing score 0.7178055345621488 random state 781\n",
      "training score 0.7411302273082875 testing score 0.7647801389237112 random state 782\n",
      "training score 0.7534678873857158 testing score 0.7176528394196953 random state 783\n",
      "training score 0.7484426421705166 testing score 0.7358764644325044 random state 784\n",
      "training score 0.7387376979184211 testing score 0.7756408956807723 random state 785\n",
      "training score 0.7454448861536482 testing score 0.7479439221693186 random state 786\n",
      "training score 0.7527796675443524 testing score 0.7182160972246077 random state 787\n",
      "training score 0.7420271386550273 testing score 0.7623404267422715 random state 788\n",
      "training score 0.7475718032605525 testing score 0.7395445920740862 random state 789\n",
      "training score 0.7489462311896161 testing score 0.7316602888032753 random state 790\n",
      "training score 0.7438332032483483 testing score 0.7533125948930879 random state 791\n",
      "training score 0.7393871061608837 testing score 0.7767239926230476 random state 792\n",
      "training score 0.745611430531794 testing score 0.7470100574895593 random state 793\n",
      "training score 0.7424134919242571 testing score 0.7556201558076452 random state 794\n",
      "training score 0.7593154639335705 testing score 0.6936753661065312 random state 795\n",
      "training score 0.7506560773952535 testing score 0.7233238699513629 random state 796\n",
      "training score 0.7486792579317657 testing score 0.7352768773483644 random state 797\n",
      "training score 0.7402481222025704 testing score 0.7652255971076891 random state 798\n",
      "training score 0.7398427135613697 testing score 0.7712875521816726 random state 799\n",
      "training score 0.752213319955925 testing score 0.7166806477507348 random state 800\n",
      "training score 0.7473543543835048 testing score 0.7378944028697096 random state 801\n",
      "training score 0.7512520055723291 testing score 0.7254867146215407 random state 802\n",
      "training score 0.7389003578679345 testing score 0.7782086237522072 random state 803\n",
      "training score 0.7464536983961592 testing score 0.7444586349281992 random state 804\n",
      "training score 0.7553308044886828 testing score 0.7070848100035123 random state 805\n",
      "training score 0.7468477547333565 testing score 0.7410272866406059 random state 806\n",
      "training score 0.7423017050349698 testing score 0.759039955253574 random state 807\n",
      "training score 0.7453621137957998 testing score 0.7492075755302173 random state 808\n",
      "training score 0.7504972882666077 testing score 0.728370573231584 random state 809\n",
      "training score 0.7487111290621342 testing score 0.7280796883484122 random state 810\n",
      "training score 0.7480438030764236 testing score 0.73796789646113 random state 811\n",
      "training score 0.7198904375200963 testing score 0.8312459681381866 random state 812\n",
      "training score 0.7388694132991579 testing score 0.7757841401664798 random state 813\n",
      "training score 0.7347748857458616 testing score 0.7898180493549816 random state 814\n",
      "training score 0.7438816313245578 testing score 0.7541693717044904 random state 815\n",
      "training score 0.7594616181822663 testing score 0.6756070298199786 random state 816\n",
      "training score 0.7462440345530961 testing score 0.7427937769856209 random state 817\n",
      "training score 0.7520146660192794 testing score 0.7183178879811248 random state 818\n",
      "training score 0.7401948676900236 testing score 0.763666466623353 random state 819\n",
      "training score 0.7491074981347818 testing score 0.7322870944870188 random state 820\n",
      "training score 0.7472123022650332 testing score 0.738495893389264 random state 821\n",
      "training score 0.7540271146023253 testing score 0.7133561142369713 random state 822\n",
      "training score 0.7502058363286442 testing score 0.7280109092190847 random state 823\n",
      "training score 0.7449078106382274 testing score 0.7504186882663499 random state 824\n",
      "training score 0.7532488357319602 testing score 0.7136003269336013 random state 825\n",
      "training score 0.7533410012358943 testing score 0.7193776219234918 random state 826\n",
      "training score 0.7474320275937254 testing score 0.7399140332738345 random state 827\n",
      "training score 0.7326651264945592 testing score 0.7834678393856737 random state 828\n",
      "training score 0.7486990693333377 testing score 0.7351792302574509 random state 829\n",
      "training score 0.7569858161206768 testing score 0.6916141080455516 random state 830\n",
      "training score 0.7424272616376667 testing score 0.7605740885022169 random state 831\n",
      "training score 0.7402215244022154 testing score 0.7628218869315782 random state 832\n",
      "training score 0.7476458306970213 testing score 0.7392883683133227 random state 833\n",
      "training score 0.758447653973553 testing score 0.6955421176269028 random state 834\n",
      "training score 0.7554985218419336 testing score 0.7122469060221337 random state 835\n",
      "training score 0.7522117983701755 testing score 0.7204919767951263 random state 836\n",
      "training score 0.7438598141775403 testing score 0.7543686661237061 random state 837\n",
      "training score 0.7371631955595107 testing score 0.7786759566966198 random state 838\n",
      "training score 0.7378611694721512 testing score 0.7801644677722925 random state 839\n",
      "training score 0.7370583463803174 testing score 0.7809703804558366 random state 840\n",
      "training score 0.7637616466643222 testing score 0.6658942022549101 random state 841\n",
      "training score 0.7379374415770668 testing score 0.7708540227505816 random state 842\n",
      "training score 0.7466410567583951 testing score 0.7419141847270039 random state 843\n",
      "training score 0.7541557549084348 testing score 0.7145020267439754 random state 844\n",
      "training score 0.7450078197735738 testing score 0.7507389528490723 random state 845\n",
      "training score 0.7378909613959608 testing score 0.7758917869244379 random state 846\n",
      "training score 0.7550546475492707 testing score 0.7033906730931341 random state 847\n",
      "training score 0.7454271339178404 testing score 0.7483671920818891 random state 848\n",
      "training score 0.754719085663907 testing score 0.7127124184806451 random state 849\n",
      "training score 0.7463043229420004 testing score 0.7437526905675251 random state 850\n",
      "training score 0.7424901372731443 testing score 0.7598950018130523 random state 851\n",
      "training score 0.7373502798192502 testing score 0.7713669479374178 random state 852\n",
      "training score 0.7637281349687597 testing score 0.631428698924178 random state 853\n",
      "training score 0.7436813260405488 testing score 0.7509422764964537 random state 854\n",
      "training score 0.7641827427749804 testing score 0.6695767634165712 random state 855\n",
      "training score 0.7594906705268828 testing score 0.6927038774141693 random state 856\n",
      "training score 0.7552918910585709 testing score 0.7065849302341043 random state 857\n",
      "training score 0.7447438689358845 testing score 0.7503956266067036 random state 858\n",
      "training score 0.759789791955576 testing score 0.6792123896574963 random state 859\n",
      "training score 0.735200742538491 testing score 0.7850560361608708 random state 860\n",
      "training score 0.7431250745483141 testing score 0.7608355192604411 random state 861\n",
      "training score 0.7384707116828111 testing score 0.7759376336065705 random state 862\n",
      "training score 0.7513194356967824 testing score 0.7223722038688352 random state 863\n",
      "training score 0.749882561599566 testing score 0.7273762819378127 random state 864\n",
      "training score 0.7491016831449583 testing score 0.7314145786687167 random state 865\n",
      "training score 0.7511936975254727 testing score 0.7245813725763111 random state 866\n",
      "training score 0.7454782586556599 testing score 0.7387689187044599 random state 867\n",
      "training score 0.754809918755999 testing score 0.7148041650064798 random state 868\n",
      "training score 0.7455002276155906 testing score 0.7482163943197465 random state 869\n",
      "training score 0.7388192845674929 testing score 0.7631018700560717 random state 870\n",
      "training score 0.7467016169977804 testing score 0.7435259453441401 random state 871\n",
      "training score 0.7413736101665839 testing score 0.7606616809968827 random state 872\n",
      "training score 0.7385890013682237 testing score 0.7755579839422325 random state 873\n",
      "training score 0.7443725113238042 testing score 0.751409849630298 random state 874\n",
      "training score 0.7389519670645042 testing score 0.7775765148252924 random state 875\n",
      "training score 0.7465878286486325 testing score 0.7411837973566526 random state 876\n",
      "training score 0.7473991645798543 testing score 0.7373161295440425 random state 877\n",
      "training score 0.7421774045522043 testing score 0.7618805794442157 random state 878\n",
      "training score 0.7417164180465068 testing score 0.7580259561163653 random state 879\n",
      "training score 0.7469308164767838 testing score 0.7419047413058937 random state 880\n",
      "training score 0.7470062466500562 testing score 0.740424932542582 random state 881\n",
      "training score 0.750050923993491 testing score 0.7272025541180088 random state 882\n",
      "training score 0.7416613481972874 testing score 0.7607884394683642 random state 883\n",
      "training score 0.7404571740125796 testing score 0.7670352510530104 random state 884\n",
      "training score 0.7533832488587318 testing score 0.7057557566488075 random state 885\n",
      "training score 0.7429740130158975 testing score 0.7590442183376381 random state 886\n",
      "training score 0.7597341349334099 testing score 0.6773158216890434 random state 887\n",
      "training score 0.7373939046183102 testing score 0.7733244981862128 random state 888\n",
      "training score 0.7293858262434163 testing score 0.8002703043994037 random state 889\n",
      "training score 0.732239273758511 testing score 0.8028754766737745 random state 890\n",
      "training score 0.7431187329805234 testing score 0.7532511009122588 random state 891\n",
      "training score 0.7329933922238903 testing score 0.7918725085736903 random state 892\n",
      "training score 0.7422674853983309 testing score 0.7568035046385285 random state 893\n",
      "training score 0.7466180940174081 testing score 0.7410522654349542 random state 894\n",
      "training score 0.7445394492826953 testing score 0.7517590078468832 random state 895\n",
      "training score 0.7496641359331426 testing score 0.729449648174871 random state 896\n",
      "training score 0.7414979196409366 testing score 0.7589932815120197 random state 897\n",
      "training score 0.7390661706356779 testing score 0.7660514400919134 random state 898\n",
      "training score 0.766005698708517 testing score 0.6111709595799837 random state 899\n",
      "training score 0.7391419522796099 testing score 0.7731778680353054 random state 900\n",
      "training score 0.7343742142000144 testing score 0.7828326779879475 random state 901\n",
      "training score 0.7558914731131424 testing score 0.7089505428441263 random state 902\n",
      "training score 0.7464392137282101 testing score 0.7432265269104585 random state 903\n",
      "training score 0.7512928361775578 testing score 0.7210207355772864 random state 904\n",
      "training score 0.7467918579221595 testing score 0.744109799729975 random state 905\n",
      "training score 0.7382799814522956 testing score 0.7761355797266558 random state 906\n",
      "training score 0.7399095256356824 testing score 0.7712626842459118 random state 907\n",
      "training score 0.7511050987665973 testing score 0.7238201603051018 random state 908\n",
      "training score 0.7420336677964801 testing score 0.761155171289522 random state 909\n",
      "training score 0.7484420706578077 testing score 0.7363556173857373 random state 910\n",
      "training score 0.7469309527323451 testing score 0.7388013405823819 random state 911\n",
      "training score 0.7576072058351285 testing score 0.6943340082496281 random state 912\n",
      "training score 0.7497965814152023 testing score 0.7309295205849824 random state 913\n",
      "training score 0.7599293119706788 testing score 0.6887297929765818 random state 914\n",
      "training score 0.7516017102695687 testing score 0.7195188044667337 random state 915\n",
      "training score 0.7393940081146911 testing score 0.7704382973330326 random state 916\n",
      "training score 0.7564030327745843 testing score 0.695756886878774 random state 917\n",
      "training score 0.7314961033446625 testing score 0.8002389298441887 random state 918\n",
      "training score 0.7466190465393755 testing score 0.7447582327672047 random state 919\n",
      "training score 0.7420311297014326 testing score 0.7616957208677526 random state 920\n",
      "training score 0.7517216036109252 testing score 0.7237635231942079 random state 921\n",
      "training score 0.7708592608850617 testing score 0.6473430371584579 random state 922\n",
      "training score 0.7510905132120692 testing score 0.7270863148626711 random state 923\n",
      "training score 0.7357745223315105 testing score 0.7820110457354283 random state 924\n",
      "training score 0.7434935880018254 testing score 0.7557428049273505 random state 925\n",
      "training score 0.745826193543343 testing score 0.744317327376706 random state 926\n",
      "training score 0.7650056866065028 testing score 0.6345708880710549 random state 927\n",
      "training score 0.7362392904064798 testing score 0.7787659808925878 random state 928\n",
      "training score 0.7511809775732714 testing score 0.7244682238513207 random state 929\n",
      "training score 0.7495969951424212 testing score 0.727360155071694 random state 930\n",
      "training score 0.7481950758267444 testing score 0.736752964515266 random state 931\n",
      "training score 0.7451523506922728 testing score 0.7502567975589722 random state 932\n",
      "training score 0.7493497766445738 testing score 0.7333660546019967 random state 933\n",
      "training score 0.7430416727619736 testing score 0.757748367029509 random state 934\n",
      "training score 0.7500126464103819 testing score 0.7191074297996034 random state 935\n",
      "training score 0.7546050450182772 testing score 0.7108645919584196 random state 936\n",
      "training score 0.7359598020240248 testing score 0.7829867139212836 random state 937\n",
      "training score 0.7443257085743313 testing score 0.7534049236413936 random state 938\n",
      "training score 0.7507316812106056 testing score 0.7257855586888999 random state 939\n",
      "training score 0.7520847026630779 testing score 0.7233572289096937 random state 940\n",
      "training score 0.738067234864317 testing score 0.7730688119670623 random state 941\n",
      "training score 0.7558907974850242 testing score 0.7053544762345267 random state 942\n",
      "training score 0.7448488238436761 testing score 0.7492405452168556 random state 943\n",
      "training score 0.7357643188673624 testing score 0.7856747135141668 random state 944\n",
      "training score 0.7446910740941235 testing score 0.7508612290660058 random state 945\n",
      "training score 0.7506050596424617 testing score 0.7227693302584464 random state 946\n",
      "training score 0.7370634984831139 testing score 0.77185722542463 random state 947\n",
      "training score 0.7512837413700768 testing score 0.7141725903871541 random state 948\n",
      "training score 0.7445467167835735 testing score 0.7518711956945188 random state 949\n",
      "training score 0.7382070403784919 testing score 0.7716960595414577 random state 950\n",
      "training score 0.7528243125373049 testing score 0.720285485601558 random state 951\n",
      "training score 0.7327214115237775 testing score 0.7897690511734453 random state 952\n",
      "training score 0.7491339221468725 testing score 0.7306299557589558 random state 953\n",
      "training score 0.7506189763596656 testing score 0.724614480762262 random state 954\n",
      "training score 0.742071147264348 testing score 0.7600471108806285 random state 955\n",
      "training score 0.748451998346101 testing score 0.7371476855299631 random state 956\n",
      "training score 0.7613363240786855 testing score 0.6879317582017674 random state 957\n",
      "training score 0.7440493783030682 testing score 0.7530936128667807 random state 958\n",
      "training score 0.7577705771264076 testing score 0.7030026815103962 random state 959\n",
      "training score 0.7303573932196575 testing score 0.7968879469885334 random state 960\n",
      "training score 0.7417961185643256 testing score 0.763077283631852 random state 961\n",
      "training score 0.7459889937507992 testing score 0.7431105018853457 random state 962\n",
      "training score 0.7426169716083245 testing score 0.7602655953187457 random state 963\n",
      "training score 0.7298966916676426 testing score 0.7836498263161178 random state 964\n",
      "training score 0.749834243785455 testing score 0.729596265218112 random state 965\n",
      "training score 0.7458286023016917 testing score 0.7428833755743648 random state 966\n",
      "training score 0.752317051347526 testing score 0.7219813203689383 random state 967\n",
      "training score 0.7537982698940665 testing score 0.7171474032432825 random state 968\n",
      "training score 0.7472951206026881 testing score 0.7412196166531189 random state 969\n",
      "training score 0.7502213784460271 testing score 0.7276824897688963 random state 970\n",
      "training score 0.7477818608006928 testing score 0.7319662184062921 random state 971\n",
      "training score 0.7488912877543448 testing score 0.7305939409197157 random state 972\n",
      "training score 0.7401597600026538 testing score 0.7686162462552782 random state 973\n",
      "training score 0.7409700682368272 testing score 0.7665361456718367 random state 974\n",
      "training score 0.7521873479566108 testing score 0.7150279794560916 random state 975\n",
      "training score 0.7546594975145294 testing score 0.7032534240799723 random state 976\n",
      "training score 0.758262499615082 testing score 0.6906820557430717 random state 977\n",
      "training score 0.7448611426799443 testing score 0.7503162117897496 random state 978\n",
      "training score 0.735038082275174 testing score 0.7925293485078729 random state 979\n",
      "training score 0.7415253369247445 testing score 0.7571072716608422 random state 980\n",
      "training score 0.746864541231124 testing score 0.7376470744219152 random state 981\n",
      "training score 0.7399138977440736 testing score 0.7680598300854553 random state 982\n",
      "training score 0.748970032987811 testing score 0.7349332676040545 random state 983\n",
      "training score 0.7605055697212247 testing score 0.6780186101856919 random state 984\n",
      "training score 0.7594458028621375 testing score 0.6849652288914346 random state 985\n",
      "training score 0.7425682051274813 testing score 0.754934025961357 random state 986\n",
      "training score 0.7466972020533138 testing score 0.7413647703927507 random state 987\n",
      "training score 0.738023703619703 testing score 0.7725441181721735 random state 988\n",
      "training score 0.7466357729690908 testing score 0.7405553704341825 random state 989\n",
      "training score 0.7346053440028583 testing score 0.7908016825806118 random state 990\n",
      "training score 0.749095837195254 testing score 0.7315873708697122 random state 991\n",
      "training score 0.7415189894140668 testing score 0.7609788604085472 random state 992\n",
      "training score 0.7522064962797987 testing score 0.7150008258214755 random state 993\n",
      "training score 0.7347462616883533 testing score 0.7882577897025901 random state 994\n",
      "training score 0.7511599039584038 testing score 0.7222552057934668 random state 995\n",
      "training score 0.7522258531574222 testing score 0.7181639165388903 random state 996\n",
      "training score 0.7404014423882292 testing score 0.7688997360369787 random state 997\n",
      "training score 0.7542600364944435 testing score 0.7133313387063203 random state 998\n",
      "training score 0.7575586369453994 testing score 0.6898439596844164 random state 999\n",
      "training score 0.7515739955335032 testing score 0.7236594988112615 random state 1000\n",
      "training score 0.7572627947406735 testing score 0.6956109948751799 random state 1001\n",
      "training score 0.7455749303180456 testing score 0.74850184485063 random state 1002\n",
      "training score 0.7455664252848 testing score 0.7467134267677389 random state 1003\n",
      "training score 0.7550044690086644 testing score 0.7095030632806717 random state 1004\n",
      "training score 0.7465024282051832 testing score 0.7416526728530186 random state 1005\n",
      "training score 0.7428995811809278 testing score 0.7585784604190019 random state 1006\n",
      "training score 0.7379605495604792 testing score 0.7750741504055328 random state 1007\n",
      "training score 0.7490223380247734 testing score 0.7344272809012133 random state 1008\n",
      "training score 0.7456368987806046 testing score 0.7463982903897783 random state 1009\n",
      "training score 0.752691615773754 testing score 0.7163066148407922 random state 1010\n",
      "training score 0.7470042051954577 testing score 0.7418637966042708 random state 1011\n",
      "training score 0.7473961658361291 testing score 0.7395366425244561 random state 1012\n",
      "training score 0.7553232134885604 testing score 0.7003539326060597 random state 1013\n",
      "training score 0.7507188158217708 testing score 0.7271005445135319 random state 1014\n",
      "training score 0.748591618925702 testing score 0.7348265740746642 random state 1015\n",
      "training score 0.7373424189893782 testing score 0.7731748169532995 random state 1016\n",
      "training score 0.751378497205756 testing score 0.7258635117933542 random state 1017\n",
      "training score 0.7463067794505301 testing score 0.7424253802997309 random state 1018\n",
      "training score 0.7494547997630587 testing score 0.7321834601107138 random state 1019\n",
      "training score 0.7411046615766534 testing score 0.7637694636401429 random state 1020\n",
      "training score 0.7364725668234331 testing score 0.7797632457892936 random state 1021\n",
      "training score 0.7493443070059131 testing score 0.7328045115778797 random state 1022\n",
      "training score 0.7534203178919001 testing score 0.7130247956977744 random state 1023\n",
      "training score 0.737000233686135 testing score 0.7772183556503895 random state 1024\n",
      "training score 0.7589658678338437 testing score 0.6817290480884601 random state 1025\n",
      "training score 0.7525223044819631 testing score 0.7215237851016468 random state 1026\n",
      "training score 0.7603670357793868 testing score 0.6753272187822805 random state 1027\n",
      "training score 0.7570485932553144 testing score 0.7031470647285153 random state 1028\n",
      "training score 0.7506291017021017 testing score 0.728376075063052 random state 1029\n",
      "training score 0.7577030060013353 testing score 0.7015888925424432 random state 1030\n",
      "training score 0.7563522170865972 testing score 0.7040755880391194 random state 1031\n",
      "training score 0.7337248372483256 testing score 0.787526845169426 random state 1032\n",
      "training score 0.760572202537602 testing score 0.6923881536150017 random state 1033\n",
      "training score 0.7489366121335541 testing score 0.7318788623123692 random state 1034\n",
      "training score 0.7397956340963872 testing score 0.7720374103892803 random state 1035\n",
      "training score 0.7363230332819141 testing score 0.7845732571451727 random state 1036\n",
      "training score 0.7524316081283903 testing score 0.7208320300864883 random state 1037\n",
      "training score 0.7452687862983547 testing score 0.7487204224178114 random state 1038\n",
      "training score 0.7448877150464936 testing score 0.7515995479089225 random state 1039\n",
      "training score 0.7444137647917266 testing score 0.7521137519090257 random state 1040\n",
      "training score 0.7347715220446536 testing score 0.7857042203307683 random state 1041\n",
      "training score 0.7398900331904761 testing score 0.7678079013676673 random state 1042\n",
      "training score 0.7500633368484382 testing score 0.7279705937902148 random state 1043\n",
      "training score 0.7432730997217075 testing score 0.7571461026283486 random state 1044\n",
      "training score 0.7316574427285647 testing score 0.8008981180191999 random state 1045\n",
      "training score 0.7471060906715732 testing score 0.7422056041235814 random state 1046\n",
      "training score 0.7444127136712206 testing score 0.7520818473957871 random state 1047\n",
      "training score 0.7545236556456738 testing score 0.7014546950721929 random state 1048\n",
      "training score 0.7473599165662195 testing score 0.7405405115235653 random state 1049\n",
      "training score 0.7353798728524127 testing score 0.7842297270713181 random state 1050\n",
      "training score 0.7579547043766682 testing score 0.6799306852743089 random state 1051\n",
      "training score 0.7370268752518323 testing score 0.7823467686417656 random state 1052\n",
      "training score 0.7296041874598092 testing score 0.804253633627868 random state 1053\n",
      "training score 0.7306077420031178 testing score 0.801112887775294 random state 1054\n",
      "training score 0.7375085027032711 testing score 0.7819149800019447 random state 1055\n",
      "training score 0.75410304780042 testing score 0.709611600575313 random state 1056\n",
      "training score 0.7391340843375565 testing score 0.7723405989796288 random state 1057\n",
      "training score 0.747882335531945 testing score 0.7373858072159589 random state 1058\n",
      "training score 0.7384308050891082 testing score 0.7723887492738765 random state 1059\n",
      "training score 0.7510148860057904 testing score 0.7271754140579862 random state 1060\n",
      "training score 0.756755304981283 testing score 0.6954070423199369 random state 1061\n",
      "training score 0.7541446435245475 testing score 0.7120962308378165 random state 1062\n",
      "training score 0.7483759291255092 testing score 0.7378876678777548 random state 1063\n",
      "training score 0.7419741467176539 testing score 0.7636590653733748 random state 1064\n",
      "training score 0.7459458957966714 testing score 0.7414138990094692 random state 1065\n",
      "training score 0.7512008118520337 testing score 0.7253862647905516 random state 1066\n",
      "training score 0.7482761543785827 testing score 0.7350578884048204 random state 1067\n",
      "training score 0.7404267395651951 testing score 0.7680847971602762 random state 1068\n",
      "training score 0.7406705822116532 testing score 0.7685626011567737 random state 1069\n",
      "training score 0.7425299507628906 testing score 0.7606594995302981 random state 1070\n",
      "training score 0.7426405533695133 testing score 0.7604233414056483 random state 1071\n",
      "training score 0.7398523054889434 testing score 0.7712332526886133 random state 1072\n",
      "training score 0.7412876082730808 testing score 0.7653308891981069 random state 1073\n",
      "training score 0.7466805513453931 testing score 0.7387354890845155 random state 1074\n",
      "training score 0.7457235601438581 testing score 0.7471316291543995 random state 1075\n",
      "training score 0.7522462118620676 testing score 0.723313875378446 random state 1076\n",
      "training score 0.7603761081355349 testing score 0.6813466074742612 random state 1077\n",
      "training score 0.7325712422702993 testing score 0.802227730778047 random state 1078\n",
      "training score 0.7476951628777214 testing score 0.7348449632570462 random state 1079\n",
      "training score 0.7421047075606048 testing score 0.7607753745730393 random state 1080\n",
      "training score 0.7472591034670824 testing score 0.7417189723363944 random state 1081\n",
      "training score 0.7380453598898951 testing score 0.7760959012544765 random state 1082\n",
      "training score 0.7391761793407853 testing score 0.7771358586821673 random state 1083\n",
      "training score 0.7429726326209009 testing score 0.7567872975743215 random state 1084\n",
      "training score 0.7366085672019382 testing score 0.7783257661966618 random state 1085\n",
      "training score 0.7405450391542279 testing score 0.7682241830436778 random state 1086\n",
      "training score 0.7363777994189094 testing score 0.7821791218593437 random state 1087\n",
      "training score 0.7441578917507055 testing score 0.7519864624258018 random state 1088\n",
      "training score 0.7448487838613106 testing score 0.7517434254497096 random state 1089\n",
      "training score 0.739794934400174 testing score 0.7717569966631592 random state 1090\n",
      "training score 0.752641750476934 testing score 0.7122127417600045 random state 1091\n",
      "training score 0.7430184302941227 testing score 0.7570722747809422 random state 1092\n",
      "training score 0.7291956899752117 testing score 0.7986494859494703 random state 1093\n",
      "training score 0.7574661187332814 testing score 0.7022317918100351 random state 1094\n",
      "training score 0.7441014758453712 testing score 0.7514466975471317 random state 1095\n",
      "training score 0.7470789624373622 testing score 0.7387845221619426 random state 1096\n",
      "training score 0.7480364720411077 testing score 0.7376406924596077 random state 1097\n",
      "training score 0.736711773801356 testing score 0.7760424338638684 random state 1098\n",
      "training score 0.7408562900303391 testing score 0.7662910434965605 random state 1099\n",
      "training score 0.7489848506070289 testing score 0.7318817800515744 random state 1100\n",
      "training score 0.7474406882478057 testing score 0.7394267403187407 random state 1101\n",
      "training score 0.7433981606078135 testing score 0.7569412489521874 random state 1102\n",
      "training score 0.7503005618084904 testing score 0.728407841735537 random state 1103\n",
      "training score 0.7410345183842685 testing score 0.7662438383539927 random state 1104\n",
      "training score 0.7497615923267188 testing score 0.7323851059732185 random state 1105\n",
      "training score 0.7300448052102468 testing score 0.7984668737400511 random state 1106\n",
      "training score 0.7444129530207525 testing score 0.7524107145764993 random state 1107\n",
      "training score 0.7606304697431082 testing score 0.6902683090462391 random state 1108\n",
      "training score 0.7430083270401224 testing score 0.7579642417858117 random state 1109\n",
      "training score 0.7438064842730963 testing score 0.7547345976402758 random state 1110\n",
      "training score 0.7365412886626104 testing score 0.7813725387482703 random state 1111\n",
      "training score 0.7349133422613016 testing score 0.7881207840198132 random state 1112\n",
      "training score 0.7393854222749162 testing score 0.7726154510468135 random state 1113\n",
      "training score 0.7534061415174058 testing score 0.7157757591808402 random state 1114\n",
      "training score 0.7533932479330467 testing score 0.7119747657047049 random state 1115\n",
      "training score 0.7440398654501081 testing score 0.7534779647177046 random state 1116\n",
      "training score 0.7434424095846796 testing score 0.7544303851418684 random state 1117\n",
      "training score 0.7331399750007797 testing score 0.7761099036244326 random state 1118\n",
      "training score 0.7387315051584118 testing score 0.7677731607318763 random state 1119\n",
      "training score 0.7446273266319698 testing score 0.7516594208520054 random state 1120\n",
      "training score 0.745136525812261 testing score 0.7479849290312321 random state 1121\n",
      "training score 0.757413020070845 testing score 0.6932869811931519 random state 1122\n",
      "training score 0.7507134178680694 testing score 0.7272988773297384 random state 1123\n",
      "training score 0.7459422063377015 testing score 0.7460664272207322 random state 1124\n",
      "training score 0.7520476702353873 testing score 0.7151341055037759 random state 1125\n",
      "training score 0.7376983180357476 testing score 0.776032198248776 random state 1126\n",
      "training score 0.7521315211268107 testing score 0.7236909570750243 random state 1127\n",
      "training score 0.7321832453388932 testing score 0.8027142270678356 random state 1128\n",
      "training score 0.7453165666381516 testing score 0.748772237597092 random state 1129\n",
      "training score 0.739141174355976 testing score 0.7757893242233479 random state 1130\n",
      "training score 0.7523038697892286 testing score 0.719579158227295 random state 1131\n",
      "training score 0.7453854608103054 testing score 0.7418436122413936 random state 1132\n",
      "training score 0.7562195013834707 testing score 0.7010053489183175 random state 1133\n",
      "training score 0.7496033369702355 testing score 0.7307951980459143 random state 1134\n",
      "training score 0.7457525594869868 testing score 0.7459390211589525 random state 1135\n",
      "training score 0.7469479710049818 testing score 0.7405068962042609 random state 1136\n",
      "training score 0.7423491791386121 testing score 0.7601085991688405 random state 1137\n",
      "training score 0.7467735161043088 testing score 0.7396465482133441 random state 1138\n",
      "training score 0.7606106564255349 testing score 0.6903332097587471 random state 1139\n",
      "training score 0.76696276653139 testing score 0.6364166174197862 random state 1140\n",
      "training score 0.7540733845172954 testing score 0.715483250074726 random state 1141\n",
      "training score 0.7386848940590476 testing score 0.7770993279052323 random state 1142\n",
      "training score 0.7408163204718673 testing score 0.7652910575368946 random state 1143\n",
      "training score 0.740278865320664 testing score 0.7618695706603738 random state 1144\n",
      "training score 0.74835961786946 testing score 0.736102245734455 random state 1145\n",
      "training score 0.75633279884099 testing score 0.702694795709253 random state 1146\n",
      "training score 0.7477611641293394 testing score 0.7364711466852591 random state 1147\n",
      "training score 0.7459588695009962 testing score 0.7446297432872391 random state 1148\n",
      "training score 0.7357708476890561 testing score 0.7823647836023901 random state 1149\n",
      "training score 0.7482610899630096 testing score 0.7355890851643982 random state 1150\n",
      "training score 0.7557471289701427 testing score 0.703442174282392 random state 1151\n",
      "training score 0.7379756084380709 testing score 0.7773968058084851 random state 1152\n",
      "training score 0.7278999797271586 testing score 0.8045988665956669 random state 1153\n",
      "training score 0.7650874367279333 testing score 0.67283496910835 random state 1154\n",
      "training score 0.7492743650160347 testing score 0.7342125611997373 random state 1155\n",
      "training score 0.7441774865986152 testing score 0.7532381132685976 random state 1156\n",
      "training score 0.7580921532985968 testing score 0.6934833596036689 random state 1157\n",
      "training score 0.7353827350580826 testing score 0.7918407969465099 random state 1158\n",
      "training score 0.7455401811548346 testing score 0.7471999167037888 random state 1159\n",
      "training score 0.7383459834654538 testing score 0.7727554132332437 random state 1160\n",
      "training score 0.7539102483132165 testing score 0.7121932253456833 random state 1161\n",
      "training score 0.7453971711541747 testing score 0.7481278300206848 random state 1162\n",
      "training score 0.748175508757468 testing score 0.7386150816134482 random state 1163\n",
      "training score 0.75650773445002 testing score 0.6981655135698921 random state 1164\n",
      "training score 0.7497050573193365 testing score 0.7303469713677264 random state 1165\n",
      "training score 0.7343562947443534 testing score 0.786684418082126 random state 1166\n",
      "training score 0.7457193240416709 testing score 0.7447911779722745 random state 1167\n",
      "training score 0.7522116556091318 testing score 0.7174731776978212 random state 1168\n",
      "training score 0.7376657749450339 testing score 0.7725112370394416 random state 1169\n",
      "training score 0.7390477354029403 testing score 0.77154648010172 random state 1170\n",
      "training score 0.7492431947118885 testing score 0.7295390888470075 random state 1171\n",
      "training score 0.7574230459135507 testing score 0.6880857284245797 random state 1172\n",
      "training score 0.7377398923339211 testing score 0.7637566268411675 random state 1173\n",
      "training score 0.7448144997079127 testing score 0.7513166866850745 random state 1174\n",
      "training score 0.7460499173150714 testing score 0.746502624735241 random state 1175\n",
      "training score 0.7489605430096984 testing score 0.7350655569042807 random state 1176\n",
      "training score 0.7697870533942904 testing score 0.6265743006959321 random state 1177\n",
      "training score 0.7276472467611745 testing score 0.8053270634399521 random state 1178\n",
      "training score 0.7531780324575776 testing score 0.7170358110563666 random state 1179\n",
      "training score 0.7443944174987321 testing score 0.746801223210025 random state 1180\n",
      "training score 0.7382344982380612 testing score 0.7642363899738203 random state 1181\n",
      "training score 0.7571698300730838 testing score 0.6968419724857078 random state 1182\n",
      "training score 0.7354708949816848 testing score 0.7892528259741374 random state 1183\n",
      "training score 0.7460277727287032 testing score 0.7455397320799706 random state 1184\n",
      "training score 0.7416442205281115 testing score 0.7619494429245597 random state 1185\n",
      "training score 0.7600980362492067 testing score 0.6685824323704513 random state 1186\n",
      "training score 0.7610311925334436 testing score 0.6873470074086078 random state 1187\n",
      "training score 0.7609673810414495 testing score 0.6731350853743077 random state 1188\n",
      "training score 0.7410254782470063 testing score 0.76520753967913 random state 1189\n",
      "training score 0.7450582750947088 testing score 0.7507280725131089 random state 1190\n",
      "training score 0.7496912973455345 testing score 0.7293622092129736 random state 1191\n",
      "training score 0.7487937353889202 testing score 0.7356879488698735 random state 1192\n",
      "training score 0.7457334319945632 testing score 0.7479774449672703 random state 1193\n",
      "training score 0.748074656907123 testing score 0.7326746842272203 random state 1194\n",
      "training score 0.7319083171249547 testing score 0.7968999953731439 random state 1195\n",
      "training score 0.7396710683588041 testing score 0.7680304149332613 random state 1196\n",
      "training score 0.74489807428172 testing score 0.7476345112140105 random state 1197\n",
      "training score 0.7415506972857335 testing score 0.7604359081953836 random state 1198\n",
      "training score 0.7326039752935107 testing score 0.7969398648516784 random state 1199\n",
      "training score 0.7343495471394812 testing score 0.7915619435854583 random state 1200\n",
      "training score 0.7564687976303314 testing score 0.6959847485422308 random state 1201\n",
      "training score 0.7467778428624273 testing score 0.7429885747120875 random state 1202\n",
      "training score 0.7408086736990827 testing score 0.7695886854066757 random state 1203\n",
      "training score 0.7290000352087018 testing score 0.7878805324857283 random state 1204\n",
      "training score 0.7538850586779584 testing score 0.7203416974184582 random state 1205\n",
      "training score 0.7668291759909903 testing score 0.6655754888524775 random state 1206\n",
      "training score 0.7402491902790904 testing score 0.7642422644350002 random state 1207\n",
      "training score 0.7512266536060486 testing score 0.7262558530324201 random state 1208\n",
      "training score 0.7498213792215314 testing score 0.7295642585066069 random state 1209\n",
      "training score 0.7391970649471958 testing score 0.7634084121766511 random state 1210\n",
      "training score 0.747297537882511 testing score 0.741561672880478 random state 1211\n",
      "training score 0.7478483127362912 testing score 0.7323133236038617 random state 1212\n",
      "training score 0.7426162498412068 testing score 0.7596075108555008 random state 1213\n",
      "training score 0.7619000592743695 testing score 0.6696874810727709 random state 1214\n",
      "training score 0.7555028290192153 testing score 0.708464935552363 random state 1215\n",
      "training score 0.7373824987507229 testing score 0.7725856312781226 random state 1216\n",
      "training score 0.749787985159835 testing score 0.7304187593672264 random state 1217\n",
      "training score 0.7418606581236389 testing score 0.7621109498027571 random state 1218\n",
      "training score 0.750624842374608 testing score 0.7270544141144035 random state 1219\n",
      "training score 0.7363017521642916 testing score 0.7829434283727866 random state 1220\n",
      "training score 0.739052038092316 testing score 0.7719262877098039 random state 1221\n",
      "training score 0.7510153950216352 testing score 0.7253326664956812 random state 1222\n",
      "training score 0.7416181494714198 testing score 0.7633709232516812 random state 1223\n",
      "training score 0.7445910287911928 testing score 0.7510544927327132 random state 1224\n",
      "training score 0.7526120891241779 testing score 0.7212776793454394 random state 1225\n",
      "training score 0.7455485420070449 testing score 0.748518372486514 random state 1226\n",
      "training score 0.7366556659672903 testing score 0.78462982029544 random state 1227\n",
      "training score 0.7448120556088449 testing score 0.7493931063933759 random state 1228\n",
      "training score 0.7619958651933707 testing score 0.6591094614664306 random state 1229\n",
      "training score 0.7331918778336797 testing score 0.798735109965358 random state 1230\n",
      "training score 0.7438197572865695 testing score 0.754961808661949 random state 1231\n",
      "training score 0.7461683321318909 testing score 0.7436219416112143 random state 1232\n",
      "training score 0.7575759193404896 testing score 0.6922797611684641 random state 1233\n",
      "training score 0.7451234467024876 testing score 0.7475889439804946 random state 1234\n",
      "training score 0.75029904286831 testing score 0.7295641908617718 random state 1235\n",
      "training score 0.7424365206511916 testing score 0.758138597658844 random state 1236\n",
      "training score 0.7414482837659184 testing score 0.754429889109646 random state 1237\n",
      "training score 0.756074515992615 testing score 0.6859664977514901 random state 1238\n",
      "training score 0.7581022330853038 testing score 0.6953995363157892 random state 1239\n",
      "training score 0.7531493078696402 testing score 0.7095600601782455 random state 1240\n",
      "training score 0.7404687297558304 testing score 0.7579480541599924 random state 1241\n",
      "training score 0.7374519252015349 testing score 0.7783881537224053 random state 1242\n",
      "training score 0.7479466737721165 testing score 0.7372973757307095 random state 1243\n",
      "training score 0.7477449781084865 testing score 0.7384256955177924 random state 1244\n",
      "training score 0.7451091271209895 testing score 0.7485567744797545 random state 1245\n",
      "training score 0.7602741376841038 testing score 0.6857967619880219 random state 1246\n",
      "training score 0.7513338098022275 testing score 0.7149698789652854 random state 1247\n",
      "training score 0.7553803417666696 testing score 0.693453126627605 random state 1248\n",
      "training score 0.7529250219891618 testing score 0.7151786255824889 random state 1249\n",
      "training score 0.7538849416783027 testing score 0.7146118523541318 random state 1250\n",
      "training score 0.7576128875347226 testing score 0.7058052017081935 random state 1251\n",
      "training score 0.7559179267927901 testing score 0.7078441917124626 random state 1252\n",
      "training score 0.7489773003438125 testing score 0.7251514679596026 random state 1253\n",
      "training score 0.7486435581062001 testing score 0.7358316703577172 random state 1254\n",
      "training score 0.7430444009005728 testing score 0.7503332881965653 random state 1255\n",
      "training score 0.7502355670770673 testing score 0.7259242772964576 random state 1256\n",
      "training score 0.7484059244322687 testing score 0.7377570444163037 random state 1257\n",
      "training score 0.7419555496084227 testing score 0.7605802716591796 random state 1258\n",
      "training score 0.7535622156780388 testing score 0.7113237619359449 random state 1259\n",
      "training score 0.7478300167449208 testing score 0.73519851049598 random state 1260\n",
      "training score 0.7530506970085097 testing score 0.7153273152676194 random state 1261\n",
      "training score 0.7446491541865776 testing score 0.748596898477409 random state 1262\n",
      "training score 0.7632633836714664 testing score 0.6619626885934367 random state 1263\n",
      "training score 0.7553986943685627 testing score 0.7052170701604152 random state 1264\n",
      "training score 0.7513199443251738 testing score 0.7217106374468395 random state 1265\n",
      "training score 0.7416324305242873 testing score 0.7629155494682046 random state 1266\n",
      "training score 0.7430009992695945 testing score 0.7594455915611653 random state 1267\n",
      "training score 0.7375086648928382 testing score 0.780470744022282 random state 1268\n",
      "training score 0.7422441343563057 testing score 0.7639000856919329 random state 1269\n",
      "training score 0.7506542116647127 testing score 0.7258555884383426 random state 1270\n",
      "training score 0.7449736826165838 testing score 0.7447538402807414 random state 1271\n",
      "training score 0.7384266761895136 testing score 0.7772019464732709 random state 1272\n",
      "training score 0.7402558762707455 testing score 0.7638327775938701 random state 1273\n",
      "training score 0.7414331649058945 testing score 0.7596821219376519 random state 1274\n",
      "training score 0.758604443626929 testing score 0.6919317891402772 random state 1275\n",
      "training score 0.7450568976331167 testing score 0.7504559718933537 random state 1276\n",
      "training score 0.7437916433504168 testing score 0.7543952073970894 random state 1277\n",
      "training score 0.7442769580603608 testing score 0.7543796423731799 random state 1278\n",
      "training score 0.7389623774780509 testing score 0.7763624413374903 random state 1279\n",
      "training score 0.7400900044376075 testing score 0.7585054032960106 random state 1280\n",
      "training score 0.7346659323957454 testing score 0.7884833319637454 random state 1281\n",
      "training score 0.7311148610326724 testing score 0.7945957930344515 random state 1282\n",
      "training score 0.7552260429867295 testing score 0.7035964315675207 random state 1283\n",
      "training score 0.7395847330690182 testing score 0.7681252440518203 random state 1284\n",
      "training score 0.7468453535262489 testing score 0.7337511099850409 random state 1285\n",
      "training score 0.7467977324836206 testing score 0.7434002196592292 random state 1286\n",
      "training score 0.7575907551103882 testing score 0.6990116135445804 random state 1287\n",
      "training score 0.7427934441811919 testing score 0.7582368691111306 random state 1288\n",
      "training score 0.7562795489241718 testing score 0.7071443235656579 random state 1289\n",
      "training score 0.7475574167249943 testing score 0.7406530168827177 random state 1290\n",
      "training score 0.7419941813715628 testing score 0.760139747277053 random state 1291\n",
      "training score 0.7620068097568216 testing score 0.6686291442101517 random state 1292\n",
      "training score 0.7435391081508621 testing score 0.7553890529470486 random state 1293\n",
      "training score 0.7518085393326397 testing score 0.7235709429693439 random state 1294\n",
      "training score 0.7426938213113896 testing score 0.7613144584469476 random state 1295\n",
      "training score 0.7595749379768424 testing score 0.6799714278350788 random state 1296\n",
      "training score 0.7436463725074952 testing score 0.7548708278340925 random state 1297\n",
      "training score 0.7492944676255949 testing score 0.7289686544311751 random state 1298\n",
      "training score 0.7527237842216327 testing score 0.7129724914390699 random state 1299\n",
      "training score 0.7484833318777013 testing score 0.734927330516014 random state 1300\n",
      "training score 0.747087525435839 testing score 0.74124554313111 random state 1301\n",
      "training score 0.755810351698149 testing score 0.6973736887533197 random state 1302\n",
      "training score 0.7490054656929049 testing score 0.7342147194527266 random state 1303\n",
      "training score 0.7500415998054515 testing score 0.7313519591830433 random state 1304\n",
      "training score 0.750899513915271 testing score 0.7256546649119042 random state 1305\n",
      "training score 0.7368361740631884 testing score 0.7775057141688584 random state 1306\n",
      "training score 0.7425366906991175 testing score 0.7613703967888513 random state 1307\n",
      "training score 0.7536200256548143 testing score 0.716928000949433 random state 1308\n",
      "training score 0.749679896326331 testing score 0.729927340583371 random state 1309\n",
      "training score 0.7510277854736908 testing score 0.7251265990394924 random state 1310\n",
      "training score 0.7482511093060866 testing score 0.7372315129934672 random state 1311\n",
      "training score 0.7624887792660441 testing score 0.6584678705651418 random state 1312\n",
      "training score 0.754271717391081 testing score 0.7134612345011385 random state 1313\n",
      "training score 0.743781728594365 testing score 0.7531045063865223 random state 1314\n",
      "training score 0.735466822919177 testing score 0.7884311968913811 random state 1315\n",
      "training score 0.7503215556781914 testing score 0.7248371025085754 random state 1316\n",
      "training score 0.7447647960880621 testing score 0.7502859527043797 random state 1317\n",
      "training score 0.7438243726711405 testing score 0.7553769211942076 random state 1318\n",
      "training score 0.7387152772254442 testing score 0.7705997704562524 random state 1319\n",
      "training score 0.756559044367809 testing score 0.7040429965086678 random state 1320\n",
      "training score 0.7467085916907663 testing score 0.742909430714881 random state 1321\n",
      "training score 0.732872306230814 testing score 0.7818106854667382 random state 1322\n",
      "training score 0.7419256234595379 testing score 0.7622293178927215 random state 1323\n",
      "training score 0.7324709608332118 testing score 0.7967924542412685 random state 1324\n",
      "training score 0.7496972366518107 testing score 0.7312923831886067 random state 1325\n",
      "training score 0.7506187912522024 testing score 0.7295179687526547 random state 1326\n",
      "training score 0.7493477849084678 testing score 0.7274894026766898 random state 1327\n"
     ]
    }
   ],
   "source": [
    "# maximum accuracy\n",
    "max_accu = 0\n",
    "# best random state value for which max accuracy is achived\n",
    "max_rs = 0\n",
    "for i in range(1,1328):\n",
    "    x_train,x_test,y_train,y_test= train_test_split(x,y,test_size =0.20,random_state = i)\n",
    "    lr = LinearRegression()\n",
    "    lr.fit(x_train,y_train)\n",
    "    y_pred = lr.predict(x_train)\n",
    "    score1 = r2_score(y_train,y_pred)\n",
    "    pred = lr.predict(x_test)\n",
    "    score=r2_score(y_test,pred)\n",
    "    print('training score',score1,'testing score',score,'random state',i)\n",
    "    if (score and score1) > max_accu:\n",
    "        max_accu = score\n",
    "        max_rs = i\n",
    "        print('testing score',score,'random state',i)\n",
    "    \n",
    "\n"
   ]
  },
  {
   "cell_type": "code",
   "execution_count": 36,
   "id": "94620b0b",
   "metadata": {},
   "outputs": [
    {
     "name": "stdout",
     "output_type": "stream",
     "text": [
      "Best accuracy is 0.7807876550241071 on random state 2\n"
     ]
    }
   ],
   "source": [
    "print('Best accuracy is',max_accu,'on random state',max_rs)"
   ]
  },
  {
   "cell_type": "markdown",
   "id": "0878375b",
   "metadata": {},
   "source": [
    "## Train Test Split"
   ]
  },
  {
   "cell_type": "code",
   "execution_count": 37,
   "id": "781299a3",
   "metadata": {},
   "outputs": [],
   "source": [
    "#split data into train and test, model will be build on training data and tested on test data\n",
    "x_train,x_test,y_train,y_test = train_test_split(x,y,test_size= 0.20,random_state = 32)\n"
   ]
  },
  {
   "cell_type": "markdown",
   "id": "f635d139",
   "metadata": {},
   "source": [
    "##  Model training"
   ]
  },
  {
   "cell_type": "code",
   "execution_count": 38,
   "id": "1cdbc17d",
   "metadata": {},
   "outputs": [
    {
     "data": {
      "text/plain": [
       "LinearRegression()"
      ]
     },
     "execution_count": 38,
     "metadata": {},
     "output_type": "execute_result"
    }
   ],
   "source": [
    "# creating object for LinearRegression model\n",
    "lr = LinearRegression()\n",
    "lr.fit(x_train,y_train)"
   ]
  },
  {
   "cell_type": "code",
   "execution_count": 39,
   "id": "baba6974",
   "metadata": {},
   "outputs": [
    {
     "data": {
      "text/plain": [
       "0.7316282015415093"
      ]
     },
     "execution_count": 39,
     "metadata": {},
     "output_type": "execute_result"
    }
   ],
   "source": [
    "# let's check how well model fit on train data\n",
    "lr.score(x_train,y_train)"
   ]
  },
  {
   "cell_type": "code",
   "execution_count": 40,
   "id": "48deab8c",
   "metadata": {},
   "outputs": [
    {
     "data": {
      "text/plain": [
       "0.8045892090978273"
      ]
     },
     "execution_count": 40,
     "metadata": {},
     "output_type": "execute_result"
    }
   ],
   "source": [
    "# let's check how well model fits on test data\n",
    "lr.score(x_test,y_test)"
   ]
  },
  {
   "cell_type": "code",
   "execution_count": 41,
   "id": "63963526",
   "metadata": {},
   "outputs": [
    {
     "data": {
      "text/plain": [
       "0.7316282015415093"
      ]
     },
     "execution_count": 41,
     "metadata": {},
     "output_type": "execute_result"
    }
   ],
   "source": [
    "# predict the training score\n",
    "x_pred=lr.predict(x_train)\n",
    "r2_score(y_train,x_pred)"
   ]
  },
  {
   "cell_type": "code",
   "execution_count": 42,
   "id": "3ceb154f",
   "metadata": {},
   "outputs": [
    {
     "data": {
      "text/plain": [
       "0.8045892090978273"
      ]
     },
     "execution_count": 42,
     "metadata": {},
     "output_type": "execute_result"
    }
   ],
   "source": [
    "# predict the model\n",
    "y_pred = lr.predict(x_test)\n",
    "r2_score(y_test,y_pred)"
   ]
  },
  {
   "cell_type": "markdown",
   "id": "797c8649",
   "metadata": {},
   "source": [
    "## we got 74% of score in all above segments,which is a good sign. Lets try LASSO and RIDGE Regressions to check whether model is overfitted or not\n",
    "\n"
   ]
  },
  {
   "cell_type": "code",
   "execution_count": 43,
   "id": "4220e773",
   "metadata": {},
   "outputs": [],
   "source": [
    "from sklearn.linear_model import Ridge,Lasso,RidgeCV,LassoCV"
   ]
  },
  {
   "cell_type": "code",
   "execution_count": 44,
   "id": "17adf830",
   "metadata": {},
   "outputs": [],
   "source": [
    "Lassocv=LassoCV(max_iter=200,normalize=True)"
   ]
  },
  {
   "cell_type": "markdown",
   "id": "b4cff8fd",
   "metadata": {},
   "source": [
    "### Training with Lasso Regression on Training Data"
   ]
  },
  {
   "cell_type": "code",
   "execution_count": 45,
   "id": "aa13488e",
   "metadata": {},
   "outputs": [
    {
     "data": {
      "text/plain": [
       "LassoCV(max_iter=200, normalize=True)"
      ]
     },
     "execution_count": 45,
     "metadata": {},
     "output_type": "execute_result"
    }
   ],
   "source": [
    "Lassocv.fit(x_train,y_train)"
   ]
  },
  {
   "cell_type": "markdown",
   "id": "26d3f9b4",
   "metadata": {},
   "source": [
    "#### Taking the alpha number at which model should initiate train"
   ]
  },
  {
   "cell_type": "code",
   "execution_count": 46,
   "id": "28b067dc",
   "metadata": {},
   "outputs": [
    {
     "data": {
      "text/plain": [
       "2.469266659106107"
      ]
     },
     "execution_count": 46,
     "metadata": {},
     "output_type": "execute_result"
    }
   ],
   "source": [
    "alpha_num = Lassocv.alpha_\n",
    "alpha_num"
   ]
  },
  {
   "cell_type": "markdown",
   "id": "da02201b",
   "metadata": {},
   "source": [
    "#### Initiating Lasso Regression with Alpha number"
   ]
  },
  {
   "cell_type": "code",
   "execution_count": 47,
   "id": "a60f8477",
   "metadata": {},
   "outputs": [],
   "source": [
    "lasso_reg = Lasso(alpha_num)"
   ]
  },
  {
   "cell_type": "markdown",
   "id": "34b2cf35",
   "metadata": {},
   "source": [
    "#### Training using Lasso Regression on Training Data"
   ]
  },
  {
   "cell_type": "code",
   "execution_count": 48,
   "id": "002d03ac",
   "metadata": {},
   "outputs": [
    {
     "data": {
      "text/plain": [
       "Lasso(alpha=2.469266659106107)"
      ]
     },
     "execution_count": 48,
     "metadata": {},
     "output_type": "execute_result"
    }
   ],
   "source": [
    "lasso_reg.fit(x_train,y_train)"
   ]
  },
  {
   "cell_type": "code",
   "execution_count": 49,
   "id": "8d2f36bb",
   "metadata": {},
   "outputs": [
    {
     "data": {
      "text/plain": [
       "0.7316277350197817"
      ]
     },
     "execution_count": 49,
     "metadata": {},
     "output_type": "execute_result"
    }
   ],
   "source": [
    "# training score\n",
    "lasso_reg.score(x_train,y_train)"
   ]
  },
  {
   "cell_type": "code",
   "execution_count": 50,
   "id": "864e0068",
   "metadata": {},
   "outputs": [
    {
     "data": {
      "text/plain": [
       "0.8046036004997967"
      ]
     },
     "execution_count": 50,
     "metadata": {},
     "output_type": "execute_result"
    }
   ],
   "source": [
    "# testing score using Lasso\n",
    "lasso_reg.score(x_test,y_test)"
   ]
  },
  {
   "cell_type": "markdown",
   "id": "55b4b6af",
   "metadata": {},
   "source": [
    "### In Lasso Regression it is also giving us 74% score,Lets use Ridge Regression to cross verify the result"
   ]
  },
  {
   "cell_type": "code",
   "execution_count": 51,
   "id": "e4656be3",
   "metadata": {},
   "outputs": [
    {
     "data": {
      "text/plain": [
       "RidgeCV(alphas=array([0.001, 0.011, 0.021, 0.031, 0.041, 0.051, 0.061, 0.071, 0.081,\n",
       "       0.091]),\n",
       "        normalize=True)"
      ]
     },
     "execution_count": 51,
     "metadata": {},
     "output_type": "execute_result"
    }
   ],
   "source": [
    "ridgecv = RidgeCV(alphas = np.arange(0.001,0.1,0.01),normalize = True)\n",
    "ridgecv.fit(x_train,y_train)"
   ]
  },
  {
   "cell_type": "code",
   "execution_count": 52,
   "id": "ba541239",
   "metadata": {},
   "outputs": [
    {
     "data": {
      "text/plain": [
       "0.001"
      ]
     },
     "execution_count": 52,
     "metadata": {},
     "output_type": "execute_result"
    }
   ],
   "source": [
    "alpha_num_ridge=ridgecv.alpha_\n",
    "alpha_num_ridge"
   ]
  },
  {
   "cell_type": "code",
   "execution_count": 53,
   "id": "c97c02ed",
   "metadata": {},
   "outputs": [],
   "source": [
    "Ridge_model = Ridge(alpha=alpha_num_ridge)"
   ]
  },
  {
   "cell_type": "code",
   "execution_count": 54,
   "id": "9aaabeae",
   "metadata": {},
   "outputs": [
    {
     "data": {
      "text/plain": [
       "Ridge(alpha=0.001)"
      ]
     },
     "execution_count": 54,
     "metadata": {},
     "output_type": "execute_result"
    }
   ],
   "source": [
    "Ridge_model.fit(x_train,y_train)"
   ]
  },
  {
   "cell_type": "code",
   "execution_count": 55,
   "id": "d95df7c8",
   "metadata": {},
   "outputs": [
    {
     "data": {
      "text/plain": [
       "0.7316282015198308"
      ]
     },
     "execution_count": 55,
     "metadata": {},
     "output_type": "execute_result"
    }
   ],
   "source": [
    "# Model Training score using Ridge Regression\n",
    "Ridge_model.score(x_train,y_train)"
   ]
  },
  {
   "cell_type": "code",
   "execution_count": 56,
   "id": "470c48b8",
   "metadata": {},
   "outputs": [
    {
     "data": {
      "text/plain": [
       "0.8045890334952137"
      ]
     },
     "execution_count": 56,
     "metadata": {},
     "output_type": "execute_result"
    }
   ],
   "source": [
    "# model testing score using Ridge\n",
    "Ridge_model.score(x_test,y_test)"
   ]
  },
  {
   "cell_type": "markdown",
   "id": "91c90cd0",
   "metadata": {},
   "source": [
    "#### Lets check overall error of Model using MAE,MSE,RMSE"
   ]
  },
  {
   "cell_type": "code",
   "execution_count": 57,
   "id": "5c8e50bd",
   "metadata": {},
   "outputs": [],
   "source": [
    "from sklearn.metrics import mean_absolute_error,mean_squared_error"
   ]
  },
  {
   "cell_type": "code",
   "execution_count": 58,
   "id": "e4bb5d97",
   "metadata": {},
   "outputs": [
    {
     "data": {
      "text/plain": [
       "3766.869720800837"
      ]
     },
     "execution_count": 58,
     "metadata": {},
     "output_type": "execute_result"
    }
   ],
   "source": [
    "mean_absolute_error(y_test,y_pred)"
   ]
  },
  {
   "cell_type": "code",
   "execution_count": 59,
   "id": "80b0394a",
   "metadata": {},
   "outputs": [
    {
     "data": {
      "text/plain": [
       "27690414.84911795"
      ]
     },
     "execution_count": 59,
     "metadata": {},
     "output_type": "execute_result"
    }
   ],
   "source": [
    "mean_squared_error(y_test,y_pred)"
   ]
  },
  {
   "cell_type": "code",
   "execution_count": 60,
   "id": "b9ba0f40",
   "metadata": {},
   "outputs": [
    {
     "data": {
      "text/plain": [
       "6350.431748159"
      ]
     },
     "execution_count": 60,
     "metadata": {},
     "output_type": "execute_result"
    }
   ],
   "source": [
    "##Root mean squared error\n",
    "np.sqrt(40327983.38802577)"
   ]
  },
  {
   "cell_type": "markdown",
   "id": "6e6d53ba",
   "metadata": {},
   "source": [
    "## Model Building using ADA Boost Regressor\n"
   ]
  },
  {
   "cell_type": "code",
   "execution_count": 61,
   "id": "f55d2985",
   "metadata": {},
   "outputs": [],
   "source": [
    "from sklearn.ensemble import AdaBoostRegressor"
   ]
  },
  {
   "cell_type": "code",
   "execution_count": 62,
   "id": "4b4c139b",
   "metadata": {},
   "outputs": [],
   "source": [
    "#creating object for AdaBoostRegressor###\n",
    "ada= AdaBoostRegressor()"
   ]
  },
  {
   "cell_type": "code",
   "execution_count": 63,
   "id": "ec41f755",
   "metadata": {},
   "outputs": [
    {
     "data": {
      "text/plain": [
       "AdaBoostRegressor()"
      ]
     },
     "execution_count": 63,
     "metadata": {},
     "output_type": "execute_result"
    }
   ],
   "source": [
    "# model training\n",
    "ada.fit(x_train,y_train)"
   ]
  },
  {
   "cell_type": "code",
   "execution_count": 64,
   "id": "2ddad0f9",
   "metadata": {},
   "outputs": [],
   "source": [
    "#Predicting values in x_train for comparing with y_train\n",
    "x_pred= ada.predict(x_train)"
   ]
  },
  {
   "cell_type": "code",
   "execution_count": 65,
   "id": "fdce8d11",
   "metadata": {},
   "outputs": [
    {
     "data": {
      "text/plain": [
       "0.8199843721376447"
      ]
     },
     "execution_count": 65,
     "metadata": {},
     "output_type": "execute_result"
    }
   ],
   "source": [
    "# r2 score on training data\n",
    "r2_score(y_train,x_pred)"
   ]
  },
  {
   "cell_type": "code",
   "execution_count": 66,
   "id": "462c89e3",
   "metadata": {},
   "outputs": [],
   "source": [
    "##Predicting values in x-test for comparing with y_test### \n",
    "y_pred = ada.predict(x_test)"
   ]
  },
  {
   "cell_type": "code",
   "execution_count": 67,
   "id": "517f8631",
   "metadata": {},
   "outputs": [
    {
     "data": {
      "text/plain": [
       "0.8629869107312489"
      ]
     },
     "execution_count": 67,
     "metadata": {},
     "output_type": "execute_result"
    }
   ],
   "source": [
    "###Testing score using Ada Boost Regressor#####\n",
    "r2_score(y_test,y_pred)"
   ]
  },
  {
   "cell_type": "markdown",
   "id": "9ba6ccd5",
   "metadata": {},
   "source": [
    "## We have got a good score by using AdaBoostRegressor, Lets try HYPERPARAMETER TUNINGand see if score increases"
   ]
  },
  {
   "cell_type": "code",
   "execution_count": 68,
   "id": "01984751",
   "metadata": {},
   "outputs": [],
   "source": [
    "from sklearn.model_selection import RandomizedSearchCV,GridSearchCV"
   ]
  },
  {
   "cell_type": "code",
   "execution_count": 69,
   "id": "c6b69d47",
   "metadata": {},
   "outputs": [
    {
     "data": {
      "text/plain": [
       "AdaBoostRegressor()"
      ]
     },
     "execution_count": 69,
     "metadata": {},
     "output_type": "execute_result"
    }
   ],
   "source": [
    "AdaBoostRegressor()"
   ]
  },
  {
   "cell_type": "code",
   "execution_count": 70,
   "id": "22323b65",
   "metadata": {},
   "outputs": [],
   "source": [
    "###Giving best parameters to Search upon####\n",
    "params={'n_estimators':[45,50,55,60,70],'learning_rate':[1,2,3,4,5]}"
   ]
  },
  {
   "cell_type": "code",
   "execution_count": 71,
   "id": "cf2e2aae",
   "metadata": {},
   "outputs": [],
   "source": [
    "#3Giving RandomizedSearchCV the estimator ,cross validations,param_distribution###\n",
    "rndn_search = RandomizedSearchCV(AdaBoostRegressor(),cv=5,param_distributions=params)"
   ]
  },
  {
   "cell_type": "code",
   "execution_count": 72,
   "id": "7a9bef2a",
   "metadata": {},
   "outputs": [
    {
     "data": {
      "text/plain": [
       "RandomizedSearchCV(cv=5, estimator=AdaBoostRegressor(),\n",
       "                   param_distributions={'learning_rate': [1, 2, 3, 4, 5],\n",
       "                                        'n_estimators': [45, 50, 55, 60, 70]})"
      ]
     },
     "execution_count": 72,
     "metadata": {},
     "output_type": "execute_result"
    }
   ],
   "source": [
    "##Model training on Training Data###\n",
    "rndn_search.fit(x_train,y_train)"
   ]
  },
  {
   "cell_type": "code",
   "execution_count": 73,
   "id": "f6e6881f",
   "metadata": {},
   "outputs": [
    {
     "data": {
      "text/plain": [
       "AdaBoostRegressor(learning_rate=1, n_estimators=60)"
      ]
     },
     "execution_count": 73,
     "metadata": {},
     "output_type": "execute_result"
    }
   ],
   "source": [
    "###Finding the best estimators###\n",
    "rndn_search.best_estimator_"
   ]
  },
  {
   "cell_type": "code",
   "execution_count": 74,
   "id": "3d9c1ad5",
   "metadata": {},
   "outputs": [
    {
     "data": {
      "text/plain": [
       "AdaBoostRegressor(learning_rate=0.01, n_estimators=70)"
      ]
     },
     "execution_count": 74,
     "metadata": {},
     "output_type": "execute_result"
    }
   ],
   "source": [
    "ada = AdaBoostRegressor(learning_rate=0.01,n_estimators=70)\n",
    "ada.fit(x_train,y_train)"
   ]
  },
  {
   "cell_type": "code",
   "execution_count": 75,
   "id": "b00a2639",
   "metadata": {},
   "outputs": [],
   "source": [
    "y_predict = ada.predict(x_test)"
   ]
  },
  {
   "cell_type": "code",
   "execution_count": 76,
   "id": "d692409b",
   "metadata": {},
   "outputs": [],
   "source": [
    "from sklearn import metrics"
   ]
  },
  {
   "cell_type": "code",
   "execution_count": 77,
   "id": "8a48c674",
   "metadata": {},
   "outputs": [
    {
     "name": "stdout",
     "output_type": "stream",
     "text": [
      "===========Score post Hyper Parameter Tuning is==========\n"
     ]
    },
    {
     "data": {
      "text/plain": [
       "0.9016604896055286"
      ]
     },
     "execution_count": 77,
     "metadata": {},
     "output_type": "execute_result"
    }
   ],
   "source": [
    "print(\"===========Score post Hyper Parameter Tuning is==========\")\n",
    "\n",
    "metrics.r2_score(y_test,y_predict)"
   ]
  },
  {
   "cell_type": "markdown",
   "id": "a2edaa2b",
   "metadata": {},
   "source": [
    "## we got 86% score post HyperParameter  Tuning using RandomizedSearchCV,Lets cross check the same by using GridSearchCV"
   ]
  },
  {
   "cell_type": "code",
   "execution_count": 78,
   "id": "e07cb641",
   "metadata": {},
   "outputs": [],
   "source": [
    "g_params ={'n_estimators':[30,40,50,60],'learning_rate':[0.25,0.30,0.40,0.70,1]}"
   ]
  },
  {
   "cell_type": "code",
   "execution_count": 79,
   "id": "dcd98140",
   "metadata": {},
   "outputs": [],
   "source": [
    "grid_search= GridSearchCV(AdaBoostRegressor(),param_grid=g_params)"
   ]
  },
  {
   "cell_type": "code",
   "execution_count": 80,
   "id": "f0bfac9d",
   "metadata": {},
   "outputs": [
    {
     "data": {
      "text/plain": [
       "GridSearchCV(estimator=AdaBoostRegressor(),\n",
       "             param_grid={'learning_rate': [0.25, 0.3, 0.4, 0.7, 1],\n",
       "                         'n_estimators': [30, 40, 50, 60]})"
      ]
     },
     "execution_count": 80,
     "metadata": {},
     "output_type": "execute_result"
    }
   ],
   "source": [
    "grid_search.fit(x_train,y_train)"
   ]
  },
  {
   "cell_type": "code",
   "execution_count": 81,
   "id": "803b3cc8",
   "metadata": {},
   "outputs": [
    {
     "data": {
      "text/plain": [
       "{'learning_rate': 0.7, 'n_estimators': 60}"
      ]
     },
     "execution_count": 81,
     "metadata": {},
     "output_type": "execute_result"
    }
   ],
   "source": [
    "grid_search.best_params_"
   ]
  },
  {
   "cell_type": "code",
   "execution_count": 82,
   "id": "e2954b41",
   "metadata": {},
   "outputs": [],
   "source": [
    "grid= AdaBoostRegressor(learning_rate=1,n_estimators=60)"
   ]
  },
  {
   "cell_type": "code",
   "execution_count": 83,
   "id": "97e47344",
   "metadata": {},
   "outputs": [],
   "source": [
    "y_pred= ada.predict(x_test)"
   ]
  },
  {
   "cell_type": "code",
   "execution_count": 84,
   "id": "25c86204",
   "metadata": {},
   "outputs": [
    {
     "name": "stdout",
     "output_type": "stream",
     "text": [
      "=======Testing Score post Hyper Parameter tuning using GridSearchCV=======\n"
     ]
    },
    {
     "data": {
      "text/plain": [
       "0.9016604896055286"
      ]
     },
     "execution_count": 84,
     "metadata": {},
     "output_type": "execute_result"
    }
   ],
   "source": [
    "print(\"=======Testing Score post Hyper Parameter tuning using GridSearchCV=======\")\n",
    "metrics.r2_score(y_test,y_pred)"
   ]
  },
  {
   "cell_type": "markdown",
   "id": "9f55d61c",
   "metadata": {},
   "source": [
    "### We have again got 86% score post HyperParameter tuning using GridSearchCV Lets check MAE,MSE,RSME for this"
   ]
  },
  {
   "cell_type": "code",
   "execution_count": 85,
   "id": "fabcd8f5",
   "metadata": {},
   "outputs": [
    {
     "data": {
      "text/plain": [
       "2758.3019867589383"
      ]
     },
     "execution_count": 85,
     "metadata": {},
     "output_type": "execute_result"
    }
   ],
   "source": [
    "mean_absolute_error(y_test,y_pred)"
   ]
  },
  {
   "cell_type": "code",
   "execution_count": 86,
   "id": "b70b1c50",
   "metadata": {},
   "outputs": [
    {
     "data": {
      "text/plain": [
       "13935063.802312179"
      ]
     },
     "execution_count": 86,
     "metadata": {},
     "output_type": "execute_result"
    }
   ],
   "source": [
    "mean_squared_error(y_test,y_pred)"
   ]
  },
  {
   "cell_type": "code",
   "execution_count": 87,
   "id": "9ada67cd",
   "metadata": {},
   "outputs": [
    {
     "name": "stdout",
     "output_type": "stream",
     "text": [
      "Root mean squared error=== 4925.40342114931\n"
     ]
    }
   ],
   "source": [
    "print(\"Root mean squared error===\",np.sqrt(24259598.86106933))"
   ]
  },
  {
   "cell_type": "markdown",
   "id": "1da09fba",
   "metadata": {},
   "source": [
    "## Model building using KNN Regressor"
   ]
  },
  {
   "cell_type": "code",
   "execution_count": 88,
   "id": "244ab71d",
   "metadata": {},
   "outputs": [],
   "source": [
    "##Importing necessary Library####\n",
    "from sklearn.neighbors import KNeighborsRegressor"
   ]
  },
  {
   "cell_type": "code",
   "execution_count": 89,
   "id": "02fbb75d",
   "metadata": {},
   "outputs": [],
   "source": [
    "# creating object for knn algorithm\n",
    "knn = KNeighborsRegressor()"
   ]
  },
  {
   "cell_type": "code",
   "execution_count": 90,
   "id": "fde3d9e6",
   "metadata": {},
   "outputs": [
    {
     "data": {
      "text/plain": [
       "KNeighborsRegressor()"
      ]
     },
     "execution_count": 90,
     "metadata": {},
     "output_type": "execute_result"
    }
   ],
   "source": [
    "# model training\n",
    "knn.fit(x_train,y_train)"
   ]
  },
  {
   "cell_type": "code",
   "execution_count": 91,
   "id": "5265e7c7",
   "metadata": {},
   "outputs": [
    {
     "data": {
      "text/plain": [
       "0.14610593248765136"
      ]
     },
     "execution_count": 91,
     "metadata": {},
     "output_type": "execute_result"
    }
   ],
   "source": [
    "y_pred = knn.predict(x_test)\n",
    "r2_score(y_test,y_pred)"
   ]
  },
  {
   "cell_type": "code",
   "execution_count": 92,
   "id": "86303b46",
   "metadata": {},
   "outputs": [
    {
     "name": "stdout",
     "output_type": "stream",
     "text": [
      "Training score without Hyperparameter tuning is==== 0.424171691308585\n"
     ]
    }
   ],
   "source": [
    "print(\"Training score without Hyperparameter tuning is====\",knn.score(x_train,y_train))"
   ]
  },
  {
   "cell_type": "code",
   "execution_count": 93,
   "id": "5d2fb736",
   "metadata": {},
   "outputs": [
    {
     "name": "stdout",
     "output_type": "stream",
     "text": [
      "Testing score without Hyperparameter Tuning is ===== 0.14610593248765136\n"
     ]
    }
   ],
   "source": [
    "print(\"Testing score without Hyperparameter Tuning is =====\",knn.score(x_test,y_test))"
   ]
  },
  {
   "cell_type": "markdown",
   "id": "6d28231b",
   "metadata": {},
   "source": [
    "###  I am not satisfied with KNN score"
   ]
  },
  {
   "cell_type": "markdown",
   "id": "5540c7e3",
   "metadata": {},
   "source": [
    "### Hyperparameter Tuning"
   ]
  },
  {
   "cell_type": "code",
   "execution_count": 94,
   "id": "dde42f84",
   "metadata": {},
   "outputs": [],
   "source": [
    "params= {'algorithm':['ball_tree', 'kd_tree', 'brute'],\n",
    "                      'leaf_size':[20,30,40,50],\n",
    "                      'n_neighbors':[3,5,7,9,11,13]}"
   ]
  },
  {
   "cell_type": "code",
   "execution_count": 95,
   "id": "e68f01a0",
   "metadata": {},
   "outputs": [],
   "source": [
    "grid_knn = GridSearchCV(estimator=knn,param_grid=params)"
   ]
  },
  {
   "cell_type": "code",
   "execution_count": 96,
   "id": "cee66986",
   "metadata": {},
   "outputs": [
    {
     "data": {
      "text/plain": [
       "GridSearchCV(estimator=KNeighborsRegressor(),\n",
       "             param_grid={'algorithm': ['ball_tree', 'kd_tree', 'brute'],\n",
       "                         'leaf_size': [20, 30, 40, 50],\n",
       "                         'n_neighbors': [3, 5, 7, 9, 11, 13]})"
      ]
     },
     "execution_count": 96,
     "metadata": {},
     "output_type": "execute_result"
    }
   ],
   "source": [
    "grid_knn.fit(x_train,y_train)"
   ]
  },
  {
   "cell_type": "code",
   "execution_count": 97,
   "id": "6e72a4b0",
   "metadata": {},
   "outputs": [
    {
     "data": {
      "text/plain": [
       "{'algorithm': 'kd_tree', 'leaf_size': 30, 'n_neighbors': 7}"
      ]
     },
     "execution_count": 97,
     "metadata": {},
     "output_type": "execute_result"
    }
   ],
   "source": [
    "grid_knn.best_params_"
   ]
  },
  {
   "cell_type": "code",
   "execution_count": 98,
   "id": "6c4a3d29",
   "metadata": {},
   "outputs": [],
   "source": [
    "knn = KNeighborsRegressor(algorithm='ball_tree',leaf_size=20,n_neighbors=7)"
   ]
  },
  {
   "cell_type": "code",
   "execution_count": 99,
   "id": "b9c7e1b2",
   "metadata": {},
   "outputs": [
    {
     "data": {
      "text/plain": [
       "KNeighborsRegressor(algorithm='ball_tree', leaf_size=20, n_neighbors=7)"
      ]
     },
     "execution_count": 99,
     "metadata": {},
     "output_type": "execute_result"
    }
   ],
   "source": [
    "knn.fit(x_train,y_train)"
   ]
  },
  {
   "cell_type": "code",
   "execution_count": 100,
   "id": "a256a7cc",
   "metadata": {},
   "outputs": [],
   "source": [
    "y_pred = knn.predict(x_test)"
   ]
  },
  {
   "cell_type": "code",
   "execution_count": 101,
   "id": "c523045f",
   "metadata": {},
   "outputs": [
    {
     "name": "stdout",
     "output_type": "stream",
     "text": [
      "Score Post Hyperparameter Tuning is====== 0.1754680151081599\n"
     ]
    }
   ],
   "source": [
    "print(\"Score Post Hyperparameter Tuning is======\",metrics.r2_score(y_test,y_pred))"
   ]
  },
  {
   "cell_type": "markdown",
   "id": "f5271547",
   "metadata": {},
   "source": [
    "## Calculating MAE,MSE,RSME for KNN algorithm"
   ]
  },
  {
   "cell_type": "code",
   "execution_count": 102,
   "id": "c02a3902",
   "metadata": {},
   "outputs": [
    {
     "name": "stdout",
     "output_type": "stream",
     "text": [
      "Mean Absolute Error is===== 7631.350190886905\n"
     ]
    }
   ],
   "source": [
    "print(\"Mean Absolute Error is=====\",mean_absolute_error(y_test,y_pred))"
   ]
  },
  {
   "cell_type": "code",
   "execution_count": 103,
   "id": "55a2c902",
   "metadata": {},
   "outputs": [
    {
     "name": "stdout",
     "output_type": "stream",
     "text": [
      "Mean squared error is====== 116839160.27673092\n"
     ]
    }
   ],
   "source": [
    "print(\"Mean squared error is======\",mean_squared_error(y_test,y_pred))"
   ]
  },
  {
   "cell_type": "code",
   "execution_count": 104,
   "id": "21626603",
   "metadata": {},
   "outputs": [
    {
     "name": "stdout",
     "output_type": "stream",
     "text": [
      "Root mean squared error=== 5487.614482751512\n"
     ]
    }
   ],
   "source": [
    "print(\"Root mean squared error===\",np.sqrt(30113912.71130414))"
   ]
  },
  {
   "cell_type": "markdown",
   "id": "e1c1d440",
   "metadata": {},
   "source": [
    "## Model building using Gradient Boosting Regressor"
   ]
  },
  {
   "cell_type": "code",
   "execution_count": 105,
   "id": "cc0236fd",
   "metadata": {},
   "outputs": [],
   "source": [
    "from sklearn.ensemble import GradientBoostingRegressor"
   ]
  },
  {
   "cell_type": "code",
   "execution_count": 106,
   "id": "99e2aa16",
   "metadata": {},
   "outputs": [],
   "source": [
    "gbr = GradientBoostingRegressor()"
   ]
  },
  {
   "cell_type": "code",
   "execution_count": 107,
   "id": "9bd7ccb4",
   "metadata": {},
   "outputs": [
    {
     "data": {
      "text/plain": [
       "GradientBoostingRegressor()"
      ]
     },
     "execution_count": 107,
     "metadata": {},
     "output_type": "execute_result"
    }
   ],
   "source": [
    "gbr.fit(x_train,y_train)"
   ]
  },
  {
   "cell_type": "code",
   "execution_count": 108,
   "id": "b702b811",
   "metadata": {},
   "outputs": [
    {
     "name": "stdout",
     "output_type": "stream",
     "text": [
      "Training score without hyperparameter tuning is====== 0.8898193852008458\n"
     ]
    }
   ],
   "source": [
    "print(\"Training score without hyperparameter tuning is======\",gbr.score(x_train,y_train))"
   ]
  },
  {
   "cell_type": "code",
   "execution_count": 109,
   "id": "61f18827",
   "metadata": {},
   "outputs": [],
   "source": [
    "y_predict = gbr.predict(x_test)"
   ]
  },
  {
   "cell_type": "code",
   "execution_count": 110,
   "id": "eb8f9ccd",
   "metadata": {},
   "outputs": [
    {
     "name": "stdout",
     "output_type": "stream",
     "text": [
      "Testing score without Hyperparameter Tuning is 0.9105596274422689\n"
     ]
    }
   ],
   "source": [
    "print(\"Testing score without Hyperparameter Tuning is\",metrics.r2_score(y_test,y_predict))"
   ]
  },
  {
   "cell_type": "markdown",
   "id": "b96b55db",
   "metadata": {},
   "source": [
    "### Hyperparameter Tuning"
   ]
  },
  {
   "cell_type": "code",
   "execution_count": 111,
   "id": "747ca492",
   "metadata": {},
   "outputs": [],
   "source": [
    "params={'min_samples_split':[2,3,4],\n",
    "       'min_samples_leaf':[2,3,4],\n",
    "       'max_depth':[2,3,4],\n",
    "       'learning_rate':[0.1,0.2,0.3]}"
   ]
  },
  {
   "cell_type": "code",
   "execution_count": 112,
   "id": "1c6b2cea",
   "metadata": {},
   "outputs": [],
   "source": [
    "rndn_search = RandomizedSearchCV(GradientBoostingRegressor(),cv=5,param_distributions=params)"
   ]
  },
  {
   "cell_type": "code",
   "execution_count": 113,
   "id": "7a6d2748",
   "metadata": {},
   "outputs": [
    {
     "data": {
      "text/plain": [
       "RandomizedSearchCV(cv=5, estimator=GradientBoostingRegressor(),\n",
       "                   param_distributions={'learning_rate': [0.1, 0.2, 0.3],\n",
       "                                        'max_depth': [2, 3, 4],\n",
       "                                        'min_samples_leaf': [2, 3, 4],\n",
       "                                        'min_samples_split': [2, 3, 4]})"
      ]
     },
     "execution_count": 113,
     "metadata": {},
     "output_type": "execute_result"
    }
   ],
   "source": [
    "rndn_search.fit(x_train,y_train)"
   ]
  },
  {
   "cell_type": "code",
   "execution_count": 114,
   "id": "2ebf4cfd",
   "metadata": {},
   "outputs": [
    {
     "data": {
      "text/plain": [
       "GradientBoostingRegressor(max_depth=2, min_samples_leaf=4, min_samples_split=3)"
      ]
     },
     "execution_count": 114,
     "metadata": {},
     "output_type": "execute_result"
    }
   ],
   "source": [
    "rndn_search.best_estimator_"
   ]
  },
  {
   "cell_type": "code",
   "execution_count": 115,
   "id": "ee60ebf6",
   "metadata": {},
   "outputs": [
    {
     "data": {
      "text/plain": [
       "GradientBoostingRegressor(max_depth=2, min_samples_leaf=3, min_samples_split=4)"
      ]
     },
     "execution_count": 115,
     "metadata": {},
     "output_type": "execute_result"
    }
   ],
   "source": [
    "gbr=GradientBoostingRegressor(learning_rate=0.1, max_depth=2, min_samples_leaf=3,min_samples_split=4)\n",
    "gbr.fit(x_train,y_train)"
   ]
  },
  {
   "cell_type": "code",
   "execution_count": 116,
   "id": "388528a6",
   "metadata": {},
   "outputs": [],
   "source": [
    "y_predict=gbr.predict(x_test)"
   ]
  },
  {
   "cell_type": "code",
   "execution_count": 117,
   "id": "abd4f091",
   "metadata": {},
   "outputs": [
    {
     "name": "stdout",
     "output_type": "stream",
     "text": [
      "Score Post Hyperparameter Tuning is======== 0.9198138262993288\n"
     ]
    }
   ],
   "source": [
    "print(\"Score Post Hyperparameter Tuning is========\",metrics.r2_score(y_test,y_predict))"
   ]
  },
  {
   "cell_type": "code",
   "execution_count": 118,
   "id": "53a94ce2",
   "metadata": {},
   "outputs": [
    {
     "name": "stdout",
     "output_type": "stream",
     "text": [
      "Mean Absolute Error is===== 2133.5836182606927\n",
      "Mean squared error is====== 11362670.427175106\n",
      "Root mean squared error=== 4862.409955427947\n"
     ]
    }
   ],
   "source": [
    "##Printing all evaluation score for GradientBoostingRegressor####\n",
    "print(\"Mean Absolute Error is=====\",mean_absolute_error(y_test,y_predict))\n",
    "print(\"Mean squared error is======\",mean_squared_error(y_test,y_predict))\n",
    "print(\"Root mean squared error===\",np.sqrt(23643030.57464481))"
   ]
  },
  {
   "cell_type": "markdown",
   "id": "6b276b0e",
   "metadata": {},
   "source": [
    "##  Model building using Random Forest"
   ]
  },
  {
   "cell_type": "code",
   "execution_count": 119,
   "id": "8298a55f",
   "metadata": {},
   "outputs": [],
   "source": [
    "from sklearn.ensemble import RandomForestRegressor"
   ]
  },
  {
   "cell_type": "code",
   "execution_count": 120,
   "id": "30b2b2be",
   "metadata": {},
   "outputs": [],
   "source": [
    "# initiate the object for random forest\n",
    "rf = RandomForestRegressor()"
   ]
  },
  {
   "cell_type": "code",
   "execution_count": 121,
   "id": "5a32cdbc",
   "metadata": {},
   "outputs": [
    {
     "data": {
      "text/plain": [
       "RandomForestRegressor()"
      ]
     },
     "execution_count": 121,
     "metadata": {},
     "output_type": "execute_result"
    }
   ],
   "source": [
    "# model training\n",
    "rf.fit(x_train,y_train)"
   ]
  },
  {
   "cell_type": "code",
   "execution_count": 122,
   "id": "f91cf5c5",
   "metadata": {},
   "outputs": [
    {
     "name": "stdout",
     "output_type": "stream",
     "text": [
      "Training score without hyperparameter tuning is====== 0.9729727501250004\n"
     ]
    }
   ],
   "source": [
    "print(\"Training score without hyperparameter tuning is======\",rf.score(x_train,y_train))"
   ]
  },
  {
   "cell_type": "code",
   "execution_count": 123,
   "id": "943fd5ce",
   "metadata": {},
   "outputs": [
    {
     "name": "stdout",
     "output_type": "stream",
     "text": [
      "testing score without hyperparameter tuning is====== 0.8819530992522684\n"
     ]
    }
   ],
   "source": [
    "pred = rf.predict(x_test)\n",
    "print(\"testing score without hyperparameter tuning is======\",r2_score(y_test,pred))"
   ]
  },
  {
   "cell_type": "markdown",
   "id": "bd3b158a",
   "metadata": {},
   "source": [
    "##### We got 85% by using RandomForestRegressor"
   ]
  },
  {
   "cell_type": "markdown",
   "id": "4171bc9a",
   "metadata": {},
   "source": [
    "##  Save the final model"
   ]
  },
  {
   "cell_type": "code",
   "execution_count": 124,
   "id": "03c38bfe",
   "metadata": {},
   "outputs": [],
   "source": [
    "# as per my observation LinearRegression is best for this dataset "
   ]
  },
  {
   "cell_type": "code",
   "execution_count": 125,
   "id": "07e60af1",
   "metadata": {},
   "outputs": [],
   "source": [
    "import joblib"
   ]
  },
  {
   "cell_type": "code",
   "execution_count": 126,
   "id": "7f5f3c49",
   "metadata": {},
   "outputs": [
    {
     "data": {
      "text/plain": [
       "['Medical_Cost.pkl']"
      ]
     },
     "execution_count": 126,
     "metadata": {},
     "output_type": "execute_result"
    }
   ],
   "source": [
    "joblib.dump(lr,'Medical_Cost.pkl')"
   ]
  }
 ],
 "metadata": {
  "kernelspec": {
   "display_name": "Python 3 (ipykernel)",
   "language": "python",
   "name": "python3"
  },
  "language_info": {
   "codemirror_mode": {
    "name": "ipython",
    "version": 3
   },
   "file_extension": ".py",
   "mimetype": "text/x-python",
   "name": "python",
   "nbconvert_exporter": "python",
   "pygments_lexer": "ipython3",
   "version": "3.9.12"
  }
 },
 "nbformat": 4,
 "nbformat_minor": 5
}
